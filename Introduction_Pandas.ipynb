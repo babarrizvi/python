{
  "nbformat": 4,
  "nbformat_minor": 0,
  "metadata": {
    "colab": {
      "name": "Introduction_Pandas.ipynb",
      "provenance": [],
      "collapsed_sections": [
        "QffBj-hKT-Bp",
        "LLhphR3RT-B4",
        "QAjFiJIdT-CI",
        "6OF8fHKxT-CI",
        "GqrPDY9pT-CX",
        "uzWbfucHT-CX",
        "Vy_otrhjT-Cn",
        "yvdtQkpkT-C3",
        "CFkKkkvIT-DG",
        "JBia1ws0T-DW",
        "haawxQumT-Dl",
        "Zuqhc-MLT-Dl",
        "Lc3ZnFhvT-EF",
        "EY91-K31T-EF",
        "XHhtWCByT-EV",
        "OqkLlY62T-El",
        "n-YqEeRNT-FE",
        "BEaFpKGVT-FU",
        "7Qh9W2E6T-FU",
        "AboC2kMUT-FU",
        "dmdBQyQWT-GC",
        "n8gTKzzHT-GC",
        "QSEXhXI7T-Gi",
        "4ZGUSy6lT-Gx",
        "OteF9VU8T-HB",
        "VBYFiNIUT-HQ",
        "IyVp0AtGT-Hg",
        "2bbWtKv3T-Hw",
        "pH2dT5YkT-Hw",
        "OCz77w4BT-Hw",
        "46joxh5jT-Hw",
        "JaxYNzGUT-IP"
      ],
      "include_colab_link": true
    },
    "language_info": {
      "codemirror_mode": {
        "name": "ipython",
        "version": 3
      },
      "file_extension": ".py",
      "mimetype": "text/x-python",
      "name": "python",
      "nbconvert_exporter": "python",
      "pygments_lexer": "ipython3",
      "version": "3.6.2"
    },
    "kernelspec": {
      "display_name": "Python 3",
      "language": "python",
      "name": "python3"
    }
  },
  "cells": [
    {
      "cell_type": "markdown",
      "metadata": {
        "id": "view-in-github",
        "colab_type": "text"
      },
      "source": [
        "<a href=\"https://colab.research.google.com/github/babarrizvi/python/blob/master/Introduction_Pandas.ipynb\" target=\"_parent\"><img src=\"https://colab.research.google.com/assets/colab-badge.svg\" alt=\"Open In Colab\"/></a>"
      ]
    },
    {
      "cell_type": "markdown",
      "metadata": {
        "toc": true,
        "id": "SzXYOIN4T-Ah",
        "colab_type": "text"
      },
      "source": [
        "<h1>Table of Contents<span class=\"tocSkip\"></span></h1>\n",
        "<div class=\"toc\"><ul class=\"toc-item\"><li><span><a href=\"#Pandas\" data-toc-modified-id=\"Pandas-1\"><span class=\"toc-item-num\">1&nbsp;&nbsp;</span>Pandas</a></span><ul class=\"toc-item\"><li><span><a href=\"#Object-Creation\" data-toc-modified-id=\"Object-Creation-1.1\"><span class=\"toc-item-num\">1.1&nbsp;&nbsp;</span>Object Creation</a></span><ul class=\"toc-item\"><li><span><a href=\"#We-can-also-specify-the-column-name-while-creating-a-dataframe\" data-toc-modified-id=\"We-can-also-specify-the-column-name-while-creating-a-dataframe-1.1.1\"><span class=\"toc-item-num\">1.1.1&nbsp;&nbsp;</span>We can also specify the column name while creating a dataframe</a></span></li></ul></li><li><span><a href=\"#Exploring-Data\" data-toc-modified-id=\"Exploring-Data-1.2\"><span class=\"toc-item-num\">1.2&nbsp;&nbsp;</span>Exploring Data</a></span><ul class=\"toc-item\"><li><span><a href=\"#Head\" data-toc-modified-id=\"Head-1.2.1\"><span class=\"toc-item-num\">1.2.1&nbsp;&nbsp;</span>Head</a></span></li><li><span><a href=\"#Tail\" data-toc-modified-id=\"Tail-1.2.2\"><span class=\"toc-item-num\">1.2.2&nbsp;&nbsp;</span>Tail</a></span></li><li><span><a href=\"#Index\" data-toc-modified-id=\"Index-1.2.3\"><span class=\"toc-item-num\">1.2.3&nbsp;&nbsp;</span>Index</a></span><ul class=\"toc-item\"><li><span><a href=\"#Column-Names\" data-toc-modified-id=\"Column-Names-1.2.3.1\"><span class=\"toc-item-num\">1.2.3.1&nbsp;&nbsp;</span>Column Names</a></span></li><li><span><a href=\"#Dataframe-values\" data-toc-modified-id=\"Dataframe-values-1.2.3.2\"><span class=\"toc-item-num\">1.2.3.2&nbsp;&nbsp;</span>Dataframe values</a></span></li></ul></li><li><span><a href=\"#Describe\" data-toc-modified-id=\"Describe-1.2.4\"><span class=\"toc-item-num\">1.2.4&nbsp;&nbsp;</span>Describe</a></span></li><li><span><a href=\"#Transposing-your-data\" data-toc-modified-id=\"Transposing-your-data-1.2.5\"><span class=\"toc-item-num\">1.2.5&nbsp;&nbsp;</span>Transposing your data</a></span></li></ul></li><li><span><a href=\"#Sorting\" data-toc-modified-id=\"Sorting-1.3\"><span class=\"toc-item-num\">1.3&nbsp;&nbsp;</span>Sorting</a></span><ul class=\"toc-item\"><li><span><a href=\"#On-an-axis\" data-toc-modified-id=\"On-an-axis-1.3.1\"><span class=\"toc-item-num\">1.3.1&nbsp;&nbsp;</span>On an axis</a></span></li><li><span><a href=\"#Based-on-a-column\" data-toc-modified-id=\"Based-on-a-column-1.3.2\"><span class=\"toc-item-num\">1.3.2&nbsp;&nbsp;</span>Based on a column</a></span></li></ul></li><li><span><a href=\"#Selection-(-also-called-indexing)\" data-toc-modified-id=\"Selection-(-also-called-indexing)-1.4\"><span class=\"toc-item-num\">1.4&nbsp;&nbsp;</span>Selection ( also called indexing)</a></span><ul class=\"toc-item\"><li><span><a href=\"#Selection-by-Position\" data-toc-modified-id=\"Selection-by-Position-1.4.1\"><span class=\"toc-item-num\">1.4.1&nbsp;&nbsp;</span>Selection by Position</a></span></li><li><span><a href=\"#Selection-by-Label\" data-toc-modified-id=\"Selection-by-Label-1.4.2\"><span class=\"toc-item-num\">1.4.2&nbsp;&nbsp;</span>Selection by Label</a></span></li></ul></li></ul></li><li><span><a href=\"#Operations-on-dataset\" data-toc-modified-id=\"Operations-on-dataset-2\"><span class=\"toc-item-num\">2&nbsp;&nbsp;</span>Operations on dataset</a></span><ul class=\"toc-item\"><li><span><a href=\"#Load-data\" data-toc-modified-id=\"Load-data-2.1\"><span class=\"toc-item-num\">2.1&nbsp;&nbsp;</span>Load data</a></span><ul class=\"toc-item\"><li><span><a href=\"#german-credit-data-1\" data-toc-modified-id=\"german-credit-data-1-2.1.1\"><span class=\"toc-item-num\">2.1.1&nbsp;&nbsp;</span>german credit data 1</a></span></li></ul></li><li><span><a href=\"#Exploration\" data-toc-modified-id=\"Exploration-2.2\"><span class=\"toc-item-num\">2.2&nbsp;&nbsp;</span>Exploration</a></span><ul class=\"toc-item\"><li><span><a href=\"#Print-the-column-names\" data-toc-modified-id=\"Print-the-column-names-2.2.1\"><span class=\"toc-item-num\">2.2.1&nbsp;&nbsp;</span>Print the column names</a></span></li><li><span><a href=\"#Print-the-data-types\" data-toc-modified-id=\"Print-the-data-types-2.2.2\"><span class=\"toc-item-num\">2.2.2&nbsp;&nbsp;</span>Print the data types</a></span></li><li><span><a href=\"#Print-the-first-few-columns\" data-toc-modified-id=\"Print-the-first-few-columns-2.2.3\"><span class=\"toc-item-num\">2.2.3&nbsp;&nbsp;</span>Print the first few columns</a></span></li><li><span><a href=\"#Check-the-shape\" data-toc-modified-id=\"Check-the-shape-2.2.4\"><span class=\"toc-item-num\">2.2.4&nbsp;&nbsp;</span>Check the shape</a></span></li><li><span><a href=\"#Load-german-credit-data-2\" data-toc-modified-id=\"Load-german-credit-data-2-2.2.5\"><span class=\"toc-item-num\">2.2.5&nbsp;&nbsp;</span>Load german credit data 2</a></span></li><li><span><a href=\"#Merge-the-two-datasets\" data-toc-modified-id=\"Merge-the-two-datasets-2.2.6\"><span class=\"toc-item-num\">2.2.6&nbsp;&nbsp;</span>Merge the two datasets</a></span></li><li><span><a href=\"#Numeric-attributes\" data-toc-modified-id=\"Numeric-attributes-2.2.7\"><span class=\"toc-item-num\">2.2.7&nbsp;&nbsp;</span>Numeric attributes</a></span></li><li><span><a href=\"#Categorical-Attributes\" data-toc-modified-id=\"Categorical-Attributes-2.2.8\"><span class=\"toc-item-num\">2.2.8&nbsp;&nbsp;</span>Categorical Attributes</a></span></li><li><span><a href=\"#Function-to-convert-categorical-attributes-to-factors\" data-toc-modified-id=\"Function-to-convert-categorical-attributes-to-factors-2.2.9\"><span class=\"toc-item-num\">2.2.9&nbsp;&nbsp;</span>Function to convert categorical attributes to factors</a></span></li><li><span><a href=\"#Pandas-DataFrame-Methods\" data-toc-modified-id=\"Pandas-DataFrame-Methods-2.2.10\"><span class=\"toc-item-num\">2.2.10&nbsp;&nbsp;</span>Pandas DataFrame Methods</a></span><ul class=\"toc-item\"><li><span><a href=\"#Max\" data-toc-modified-id=\"Max-2.2.10.1\"><span class=\"toc-item-num\">2.2.10.1&nbsp;&nbsp;</span>Max</a></span></li><li><span><a href=\"#Min\" data-toc-modified-id=\"Min-2.2.10.2\"><span class=\"toc-item-num\">2.2.10.2&nbsp;&nbsp;</span>Min</a></span></li><li><span><a href=\"#Mean\" data-toc-modified-id=\"Mean-2.2.10.3\"><span class=\"toc-item-num\">2.2.10.3&nbsp;&nbsp;</span>Mean</a></span></li><li><span><a href=\"#Median\" data-toc-modified-id=\"Median-2.2.10.4\"><span class=\"toc-item-num\">2.2.10.4&nbsp;&nbsp;</span>Median</a></span></li></ul></li><li><span><a href=\"#Checking-Number-of-unique-values/levels\" data-toc-modified-id=\"Checking-Number-of-unique-values/levels-2.2.11\"><span class=\"toc-item-num\">2.2.11&nbsp;&nbsp;</span>Checking Number of unique values/levels</a></span></li><li><span><a href=\"#Handling-outliers\" data-toc-modified-id=\"Handling-outliers-2.2.12\"><span class=\"toc-item-num\">2.2.12&nbsp;&nbsp;</span>Handling outliers</a></span><ul class=\"toc-item\"><li><span><a href=\"#Threshold-method\" data-toc-modified-id=\"Threshold-method-2.2.12.1\"><span class=\"toc-item-num\">2.2.12.1&nbsp;&nbsp;</span>Threshold method</a></span></li><li><span><a href=\"#IQR-method\" data-toc-modified-id=\"IQR-method-2.2.12.2\"><span class=\"toc-item-num\">2.2.12.2&nbsp;&nbsp;</span>IQR method</a></span></li></ul></li><li><span><a href=\"#Handling-Missing-values\" data-toc-modified-id=\"Handling-Missing-values-2.2.13\"><span class=\"toc-item-num\">2.2.13&nbsp;&nbsp;</span>Handling Missing values</a></span><ul class=\"toc-item\"><li><span><a href=\"#Dropping-the-records-with-missing-values\" data-toc-modified-id=\"Dropping-the-records-with-missing-values-2.2.13.1\"><span class=\"toc-item-num\">2.2.13.1&nbsp;&nbsp;</span>Dropping the records with missing values</a></span></li><li><span><a href=\"#Imputing-Numeric-Columns\" data-toc-modified-id=\"Imputing-Numeric-Columns-2.2.13.2\"><span class=\"toc-item-num\">2.2.13.2&nbsp;&nbsp;</span>Imputing Numeric Columns</a></span></li><li><span><a href=\"#Imputing-Categorical-columns-with-mode\" data-toc-modified-id=\"Imputing-Categorical-columns-with-mode-2.2.13.3\"><span class=\"toc-item-num\">2.2.13.3&nbsp;&nbsp;</span>Imputing Categorical columns with mode</a></span></li></ul></li><li><span><a href=\"#Binning\" data-toc-modified-id=\"Binning-2.2.14\"><span class=\"toc-item-num\">2.2.14&nbsp;&nbsp;</span>Binning</a></span><ul class=\"toc-item\"><li><span><a href=\"#digitize-method\" data-toc-modified-id=\"digitize-method-2.2.14.1\"><span class=\"toc-item-num\">2.2.14.1&nbsp;&nbsp;</span><code>digitize</code> method</a></span></li><li><span><a href=\"#qcut-method\" data-toc-modified-id=\"qcut-method-2.2.14.2\"><span class=\"toc-item-num\">2.2.14.2&nbsp;&nbsp;</span><code>qcut</code> method</a></span></li></ul></li><li><span><a href=\"#Additional-Pre-processing-methods\" data-toc-modified-id=\"Additional-Pre-processing-methods-2.2.15\"><span class=\"toc-item-num\">2.2.15&nbsp;&nbsp;</span>Additional Pre-processing methods</a></span><ul class=\"toc-item\"><li><span><a href=\"#Dummies\" data-toc-modified-id=\"Dummies-2.2.15.1\"><span class=\"toc-item-num\">2.2.15.1&nbsp;&nbsp;</span>Dummies</a></span></li><li><span><a href=\"#Normalization\" data-toc-modified-id=\"Normalization-2.2.15.2\"><span class=\"toc-item-num\">2.2.15.2&nbsp;&nbsp;</span>Normalization</a></span></li><li><span><a href=\"#Standardizing\" data-toc-modified-id=\"Standardizing-2.2.15.3\"><span class=\"toc-item-num\">2.2.15.3&nbsp;&nbsp;</span>Standardizing</a></span></li></ul></li></ul></li><li><span><a href=\"#Apply-functions\" data-toc-modified-id=\"Apply-functions-2.3\"><span class=\"toc-item-num\">2.3&nbsp;&nbsp;</span>Apply functions</a></span></li><li><span><a href=\"#Assignment-Questions\" data-toc-modified-id=\"Assignment-Questions-2.4\"><span class=\"toc-item-num\">2.4&nbsp;&nbsp;</span>Assignment Questions</a></span></li></ul></li></ul></div>"
      ]
    },
    {
      "cell_type": "markdown",
      "metadata": {
        "id": "ef7qUcm1T-Ak",
        "colab_type": "text"
      },
      "source": [
        "# Pandas"
      ]
    },
    {
      "cell_type": "code",
      "metadata": {
        "ExecuteTime": {
          "end_time": "2018-12-28T11:29:37.267531Z",
          "start_time": "2018-12-28T11:29:36.529460Z"
        },
        "id": "ntzrnnOLT-Aq",
        "colab_type": "code",
        "colab": {}
      },
      "source": [
        "import numpy as np\n",
        "import pandas as pd"
      ],
      "execution_count": 0,
      "outputs": []
    },
    {
      "cell_type": "markdown",
      "metadata": {
        "id": "XKb9_ox6T-Aq",
        "colab_type": "text"
      },
      "source": [
        "The data structure in Pandas we use are\n",
        "    - 1. Series      -> 1 Dimensional\n",
        "    - 2. DataFrame   -> 2 Dimensional\n",
        "    \n",
        "Both the datastructures are mutable, meaning we can change the values in the data structure once we define them."
      ]
    },
    {
      "cell_type": "markdown",
      "metadata": {
        "id": "L6ipKHMiT-Aq",
        "colab_type": "text"
      },
      "source": [
        "## Object Creation\n",
        "Creating a `Series` by passing a list of values, letting pandas create a default integer index:"
      ]
    },
    {
      "cell_type": "code",
      "metadata": {
        "ExecuteTime": {
          "end_time": "2018-12-28T11:29:37.348352Z",
          "start_time": "2018-12-28T11:29:37.339424Z"
        },
        "id": "LfDqXWbjT-Aq",
        "colab_type": "code",
        "outputId": "087e6eb7-113b-44fa-c24a-a59f8c90dac6",
        "colab": {
          "base_uri": "https://localhost:8080/",
          "height": 136
        }
      },
      "source": [
        "s = pd.Series([1,3,5,np.nan,6,8]) #similar to NA in R\n",
        "s"
      ],
      "execution_count": 0,
      "outputs": [
        {
          "output_type": "execute_result",
          "data": {
            "text/plain": [
              "0    1.0\n",
              "1    3.0\n",
              "2    5.0\n",
              "3    NaN\n",
              "4    6.0\n",
              "5    8.0\n",
              "dtype: float64"
            ]
          },
          "metadata": {
            "tags": []
          },
          "execution_count": 2
        }
      ]
    },
    {
      "cell_type": "markdown",
      "metadata": {
        "id": "9ecmSRZlT-A6",
        "colab_type": "text"
      },
      "source": [
        "### We can also specify the column name while creating a dataframe"
      ]
    },
    {
      "cell_type": "code",
      "metadata": {
        "ExecuteTime": {
          "end_time": "2018-12-28T11:29:37.808792Z",
          "start_time": "2018-12-28T11:29:37.803680Z"
        },
        "id": "i8DtAQPsT-A6",
        "colab_type": "code",
        "colab": {}
      },
      "source": [
        "data = np.random.randn(20,2)"
      ],
      "execution_count": 0,
      "outputs": []
    },
    {
      "cell_type": "code",
      "metadata": {
        "ExecuteTime": {
          "end_time": "2018-12-28T11:29:38.016466Z",
          "start_time": "2018-12-28T11:29:37.824016Z"
        },
        "id": "GDIy3VP1T-A6",
        "colab_type": "code",
        "outputId": "7572005d-08a5-4c8f-fdff-576dc1d04bf9",
        "colab": {
          "base_uri": "https://localhost:8080/",
          "height": 669
        }
      },
      "source": [
        "df = pd.DataFrame(data, index=range(20),columns=['A','B'])\n",
        "df"
      ],
      "execution_count": 0,
      "outputs": [
        {
          "output_type": "execute_result",
          "data": {
            "text/html": [
              "<div>\n",
              "<style scoped>\n",
              "    .dataframe tbody tr th:only-of-type {\n",
              "        vertical-align: middle;\n",
              "    }\n",
              "\n",
              "    .dataframe tbody tr th {\n",
              "        vertical-align: top;\n",
              "    }\n",
              "\n",
              "    .dataframe thead th {\n",
              "        text-align: right;\n",
              "    }\n",
              "</style>\n",
              "<table border=\"1\" class=\"dataframe\">\n",
              "  <thead>\n",
              "    <tr style=\"text-align: right;\">\n",
              "      <th></th>\n",
              "      <th>A</th>\n",
              "      <th>B</th>\n",
              "    </tr>\n",
              "  </thead>\n",
              "  <tbody>\n",
              "    <tr>\n",
              "      <th>0</th>\n",
              "      <td>-2.525442</td>\n",
              "      <td>0.906248</td>\n",
              "    </tr>\n",
              "    <tr>\n",
              "      <th>1</th>\n",
              "      <td>1.860360</td>\n",
              "      <td>-1.510692</td>\n",
              "    </tr>\n",
              "    <tr>\n",
              "      <th>2</th>\n",
              "      <td>-0.688643</td>\n",
              "      <td>0.766366</td>\n",
              "    </tr>\n",
              "    <tr>\n",
              "      <th>3</th>\n",
              "      <td>1.124912</td>\n",
              "      <td>0.277079</td>\n",
              "    </tr>\n",
              "    <tr>\n",
              "      <th>4</th>\n",
              "      <td>-0.591255</td>\n",
              "      <td>0.244776</td>\n",
              "    </tr>\n",
              "    <tr>\n",
              "      <th>5</th>\n",
              "      <td>0.992732</td>\n",
              "      <td>0.195306</td>\n",
              "    </tr>\n",
              "    <tr>\n",
              "      <th>6</th>\n",
              "      <td>0.324344</td>\n",
              "      <td>-1.349643</td>\n",
              "    </tr>\n",
              "    <tr>\n",
              "      <th>7</th>\n",
              "      <td>-0.610558</td>\n",
              "      <td>1.015862</td>\n",
              "    </tr>\n",
              "    <tr>\n",
              "      <th>8</th>\n",
              "      <td>-1.607010</td>\n",
              "      <td>-0.159795</td>\n",
              "    </tr>\n",
              "    <tr>\n",
              "      <th>9</th>\n",
              "      <td>0.386031</td>\n",
              "      <td>-1.330817</td>\n",
              "    </tr>\n",
              "    <tr>\n",
              "      <th>10</th>\n",
              "      <td>1.319724</td>\n",
              "      <td>-0.009041</td>\n",
              "    </tr>\n",
              "    <tr>\n",
              "      <th>11</th>\n",
              "      <td>1.561737</td>\n",
              "      <td>1.100469</td>\n",
              "    </tr>\n",
              "    <tr>\n",
              "      <th>12</th>\n",
              "      <td>-0.952580</td>\n",
              "      <td>0.723878</td>\n",
              "    </tr>\n",
              "    <tr>\n",
              "      <th>13</th>\n",
              "      <td>-0.950794</td>\n",
              "      <td>-0.860914</td>\n",
              "    </tr>\n",
              "    <tr>\n",
              "      <th>14</th>\n",
              "      <td>1.200663</td>\n",
              "      <td>0.129433</td>\n",
              "    </tr>\n",
              "    <tr>\n",
              "      <th>15</th>\n",
              "      <td>0.211651</td>\n",
              "      <td>0.774464</td>\n",
              "    </tr>\n",
              "    <tr>\n",
              "      <th>16</th>\n",
              "      <td>1.281050</td>\n",
              "      <td>0.182438</td>\n",
              "    </tr>\n",
              "    <tr>\n",
              "      <th>17</th>\n",
              "      <td>0.098971</td>\n",
              "      <td>0.001837</td>\n",
              "    </tr>\n",
              "    <tr>\n",
              "      <th>18</th>\n",
              "      <td>1.434865</td>\n",
              "      <td>-0.203898</td>\n",
              "    </tr>\n",
              "    <tr>\n",
              "      <th>19</th>\n",
              "      <td>0.200838</td>\n",
              "      <td>0.679685</td>\n",
              "    </tr>\n",
              "  </tbody>\n",
              "</table>\n",
              "</div>"
            ],
            "text/plain": [
              "           A         B\n",
              "0  -2.525442  0.906248\n",
              "1   1.860360 -1.510692\n",
              "2  -0.688643  0.766366\n",
              "3   1.124912  0.277079\n",
              "4  -0.591255  0.244776\n",
              "5   0.992732  0.195306\n",
              "6   0.324344 -1.349643\n",
              "7  -0.610558  1.015862\n",
              "8  -1.607010 -0.159795\n",
              "9   0.386031 -1.330817\n",
              "10  1.319724 -0.009041\n",
              "11  1.561737  1.100469\n",
              "12 -0.952580  0.723878\n",
              "13 -0.950794 -0.860914\n",
              "14  1.200663  0.129433\n",
              "15  0.211651  0.774464\n",
              "16  1.281050  0.182438\n",
              "17  0.098971  0.001837\n",
              "18  1.434865 -0.203898\n",
              "19  0.200838  0.679685"
            ]
          },
          "metadata": {
            "tags": []
          },
          "execution_count": 4
        }
      ]
    },
    {
      "cell_type": "code",
      "metadata": {
        "ExecuteTime": {
          "end_time": "2018-12-28T11:29:38.088384Z",
          "start_time": "2018-12-28T11:29:38.019937Z"
        },
        "id": "7TLV76fXT-BJ",
        "colab_type": "code",
        "outputId": "d7039a7e-cc89-4cee-804a-aff03be9d7cf",
        "colab": {
          "base_uri": "https://localhost:8080/",
          "height": 68
        }
      },
      "source": [
        "df.dtypes"
      ],
      "execution_count": 0,
      "outputs": [
        {
          "output_type": "execute_result",
          "data": {
            "text/plain": [
              "A    float64\n",
              "B    float64\n",
              "dtype: object"
            ]
          },
          "metadata": {
            "tags": []
          },
          "execution_count": 5
        }
      ]
    },
    {
      "cell_type": "markdown",
      "metadata": {
        "id": "gdvHYrrRT-BJ",
        "colab_type": "text"
      },
      "source": [
        "## Exploring Data"
      ]
    },
    {
      "cell_type": "markdown",
      "metadata": {
        "id": "p4Lh-iUmT-BJ",
        "colab_type": "text"
      },
      "source": [
        "### Head"
      ]
    },
    {
      "cell_type": "markdown",
      "metadata": {
        "id": "WLCdJATyT-BJ",
        "colab_type": "text"
      },
      "source": [
        "In python by default the first 5 rows are printed , unlike first 6 in R"
      ]
    },
    {
      "cell_type": "code",
      "metadata": {
        "ExecuteTime": {
          "end_time": "2018-12-28T11:29:39.140926Z",
          "start_time": "2018-12-28T11:29:39.128495Z"
        },
        "id": "iFqJTVHeT-BJ",
        "colab_type": "code",
        "outputId": "9add21d4-659a-4fc6-c253-ed1cba4bf6a7",
        "colab": {
          "base_uri": "https://localhost:8080/",
          "height": 204
        }
      },
      "source": [
        "df.head()"
      ],
      "execution_count": 0,
      "outputs": [
        {
          "output_type": "execute_result",
          "data": {
            "text/html": [
              "<div>\n",
              "<style scoped>\n",
              "    .dataframe tbody tr th:only-of-type {\n",
              "        vertical-align: middle;\n",
              "    }\n",
              "\n",
              "    .dataframe tbody tr th {\n",
              "        vertical-align: top;\n",
              "    }\n",
              "\n",
              "    .dataframe thead th {\n",
              "        text-align: right;\n",
              "    }\n",
              "</style>\n",
              "<table border=\"1\" class=\"dataframe\">\n",
              "  <thead>\n",
              "    <tr style=\"text-align: right;\">\n",
              "      <th></th>\n",
              "      <th>A</th>\n",
              "      <th>B</th>\n",
              "    </tr>\n",
              "  </thead>\n",
              "  <tbody>\n",
              "    <tr>\n",
              "      <th>0</th>\n",
              "      <td>-2.525442</td>\n",
              "      <td>0.906248</td>\n",
              "    </tr>\n",
              "    <tr>\n",
              "      <th>1</th>\n",
              "      <td>1.860360</td>\n",
              "      <td>-1.510692</td>\n",
              "    </tr>\n",
              "    <tr>\n",
              "      <th>2</th>\n",
              "      <td>-0.688643</td>\n",
              "      <td>0.766366</td>\n",
              "    </tr>\n",
              "    <tr>\n",
              "      <th>3</th>\n",
              "      <td>1.124912</td>\n",
              "      <td>0.277079</td>\n",
              "    </tr>\n",
              "    <tr>\n",
              "      <th>4</th>\n",
              "      <td>-0.591255</td>\n",
              "      <td>0.244776</td>\n",
              "    </tr>\n",
              "  </tbody>\n",
              "</table>\n",
              "</div>"
            ],
            "text/plain": [
              "          A         B\n",
              "0 -2.525442  0.906248\n",
              "1  1.860360 -1.510692\n",
              "2 -0.688643  0.766366\n",
              "3  1.124912  0.277079\n",
              "4 -0.591255  0.244776"
            ]
          },
          "metadata": {
            "tags": []
          },
          "execution_count": 6
        }
      ]
    },
    {
      "cell_type": "markdown",
      "metadata": {
        "id": "09OYvnr4T-BZ",
        "colab_type": "text"
      },
      "source": [
        "### Tail"
      ]
    },
    {
      "cell_type": "code",
      "metadata": {
        "ExecuteTime": {
          "end_time": "2018-12-28T11:29:39.584324Z",
          "start_time": "2018-12-28T11:29:39.571423Z"
        },
        "id": "hK6HYRmWT-BZ",
        "colab_type": "code",
        "outputId": "82940506-e678-4a86-cd30-b59c945faa32",
        "colab": {
          "base_uri": "https://localhost:8080/",
          "height": 204
        }
      },
      "source": [
        "df.tail()"
      ],
      "execution_count": 0,
      "outputs": [
        {
          "output_type": "execute_result",
          "data": {
            "text/html": [
              "<div>\n",
              "<style scoped>\n",
              "    .dataframe tbody tr th:only-of-type {\n",
              "        vertical-align: middle;\n",
              "    }\n",
              "\n",
              "    .dataframe tbody tr th {\n",
              "        vertical-align: top;\n",
              "    }\n",
              "\n",
              "    .dataframe thead th {\n",
              "        text-align: right;\n",
              "    }\n",
              "</style>\n",
              "<table border=\"1\" class=\"dataframe\">\n",
              "  <thead>\n",
              "    <tr style=\"text-align: right;\">\n",
              "      <th></th>\n",
              "      <th>A</th>\n",
              "      <th>B</th>\n",
              "    </tr>\n",
              "  </thead>\n",
              "  <tbody>\n",
              "    <tr>\n",
              "      <th>15</th>\n",
              "      <td>0.211651</td>\n",
              "      <td>0.774464</td>\n",
              "    </tr>\n",
              "    <tr>\n",
              "      <th>16</th>\n",
              "      <td>1.281050</td>\n",
              "      <td>0.182438</td>\n",
              "    </tr>\n",
              "    <tr>\n",
              "      <th>17</th>\n",
              "      <td>0.098971</td>\n",
              "      <td>0.001837</td>\n",
              "    </tr>\n",
              "    <tr>\n",
              "      <th>18</th>\n",
              "      <td>1.434865</td>\n",
              "      <td>-0.203898</td>\n",
              "    </tr>\n",
              "    <tr>\n",
              "      <th>19</th>\n",
              "      <td>0.200838</td>\n",
              "      <td>0.679685</td>\n",
              "    </tr>\n",
              "  </tbody>\n",
              "</table>\n",
              "</div>"
            ],
            "text/plain": [
              "           A         B\n",
              "15  0.211651  0.774464\n",
              "16  1.281050  0.182438\n",
              "17  0.098971  0.001837\n",
              "18  1.434865 -0.203898\n",
              "19  0.200838  0.679685"
            ]
          },
          "metadata": {
            "tags": []
          },
          "execution_count": 7
        }
      ]
    },
    {
      "cell_type": "code",
      "metadata": {
        "ExecuteTime": {
          "end_time": "2018-12-28T11:29:39.714315Z",
          "start_time": "2018-12-28T11:29:39.588287Z"
        },
        "id": "EE5LmGYCT-BZ",
        "colab_type": "code",
        "outputId": "9173bd26-eee1-45d3-b76c-225a746fee62",
        "colab": {
          "base_uri": "https://localhost:8080/",
          "height": 204
        }
      },
      "source": [
        "df.iloc[0:5,0:5]"
      ],
      "execution_count": 0,
      "outputs": [
        {
          "output_type": "execute_result",
          "data": {
            "text/html": [
              "<div>\n",
              "<style scoped>\n",
              "    .dataframe tbody tr th:only-of-type {\n",
              "        vertical-align: middle;\n",
              "    }\n",
              "\n",
              "    .dataframe tbody tr th {\n",
              "        vertical-align: top;\n",
              "    }\n",
              "\n",
              "    .dataframe thead th {\n",
              "        text-align: right;\n",
              "    }\n",
              "</style>\n",
              "<table border=\"1\" class=\"dataframe\">\n",
              "  <thead>\n",
              "    <tr style=\"text-align: right;\">\n",
              "      <th></th>\n",
              "      <th>A</th>\n",
              "      <th>B</th>\n",
              "    </tr>\n",
              "  </thead>\n",
              "  <tbody>\n",
              "    <tr>\n",
              "      <th>0</th>\n",
              "      <td>-2.525442</td>\n",
              "      <td>0.906248</td>\n",
              "    </tr>\n",
              "    <tr>\n",
              "      <th>1</th>\n",
              "      <td>1.860360</td>\n",
              "      <td>-1.510692</td>\n",
              "    </tr>\n",
              "    <tr>\n",
              "      <th>2</th>\n",
              "      <td>-0.688643</td>\n",
              "      <td>0.766366</td>\n",
              "    </tr>\n",
              "    <tr>\n",
              "      <th>3</th>\n",
              "      <td>1.124912</td>\n",
              "      <td>0.277079</td>\n",
              "    </tr>\n",
              "    <tr>\n",
              "      <th>4</th>\n",
              "      <td>-0.591255</td>\n",
              "      <td>0.244776</td>\n",
              "    </tr>\n",
              "  </tbody>\n",
              "</table>\n",
              "</div>"
            ],
            "text/plain": [
              "          A         B\n",
              "0 -2.525442  0.906248\n",
              "1  1.860360 -1.510692\n",
              "2 -0.688643  0.766366\n",
              "3  1.124912  0.277079\n",
              "4 -0.591255  0.244776"
            ]
          },
          "metadata": {
            "tags": []
          },
          "execution_count": 8
        }
      ]
    },
    {
      "cell_type": "markdown",
      "metadata": {
        "id": "HxCjukBlT-Bp",
        "colab_type": "text"
      },
      "source": [
        "- In python by default the last 5 rows are printed , unlike first 6 in R"
      ]
    },
    {
      "cell_type": "code",
      "metadata": {
        "ExecuteTime": {
          "end_time": "2018-12-28T11:29:40.049073Z",
          "start_time": "2018-12-28T11:29:40.036842Z"
        },
        "id": "mXF3zFIzT-Bp",
        "colab_type": "code",
        "outputId": "611bae43-fae8-403c-a807-617be09b0f42",
        "colab": {
          "base_uri": "https://localhost:8080/",
          "height": 204
        }
      },
      "source": [
        "df.tail()"
      ],
      "execution_count": 0,
      "outputs": [
        {
          "output_type": "execute_result",
          "data": {
            "text/html": [
              "<div>\n",
              "<style scoped>\n",
              "    .dataframe tbody tr th:only-of-type {\n",
              "        vertical-align: middle;\n",
              "    }\n",
              "\n",
              "    .dataframe tbody tr th {\n",
              "        vertical-align: top;\n",
              "    }\n",
              "\n",
              "    .dataframe thead th {\n",
              "        text-align: right;\n",
              "    }\n",
              "</style>\n",
              "<table border=\"1\" class=\"dataframe\">\n",
              "  <thead>\n",
              "    <tr style=\"text-align: right;\">\n",
              "      <th></th>\n",
              "      <th>A</th>\n",
              "      <th>B</th>\n",
              "    </tr>\n",
              "  </thead>\n",
              "  <tbody>\n",
              "    <tr>\n",
              "      <th>15</th>\n",
              "      <td>0.211651</td>\n",
              "      <td>0.774464</td>\n",
              "    </tr>\n",
              "    <tr>\n",
              "      <th>16</th>\n",
              "      <td>1.281050</td>\n",
              "      <td>0.182438</td>\n",
              "    </tr>\n",
              "    <tr>\n",
              "      <th>17</th>\n",
              "      <td>0.098971</td>\n",
              "      <td>0.001837</td>\n",
              "    </tr>\n",
              "    <tr>\n",
              "      <th>18</th>\n",
              "      <td>1.434865</td>\n",
              "      <td>-0.203898</td>\n",
              "    </tr>\n",
              "    <tr>\n",
              "      <th>19</th>\n",
              "      <td>0.200838</td>\n",
              "      <td>0.679685</td>\n",
              "    </tr>\n",
              "  </tbody>\n",
              "</table>\n",
              "</div>"
            ],
            "text/plain": [
              "           A         B\n",
              "15  0.211651  0.774464\n",
              "16  1.281050  0.182438\n",
              "17  0.098971  0.001837\n",
              "18  1.434865 -0.203898\n",
              "19  0.200838  0.679685"
            ]
          },
          "metadata": {
            "tags": []
          },
          "execution_count": 9
        }
      ]
    },
    {
      "cell_type": "code",
      "metadata": {
        "ExecuteTime": {
          "end_time": "2018-12-28T11:29:40.247471Z",
          "start_time": "2018-12-28T11:29:40.052047Z"
        },
        "id": "T5yjjB93T-Bp",
        "colab_type": "code",
        "outputId": "46294a1a-9dba-440f-f803-ddc35ea0799d",
        "colab": {
          "base_uri": "https://localhost:8080/",
          "height": 204
        }
      },
      "source": [
        "df.iloc[-5:,-5:]"
      ],
      "execution_count": 0,
      "outputs": [
        {
          "output_type": "execute_result",
          "data": {
            "text/html": [
              "<div>\n",
              "<style scoped>\n",
              "    .dataframe tbody tr th:only-of-type {\n",
              "        vertical-align: middle;\n",
              "    }\n",
              "\n",
              "    .dataframe tbody tr th {\n",
              "        vertical-align: top;\n",
              "    }\n",
              "\n",
              "    .dataframe thead th {\n",
              "        text-align: right;\n",
              "    }\n",
              "</style>\n",
              "<table border=\"1\" class=\"dataframe\">\n",
              "  <thead>\n",
              "    <tr style=\"text-align: right;\">\n",
              "      <th></th>\n",
              "      <th>A</th>\n",
              "      <th>B</th>\n",
              "    </tr>\n",
              "  </thead>\n",
              "  <tbody>\n",
              "    <tr>\n",
              "      <th>15</th>\n",
              "      <td>0.211651</td>\n",
              "      <td>0.774464</td>\n",
              "    </tr>\n",
              "    <tr>\n",
              "      <th>16</th>\n",
              "      <td>1.281050</td>\n",
              "      <td>0.182438</td>\n",
              "    </tr>\n",
              "    <tr>\n",
              "      <th>17</th>\n",
              "      <td>0.098971</td>\n",
              "      <td>0.001837</td>\n",
              "    </tr>\n",
              "    <tr>\n",
              "      <th>18</th>\n",
              "      <td>1.434865</td>\n",
              "      <td>-0.203898</td>\n",
              "    </tr>\n",
              "    <tr>\n",
              "      <th>19</th>\n",
              "      <td>0.200838</td>\n",
              "      <td>0.679685</td>\n",
              "    </tr>\n",
              "  </tbody>\n",
              "</table>\n",
              "</div>"
            ],
            "text/plain": [
              "           A         B\n",
              "15  0.211651  0.774464\n",
              "16  1.281050  0.182438\n",
              "17  0.098971  0.001837\n",
              "18  1.434865 -0.203898\n",
              "19  0.200838  0.679685"
            ]
          },
          "metadata": {
            "tags": []
          },
          "execution_count": 10
        }
      ]
    },
    {
      "cell_type": "markdown",
      "metadata": {
        "id": "QffBj-hKT-Bp",
        "colab_type": "text"
      },
      "source": [
        "### Index"
      ]
    },
    {
      "cell_type": "code",
      "metadata": {
        "ExecuteTime": {
          "end_time": "2018-12-28T11:29:40.550031Z",
          "start_time": "2018-12-28T11:29:40.543583Z"
        },
        "id": "UPe18ZpWT-B4",
        "colab_type": "code",
        "outputId": "26337227-9b2a-48e4-f2f5-466134ae3938",
        "colab": {
          "base_uri": "https://localhost:8080/"
        }
      },
      "source": [
        "df.index"
      ],
      "execution_count": 0,
      "outputs": [
        {
          "output_type": "execute_result",
          "data": {
            "text/plain": [
              "RangeIndex(start=0, stop=20, step=1)"
            ]
          },
          "metadata": {
            "tags": []
          },
          "execution_count": 11
        }
      ]
    },
    {
      "cell_type": "markdown",
      "metadata": {
        "id": "LLhphR3RT-B4",
        "colab_type": "text"
      },
      "source": [
        "####  Column Names"
      ]
    },
    {
      "cell_type": "code",
      "metadata": {
        "ExecuteTime": {
          "end_time": "2018-12-28T11:29:40.928979Z",
          "start_time": "2018-12-28T11:29:40.921039Z"
        },
        "id": "EGBjmU6eT-B4",
        "colab_type": "code",
        "outputId": "4b274798-0499-4cee-f7d5-fc5034acdcec",
        "colab": {
          "base_uri": "https://localhost:8080/"
        }
      },
      "source": [
        "df.columns"
      ],
      "execution_count": 0,
      "outputs": [
        {
          "output_type": "execute_result",
          "data": {
            "text/plain": [
              "Index(['A', 'B'], dtype='object')"
            ]
          },
          "metadata": {
            "tags": []
          },
          "execution_count": 12
        }
      ]
    },
    {
      "cell_type": "markdown",
      "metadata": {
        "id": "QAjFiJIdT-CI",
        "colab_type": "text"
      },
      "source": [
        "#### Dataframe values"
      ]
    },
    {
      "cell_type": "code",
      "metadata": {
        "ExecuteTime": {
          "end_time": "2018-12-28T11:29:41.455234Z",
          "start_time": "2018-12-28T11:29:41.448289Z"
        },
        "id": "A2tcYBwNT-CI",
        "colab_type": "code",
        "outputId": "8c60d926-60ed-4730-8342-c1d2d3c9e517",
        "colab": {
          "base_uri": "https://localhost:8080/"
        }
      },
      "source": [
        "df.values"
      ],
      "execution_count": 0,
      "outputs": [
        {
          "output_type": "execute_result",
          "data": {
            "text/plain": [
              "array([[-2.52544164e+00,  9.06248294e-01],\n",
              "       [ 1.86036001e+00, -1.51069173e+00],\n",
              "       [-6.88643460e-01,  7.66365758e-01],\n",
              "       [ 1.12491169e+00,  2.77079438e-01],\n",
              "       [-5.91254621e-01,  2.44776288e-01],\n",
              "       [ 9.92732273e-01,  1.95305853e-01],\n",
              "       [ 3.24344243e-01, -1.34964327e+00],\n",
              "       [-6.10557859e-01,  1.01586229e+00],\n",
              "       [-1.60701020e+00, -1.59794988e-01],\n",
              "       [ 3.86031066e-01, -1.33081742e+00],\n",
              "       [ 1.31972407e+00, -9.04064791e-03],\n",
              "       [ 1.56173664e+00,  1.10046902e+00],\n",
              "       [-9.52580400e-01,  7.23877604e-01],\n",
              "       [-9.50793561e-01, -8.60914328e-01],\n",
              "       [ 1.20066269e+00,  1.29433201e-01],\n",
              "       [ 2.11651189e-01,  7.74463883e-01],\n",
              "       [ 1.28104986e+00,  1.82438010e-01],\n",
              "       [ 9.89706561e-02,  1.83697312e-03],\n",
              "       [ 1.43486501e+00, -2.03898475e-01],\n",
              "       [ 2.00837792e-01,  6.79684828e-01]])"
            ]
          },
          "metadata": {
            "tags": []
          },
          "execution_count": 13
        }
      ]
    },
    {
      "cell_type": "markdown",
      "metadata": {
        "id": "6OF8fHKxT-CI",
        "colab_type": "text"
      },
      "source": [
        "### Describe \n",
        "shows summary statistics of your data"
      ]
    },
    {
      "cell_type": "code",
      "metadata": {
        "ExecuteTime": {
          "end_time": "2018-12-28T11:29:41.860493Z",
          "start_time": "2018-12-28T11:29:41.829215Z"
        },
        "id": "Ee2syWcjT-CI",
        "colab_type": "code",
        "outputId": "cca98f48-cd5d-4515-bd82-e70482c4f535",
        "colab": {
          "base_uri": "https://localhost:8080/"
        }
      },
      "source": [
        "df.describe() # similar to summary() in R"
      ],
      "execution_count": 0,
      "outputs": [
        {
          "output_type": "execute_result",
          "data": {
            "text/html": [
              "<div>\n",
              "<style scoped>\n",
              "    .dataframe tbody tr th:only-of-type {\n",
              "        vertical-align: middle;\n",
              "    }\n",
              "\n",
              "    .dataframe tbody tr th {\n",
              "        vertical-align: top;\n",
              "    }\n",
              "\n",
              "    .dataframe thead th {\n",
              "        text-align: right;\n",
              "    }\n",
              "</style>\n",
              "<table border=\"1\" class=\"dataframe\">\n",
              "  <thead>\n",
              "    <tr style=\"text-align: right;\">\n",
              "      <th></th>\n",
              "      <th>A</th>\n",
              "      <th>B</th>\n",
              "    </tr>\n",
              "  </thead>\n",
              "  <tbody>\n",
              "    <tr>\n",
              "      <th>count</th>\n",
              "      <td>20.000000</td>\n",
              "      <td>20.000000</td>\n",
              "    </tr>\n",
              "    <tr>\n",
              "      <th>mean</th>\n",
              "      <td>0.203580</td>\n",
              "      <td>0.078652</td>\n",
              "    </tr>\n",
              "    <tr>\n",
              "      <th>std</th>\n",
              "      <td>1.181495</td>\n",
              "      <td>0.795437</td>\n",
              "    </tr>\n",
              "    <tr>\n",
              "      <th>min</th>\n",
              "      <td>-2.525442</td>\n",
              "      <td>-1.510692</td>\n",
              "    </tr>\n",
              "    <tr>\n",
              "      <th>25%</th>\n",
              "      <td>-0.630079</td>\n",
              "      <td>-0.170821</td>\n",
              "    </tr>\n",
              "    <tr>\n",
              "      <th>50%</th>\n",
              "      <td>0.267998</td>\n",
              "      <td>0.188872</td>\n",
              "    </tr>\n",
              "    <tr>\n",
              "      <th>75%</th>\n",
              "      <td>1.220759</td>\n",
              "      <td>0.734500</td>\n",
              "    </tr>\n",
              "    <tr>\n",
              "      <th>max</th>\n",
              "      <td>1.860360</td>\n",
              "      <td>1.100469</td>\n",
              "    </tr>\n",
              "  </tbody>\n",
              "</table>\n",
              "</div>"
            ],
            "text/plain": [
              "               A          B\n",
              "count  20.000000  20.000000\n",
              "mean    0.203580   0.078652\n",
              "std     1.181495   0.795437\n",
              "min    -2.525442  -1.510692\n",
              "25%    -0.630079  -0.170821\n",
              "50%     0.267998   0.188872\n",
              "75%     1.220759   0.734500\n",
              "max     1.860360   1.100469"
            ]
          },
          "metadata": {
            "tags": []
          },
          "execution_count": 14
        }
      ]
    },
    {
      "cell_type": "markdown",
      "metadata": {
        "id": "GqrPDY9pT-CX",
        "colab_type": "text"
      },
      "source": [
        "### Transposing your data"
      ]
    },
    {
      "cell_type": "code",
      "metadata": {
        "ExecuteTime": {
          "end_time": "2018-12-28T11:29:42.278095Z",
          "start_time": "2018-12-28T11:29:42.241887Z"
        },
        "id": "eqOgVBqkT-CX",
        "colab_type": "code",
        "outputId": "7897e64d-b678-4f43-a6c4-00f9a4015c24",
        "colab": {
          "base_uri": "https://localhost:8080/"
        }
      },
      "source": [
        "df.T"
      ],
      "execution_count": 0,
      "outputs": [
        {
          "output_type": "execute_result",
          "data": {
            "text/html": [
              "<div>\n",
              "<style scoped>\n",
              "    .dataframe tbody tr th:only-of-type {\n",
              "        vertical-align: middle;\n",
              "    }\n",
              "\n",
              "    .dataframe tbody tr th {\n",
              "        vertical-align: top;\n",
              "    }\n",
              "\n",
              "    .dataframe thead th {\n",
              "        text-align: right;\n",
              "    }\n",
              "</style>\n",
              "<table border=\"1\" class=\"dataframe\">\n",
              "  <thead>\n",
              "    <tr style=\"text-align: right;\">\n",
              "      <th></th>\n",
              "      <th>0</th>\n",
              "      <th>1</th>\n",
              "      <th>2</th>\n",
              "      <th>3</th>\n",
              "      <th>4</th>\n",
              "      <th>5</th>\n",
              "      <th>6</th>\n",
              "      <th>7</th>\n",
              "      <th>8</th>\n",
              "      <th>9</th>\n",
              "      <th>10</th>\n",
              "      <th>11</th>\n",
              "      <th>12</th>\n",
              "      <th>13</th>\n",
              "      <th>14</th>\n",
              "      <th>15</th>\n",
              "      <th>16</th>\n",
              "      <th>17</th>\n",
              "      <th>18</th>\n",
              "      <th>19</th>\n",
              "    </tr>\n",
              "  </thead>\n",
              "  <tbody>\n",
              "    <tr>\n",
              "      <th>A</th>\n",
              "      <td>-2.525442</td>\n",
              "      <td>1.860360</td>\n",
              "      <td>-0.688643</td>\n",
              "      <td>1.124912</td>\n",
              "      <td>-0.591255</td>\n",
              "      <td>0.992732</td>\n",
              "      <td>0.324344</td>\n",
              "      <td>-0.610558</td>\n",
              "      <td>-1.607010</td>\n",
              "      <td>0.386031</td>\n",
              "      <td>1.319724</td>\n",
              "      <td>1.561737</td>\n",
              "      <td>-0.952580</td>\n",
              "      <td>-0.950794</td>\n",
              "      <td>1.200663</td>\n",
              "      <td>0.211651</td>\n",
              "      <td>1.281050</td>\n",
              "      <td>0.098971</td>\n",
              "      <td>1.434865</td>\n",
              "      <td>0.200838</td>\n",
              "    </tr>\n",
              "    <tr>\n",
              "      <th>B</th>\n",
              "      <td>0.906248</td>\n",
              "      <td>-1.510692</td>\n",
              "      <td>0.766366</td>\n",
              "      <td>0.277079</td>\n",
              "      <td>0.244776</td>\n",
              "      <td>0.195306</td>\n",
              "      <td>-1.349643</td>\n",
              "      <td>1.015862</td>\n",
              "      <td>-0.159795</td>\n",
              "      <td>-1.330817</td>\n",
              "      <td>-0.009041</td>\n",
              "      <td>1.100469</td>\n",
              "      <td>0.723878</td>\n",
              "      <td>-0.860914</td>\n",
              "      <td>0.129433</td>\n",
              "      <td>0.774464</td>\n",
              "      <td>0.182438</td>\n",
              "      <td>0.001837</td>\n",
              "      <td>-0.203898</td>\n",
              "      <td>0.679685</td>\n",
              "    </tr>\n",
              "  </tbody>\n",
              "</table>\n",
              "</div>"
            ],
            "text/plain": [
              "         0         1         2   ...        17        18        19\n",
              "A -2.525442  1.860360 -0.688643  ...  0.098971  1.434865  0.200838\n",
              "B  0.906248 -1.510692  0.766366  ...  0.001837 -0.203898  0.679685\n",
              "\n",
              "[2 rows x 20 columns]"
            ]
          },
          "metadata": {
            "tags": []
          },
          "execution_count": 15
        }
      ]
    },
    {
      "cell_type": "markdown",
      "metadata": {
        "id": "MlMjZy1_T-CX",
        "colab_type": "text"
      },
      "source": [
        "## Sorting "
      ]
    },
    {
      "cell_type": "markdown",
      "metadata": {
        "id": "uzWbfucHT-CX",
        "colab_type": "text"
      },
      "source": [
        "### On an axis"
      ]
    },
    {
      "cell_type": "code",
      "metadata": {
        "ExecuteTime": {
          "end_time": "2018-12-28T11:29:43.036478Z",
          "start_time": "2018-12-28T11:29:43.019120Z"
        },
        "id": "RihJL5TsT-CX",
        "colab_type": "code",
        "outputId": "dfc5775f-27e7-40da-bd48-896e2c356bd1",
        "colab": {
          "base_uri": "https://localhost:8080/"
        }
      },
      "source": [
        "df.sort_index(ascending=False) # based on rows , default tries to sort the index"
      ],
      "execution_count": 0,
      "outputs": [
        {
          "output_type": "execute_result",
          "data": {
            "text/html": [
              "<div>\n",
              "<style scoped>\n",
              "    .dataframe tbody tr th:only-of-type {\n",
              "        vertical-align: middle;\n",
              "    }\n",
              "\n",
              "    .dataframe tbody tr th {\n",
              "        vertical-align: top;\n",
              "    }\n",
              "\n",
              "    .dataframe thead th {\n",
              "        text-align: right;\n",
              "    }\n",
              "</style>\n",
              "<table border=\"1\" class=\"dataframe\">\n",
              "  <thead>\n",
              "    <tr style=\"text-align: right;\">\n",
              "      <th></th>\n",
              "      <th>A</th>\n",
              "      <th>B</th>\n",
              "    </tr>\n",
              "  </thead>\n",
              "  <tbody>\n",
              "    <tr>\n",
              "      <th>19</th>\n",
              "      <td>0.200838</td>\n",
              "      <td>0.679685</td>\n",
              "    </tr>\n",
              "    <tr>\n",
              "      <th>18</th>\n",
              "      <td>1.434865</td>\n",
              "      <td>-0.203898</td>\n",
              "    </tr>\n",
              "    <tr>\n",
              "      <th>17</th>\n",
              "      <td>0.098971</td>\n",
              "      <td>0.001837</td>\n",
              "    </tr>\n",
              "    <tr>\n",
              "      <th>16</th>\n",
              "      <td>1.281050</td>\n",
              "      <td>0.182438</td>\n",
              "    </tr>\n",
              "    <tr>\n",
              "      <th>15</th>\n",
              "      <td>0.211651</td>\n",
              "      <td>0.774464</td>\n",
              "    </tr>\n",
              "    <tr>\n",
              "      <th>14</th>\n",
              "      <td>1.200663</td>\n",
              "      <td>0.129433</td>\n",
              "    </tr>\n",
              "    <tr>\n",
              "      <th>13</th>\n",
              "      <td>-0.950794</td>\n",
              "      <td>-0.860914</td>\n",
              "    </tr>\n",
              "    <tr>\n",
              "      <th>12</th>\n",
              "      <td>-0.952580</td>\n",
              "      <td>0.723878</td>\n",
              "    </tr>\n",
              "    <tr>\n",
              "      <th>11</th>\n",
              "      <td>1.561737</td>\n",
              "      <td>1.100469</td>\n",
              "    </tr>\n",
              "    <tr>\n",
              "      <th>10</th>\n",
              "      <td>1.319724</td>\n",
              "      <td>-0.009041</td>\n",
              "    </tr>\n",
              "    <tr>\n",
              "      <th>9</th>\n",
              "      <td>0.386031</td>\n",
              "      <td>-1.330817</td>\n",
              "    </tr>\n",
              "    <tr>\n",
              "      <th>8</th>\n",
              "      <td>-1.607010</td>\n",
              "      <td>-0.159795</td>\n",
              "    </tr>\n",
              "    <tr>\n",
              "      <th>7</th>\n",
              "      <td>-0.610558</td>\n",
              "      <td>1.015862</td>\n",
              "    </tr>\n",
              "    <tr>\n",
              "      <th>6</th>\n",
              "      <td>0.324344</td>\n",
              "      <td>-1.349643</td>\n",
              "    </tr>\n",
              "    <tr>\n",
              "      <th>5</th>\n",
              "      <td>0.992732</td>\n",
              "      <td>0.195306</td>\n",
              "    </tr>\n",
              "    <tr>\n",
              "      <th>4</th>\n",
              "      <td>-0.591255</td>\n",
              "      <td>0.244776</td>\n",
              "    </tr>\n",
              "    <tr>\n",
              "      <th>3</th>\n",
              "      <td>1.124912</td>\n",
              "      <td>0.277079</td>\n",
              "    </tr>\n",
              "    <tr>\n",
              "      <th>2</th>\n",
              "      <td>-0.688643</td>\n",
              "      <td>0.766366</td>\n",
              "    </tr>\n",
              "    <tr>\n",
              "      <th>1</th>\n",
              "      <td>1.860360</td>\n",
              "      <td>-1.510692</td>\n",
              "    </tr>\n",
              "    <tr>\n",
              "      <th>0</th>\n",
              "      <td>-2.525442</td>\n",
              "      <td>0.906248</td>\n",
              "    </tr>\n",
              "  </tbody>\n",
              "</table>\n",
              "</div>"
            ],
            "text/plain": [
              "           A         B\n",
              "19  0.200838  0.679685\n",
              "18  1.434865 -0.203898\n",
              "17  0.098971  0.001837\n",
              "16  1.281050  0.182438\n",
              "15  0.211651  0.774464\n",
              "14  1.200663  0.129433\n",
              "13 -0.950794 -0.860914\n",
              "12 -0.952580  0.723878\n",
              "11  1.561737  1.100469\n",
              "10  1.319724 -0.009041\n",
              "9   0.386031 -1.330817\n",
              "8  -1.607010 -0.159795\n",
              "7  -0.610558  1.015862\n",
              "6   0.324344 -1.349643\n",
              "5   0.992732  0.195306\n",
              "4  -0.591255  0.244776\n",
              "3   1.124912  0.277079\n",
              "2  -0.688643  0.766366\n",
              "1   1.860360 -1.510692\n",
              "0  -2.525442  0.906248"
            ]
          },
          "metadata": {
            "tags": []
          },
          "execution_count": 16
        }
      ]
    },
    {
      "cell_type": "markdown",
      "metadata": {
        "id": "Vy_otrhjT-Cn",
        "colab_type": "text"
      },
      "source": [
        "### Based on a column\n",
        "If we want to sort out dataframe based on a single column"
      ]
    },
    {
      "cell_type": "code",
      "metadata": {
        "ExecuteTime": {
          "end_time": "2018-12-28T11:29:43.587534Z",
          "start_time": "2018-12-28T11:29:43.567224Z"
        },
        "id": "yVgZTC8OT-Cn",
        "colab_type": "code",
        "outputId": "a5a037d7-43a0-4d50-93ec-0d8974965bc0",
        "colab": {
          "base_uri": "https://localhost:8080/"
        }
      },
      "source": [
        "df.sort_index(axis=0, ascending=False,by='A')"
      ],
      "execution_count": 0,
      "outputs": [
        {
          "output_type": "stream",
          "text": [
            "/usr/local/lib/python3.6/dist-packages/ipykernel_launcher.py:1: FutureWarning: by argument to sort_index is deprecated, please use .sort_values(by=...)\n",
            "  \"\"\"Entry point for launching an IPython kernel.\n"
          ],
          "name": "stderr"
        },
        {
          "output_type": "execute_result",
          "data": {
            "text/html": [
              "<div>\n",
              "<style scoped>\n",
              "    .dataframe tbody tr th:only-of-type {\n",
              "        vertical-align: middle;\n",
              "    }\n",
              "\n",
              "    .dataframe tbody tr th {\n",
              "        vertical-align: top;\n",
              "    }\n",
              "\n",
              "    .dataframe thead th {\n",
              "        text-align: right;\n",
              "    }\n",
              "</style>\n",
              "<table border=\"1\" class=\"dataframe\">\n",
              "  <thead>\n",
              "    <tr style=\"text-align: right;\">\n",
              "      <th></th>\n",
              "      <th>A</th>\n",
              "      <th>B</th>\n",
              "    </tr>\n",
              "  </thead>\n",
              "  <tbody>\n",
              "    <tr>\n",
              "      <th>1</th>\n",
              "      <td>1.860360</td>\n",
              "      <td>-1.510692</td>\n",
              "    </tr>\n",
              "    <tr>\n",
              "      <th>11</th>\n",
              "      <td>1.561737</td>\n",
              "      <td>1.100469</td>\n",
              "    </tr>\n",
              "    <tr>\n",
              "      <th>18</th>\n",
              "      <td>1.434865</td>\n",
              "      <td>-0.203898</td>\n",
              "    </tr>\n",
              "    <tr>\n",
              "      <th>10</th>\n",
              "      <td>1.319724</td>\n",
              "      <td>-0.009041</td>\n",
              "    </tr>\n",
              "    <tr>\n",
              "      <th>16</th>\n",
              "      <td>1.281050</td>\n",
              "      <td>0.182438</td>\n",
              "    </tr>\n",
              "    <tr>\n",
              "      <th>14</th>\n",
              "      <td>1.200663</td>\n",
              "      <td>0.129433</td>\n",
              "    </tr>\n",
              "    <tr>\n",
              "      <th>3</th>\n",
              "      <td>1.124912</td>\n",
              "      <td>0.277079</td>\n",
              "    </tr>\n",
              "    <tr>\n",
              "      <th>5</th>\n",
              "      <td>0.992732</td>\n",
              "      <td>0.195306</td>\n",
              "    </tr>\n",
              "    <tr>\n",
              "      <th>9</th>\n",
              "      <td>0.386031</td>\n",
              "      <td>-1.330817</td>\n",
              "    </tr>\n",
              "    <tr>\n",
              "      <th>6</th>\n",
              "      <td>0.324344</td>\n",
              "      <td>-1.349643</td>\n",
              "    </tr>\n",
              "    <tr>\n",
              "      <th>15</th>\n",
              "      <td>0.211651</td>\n",
              "      <td>0.774464</td>\n",
              "    </tr>\n",
              "    <tr>\n",
              "      <th>19</th>\n",
              "      <td>0.200838</td>\n",
              "      <td>0.679685</td>\n",
              "    </tr>\n",
              "    <tr>\n",
              "      <th>17</th>\n",
              "      <td>0.098971</td>\n",
              "      <td>0.001837</td>\n",
              "    </tr>\n",
              "    <tr>\n",
              "      <th>4</th>\n",
              "      <td>-0.591255</td>\n",
              "      <td>0.244776</td>\n",
              "    </tr>\n",
              "    <tr>\n",
              "      <th>7</th>\n",
              "      <td>-0.610558</td>\n",
              "      <td>1.015862</td>\n",
              "    </tr>\n",
              "    <tr>\n",
              "      <th>2</th>\n",
              "      <td>-0.688643</td>\n",
              "      <td>0.766366</td>\n",
              "    </tr>\n",
              "    <tr>\n",
              "      <th>13</th>\n",
              "      <td>-0.950794</td>\n",
              "      <td>-0.860914</td>\n",
              "    </tr>\n",
              "    <tr>\n",
              "      <th>12</th>\n",
              "      <td>-0.952580</td>\n",
              "      <td>0.723878</td>\n",
              "    </tr>\n",
              "    <tr>\n",
              "      <th>8</th>\n",
              "      <td>-1.607010</td>\n",
              "      <td>-0.159795</td>\n",
              "    </tr>\n",
              "    <tr>\n",
              "      <th>0</th>\n",
              "      <td>-2.525442</td>\n",
              "      <td>0.906248</td>\n",
              "    </tr>\n",
              "  </tbody>\n",
              "</table>\n",
              "</div>"
            ],
            "text/plain": [
              "           A         B\n",
              "1   1.860360 -1.510692\n",
              "11  1.561737  1.100469\n",
              "18  1.434865 -0.203898\n",
              "10  1.319724 -0.009041\n",
              "16  1.281050  0.182438\n",
              "14  1.200663  0.129433\n",
              "3   1.124912  0.277079\n",
              "5   0.992732  0.195306\n",
              "9   0.386031 -1.330817\n",
              "6   0.324344 -1.349643\n",
              "15  0.211651  0.774464\n",
              "19  0.200838  0.679685\n",
              "17  0.098971  0.001837\n",
              "4  -0.591255  0.244776\n",
              "7  -0.610558  1.015862\n",
              "2  -0.688643  0.766366\n",
              "13 -0.950794 -0.860914\n",
              "12 -0.952580  0.723878\n",
              "8  -1.607010 -0.159795\n",
              "0  -2.525442  0.906248"
            ]
          },
          "metadata": {
            "tags": []
          },
          "execution_count": 17
        }
      ]
    },
    {
      "cell_type": "code",
      "metadata": {
        "ExecuteTime": {
          "end_time": "2018-12-28T11:29:43.703598Z",
          "start_time": "2018-12-28T11:29:43.591008Z"
        },
        "id": "iXNnMhVgT-Cn",
        "colab_type": "code",
        "outputId": "4e85f1e8-bbe6-49ae-f83f-2b6def20b289",
        "colab": {
          "base_uri": "https://localhost:8080/"
        }
      },
      "source": [
        "df.sort_index(axis=1, ascending=False) # Sort based on columns, again,by default sorts the col names"
      ],
      "execution_count": 0,
      "outputs": [
        {
          "output_type": "execute_result",
          "data": {
            "text/html": [
              "<div>\n",
              "<style scoped>\n",
              "    .dataframe tbody tr th:only-of-type {\n",
              "        vertical-align: middle;\n",
              "    }\n",
              "\n",
              "    .dataframe tbody tr th {\n",
              "        vertical-align: top;\n",
              "    }\n",
              "\n",
              "    .dataframe thead th {\n",
              "        text-align: right;\n",
              "    }\n",
              "</style>\n",
              "<table border=\"1\" class=\"dataframe\">\n",
              "  <thead>\n",
              "    <tr style=\"text-align: right;\">\n",
              "      <th></th>\n",
              "      <th>B</th>\n",
              "      <th>A</th>\n",
              "    </tr>\n",
              "  </thead>\n",
              "  <tbody>\n",
              "    <tr>\n",
              "      <th>0</th>\n",
              "      <td>0.906248</td>\n",
              "      <td>-2.525442</td>\n",
              "    </tr>\n",
              "    <tr>\n",
              "      <th>1</th>\n",
              "      <td>-1.510692</td>\n",
              "      <td>1.860360</td>\n",
              "    </tr>\n",
              "    <tr>\n",
              "      <th>2</th>\n",
              "      <td>0.766366</td>\n",
              "      <td>-0.688643</td>\n",
              "    </tr>\n",
              "    <tr>\n",
              "      <th>3</th>\n",
              "      <td>0.277079</td>\n",
              "      <td>1.124912</td>\n",
              "    </tr>\n",
              "    <tr>\n",
              "      <th>4</th>\n",
              "      <td>0.244776</td>\n",
              "      <td>-0.591255</td>\n",
              "    </tr>\n",
              "    <tr>\n",
              "      <th>5</th>\n",
              "      <td>0.195306</td>\n",
              "      <td>0.992732</td>\n",
              "    </tr>\n",
              "    <tr>\n",
              "      <th>6</th>\n",
              "      <td>-1.349643</td>\n",
              "      <td>0.324344</td>\n",
              "    </tr>\n",
              "    <tr>\n",
              "      <th>7</th>\n",
              "      <td>1.015862</td>\n",
              "      <td>-0.610558</td>\n",
              "    </tr>\n",
              "    <tr>\n",
              "      <th>8</th>\n",
              "      <td>-0.159795</td>\n",
              "      <td>-1.607010</td>\n",
              "    </tr>\n",
              "    <tr>\n",
              "      <th>9</th>\n",
              "      <td>-1.330817</td>\n",
              "      <td>0.386031</td>\n",
              "    </tr>\n",
              "    <tr>\n",
              "      <th>10</th>\n",
              "      <td>-0.009041</td>\n",
              "      <td>1.319724</td>\n",
              "    </tr>\n",
              "    <tr>\n",
              "      <th>11</th>\n",
              "      <td>1.100469</td>\n",
              "      <td>1.561737</td>\n",
              "    </tr>\n",
              "    <tr>\n",
              "      <th>12</th>\n",
              "      <td>0.723878</td>\n",
              "      <td>-0.952580</td>\n",
              "    </tr>\n",
              "    <tr>\n",
              "      <th>13</th>\n",
              "      <td>-0.860914</td>\n",
              "      <td>-0.950794</td>\n",
              "    </tr>\n",
              "    <tr>\n",
              "      <th>14</th>\n",
              "      <td>0.129433</td>\n",
              "      <td>1.200663</td>\n",
              "    </tr>\n",
              "    <tr>\n",
              "      <th>15</th>\n",
              "      <td>0.774464</td>\n",
              "      <td>0.211651</td>\n",
              "    </tr>\n",
              "    <tr>\n",
              "      <th>16</th>\n",
              "      <td>0.182438</td>\n",
              "      <td>1.281050</td>\n",
              "    </tr>\n",
              "    <tr>\n",
              "      <th>17</th>\n",
              "      <td>0.001837</td>\n",
              "      <td>0.098971</td>\n",
              "    </tr>\n",
              "    <tr>\n",
              "      <th>18</th>\n",
              "      <td>-0.203898</td>\n",
              "      <td>1.434865</td>\n",
              "    </tr>\n",
              "    <tr>\n",
              "      <th>19</th>\n",
              "      <td>0.679685</td>\n",
              "      <td>0.200838</td>\n",
              "    </tr>\n",
              "  </tbody>\n",
              "</table>\n",
              "</div>"
            ],
            "text/plain": [
              "           B         A\n",
              "0   0.906248 -2.525442\n",
              "1  -1.510692  1.860360\n",
              "2   0.766366 -0.688643\n",
              "3   0.277079  1.124912\n",
              "4   0.244776 -0.591255\n",
              "5   0.195306  0.992732\n",
              "6  -1.349643  0.324344\n",
              "7   1.015862 -0.610558\n",
              "8  -0.159795 -1.607010\n",
              "9  -1.330817  0.386031\n",
              "10 -0.009041  1.319724\n",
              "11  1.100469  1.561737\n",
              "12  0.723878 -0.952580\n",
              "13 -0.860914 -0.950794\n",
              "14  0.129433  1.200663\n",
              "15  0.774464  0.211651\n",
              "16  0.182438  1.281050\n",
              "17  0.001837  0.098971\n",
              "18 -0.203898  1.434865\n",
              "19  0.679685  0.200838"
            ]
          },
          "metadata": {
            "tags": []
          },
          "execution_count": 18
        }
      ]
    },
    {
      "cell_type": "markdown",
      "metadata": {
        "id": "b_-ZMqb6T-C3",
        "colab_type": "text"
      },
      "source": [
        "## Selection ( also called indexing)"
      ]
    },
    {
      "cell_type": "markdown",
      "metadata": {
        "id": "yvdtQkpkT-C3",
        "colab_type": "text"
      },
      "source": [
        "### Selection by Position"
      ]
    },
    {
      "cell_type": "markdown",
      "metadata": {
        "id": "C1OoSQ4wT-C3",
        "colab_type": "text"
      },
      "source": [
        ".iloc is primarily integer position based (from 0 to length of the axis -1 ), but may also be used with a boolean array.\n",
        "\n",
        ".iloc will raise IndexError if a requested indexer is out-of-bounds, except slice indexers which allow out-of-bounds indexing."
      ]
    },
    {
      "cell_type": "code",
      "metadata": {
        "ExecuteTime": {
          "end_time": "2018-12-28T11:29:44.886061Z",
          "start_time": "2018-12-28T11:29:44.873661Z"
        },
        "id": "ZFAv4WwfT-C3",
        "colab_type": "code",
        "outputId": "b442a375-030e-4ace-afdf-32cdfd1e5b11",
        "colab": {
          "base_uri": "https://localhost:8080/"
        }
      },
      "source": [
        "df.iloc[3:5,0:2]"
      ],
      "execution_count": 0,
      "outputs": [
        {
          "output_type": "execute_result",
          "data": {
            "text/html": [
              "<div>\n",
              "<style scoped>\n",
              "    .dataframe tbody tr th:only-of-type {\n",
              "        vertical-align: middle;\n",
              "    }\n",
              "\n",
              "    .dataframe tbody tr th {\n",
              "        vertical-align: top;\n",
              "    }\n",
              "\n",
              "    .dataframe thead th {\n",
              "        text-align: right;\n",
              "    }\n",
              "</style>\n",
              "<table border=\"1\" class=\"dataframe\">\n",
              "  <thead>\n",
              "    <tr style=\"text-align: right;\">\n",
              "      <th></th>\n",
              "      <th>A</th>\n",
              "      <th>B</th>\n",
              "    </tr>\n",
              "  </thead>\n",
              "  <tbody>\n",
              "    <tr>\n",
              "      <th>3</th>\n",
              "      <td>1.124912</td>\n",
              "      <td>0.277079</td>\n",
              "    </tr>\n",
              "    <tr>\n",
              "      <th>4</th>\n",
              "      <td>-0.591255</td>\n",
              "      <td>0.244776</td>\n",
              "    </tr>\n",
              "  </tbody>\n",
              "</table>\n",
              "</div>"
            ],
            "text/plain": [
              "          A         B\n",
              "3  1.124912  0.277079\n",
              "4 -0.591255  0.244776"
            ]
          },
          "metadata": {
            "tags": []
          },
          "execution_count": 19
        }
      ]
    },
    {
      "cell_type": "markdown",
      "metadata": {
        "id": "CFkKkkvIT-DG",
        "colab_type": "text"
      },
      "source": [
        "### Selection by Label"
      ]
    },
    {
      "cell_type": "markdown",
      "metadata": {
        "id": "3IQJqUWuT-DG",
        "colab_type": "text"
      },
      "source": [
        "- .loc is primarily label based, but may also be used with a boolean array. .loc will raise KeyError when the items are not found. "
      ]
    },
    {
      "cell_type": "markdown",
      "metadata": {
        "id": "Ft0-vsqMT-DG",
        "colab_type": "text"
      },
      "source": [
        "- label slicing, both endpoints are included"
      ]
    },
    {
      "cell_type": "code",
      "metadata": {
        "ExecuteTime": {
          "end_time": "2018-12-28T11:29:46.177685Z",
          "start_time": "2018-12-28T11:29:46.163260Z"
        },
        "id": "wXob_nb9T-DG",
        "colab_type": "code",
        "outputId": "1f09e6a8-4810-4a1f-b1ca-4f5065d3c0d0",
        "colab": {
          "base_uri": "https://localhost:8080/"
        }
      },
      "source": [
        "df.loc[range(3),['A','B']]"
      ],
      "execution_count": 0,
      "outputs": [
        {
          "output_type": "execute_result",
          "data": {
            "text/html": [
              "<div>\n",
              "<style scoped>\n",
              "    .dataframe tbody tr th:only-of-type {\n",
              "        vertical-align: middle;\n",
              "    }\n",
              "\n",
              "    .dataframe tbody tr th {\n",
              "        vertical-align: top;\n",
              "    }\n",
              "\n",
              "    .dataframe thead th {\n",
              "        text-align: right;\n",
              "    }\n",
              "</style>\n",
              "<table border=\"1\" class=\"dataframe\">\n",
              "  <thead>\n",
              "    <tr style=\"text-align: right;\">\n",
              "      <th></th>\n",
              "      <th>A</th>\n",
              "      <th>B</th>\n",
              "    </tr>\n",
              "  </thead>\n",
              "  <tbody>\n",
              "    <tr>\n",
              "      <th>0</th>\n",
              "      <td>-2.525442</td>\n",
              "      <td>0.906248</td>\n",
              "    </tr>\n",
              "    <tr>\n",
              "      <th>1</th>\n",
              "      <td>1.860360</td>\n",
              "      <td>-1.510692</td>\n",
              "    </tr>\n",
              "    <tr>\n",
              "      <th>2</th>\n",
              "      <td>-0.688643</td>\n",
              "      <td>0.766366</td>\n",
              "    </tr>\n",
              "  </tbody>\n",
              "</table>\n",
              "</div>"
            ],
            "text/plain": [
              "          A         B\n",
              "0 -2.525442  0.906248\n",
              "1  1.860360 -1.510692\n",
              "2 -0.688643  0.766366"
            ]
          },
          "metadata": {
            "tags": []
          },
          "execution_count": 20
        }
      ]
    },
    {
      "cell_type": "markdown",
      "metadata": {
        "id": "spqFoZWnT-DG",
        "colab_type": "text"
      },
      "source": [
        "# Operations on dataset"
      ]
    },
    {
      "cell_type": "markdown",
      "metadata": {
        "id": "IE6i84ROT-DG",
        "colab_type": "text"
      },
      "source": [
        "## Load data"
      ]
    },
    {
      "cell_type": "markdown",
      "metadata": {
        "id": "FXB2VSjdT-DG",
        "colab_type": "text"
      },
      "source": [
        "### german credit data 1"
      ]
    },
    {
      "cell_type": "code",
      "metadata": {
        "ExecuteTime": {
          "end_time": "2018-12-28T11:29:47.289746Z",
          "start_time": "2018-12-28T11:29:47.285708Z"
        },
        "id": "AgDM3VVHT-DG",
        "colab_type": "code",
        "colab": {}
      },
      "source": [
        "import pandas as pd"
      ],
      "execution_count": 0,
      "outputs": []
    },
    {
      "cell_type": "code",
      "metadata": {
        "ExecuteTime": {
          "end_time": "2018-12-28T11:29:47.433544Z",
          "start_time": "2018-12-28T11:29:47.296620Z"
        },
        "id": "LPqy_2E2T-DW",
        "colab_type": "code",
        "colab": {}
      },
      "source": [
        "german_credit_1 = pd.read_csv(\"/content/drive/My Drive/Datasets/Python/German-Credit_1.csv\")"
      ],
      "execution_count": 0,
      "outputs": []
    },
    {
      "cell_type": "markdown",
      "metadata": {
        "id": "ibRYCzD7T-DW",
        "colab_type": "text"
      },
      "source": [
        "## Exploration"
      ]
    },
    {
      "cell_type": "markdown",
      "metadata": {
        "id": "vlYr0ApJT-DW",
        "colab_type": "text"
      },
      "source": [
        "### Print the column names"
      ]
    },
    {
      "cell_type": "code",
      "metadata": {
        "ExecuteTime": {
          "end_time": "2018-12-28T11:29:48.219744Z",
          "start_time": "2018-12-28T11:29:48.212235Z"
        },
        "id": "UGQ-Pd6FT-DW",
        "colab_type": "code",
        "outputId": "07e31138-d0e5-4abb-94b7-7d5d71c36abd",
        "colab": {
          "base_uri": "https://localhost:8080/",
          "height": 119
        }
      },
      "source": [
        "german_credit_1.columns"
      ],
      "execution_count": 0,
      "outputs": [
        {
          "output_type": "execute_result",
          "data": {
            "text/plain": [
              "Index(['OBS', 'DURATION', 'NEW_CAR', 'USED_CAR', 'FURNITURE', 'RADIO_TV',\n",
              "       'EDUCATION', 'RETRAINING', 'AMOUNT', 'INSTALL_RATE', 'CO_APPLICANT',\n",
              "       'GUARANTOR', 'REAL_ESTATE', 'PROP_UNKN_NONE', 'AGE', 'OTHER_INSTALL',\n",
              "       'RENT', 'OWN_RES', 'NUM_CREDITS', 'NUM_DEPENDENTS', 'TELEPHONE',\n",
              "       'FOREIGN', 'RESPONSE'],\n",
              "      dtype='object')"
            ]
          },
          "metadata": {
            "tags": []
          },
          "execution_count": 23
        }
      ]
    },
    {
      "cell_type": "markdown",
      "metadata": {
        "id": "JBia1ws0T-DW",
        "colab_type": "text"
      },
      "source": [
        "### Print the data types"
      ]
    },
    {
      "cell_type": "code",
      "metadata": {
        "ExecuteTime": {
          "end_time": "2018-12-28T11:29:48.633369Z",
          "start_time": "2018-12-28T11:29:48.625901Z"
        },
        "id": "uUwGC5AST-Dl",
        "colab_type": "code",
        "outputId": "529c70c6-ce08-4383-9319-8203573af9ae",
        "colab": {
          "base_uri": "https://localhost:8080/"
        }
      },
      "source": [
        "german_credit_1.dtypes"
      ],
      "execution_count": 0,
      "outputs": [
        {
          "output_type": "execute_result",
          "data": {
            "text/plain": [
              "OBS                 int64\n",
              "DURATION          float64\n",
              "NEW_CAR           float64\n",
              "USED_CAR          float64\n",
              "FURNITURE         float64\n",
              "RADIO_TV          float64\n",
              "EDUCATION         float64\n",
              "RETRAINING        float64\n",
              "AMOUNT            float64\n",
              "INSTALL_RATE      float64\n",
              "CO_APPLICANT      float64\n",
              "GUARANTOR         float64\n",
              "REAL_ESTATE       float64\n",
              "PROP_UNKN_NONE    float64\n",
              "AGE               float64\n",
              "OTHER_INSTALL     float64\n",
              "RENT              float64\n",
              "OWN_RES           float64\n",
              "NUM_CREDITS       float64\n",
              "NUM_DEPENDENTS    float64\n",
              "TELEPHONE         float64\n",
              "FOREIGN           float64\n",
              "RESPONSE          float64\n",
              "dtype: object"
            ]
          },
          "metadata": {
            "tags": []
          },
          "execution_count": 24
        }
      ]
    },
    {
      "cell_type": "markdown",
      "metadata": {
        "id": "haawxQumT-Dl",
        "colab_type": "text"
      },
      "source": [
        "### Print the first few columns"
      ]
    },
    {
      "cell_type": "code",
      "metadata": {
        "ExecuteTime": {
          "end_time": "2018-12-28T11:29:49.101067Z",
          "start_time": "2018-12-28T11:29:49.046792Z"
        },
        "id": "WdI2Xt5DT-Dl",
        "colab_type": "code",
        "outputId": "6e99c4f5-dafe-4673-ac72-57b167e0b45b",
        "colab": {
          "base_uri": "https://localhost:8080/"
        }
      },
      "source": [
        "german_credit_1.head()"
      ],
      "execution_count": 0,
      "outputs": [
        {
          "output_type": "execute_result",
          "data": {
            "text/html": [
              "<div>\n",
              "<style scoped>\n",
              "    .dataframe tbody tr th:only-of-type {\n",
              "        vertical-align: middle;\n",
              "    }\n",
              "\n",
              "    .dataframe tbody tr th {\n",
              "        vertical-align: top;\n",
              "    }\n",
              "\n",
              "    .dataframe thead th {\n",
              "        text-align: right;\n",
              "    }\n",
              "</style>\n",
              "<table border=\"1\" class=\"dataframe\">\n",
              "  <thead>\n",
              "    <tr style=\"text-align: right;\">\n",
              "      <th></th>\n",
              "      <th>OBS</th>\n",
              "      <th>DURATION</th>\n",
              "      <th>NEW_CAR</th>\n",
              "      <th>USED_CAR</th>\n",
              "      <th>FURNITURE</th>\n",
              "      <th>RADIO_TV</th>\n",
              "      <th>EDUCATION</th>\n",
              "      <th>RETRAINING</th>\n",
              "      <th>AMOUNT</th>\n",
              "      <th>INSTALL_RATE</th>\n",
              "      <th>CO_APPLICANT</th>\n",
              "      <th>GUARANTOR</th>\n",
              "      <th>REAL_ESTATE</th>\n",
              "      <th>PROP_UNKN_NONE</th>\n",
              "      <th>AGE</th>\n",
              "      <th>OTHER_INSTALL</th>\n",
              "      <th>RENT</th>\n",
              "      <th>OWN_RES</th>\n",
              "      <th>NUM_CREDITS</th>\n",
              "      <th>NUM_DEPENDENTS</th>\n",
              "      <th>TELEPHONE</th>\n",
              "      <th>FOREIGN</th>\n",
              "      <th>RESPONSE</th>\n",
              "    </tr>\n",
              "  </thead>\n",
              "  <tbody>\n",
              "    <tr>\n",
              "      <th>0</th>\n",
              "      <td>1</td>\n",
              "      <td>6.0</td>\n",
              "      <td>0.0</td>\n",
              "      <td>0.0</td>\n",
              "      <td>0.0</td>\n",
              "      <td>1.0</td>\n",
              "      <td>0.0</td>\n",
              "      <td>0.0</td>\n",
              "      <td>1169.0</td>\n",
              "      <td>4.0</td>\n",
              "      <td>0.0</td>\n",
              "      <td>0.0</td>\n",
              "      <td>1.0</td>\n",
              "      <td>0.0</td>\n",
              "      <td>67.0</td>\n",
              "      <td>0.0</td>\n",
              "      <td>0.0</td>\n",
              "      <td>1.0</td>\n",
              "      <td>2.0</td>\n",
              "      <td>1.0</td>\n",
              "      <td>1.0</td>\n",
              "      <td>0.0</td>\n",
              "      <td>1.0</td>\n",
              "    </tr>\n",
              "    <tr>\n",
              "      <th>1</th>\n",
              "      <td>2</td>\n",
              "      <td>48.0</td>\n",
              "      <td>0.0</td>\n",
              "      <td>0.0</td>\n",
              "      <td>0.0</td>\n",
              "      <td>1.0</td>\n",
              "      <td>0.0</td>\n",
              "      <td>0.0</td>\n",
              "      <td>5951.0</td>\n",
              "      <td>2.0</td>\n",
              "      <td>0.0</td>\n",
              "      <td>0.0</td>\n",
              "      <td>1.0</td>\n",
              "      <td>0.0</td>\n",
              "      <td>22.0</td>\n",
              "      <td>0.0</td>\n",
              "      <td>0.0</td>\n",
              "      <td>1.0</td>\n",
              "      <td>1.0</td>\n",
              "      <td>1.0</td>\n",
              "      <td>0.0</td>\n",
              "      <td>0.0</td>\n",
              "      <td>0.0</td>\n",
              "    </tr>\n",
              "    <tr>\n",
              "      <th>2</th>\n",
              "      <td>3</td>\n",
              "      <td>12.0</td>\n",
              "      <td>0.0</td>\n",
              "      <td>0.0</td>\n",
              "      <td>0.0</td>\n",
              "      <td>0.0</td>\n",
              "      <td>1.0</td>\n",
              "      <td>0.0</td>\n",
              "      <td>2096.0</td>\n",
              "      <td>2.0</td>\n",
              "      <td>0.0</td>\n",
              "      <td>0.0</td>\n",
              "      <td>1.0</td>\n",
              "      <td>0.0</td>\n",
              "      <td>49.0</td>\n",
              "      <td>0.0</td>\n",
              "      <td>0.0</td>\n",
              "      <td>1.0</td>\n",
              "      <td>1.0</td>\n",
              "      <td>2.0</td>\n",
              "      <td>0.0</td>\n",
              "      <td>0.0</td>\n",
              "      <td>1.0</td>\n",
              "    </tr>\n",
              "    <tr>\n",
              "      <th>3</th>\n",
              "      <td>4</td>\n",
              "      <td>42.0</td>\n",
              "      <td>0.0</td>\n",
              "      <td>0.0</td>\n",
              "      <td>1.0</td>\n",
              "      <td>0.0</td>\n",
              "      <td>0.0</td>\n",
              "      <td>0.0</td>\n",
              "      <td>7882.0</td>\n",
              "      <td>2.0</td>\n",
              "      <td>0.0</td>\n",
              "      <td>1.0</td>\n",
              "      <td>0.0</td>\n",
              "      <td>0.0</td>\n",
              "      <td>45.0</td>\n",
              "      <td>0.0</td>\n",
              "      <td>0.0</td>\n",
              "      <td>0.0</td>\n",
              "      <td>1.0</td>\n",
              "      <td>2.0</td>\n",
              "      <td>0.0</td>\n",
              "      <td>0.0</td>\n",
              "      <td>1.0</td>\n",
              "    </tr>\n",
              "    <tr>\n",
              "      <th>4</th>\n",
              "      <td>5</td>\n",
              "      <td>24.0</td>\n",
              "      <td>1.0</td>\n",
              "      <td>0.0</td>\n",
              "      <td>0.0</td>\n",
              "      <td>0.0</td>\n",
              "      <td>0.0</td>\n",
              "      <td>0.0</td>\n",
              "      <td>4870.0</td>\n",
              "      <td>3.0</td>\n",
              "      <td>0.0</td>\n",
              "      <td>0.0</td>\n",
              "      <td>0.0</td>\n",
              "      <td>1.0</td>\n",
              "      <td>53.0</td>\n",
              "      <td>0.0</td>\n",
              "      <td>0.0</td>\n",
              "      <td>0.0</td>\n",
              "      <td>2.0</td>\n",
              "      <td>2.0</td>\n",
              "      <td>0.0</td>\n",
              "      <td>0.0</td>\n",
              "      <td>0.0</td>\n",
              "    </tr>\n",
              "  </tbody>\n",
              "</table>\n",
              "</div>"
            ],
            "text/plain": [
              "   OBS  DURATION  NEW_CAR  ...  TELEPHONE  FOREIGN  RESPONSE\n",
              "0    1       6.0      0.0  ...        1.0      0.0       1.0\n",
              "1    2      48.0      0.0  ...        0.0      0.0       0.0\n",
              "2    3      12.0      0.0  ...        0.0      0.0       1.0\n",
              "3    4      42.0      0.0  ...        0.0      0.0       1.0\n",
              "4    5      24.0      1.0  ...        0.0      0.0       0.0\n",
              "\n",
              "[5 rows x 23 columns]"
            ]
          },
          "metadata": {
            "tags": []
          },
          "execution_count": 25
        }
      ]
    },
    {
      "cell_type": "markdown",
      "metadata": {
        "id": "Zuqhc-MLT-Dl",
        "colab_type": "text"
      },
      "source": [
        "### Check the shape"
      ]
    },
    {
      "cell_type": "code",
      "metadata": {
        "ExecuteTime": {
          "end_time": "2018-12-28T11:29:50.036523Z",
          "start_time": "2018-12-28T11:29:50.030570Z"
        },
        "id": "ii6GiSvHT-Dl",
        "colab_type": "code",
        "outputId": "d23c814b-70fa-4059-a3c2-9df819ce51b8",
        "colab": {
          "base_uri": "https://localhost:8080/"
        }
      },
      "source": [
        "german_credit_1.shape"
      ],
      "execution_count": 0,
      "outputs": [
        {
          "output_type": "execute_result",
          "data": {
            "text/plain": [
              "(1000, 23)"
            ]
          },
          "metadata": {
            "tags": []
          },
          "execution_count": 26
        }
      ]
    },
    {
      "cell_type": "markdown",
      "metadata": {
        "id": "ahbazSD8T-D1",
        "colab_type": "text"
      },
      "source": [
        "### Load german credit data 2"
      ]
    },
    {
      "cell_type": "code",
      "metadata": {
        "ExecuteTime": {
          "end_time": "2018-12-28T11:29:50.473499Z",
          "start_time": "2018-12-28T11:29:50.463082Z"
        },
        "id": "znu6WKxZT-D1",
        "colab_type": "code",
        "colab": {}
      },
      "source": [
        "german_credit_2 = pd.read_csv(\"/content/drive/My Drive/Datasets/Python/German-Credit_2.csv\")"
      ],
      "execution_count": 0,
      "outputs": []
    },
    {
      "cell_type": "code",
      "metadata": {
        "ExecuteTime": {
          "end_time": "2018-12-28T11:29:50.608908Z",
          "start_time": "2018-12-28T11:29:50.476972Z"
        },
        "id": "8ERKXw9gT-D1",
        "colab_type": "code",
        "outputId": "aeb4c0e7-030d-4e17-efaf-1f957a47d6c5",
        "colab": {
          "base_uri": "https://localhost:8080/",
          "height": 34
        }
      },
      "source": [
        "german_credit_2.shape"
      ],
      "execution_count": 0,
      "outputs": [
        {
          "output_type": "execute_result",
          "data": {
            "text/plain": [
              "(1000, 7)"
            ]
          },
          "metadata": {
            "tags": []
          },
          "execution_count": 28
        }
      ]
    },
    {
      "cell_type": "code",
      "metadata": {
        "ExecuteTime": {
          "end_time": "2018-12-28T11:29:50.739353Z",
          "start_time": "2018-12-28T11:29:50.611883Z"
        },
        "id": "NL9lUSS6T-D1",
        "colab_type": "code",
        "outputId": "fb6b6fed-f2a7-46af-8596-44c586349ddd",
        "colab": {
          "base_uri": "https://localhost:8080/",
          "height": 204
        }
      },
      "source": [
        "german_credit_2.head()"
      ],
      "execution_count": 0,
      "outputs": [
        {
          "output_type": "execute_result",
          "data": {
            "text/html": [
              "<div>\n",
              "<style scoped>\n",
              "    .dataframe tbody tr th:only-of-type {\n",
              "        vertical-align: middle;\n",
              "    }\n",
              "\n",
              "    .dataframe tbody tr th {\n",
              "        vertical-align: top;\n",
              "    }\n",
              "\n",
              "    .dataframe thead th {\n",
              "        text-align: right;\n",
              "    }\n",
              "</style>\n",
              "<table border=\"1\" class=\"dataframe\">\n",
              "  <thead>\n",
              "    <tr style=\"text-align: right;\">\n",
              "      <th></th>\n",
              "      <th>OBS</th>\n",
              "      <th>CHK_ACCT</th>\n",
              "      <th>HISTORY</th>\n",
              "      <th>SAV_ACCT</th>\n",
              "      <th>EMPLOYMENT</th>\n",
              "      <th>PRESENT_RESIDENT</th>\n",
              "      <th>JOB</th>\n",
              "    </tr>\n",
              "  </thead>\n",
              "  <tbody>\n",
              "    <tr>\n",
              "      <th>0</th>\n",
              "      <td>1</td>\n",
              "      <td>0</td>\n",
              "      <td>4</td>\n",
              "      <td>4</td>\n",
              "      <td>4</td>\n",
              "      <td>4</td>\n",
              "      <td>2</td>\n",
              "    </tr>\n",
              "    <tr>\n",
              "      <th>1</th>\n",
              "      <td>2</td>\n",
              "      <td>1</td>\n",
              "      <td>2</td>\n",
              "      <td>0</td>\n",
              "      <td>2</td>\n",
              "      <td>2</td>\n",
              "      <td>2</td>\n",
              "    </tr>\n",
              "    <tr>\n",
              "      <th>2</th>\n",
              "      <td>3</td>\n",
              "      <td>3</td>\n",
              "      <td>4</td>\n",
              "      <td>0</td>\n",
              "      <td>3</td>\n",
              "      <td>3</td>\n",
              "      <td>1</td>\n",
              "    </tr>\n",
              "    <tr>\n",
              "      <th>3</th>\n",
              "      <td>4</td>\n",
              "      <td>0</td>\n",
              "      <td>2</td>\n",
              "      <td>0</td>\n",
              "      <td>3</td>\n",
              "      <td>4</td>\n",
              "      <td>2</td>\n",
              "    </tr>\n",
              "    <tr>\n",
              "      <th>4</th>\n",
              "      <td>5</td>\n",
              "      <td>0</td>\n",
              "      <td>3</td>\n",
              "      <td>0</td>\n",
              "      <td>2</td>\n",
              "      <td>4</td>\n",
              "      <td>2</td>\n",
              "    </tr>\n",
              "  </tbody>\n",
              "</table>\n",
              "</div>"
            ],
            "text/plain": [
              "   OBS  CHK_ACCT  HISTORY  SAV_ACCT  EMPLOYMENT  PRESENT_RESIDENT  JOB\n",
              "0    1         0        4         4           4                 4    2\n",
              "1    2         1        2         0           2                 2    2\n",
              "2    3         3        4         0           3                 3    1\n",
              "3    4         0        2         0           3                 4    2\n",
              "4    5         0        3         0           2                 4    2"
            ]
          },
          "metadata": {
            "tags": []
          },
          "execution_count": 29
        }
      ]
    },
    {
      "cell_type": "markdown",
      "metadata": {
        "id": "Lc3ZnFhvT-EF",
        "colab_type": "text"
      },
      "source": [
        "### Merge the two datasets"
      ]
    },
    {
      "cell_type": "code",
      "metadata": {
        "ExecuteTime": {
          "end_time": "2018-12-28T11:29:50.916536Z",
          "start_time": "2018-12-28T11:29:50.906011Z"
        },
        "id": "stI9G-BTT-EF",
        "colab_type": "code",
        "colab": {}
      },
      "source": [
        "df3 = german_credit_1.merge(german_credit_2,on=['OBS'])"
      ],
      "execution_count": 0,
      "outputs": []
    },
    {
      "cell_type": "code",
      "metadata": {
        "ExecuteTime": {
          "end_time": "2018-12-28T11:29:51.046404Z",
          "start_time": "2018-12-28T11:29:50.919402Z"
        },
        "id": "oSRhVfncT-EF",
        "colab_type": "code",
        "outputId": "11d17278-7fad-41c6-d009-5ad3028cf9fc",
        "colab": {
          "base_uri": "https://localhost:8080/"
        }
      },
      "source": [
        "df3.shape"
      ],
      "execution_count": 0,
      "outputs": [
        {
          "output_type": "execute_result",
          "data": {
            "text/plain": [
              "(1000, 29)"
            ]
          },
          "metadata": {
            "tags": []
          },
          "execution_count": 31
        }
      ]
    },
    {
      "cell_type": "markdown",
      "metadata": {
        "id": "EY91-K31T-EF",
        "colab_type": "text"
      },
      "source": [
        "###  Numeric attributes"
      ]
    },
    {
      "cell_type": "code",
      "metadata": {
        "ExecuteTime": {
          "end_time": "2018-12-28T11:29:51.363818Z",
          "start_time": "2018-12-28T11:29:51.359354Z"
        },
        "id": "TEcM-CdaT-EV",
        "colab_type": "code",
        "colab": {}
      },
      "source": [
        "num_attr = [\"DURATION\",\"AMOUNT\",\"INSTALL_RATE\",\"AGE\",\"NUM_CREDITS\",\"NUM_DEPENDENTS\"]"
      ],
      "execution_count": 0,
      "outputs": []
    },
    {
      "cell_type": "code",
      "metadata": {
        "ExecuteTime": {
          "end_time": "2018-12-28T11:29:51.488810Z",
          "start_time": "2018-12-28T11:29:51.375723Z"
        },
        "id": "7JZpL4Q_T-EV",
        "colab_type": "code",
        "outputId": "db98296b-f24d-4bbe-9fee-57a9597f6b2f",
        "colab": {
          "base_uri": "https://localhost:8080/"
        }
      },
      "source": [
        "num_attr"
      ],
      "execution_count": 0,
      "outputs": [
        {
          "output_type": "execute_result",
          "data": {
            "text/plain": [
              "['DURATION', 'AMOUNT', 'INSTALL_RATE', 'AGE', 'NUM_CREDITS', 'NUM_DEPENDENTS']"
            ]
          },
          "metadata": {
            "tags": []
          },
          "execution_count": 33
        }
      ]
    },
    {
      "cell_type": "markdown",
      "metadata": {
        "id": "XHhtWCByT-EV",
        "colab_type": "text"
      },
      "source": [
        "### Categorical Attributes"
      ]
    },
    {
      "cell_type": "code",
      "metadata": {
        "ExecuteTime": {
          "end_time": "2018-12-28T11:29:51.799803Z",
          "start_time": "2018-12-28T11:29:51.795338Z"
        },
        "id": "rE1Ki35eT-EV",
        "colab_type": "code",
        "colab": {}
      },
      "source": [
        "cat_attr = [i for i in df3.columns.values if i not in num_attr]"
      ],
      "execution_count": 0,
      "outputs": []
    },
    {
      "cell_type": "markdown",
      "metadata": {
        "id": "OqkLlY62T-El",
        "colab_type": "text"
      },
      "source": [
        "###  Function to convert categorical attributes to factors"
      ]
    },
    {
      "cell_type": "code",
      "metadata": {
        "ExecuteTime": {
          "end_time": "2018-12-28T11:29:52.241271Z",
          "start_time": "2018-12-28T11:29:52.235786Z"
        },
        "id": "JMzUqhSZT-El",
        "colab_type": "code",
        "colab": {}
      },
      "source": [
        "def convert_to_categorical(dataset,col_names_to_convert):\n",
        "    \"\"\"This function converts the given list of columns to categorical columns.\n",
        "    Attributes : \n",
        "        dataset: variable name with the dataset\n",
        "        col_names_to_convert: list of column names that are to be converted to categorical format\n",
        "    Returns:\n",
        "        dataset with the converted columns.\n",
        "    \"\"\"\n",
        "    for i in col_names_to_convert:\n",
        "        try:\n",
        "            dataset[i] = dataset[i].astype(str)\n",
        "        except:\n",
        "            print(f\"Failed to convert the column {i}\")\n",
        "    return(dataset)"
      ],
      "execution_count": 0,
      "outputs": []
    },
    {
      "cell_type": "code",
      "metadata": {
        "ExecuteTime": {
          "end_time": "2018-12-28T11:29:52.470487Z",
          "start_time": "2018-12-28T11:29:52.244714Z"
        },
        "id": "_1ENz1b3T-El",
        "colab_type": "code",
        "colab": {}
      },
      "source": [
        "df3 = convert_to_categorical(df3,col_names_to_convert=cat_attr)"
      ],
      "execution_count": 0,
      "outputs": []
    },
    {
      "cell_type": "code",
      "metadata": {
        "ExecuteTime": {
          "end_time": "2018-12-28T11:29:52.579514Z",
          "start_time": "2018-12-28T11:29:52.473429Z"
        },
        "id": "01DFhksQT-E0",
        "colab_type": "code",
        "outputId": "a1c3cd3e-d306-495e-bde3-a69cffc8c592",
        "colab": {
          "base_uri": "https://localhost:8080/"
        }
      },
      "source": [
        "df3.dtypes"
      ],
      "execution_count": 0,
      "outputs": [
        {
          "output_type": "execute_result",
          "data": {
            "text/plain": [
              "OBS                  object\n",
              "DURATION            float64\n",
              "NEW_CAR              object\n",
              "USED_CAR             object\n",
              "FURNITURE            object\n",
              "RADIO_TV             object\n",
              "EDUCATION            object\n",
              "RETRAINING           object\n",
              "AMOUNT              float64\n",
              "INSTALL_RATE        float64\n",
              "CO_APPLICANT         object\n",
              "GUARANTOR            object\n",
              "REAL_ESTATE          object\n",
              "PROP_UNKN_NONE       object\n",
              "AGE                 float64\n",
              "OTHER_INSTALL        object\n",
              "RENT                 object\n",
              "OWN_RES              object\n",
              "NUM_CREDITS         float64\n",
              "NUM_DEPENDENTS      float64\n",
              "TELEPHONE            object\n",
              "FOREIGN              object\n",
              "RESPONSE             object\n",
              "CHK_ACCT             object\n",
              "HISTORY              object\n",
              "SAV_ACCT             object\n",
              "EMPLOYMENT           object\n",
              "PRESENT_RESIDENT     object\n",
              "JOB                  object\n",
              "dtype: object"
            ]
          },
          "metadata": {
            "tags": []
          },
          "execution_count": 37
        }
      ]
    },
    {
      "cell_type": "code",
      "metadata": {
        "ExecuteTime": {
          "end_time": "2018-12-28T11:29:52.730299Z",
          "start_time": "2018-12-28T11:29:52.581995Z"
        },
        "id": "EuPWuXHpT-E0",
        "colab_type": "code",
        "outputId": "7dd0a9c9-ccf1-4b07-edbd-02b7b5c39b90",
        "colab": {
          "base_uri": "https://localhost:8080/"
        }
      },
      "source": [
        "df3.describe()"
      ],
      "execution_count": 0,
      "outputs": [
        {
          "output_type": "execute_result",
          "data": {
            "text/html": [
              "<div>\n",
              "<style scoped>\n",
              "    .dataframe tbody tr th:only-of-type {\n",
              "        vertical-align: middle;\n",
              "    }\n",
              "\n",
              "    .dataframe tbody tr th {\n",
              "        vertical-align: top;\n",
              "    }\n",
              "\n",
              "    .dataframe thead th {\n",
              "        text-align: right;\n",
              "    }\n",
              "</style>\n",
              "<table border=\"1\" class=\"dataframe\">\n",
              "  <thead>\n",
              "    <tr style=\"text-align: right;\">\n",
              "      <th></th>\n",
              "      <th>DURATION</th>\n",
              "      <th>AMOUNT</th>\n",
              "      <th>INSTALL_RATE</th>\n",
              "      <th>AGE</th>\n",
              "      <th>NUM_CREDITS</th>\n",
              "      <th>NUM_DEPENDENTS</th>\n",
              "    </tr>\n",
              "  </thead>\n",
              "  <tbody>\n",
              "    <tr>\n",
              "      <th>count</th>\n",
              "      <td>998.000000</td>\n",
              "      <td>990.000000</td>\n",
              "      <td>993.000000</td>\n",
              "      <td>990.000000</td>\n",
              "      <td>994.000000</td>\n",
              "      <td>993.000000</td>\n",
              "    </tr>\n",
              "    <tr>\n",
              "      <th>mean</th>\n",
              "      <td>20.917836</td>\n",
              "      <td>3273.168687</td>\n",
              "      <td>2.972810</td>\n",
              "      <td>35.505051</td>\n",
              "      <td>1.406439</td>\n",
              "      <td>1.156093</td>\n",
              "    </tr>\n",
              "    <tr>\n",
              "      <th>std</th>\n",
              "      <td>12.064656</td>\n",
              "      <td>2826.183525</td>\n",
              "      <td>1.119055</td>\n",
              "      <td>11.342694</td>\n",
              "      <td>0.576302</td>\n",
              "      <td>0.363126</td>\n",
              "    </tr>\n",
              "    <tr>\n",
              "      <th>min</th>\n",
              "      <td>4.000000</td>\n",
              "      <td>250.000000</td>\n",
              "      <td>1.000000</td>\n",
              "      <td>19.000000</td>\n",
              "      <td>1.000000</td>\n",
              "      <td>1.000000</td>\n",
              "    </tr>\n",
              "    <tr>\n",
              "      <th>25%</th>\n",
              "      <td>12.000000</td>\n",
              "      <td>1371.250000</td>\n",
              "      <td>2.000000</td>\n",
              "      <td>27.000000</td>\n",
              "      <td>1.000000</td>\n",
              "      <td>1.000000</td>\n",
              "    </tr>\n",
              "    <tr>\n",
              "      <th>50%</th>\n",
              "      <td>18.000000</td>\n",
              "      <td>2321.500000</td>\n",
              "      <td>3.000000</td>\n",
              "      <td>33.000000</td>\n",
              "      <td>1.000000</td>\n",
              "      <td>1.000000</td>\n",
              "    </tr>\n",
              "    <tr>\n",
              "      <th>75%</th>\n",
              "      <td>24.000000</td>\n",
              "      <td>3970.500000</td>\n",
              "      <td>4.000000</td>\n",
              "      <td>42.000000</td>\n",
              "      <td>2.000000</td>\n",
              "      <td>1.000000</td>\n",
              "    </tr>\n",
              "    <tr>\n",
              "      <th>max</th>\n",
              "      <td>72.000000</td>\n",
              "      <td>18424.000000</td>\n",
              "      <td>4.000000</td>\n",
              "      <td>75.000000</td>\n",
              "      <td>4.000000</td>\n",
              "      <td>2.000000</td>\n",
              "    </tr>\n",
              "  </tbody>\n",
              "</table>\n",
              "</div>"
            ],
            "text/plain": [
              "         DURATION        AMOUNT  ...  NUM_CREDITS  NUM_DEPENDENTS\n",
              "count  998.000000    990.000000  ...   994.000000      993.000000\n",
              "mean    20.917836   3273.168687  ...     1.406439        1.156093\n",
              "std     12.064656   2826.183525  ...     0.576302        0.363126\n",
              "min      4.000000    250.000000  ...     1.000000        1.000000\n",
              "25%     12.000000   1371.250000  ...     1.000000        1.000000\n",
              "50%     18.000000   2321.500000  ...     1.000000        1.000000\n",
              "75%     24.000000   3970.500000  ...     2.000000        1.000000\n",
              "max     72.000000  18424.000000  ...     4.000000        2.000000\n",
              "\n",
              "[8 rows x 6 columns]"
            ]
          },
          "metadata": {
            "tags": []
          },
          "execution_count": 38
        }
      ]
    },
    {
      "cell_type": "code",
      "metadata": {
        "ExecuteTime": {
          "end_time": "2018-12-28T11:29:52.932697Z",
          "start_time": "2018-12-28T11:29:52.732778Z"
        },
        "id": "eO2EJZagT-FE",
        "colab_type": "code",
        "outputId": "40f1a823-b685-4863-d8dc-bdcf038a2a9a",
        "colab": {
          "base_uri": "https://localhost:8080/"
        }
      },
      "source": [
        "df3.describe(include=[np.object]).transpose() # to include the categorical columns?"
      ],
      "execution_count": 0,
      "outputs": [
        {
          "output_type": "execute_result",
          "data": {
            "text/html": [
              "<div>\n",
              "<style scoped>\n",
              "    .dataframe tbody tr th:only-of-type {\n",
              "        vertical-align: middle;\n",
              "    }\n",
              "\n",
              "    .dataframe tbody tr th {\n",
              "        vertical-align: top;\n",
              "    }\n",
              "\n",
              "    .dataframe thead th {\n",
              "        text-align: right;\n",
              "    }\n",
              "</style>\n",
              "<table border=\"1\" class=\"dataframe\">\n",
              "  <thead>\n",
              "    <tr style=\"text-align: right;\">\n",
              "      <th></th>\n",
              "      <th>count</th>\n",
              "      <th>unique</th>\n",
              "      <th>top</th>\n",
              "      <th>freq</th>\n",
              "    </tr>\n",
              "  </thead>\n",
              "  <tbody>\n",
              "    <tr>\n",
              "      <th>OBS</th>\n",
              "      <td>1000</td>\n",
              "      <td>1000</td>\n",
              "      <td>723</td>\n",
              "      <td>1</td>\n",
              "    </tr>\n",
              "    <tr>\n",
              "      <th>NEW_CAR</th>\n",
              "      <td>1000</td>\n",
              "      <td>3</td>\n",
              "      <td>0.0</td>\n",
              "      <td>765</td>\n",
              "    </tr>\n",
              "    <tr>\n",
              "      <th>USED_CAR</th>\n",
              "      <td>1000</td>\n",
              "      <td>3</td>\n",
              "      <td>0.0</td>\n",
              "      <td>896</td>\n",
              "    </tr>\n",
              "    <tr>\n",
              "      <th>FURNITURE</th>\n",
              "      <td>1000</td>\n",
              "      <td>3</td>\n",
              "      <td>0.0</td>\n",
              "      <td>819</td>\n",
              "    </tr>\n",
              "    <tr>\n",
              "      <th>RADIO_TV</th>\n",
              "      <td>1000</td>\n",
              "      <td>3</td>\n",
              "      <td>0.0</td>\n",
              "      <td>718</td>\n",
              "    </tr>\n",
              "    <tr>\n",
              "      <th>EDUCATION</th>\n",
              "      <td>1000</td>\n",
              "      <td>3</td>\n",
              "      <td>0.0</td>\n",
              "      <td>946</td>\n",
              "    </tr>\n",
              "    <tr>\n",
              "      <th>RETRAINING</th>\n",
              "      <td>1000</td>\n",
              "      <td>3</td>\n",
              "      <td>0.0</td>\n",
              "      <td>899</td>\n",
              "    </tr>\n",
              "    <tr>\n",
              "      <th>CO_APPLICANT</th>\n",
              "      <td>1000</td>\n",
              "      <td>3</td>\n",
              "      <td>0.0</td>\n",
              "      <td>951</td>\n",
              "    </tr>\n",
              "    <tr>\n",
              "      <th>GUARANTOR</th>\n",
              "      <td>1000</td>\n",
              "      <td>3</td>\n",
              "      <td>0.0</td>\n",
              "      <td>941</td>\n",
              "    </tr>\n",
              "    <tr>\n",
              "      <th>REAL_ESTATE</th>\n",
              "      <td>1000</td>\n",
              "      <td>3</td>\n",
              "      <td>0.0</td>\n",
              "      <td>713</td>\n",
              "    </tr>\n",
              "    <tr>\n",
              "      <th>PROP_UNKN_NONE</th>\n",
              "      <td>1000</td>\n",
              "      <td>3</td>\n",
              "      <td>0.0</td>\n",
              "      <td>839</td>\n",
              "    </tr>\n",
              "    <tr>\n",
              "      <th>OTHER_INSTALL</th>\n",
              "      <td>1000</td>\n",
              "      <td>3</td>\n",
              "      <td>0.0</td>\n",
              "      <td>806</td>\n",
              "    </tr>\n",
              "    <tr>\n",
              "      <th>RENT</th>\n",
              "      <td>1000</td>\n",
              "      <td>3</td>\n",
              "      <td>0.0</td>\n",
              "      <td>815</td>\n",
              "    </tr>\n",
              "    <tr>\n",
              "      <th>OWN_RES</th>\n",
              "      <td>1000</td>\n",
              "      <td>3</td>\n",
              "      <td>1.0</td>\n",
              "      <td>709</td>\n",
              "    </tr>\n",
              "    <tr>\n",
              "      <th>TELEPHONE</th>\n",
              "      <td>1000</td>\n",
              "      <td>3</td>\n",
              "      <td>0.0</td>\n",
              "      <td>594</td>\n",
              "    </tr>\n",
              "    <tr>\n",
              "      <th>FOREIGN</th>\n",
              "      <td>1000</td>\n",
              "      <td>3</td>\n",
              "      <td>0.0</td>\n",
              "      <td>957</td>\n",
              "    </tr>\n",
              "    <tr>\n",
              "      <th>RESPONSE</th>\n",
              "      <td>1000</td>\n",
              "      <td>3</td>\n",
              "      <td>1.0</td>\n",
              "      <td>698</td>\n",
              "    </tr>\n",
              "    <tr>\n",
              "      <th>CHK_ACCT</th>\n",
              "      <td>1000</td>\n",
              "      <td>4</td>\n",
              "      <td>3</td>\n",
              "      <td>394</td>\n",
              "    </tr>\n",
              "    <tr>\n",
              "      <th>HISTORY</th>\n",
              "      <td>1000</td>\n",
              "      <td>5</td>\n",
              "      <td>2</td>\n",
              "      <td>530</td>\n",
              "    </tr>\n",
              "    <tr>\n",
              "      <th>SAV_ACCT</th>\n",
              "      <td>1000</td>\n",
              "      <td>5</td>\n",
              "      <td>0</td>\n",
              "      <td>603</td>\n",
              "    </tr>\n",
              "    <tr>\n",
              "      <th>EMPLOYMENT</th>\n",
              "      <td>1000</td>\n",
              "      <td>5</td>\n",
              "      <td>2</td>\n",
              "      <td>339</td>\n",
              "    </tr>\n",
              "    <tr>\n",
              "      <th>PRESENT_RESIDENT</th>\n",
              "      <td>1000</td>\n",
              "      <td>4</td>\n",
              "      <td>4</td>\n",
              "      <td>413</td>\n",
              "    </tr>\n",
              "    <tr>\n",
              "      <th>JOB</th>\n",
              "      <td>1000</td>\n",
              "      <td>4</td>\n",
              "      <td>2</td>\n",
              "      <td>630</td>\n",
              "    </tr>\n",
              "  </tbody>\n",
              "</table>\n",
              "</div>"
            ],
            "text/plain": [
              "                 count unique  top freq\n",
              "OBS               1000   1000  723    1\n",
              "NEW_CAR           1000      3  0.0  765\n",
              "USED_CAR          1000      3  0.0  896\n",
              "FURNITURE         1000      3  0.0  819\n",
              "RADIO_TV          1000      3  0.0  718\n",
              "EDUCATION         1000      3  0.0  946\n",
              "RETRAINING        1000      3  0.0  899\n",
              "CO_APPLICANT      1000      3  0.0  951\n",
              "GUARANTOR         1000      3  0.0  941\n",
              "REAL_ESTATE       1000      3  0.0  713\n",
              "PROP_UNKN_NONE    1000      3  0.0  839\n",
              "OTHER_INSTALL     1000      3  0.0  806\n",
              "RENT              1000      3  0.0  815\n",
              "OWN_RES           1000      3  1.0  709\n",
              "TELEPHONE         1000      3  0.0  594\n",
              "FOREIGN           1000      3  0.0  957\n",
              "RESPONSE          1000      3  1.0  698\n",
              "CHK_ACCT          1000      4    3  394\n",
              "HISTORY           1000      5    2  530\n",
              "SAV_ACCT          1000      5    0  603\n",
              "EMPLOYMENT        1000      5    2  339\n",
              "PRESENT_RESIDENT  1000      4    4  413\n",
              "JOB               1000      4    2  630"
            ]
          },
          "metadata": {
            "tags": []
          },
          "execution_count": 39
        }
      ]
    },
    {
      "cell_type": "markdown",
      "metadata": {
        "id": "dFMvFctcT-FE",
        "colab_type": "text"
      },
      "source": [
        "### Pandas DataFrame Methods\n",
        "Some methods in pandas dataframes we generally use"
      ]
    },
    {
      "cell_type": "markdown",
      "metadata": {
        "id": "3BvqaKBXT-FE",
        "colab_type": "text"
      },
      "source": [
        "- pandas.DataFrame.max — finds the highest value in each column.\n",
        "- pandas.DataFrame.min — finds the lowest value in each column.\n",
        "- pandas.DataFrame.median — finds the median of each column.\n",
        "- pandas.DataFrame.std — finds the standard deviation of each column."
      ]
    },
    {
      "cell_type": "markdown",
      "metadata": {
        "id": "n-YqEeRNT-FE",
        "colab_type": "text"
      },
      "source": [
        "#### Max"
      ]
    },
    {
      "cell_type": "code",
      "metadata": {
        "ExecuteTime": {
          "end_time": "2018-12-28T11:29:53.874075Z",
          "start_time": "2018-12-28T11:29:53.865177Z"
        },
        "id": "qnD2_10_T-FE",
        "colab_type": "code",
        "outputId": "897e4e4f-4b48-446d-be93-1f45332a3965",
        "colab": {
          "base_uri": "https://localhost:8080/"
        }
      },
      "source": [
        "df3.AGE.max()"
      ],
      "execution_count": 0,
      "outputs": [
        {
          "output_type": "execute_result",
          "data": {
            "text/plain": [
              "75.0"
            ]
          },
          "metadata": {
            "tags": []
          },
          "execution_count": 40
        }
      ]
    },
    {
      "cell_type": "markdown",
      "metadata": {
        "id": "BEaFpKGVT-FU",
        "colab_type": "text"
      },
      "source": [
        "#### Min"
      ]
    },
    {
      "cell_type": "code",
      "metadata": {
        "ExecuteTime": {
          "end_time": "2018-12-28T11:29:54.277817Z",
          "start_time": "2018-12-28T11:29:54.270873Z"
        },
        "id": "Y1auZg9fT-FU",
        "colab_type": "code",
        "outputId": "f9e8c23d-1c95-462c-935b-3ab6fafee50b",
        "colab": {
          "base_uri": "https://localhost:8080/"
        }
      },
      "source": [
        "df3.AGE.min()"
      ],
      "execution_count": 0,
      "outputs": [
        {
          "output_type": "execute_result",
          "data": {
            "text/plain": [
              "19.0"
            ]
          },
          "metadata": {
            "tags": []
          },
          "execution_count": 41
        }
      ]
    },
    {
      "cell_type": "markdown",
      "metadata": {
        "id": "7Qh9W2E6T-FU",
        "colab_type": "text"
      },
      "source": [
        "#### Mean"
      ]
    },
    {
      "cell_type": "code",
      "metadata": {
        "ExecuteTime": {
          "end_time": "2018-12-28T11:29:55.400762Z",
          "start_time": "2018-12-28T11:29:55.394313Z"
        },
        "id": "kr2Zca21T-FU",
        "colab_type": "code",
        "outputId": "acc8275a-95c6-4e7c-bbe7-813bc4e43eb3",
        "colab": {
          "base_uri": "https://localhost:8080/"
        }
      },
      "source": [
        "df3.AGE.mean()"
      ],
      "execution_count": 0,
      "outputs": [
        {
          "output_type": "execute_result",
          "data": {
            "text/plain": [
              "35.505050505050505"
            ]
          },
          "metadata": {
            "tags": []
          },
          "execution_count": 42
        }
      ]
    },
    {
      "cell_type": "markdown",
      "metadata": {
        "id": "AboC2kMUT-FU",
        "colab_type": "text"
      },
      "source": [
        "#### Median"
      ]
    },
    {
      "cell_type": "code",
      "metadata": {
        "ExecuteTime": {
          "end_time": "2018-12-28T11:29:55.856787Z",
          "start_time": "2018-12-28T11:29:55.850632Z"
        },
        "id": "Wz4uKB4oT-FU",
        "colab_type": "code",
        "outputId": "0923feda-606f-4f8e-ca0b-2b9401f3d5cb",
        "colab": {
          "base_uri": "https://localhost:8080/"
        }
      },
      "source": [
        "df3.AGE.median()"
      ],
      "execution_count": 0,
      "outputs": [
        {
          "output_type": "execute_result",
          "data": {
            "text/plain": [
              "33.0"
            ]
          },
          "metadata": {
            "tags": []
          },
          "execution_count": 43
        }
      ]
    },
    {
      "cell_type": "code",
      "metadata": {
        "ExecuteTime": {
          "end_time": "2018-12-28T11:29:56.039612Z",
          "start_time": "2018-12-28T11:29:55.868488Z"
        },
        "id": "HzyuaeWsT-Fj",
        "colab_type": "code",
        "outputId": "0c54bdca-f63f-419b-de57-8a4ac0a79748",
        "colab": {
          "base_uri": "https://localhost:8080/"
        }
      },
      "source": [
        "df3.AGE.std()"
      ],
      "execution_count": 0,
      "outputs": [
        {
          "output_type": "execute_result",
          "data": {
            "text/plain": [
              "11.342693614402492"
            ]
          },
          "metadata": {
            "tags": []
          },
          "execution_count": 44
        }
      ]
    },
    {
      "cell_type": "markdown",
      "metadata": {
        "collapsed": true,
        "id": "vkQPrmOIT-Fj",
        "colab_type": "text"
      },
      "source": [
        "### Checking Number of unique values/levels\n"
      ]
    },
    {
      "cell_type": "code",
      "metadata": {
        "ExecuteTime": {
          "end_time": "2018-12-28T11:29:56.512918Z",
          "start_time": "2018-12-28T11:29:56.454265Z"
        },
        "id": "W8P4cX4KT-Fj",
        "colab_type": "code",
        "outputId": "022b9987-ff7d-4930-c757-76044ff6bacf",
        "colab": {
          "base_uri": "https://localhost:8080/",
          "height": 510
        }
      },
      "source": [
        "for i in df3.columns:\n",
        "    n = np.unique(df3[i])\n",
        "    print([i,len(n)])"
      ],
      "execution_count": 0,
      "outputs": [
        {
          "output_type": "stream",
          "text": [
            "['OBS', 1000]\n",
            "['DURATION', 35]\n",
            "['NEW_CAR', 3]\n",
            "['USED_CAR', 3]\n",
            "['FURNITURE', 3]\n",
            "['RADIO_TV', 3]\n",
            "['EDUCATION', 3]\n",
            "['RETRAINING', 3]\n",
            "['AMOUNT', 922]\n",
            "['INSTALL_RATE', 11]\n",
            "['CO_APPLICANT', 3]\n",
            "['GUARANTOR', 3]\n",
            "['REAL_ESTATE', 3]\n",
            "['PROP_UNKN_NONE', 3]\n",
            "['AGE', 63]\n",
            "['OTHER_INSTALL', 3]\n",
            "['RENT', 3]\n",
            "['OWN_RES', 3]\n",
            "['NUM_CREDITS', 10]\n",
            "['NUM_DEPENDENTS', 9]\n",
            "['TELEPHONE', 3]\n",
            "['FOREIGN', 3]\n",
            "['RESPONSE', 3]\n",
            "['CHK_ACCT', 4]\n",
            "['HISTORY', 5]\n",
            "['SAV_ACCT', 5]\n",
            "['EMPLOYMENT', 5]\n",
            "['PRESENT_RESIDENT', 4]\n",
            "['JOB', 4]\n"
          ],
          "name": "stdout"
        }
      ]
    },
    {
      "cell_type": "code",
      "metadata": {
        "ExecuteTime": {
          "end_time": "2018-12-28T11:29:56.643270Z",
          "start_time": "2018-12-28T11:29:56.517257Z"
        },
        "id": "T62_k4KST-Fj",
        "colab_type": "code",
        "colab": {}
      },
      "source": [
        "temp = df3.copy()"
      ],
      "execution_count": 0,
      "outputs": []
    },
    {
      "cell_type": "code",
      "metadata": {
        "ExecuteTime": {
          "end_time": "2018-12-28T11:29:56.833209Z",
          "start_time": "2018-12-28T11:29:56.646218Z"
        },
        "id": "GdViPsj9T-Fj",
        "colab_type": "code",
        "colab": {}
      },
      "source": [
        "#Subsetting data: \n",
        "# dropping 1st and 2nd column\n",
        "temp.drop(['OBS','DURATION'],inplace=True,axis=1)"
      ],
      "execution_count": 0,
      "outputs": []
    },
    {
      "cell_type": "code",
      "metadata": {
        "ExecuteTime": {
          "end_time": "2018-12-28T11:29:57.033095Z",
          "start_time": "2018-12-28T11:29:56.836319Z"
        },
        "id": "3Fd96PxwT-Fz",
        "colab_type": "code",
        "outputId": "fc68bebc-49bb-4e9b-a852-b0a1d912f0df",
        "colab": {
          "base_uri": "https://localhost:8080/",
          "height": 136
        }
      },
      "source": [
        "temp.columns"
      ],
      "execution_count": 0,
      "outputs": [
        {
          "output_type": "execute_result",
          "data": {
            "text/plain": [
              "Index(['NEW_CAR', 'USED_CAR', 'FURNITURE', 'RADIO_TV', 'EDUCATION',\n",
              "       'RETRAINING', 'AMOUNT', 'INSTALL_RATE', 'CO_APPLICANT', 'GUARANTOR',\n",
              "       'REAL_ESTATE', 'PROP_UNKN_NONE', 'AGE', 'OTHER_INSTALL', 'RENT',\n",
              "       'OWN_RES', 'NUM_CREDITS', 'NUM_DEPENDENTS', 'TELEPHONE', 'FOREIGN',\n",
              "       'RESPONSE', 'CHK_ACCT', 'HISTORY', 'SAV_ACCT', 'EMPLOYMENT',\n",
              "       'PRESENT_RESIDENT', 'JOB'],\n",
              "      dtype='object')"
            ]
          },
          "metadata": {
            "tags": []
          },
          "execution_count": 48
        }
      ]
    },
    {
      "cell_type": "code",
      "metadata": {
        "ExecuteTime": {
          "end_time": "2018-12-28T11:29:57.158868Z",
          "start_time": "2018-12-28T11:29:57.036072Z"
        },
        "id": "Yp9hqRMAT-Fz",
        "colab_type": "code",
        "outputId": "8c7cef4f-cc15-440d-e363-e31d1db25883",
        "colab": {
          "base_uri": "https://localhost:8080/",
          "height": 136
        }
      },
      "source": [
        "df3.columns"
      ],
      "execution_count": 0,
      "outputs": [
        {
          "output_type": "execute_result",
          "data": {
            "text/plain": [
              "Index(['OBS', 'DURATION', 'NEW_CAR', 'USED_CAR', 'FURNITURE', 'RADIO_TV',\n",
              "       'EDUCATION', 'RETRAINING', 'AMOUNT', 'INSTALL_RATE', 'CO_APPLICANT',\n",
              "       'GUARANTOR', 'REAL_ESTATE', 'PROP_UNKN_NONE', 'AGE', 'OTHER_INSTALL',\n",
              "       'RENT', 'OWN_RES', 'NUM_CREDITS', 'NUM_DEPENDENTS', 'TELEPHONE',\n",
              "       'FOREIGN', 'RESPONSE', 'CHK_ACCT', 'HISTORY', 'SAV_ACCT', 'EMPLOYMENT',\n",
              "       'PRESENT_RESIDENT', 'JOB'],\n",
              "      dtype='object')"
            ]
          },
          "metadata": {
            "tags": []
          },
          "execution_count": 49
        }
      ]
    },
    {
      "cell_type": "code",
      "metadata": {
        "ExecuteTime": {
          "end_time": "2018-12-28T11:29:57.391705Z",
          "start_time": "2018-12-28T11:29:57.163093Z"
        },
        "id": "NgR5cHgKT-GC",
        "colab_type": "code",
        "outputId": "59800a9b-a41c-4421-aac4-d48e9ec77e53",
        "colab": {
          "base_uri": "https://localhost:8080/",
          "height": 131
        }
      },
      "source": [
        "# selecting 1st and 2nd row\n",
        "df3.iloc[0:2,:]"
      ],
      "execution_count": 0,
      "outputs": [
        {
          "output_type": "execute_result",
          "data": {
            "text/html": [
              "<div>\n",
              "<style scoped>\n",
              "    .dataframe tbody tr th:only-of-type {\n",
              "        vertical-align: middle;\n",
              "    }\n",
              "\n",
              "    .dataframe tbody tr th {\n",
              "        vertical-align: top;\n",
              "    }\n",
              "\n",
              "    .dataframe thead th {\n",
              "        text-align: right;\n",
              "    }\n",
              "</style>\n",
              "<table border=\"1\" class=\"dataframe\">\n",
              "  <thead>\n",
              "    <tr style=\"text-align: right;\">\n",
              "      <th></th>\n",
              "      <th>OBS</th>\n",
              "      <th>DURATION</th>\n",
              "      <th>NEW_CAR</th>\n",
              "      <th>USED_CAR</th>\n",
              "      <th>FURNITURE</th>\n",
              "      <th>RADIO_TV</th>\n",
              "      <th>EDUCATION</th>\n",
              "      <th>RETRAINING</th>\n",
              "      <th>AMOUNT</th>\n",
              "      <th>INSTALL_RATE</th>\n",
              "      <th>CO_APPLICANT</th>\n",
              "      <th>GUARANTOR</th>\n",
              "      <th>REAL_ESTATE</th>\n",
              "      <th>PROP_UNKN_NONE</th>\n",
              "      <th>AGE</th>\n",
              "      <th>OTHER_INSTALL</th>\n",
              "      <th>RENT</th>\n",
              "      <th>OWN_RES</th>\n",
              "      <th>NUM_CREDITS</th>\n",
              "      <th>NUM_DEPENDENTS</th>\n",
              "      <th>TELEPHONE</th>\n",
              "      <th>FOREIGN</th>\n",
              "      <th>RESPONSE</th>\n",
              "      <th>CHK_ACCT</th>\n",
              "      <th>HISTORY</th>\n",
              "      <th>SAV_ACCT</th>\n",
              "      <th>EMPLOYMENT</th>\n",
              "      <th>PRESENT_RESIDENT</th>\n",
              "      <th>JOB</th>\n",
              "    </tr>\n",
              "  </thead>\n",
              "  <tbody>\n",
              "    <tr>\n",
              "      <th>0</th>\n",
              "      <td>1</td>\n",
              "      <td>6.0</td>\n",
              "      <td>0.0</td>\n",
              "      <td>0.0</td>\n",
              "      <td>0.0</td>\n",
              "      <td>1.0</td>\n",
              "      <td>0.0</td>\n",
              "      <td>0.0</td>\n",
              "      <td>1169.0</td>\n",
              "      <td>4.0</td>\n",
              "      <td>0.0</td>\n",
              "      <td>0.0</td>\n",
              "      <td>1.0</td>\n",
              "      <td>0.0</td>\n",
              "      <td>67.0</td>\n",
              "      <td>0.0</td>\n",
              "      <td>0.0</td>\n",
              "      <td>1.0</td>\n",
              "      <td>2.0</td>\n",
              "      <td>1.0</td>\n",
              "      <td>1.0</td>\n",
              "      <td>0.0</td>\n",
              "      <td>1.0</td>\n",
              "      <td>0</td>\n",
              "      <td>4</td>\n",
              "      <td>4</td>\n",
              "      <td>4</td>\n",
              "      <td>4</td>\n",
              "      <td>2</td>\n",
              "    </tr>\n",
              "    <tr>\n",
              "      <th>1</th>\n",
              "      <td>2</td>\n",
              "      <td>48.0</td>\n",
              "      <td>0.0</td>\n",
              "      <td>0.0</td>\n",
              "      <td>0.0</td>\n",
              "      <td>1.0</td>\n",
              "      <td>0.0</td>\n",
              "      <td>0.0</td>\n",
              "      <td>5951.0</td>\n",
              "      <td>2.0</td>\n",
              "      <td>0.0</td>\n",
              "      <td>0.0</td>\n",
              "      <td>1.0</td>\n",
              "      <td>0.0</td>\n",
              "      <td>22.0</td>\n",
              "      <td>0.0</td>\n",
              "      <td>0.0</td>\n",
              "      <td>1.0</td>\n",
              "      <td>1.0</td>\n",
              "      <td>1.0</td>\n",
              "      <td>0.0</td>\n",
              "      <td>0.0</td>\n",
              "      <td>0.0</td>\n",
              "      <td>1</td>\n",
              "      <td>2</td>\n",
              "      <td>0</td>\n",
              "      <td>2</td>\n",
              "      <td>2</td>\n",
              "      <td>2</td>\n",
              "    </tr>\n",
              "  </tbody>\n",
              "</table>\n",
              "</div>"
            ],
            "text/plain": [
              "  OBS  DURATION NEW_CAR USED_CAR  ... SAV_ACCT EMPLOYMENT PRESENT_RESIDENT JOB\n",
              "0   1       6.0     0.0      0.0  ...        4          4                4   2\n",
              "1   2      48.0     0.0      0.0  ...        0          2                2   2\n",
              "\n",
              "[2 rows x 29 columns]"
            ]
          },
          "metadata": {
            "tags": []
          },
          "execution_count": 50
        }
      ]
    },
    {
      "cell_type": "markdown",
      "metadata": {
        "id": "nsU4ZGj0T-GC",
        "colab_type": "text"
      },
      "source": [
        "### Handling outliers"
      ]
    },
    {
      "cell_type": "markdown",
      "metadata": {
        "id": "dmdBQyQWT-GC",
        "colab_type": "text"
      },
      "source": [
        "#### Threshold method"
      ]
    },
    {
      "cell_type": "code",
      "metadata": {
        "ExecuteTime": {
          "end_time": "2018-12-28T11:29:57.653651Z",
          "start_time": "2018-12-28T11:29:57.647746Z"
        },
        "id": "QbaB_BmrT-GC",
        "colab_type": "code",
        "colab": {}
      },
      "source": [
        "import numpy as np\n",
        "def outliers_z_score(ys,threshold = 3):\n",
        "    \"\"\" This function takes a numeric column and returns the outliers.\n",
        "    Default threshold is 3, but takes any integer or float value\"\"\"\n",
        "    mean_y = np.mean(ys)\n",
        "    stdev_y = np.std(ys)\n",
        "    z_scores = [(y - mean_y) / stdev_y for y in ys]\n",
        "    return np.where(np.abs(z_scores) > threshold)"
      ],
      "execution_count": 0,
      "outputs": []
    },
    {
      "cell_type": "code",
      "metadata": {
        "ExecuteTime": {
          "end_time": "2018-12-28T11:29:57.808343Z",
          "start_time": "2018-12-28T11:29:57.666014Z"
        },
        "id": "ah_ETO4dT-GC",
        "colab_type": "code",
        "outputId": "2a652e4d-9790-4369-bdf7-483104297868",
        "colab": {
          "base_uri": "https://localhost:8080/"
        }
      },
      "source": [
        "df3.loc[:,num_attr].apply(outliers_z_score)"
      ],
      "execution_count": 0,
      "outputs": [
        {
          "output_type": "stream",
          "text": [
            "/usr/local/lib/python3.6/dist-packages/ipykernel_launcher.py:8: RuntimeWarning: invalid value encountered in greater\n",
            "  \n"
          ],
          "name": "stderr"
        },
        {
          "output_type": "execute_result",
          "data": {
            "text/plain": [
              "DURATION          ([29, 134, 255, 332, 373, 374, 616, 637, 672, ...\n",
              "AMOUNT            ([18, 63, 87, 95, 105, 236, 272, 274, 373, 374...\n",
              "INSTALL_RATE                                                  ([],)\n",
              "AGE                          ([163, 186, 330, 430, 536, 606, 756],)\n",
              "NUM_CREDITS                        ([65, 197, 590, 653, 807, 890],)\n",
              "NUM_DEPENDENTS                                                ([],)\n",
              "dtype: object"
            ]
          },
          "metadata": {
            "tags": []
          },
          "execution_count": 52
        }
      ]
    },
    {
      "cell_type": "markdown",
      "metadata": {
        "id": "n8gTKzzHT-GC",
        "colab_type": "text"
      },
      "source": [
        "#### IQR method"
      ]
    },
    {
      "cell_type": "code",
      "metadata": {
        "ExecuteTime": {
          "end_time": "2018-12-28T11:29:58.360889Z",
          "start_time": "2018-12-28T11:29:58.353449Z"
        },
        "id": "1qVsIUbvT-GC",
        "colab_type": "code",
        "colab": {}
      },
      "source": [
        "import numpy as np\n",
        "def outliers_iqr(ys):\n",
        "    quartile_1, quartile_3 = np.percentile(ys, [25, 75])\n",
        "    iqr = quartile_3 - quartile_1\n",
        "    lower_bound = quartile_1 - (iqr * 1.5)\n",
        "    upper_bound = quartile_3 + (iqr * 1.5)\n",
        "    return np.where((ys > upper_bound) | (ys < lower_bound))"
      ],
      "execution_count": 0,
      "outputs": []
    },
    {
      "cell_type": "code",
      "metadata": {
        "ExecuteTime": {
          "end_time": "2018-12-28T11:29:58.541434Z",
          "start_time": "2018-12-28T11:29:58.365353Z"
        },
        "id": "3uq25opKT-GS",
        "colab_type": "code",
        "outputId": "963d19d1-4c77-49a8-d1f7-62e907f2ab99",
        "colab": {
          "base_uri": "https://localhost:8080/"
        }
      },
      "source": [
        "df3.loc[:,num_attr].apply(outliers_iqr)"
      ],
      "execution_count": 0,
      "outputs": [
        {
          "output_type": "stream",
          "text": [
            "/usr/local/lib/python3.6/dist-packages/numpy/lib/function_base.py:3826: RuntimeWarning: Invalid value encountered in percentile\n",
            "  interpolation=interpolation)\n"
          ],
          "name": "stderr"
        },
        {
          "output_type": "execute_result",
          "data": {
            "text/plain": [
              "DURATION          ([],)\n",
              "AMOUNT            ([],)\n",
              "INSTALL_RATE      ([],)\n",
              "AGE               ([],)\n",
              "NUM_CREDITS       ([],)\n",
              "NUM_DEPENDENTS    ([],)\n",
              "dtype: object"
            ]
          },
          "metadata": {
            "tags": []
          },
          "execution_count": 54
        }
      ]
    },
    {
      "cell_type": "markdown",
      "metadata": {
        "id": "9p5x6HhXT-GS",
        "colab_type": "text"
      },
      "source": [
        "### Handling Missing values"
      ]
    },
    {
      "cell_type": "code",
      "metadata": {
        "ExecuteTime": {
          "end_time": "2018-12-28T11:29:59.128198Z",
          "start_time": "2018-12-28T11:29:59.123157Z"
        },
        "id": "jtweEBmOT-GS",
        "colab_type": "code",
        "colab": {}
      },
      "source": [
        "#To check null values in data"
      ],
      "execution_count": 0,
      "outputs": []
    },
    {
      "cell_type": "code",
      "metadata": {
        "ExecuteTime": {
          "end_time": "2018-12-28T11:29:59.427319Z",
          "start_time": "2018-12-28T11:29:59.156133Z"
        },
        "id": "Ys_8TGBAT-GS",
        "colab_type": "code",
        "outputId": "a9ce75b8-4648-4c65-cc3d-6937fc4e4428",
        "colab": {
          "base_uri": "https://localhost:8080/",
          "height": 1000
        }
      },
      "source": [
        "df3.isnull()"
      ],
      "execution_count": 0,
      "outputs": [
        {
          "output_type": "execute_result",
          "data": {
            "text/html": [
              "<div>\n",
              "<style scoped>\n",
              "    .dataframe tbody tr th:only-of-type {\n",
              "        vertical-align: middle;\n",
              "    }\n",
              "\n",
              "    .dataframe tbody tr th {\n",
              "        vertical-align: top;\n",
              "    }\n",
              "\n",
              "    .dataframe thead th {\n",
              "        text-align: right;\n",
              "    }\n",
              "</style>\n",
              "<table border=\"1\" class=\"dataframe\">\n",
              "  <thead>\n",
              "    <tr style=\"text-align: right;\">\n",
              "      <th></th>\n",
              "      <th>OBS</th>\n",
              "      <th>DURATION</th>\n",
              "      <th>NEW_CAR</th>\n",
              "      <th>USED_CAR</th>\n",
              "      <th>FURNITURE</th>\n",
              "      <th>RADIO_TV</th>\n",
              "      <th>EDUCATION</th>\n",
              "      <th>RETRAINING</th>\n",
              "      <th>AMOUNT</th>\n",
              "      <th>INSTALL_RATE</th>\n",
              "      <th>CO_APPLICANT</th>\n",
              "      <th>GUARANTOR</th>\n",
              "      <th>REAL_ESTATE</th>\n",
              "      <th>PROP_UNKN_NONE</th>\n",
              "      <th>AGE</th>\n",
              "      <th>OTHER_INSTALL</th>\n",
              "      <th>RENT</th>\n",
              "      <th>OWN_RES</th>\n",
              "      <th>NUM_CREDITS</th>\n",
              "      <th>NUM_DEPENDENTS</th>\n",
              "      <th>TELEPHONE</th>\n",
              "      <th>FOREIGN</th>\n",
              "      <th>RESPONSE</th>\n",
              "      <th>CHK_ACCT</th>\n",
              "      <th>HISTORY</th>\n",
              "      <th>SAV_ACCT</th>\n",
              "      <th>EMPLOYMENT</th>\n",
              "      <th>PRESENT_RESIDENT</th>\n",
              "      <th>JOB</th>\n",
              "    </tr>\n",
              "  </thead>\n",
              "  <tbody>\n",
              "    <tr>\n",
              "      <th>0</th>\n",
              "      <td>False</td>\n",
              "      <td>False</td>\n",
              "      <td>False</td>\n",
              "      <td>False</td>\n",
              "      <td>False</td>\n",
              "      <td>False</td>\n",
              "      <td>False</td>\n",
              "      <td>False</td>\n",
              "      <td>False</td>\n",
              "      <td>False</td>\n",
              "      <td>False</td>\n",
              "      <td>False</td>\n",
              "      <td>False</td>\n",
              "      <td>False</td>\n",
              "      <td>False</td>\n",
              "      <td>False</td>\n",
              "      <td>False</td>\n",
              "      <td>False</td>\n",
              "      <td>False</td>\n",
              "      <td>False</td>\n",
              "      <td>False</td>\n",
              "      <td>False</td>\n",
              "      <td>False</td>\n",
              "      <td>False</td>\n",
              "      <td>False</td>\n",
              "      <td>False</td>\n",
              "      <td>False</td>\n",
              "      <td>False</td>\n",
              "      <td>False</td>\n",
              "    </tr>\n",
              "    <tr>\n",
              "      <th>1</th>\n",
              "      <td>False</td>\n",
              "      <td>False</td>\n",
              "      <td>False</td>\n",
              "      <td>False</td>\n",
              "      <td>False</td>\n",
              "      <td>False</td>\n",
              "      <td>False</td>\n",
              "      <td>False</td>\n",
              "      <td>False</td>\n",
              "      <td>False</td>\n",
              "      <td>False</td>\n",
              "      <td>False</td>\n",
              "      <td>False</td>\n",
              "      <td>False</td>\n",
              "      <td>False</td>\n",
              "      <td>False</td>\n",
              "      <td>False</td>\n",
              "      <td>False</td>\n",
              "      <td>False</td>\n",
              "      <td>False</td>\n",
              "      <td>False</td>\n",
              "      <td>False</td>\n",
              "      <td>False</td>\n",
              "      <td>False</td>\n",
              "      <td>False</td>\n",
              "      <td>False</td>\n",
              "      <td>False</td>\n",
              "      <td>False</td>\n",
              "      <td>False</td>\n",
              "    </tr>\n",
              "    <tr>\n",
              "      <th>2</th>\n",
              "      <td>False</td>\n",
              "      <td>False</td>\n",
              "      <td>False</td>\n",
              "      <td>False</td>\n",
              "      <td>False</td>\n",
              "      <td>False</td>\n",
              "      <td>False</td>\n",
              "      <td>False</td>\n",
              "      <td>False</td>\n",
              "      <td>False</td>\n",
              "      <td>False</td>\n",
              "      <td>False</td>\n",
              "      <td>False</td>\n",
              "      <td>False</td>\n",
              "      <td>False</td>\n",
              "      <td>False</td>\n",
              "      <td>False</td>\n",
              "      <td>False</td>\n",
              "      <td>False</td>\n",
              "      <td>False</td>\n",
              "      <td>False</td>\n",
              "      <td>False</td>\n",
              "      <td>False</td>\n",
              "      <td>False</td>\n",
              "      <td>False</td>\n",
              "      <td>False</td>\n",
              "      <td>False</td>\n",
              "      <td>False</td>\n",
              "      <td>False</td>\n",
              "    </tr>\n",
              "    <tr>\n",
              "      <th>3</th>\n",
              "      <td>False</td>\n",
              "      <td>False</td>\n",
              "      <td>False</td>\n",
              "      <td>False</td>\n",
              "      <td>False</td>\n",
              "      <td>False</td>\n",
              "      <td>False</td>\n",
              "      <td>False</td>\n",
              "      <td>False</td>\n",
              "      <td>False</td>\n",
              "      <td>False</td>\n",
              "      <td>False</td>\n",
              "      <td>False</td>\n",
              "      <td>False</td>\n",
              "      <td>False</td>\n",
              "      <td>False</td>\n",
              "      <td>False</td>\n",
              "      <td>False</td>\n",
              "      <td>False</td>\n",
              "      <td>False</td>\n",
              "      <td>False</td>\n",
              "      <td>False</td>\n",
              "      <td>False</td>\n",
              "      <td>False</td>\n",
              "      <td>False</td>\n",
              "      <td>False</td>\n",
              "      <td>False</td>\n",
              "      <td>False</td>\n",
              "      <td>False</td>\n",
              "    </tr>\n",
              "    <tr>\n",
              "      <th>4</th>\n",
              "      <td>False</td>\n",
              "      <td>False</td>\n",
              "      <td>False</td>\n",
              "      <td>False</td>\n",
              "      <td>False</td>\n",
              "      <td>False</td>\n",
              "      <td>False</td>\n",
              "      <td>False</td>\n",
              "      <td>False</td>\n",
              "      <td>False</td>\n",
              "      <td>False</td>\n",
              "      <td>False</td>\n",
              "      <td>False</td>\n",
              "      <td>False</td>\n",
              "      <td>False</td>\n",
              "      <td>False</td>\n",
              "      <td>False</td>\n",
              "      <td>False</td>\n",
              "      <td>False</td>\n",
              "      <td>False</td>\n",
              "      <td>False</td>\n",
              "      <td>False</td>\n",
              "      <td>False</td>\n",
              "      <td>False</td>\n",
              "      <td>False</td>\n",
              "      <td>False</td>\n",
              "      <td>False</td>\n",
              "      <td>False</td>\n",
              "      <td>False</td>\n",
              "    </tr>\n",
              "    <tr>\n",
              "      <th>5</th>\n",
              "      <td>False</td>\n",
              "      <td>False</td>\n",
              "      <td>False</td>\n",
              "      <td>False</td>\n",
              "      <td>False</td>\n",
              "      <td>False</td>\n",
              "      <td>False</td>\n",
              "      <td>False</td>\n",
              "      <td>False</td>\n",
              "      <td>False</td>\n",
              "      <td>False</td>\n",
              "      <td>False</td>\n",
              "      <td>False</td>\n",
              "      <td>False</td>\n",
              "      <td>False</td>\n",
              "      <td>False</td>\n",
              "      <td>False</td>\n",
              "      <td>False</td>\n",
              "      <td>False</td>\n",
              "      <td>False</td>\n",
              "      <td>False</td>\n",
              "      <td>False</td>\n",
              "      <td>False</td>\n",
              "      <td>False</td>\n",
              "      <td>False</td>\n",
              "      <td>False</td>\n",
              "      <td>False</td>\n",
              "      <td>False</td>\n",
              "      <td>False</td>\n",
              "    </tr>\n",
              "    <tr>\n",
              "      <th>6</th>\n",
              "      <td>False</td>\n",
              "      <td>False</td>\n",
              "      <td>False</td>\n",
              "      <td>False</td>\n",
              "      <td>False</td>\n",
              "      <td>False</td>\n",
              "      <td>False</td>\n",
              "      <td>False</td>\n",
              "      <td>False</td>\n",
              "      <td>False</td>\n",
              "      <td>False</td>\n",
              "      <td>False</td>\n",
              "      <td>False</td>\n",
              "      <td>False</td>\n",
              "      <td>False</td>\n",
              "      <td>False</td>\n",
              "      <td>False</td>\n",
              "      <td>False</td>\n",
              "      <td>False</td>\n",
              "      <td>False</td>\n",
              "      <td>False</td>\n",
              "      <td>False</td>\n",
              "      <td>False</td>\n",
              "      <td>False</td>\n",
              "      <td>False</td>\n",
              "      <td>False</td>\n",
              "      <td>False</td>\n",
              "      <td>False</td>\n",
              "      <td>False</td>\n",
              "    </tr>\n",
              "    <tr>\n",
              "      <th>7</th>\n",
              "      <td>False</td>\n",
              "      <td>False</td>\n",
              "      <td>False</td>\n",
              "      <td>False</td>\n",
              "      <td>False</td>\n",
              "      <td>False</td>\n",
              "      <td>False</td>\n",
              "      <td>False</td>\n",
              "      <td>False</td>\n",
              "      <td>False</td>\n",
              "      <td>False</td>\n",
              "      <td>False</td>\n",
              "      <td>False</td>\n",
              "      <td>False</td>\n",
              "      <td>False</td>\n",
              "      <td>False</td>\n",
              "      <td>False</td>\n",
              "      <td>False</td>\n",
              "      <td>False</td>\n",
              "      <td>False</td>\n",
              "      <td>False</td>\n",
              "      <td>False</td>\n",
              "      <td>False</td>\n",
              "      <td>False</td>\n",
              "      <td>False</td>\n",
              "      <td>False</td>\n",
              "      <td>False</td>\n",
              "      <td>False</td>\n",
              "      <td>False</td>\n",
              "    </tr>\n",
              "    <tr>\n",
              "      <th>8</th>\n",
              "      <td>False</td>\n",
              "      <td>False</td>\n",
              "      <td>False</td>\n",
              "      <td>False</td>\n",
              "      <td>False</td>\n",
              "      <td>False</td>\n",
              "      <td>False</td>\n",
              "      <td>False</td>\n",
              "      <td>False</td>\n",
              "      <td>False</td>\n",
              "      <td>False</td>\n",
              "      <td>False</td>\n",
              "      <td>False</td>\n",
              "      <td>False</td>\n",
              "      <td>False</td>\n",
              "      <td>False</td>\n",
              "      <td>False</td>\n",
              "      <td>False</td>\n",
              "      <td>False</td>\n",
              "      <td>False</td>\n",
              "      <td>False</td>\n",
              "      <td>False</td>\n",
              "      <td>False</td>\n",
              "      <td>False</td>\n",
              "      <td>False</td>\n",
              "      <td>False</td>\n",
              "      <td>False</td>\n",
              "      <td>False</td>\n",
              "      <td>False</td>\n",
              "    </tr>\n",
              "    <tr>\n",
              "      <th>9</th>\n",
              "      <td>False</td>\n",
              "      <td>False</td>\n",
              "      <td>False</td>\n",
              "      <td>False</td>\n",
              "      <td>False</td>\n",
              "      <td>False</td>\n",
              "      <td>False</td>\n",
              "      <td>False</td>\n",
              "      <td>False</td>\n",
              "      <td>False</td>\n",
              "      <td>False</td>\n",
              "      <td>False</td>\n",
              "      <td>False</td>\n",
              "      <td>False</td>\n",
              "      <td>False</td>\n",
              "      <td>False</td>\n",
              "      <td>False</td>\n",
              "      <td>False</td>\n",
              "      <td>False</td>\n",
              "      <td>False</td>\n",
              "      <td>False</td>\n",
              "      <td>False</td>\n",
              "      <td>False</td>\n",
              "      <td>False</td>\n",
              "      <td>False</td>\n",
              "      <td>False</td>\n",
              "      <td>False</td>\n",
              "      <td>False</td>\n",
              "      <td>False</td>\n",
              "    </tr>\n",
              "    <tr>\n",
              "      <th>10</th>\n",
              "      <td>False</td>\n",
              "      <td>False</td>\n",
              "      <td>False</td>\n",
              "      <td>False</td>\n",
              "      <td>False</td>\n",
              "      <td>False</td>\n",
              "      <td>False</td>\n",
              "      <td>False</td>\n",
              "      <td>False</td>\n",
              "      <td>False</td>\n",
              "      <td>False</td>\n",
              "      <td>False</td>\n",
              "      <td>False</td>\n",
              "      <td>False</td>\n",
              "      <td>False</td>\n",
              "      <td>False</td>\n",
              "      <td>False</td>\n",
              "      <td>False</td>\n",
              "      <td>False</td>\n",
              "      <td>False</td>\n",
              "      <td>False</td>\n",
              "      <td>False</td>\n",
              "      <td>False</td>\n",
              "      <td>False</td>\n",
              "      <td>False</td>\n",
              "      <td>False</td>\n",
              "      <td>False</td>\n",
              "      <td>False</td>\n",
              "      <td>False</td>\n",
              "    </tr>\n",
              "    <tr>\n",
              "      <th>11</th>\n",
              "      <td>False</td>\n",
              "      <td>False</td>\n",
              "      <td>False</td>\n",
              "      <td>False</td>\n",
              "      <td>False</td>\n",
              "      <td>False</td>\n",
              "      <td>False</td>\n",
              "      <td>False</td>\n",
              "      <td>False</td>\n",
              "      <td>False</td>\n",
              "      <td>False</td>\n",
              "      <td>False</td>\n",
              "      <td>False</td>\n",
              "      <td>False</td>\n",
              "      <td>False</td>\n",
              "      <td>False</td>\n",
              "      <td>False</td>\n",
              "      <td>False</td>\n",
              "      <td>False</td>\n",
              "      <td>False</td>\n",
              "      <td>False</td>\n",
              "      <td>False</td>\n",
              "      <td>False</td>\n",
              "      <td>False</td>\n",
              "      <td>False</td>\n",
              "      <td>False</td>\n",
              "      <td>False</td>\n",
              "      <td>False</td>\n",
              "      <td>False</td>\n",
              "    </tr>\n",
              "    <tr>\n",
              "      <th>12</th>\n",
              "      <td>False</td>\n",
              "      <td>False</td>\n",
              "      <td>False</td>\n",
              "      <td>False</td>\n",
              "      <td>False</td>\n",
              "      <td>False</td>\n",
              "      <td>False</td>\n",
              "      <td>False</td>\n",
              "      <td>False</td>\n",
              "      <td>False</td>\n",
              "      <td>False</td>\n",
              "      <td>False</td>\n",
              "      <td>False</td>\n",
              "      <td>False</td>\n",
              "      <td>False</td>\n",
              "      <td>False</td>\n",
              "      <td>False</td>\n",
              "      <td>False</td>\n",
              "      <td>False</td>\n",
              "      <td>False</td>\n",
              "      <td>False</td>\n",
              "      <td>False</td>\n",
              "      <td>False</td>\n",
              "      <td>False</td>\n",
              "      <td>False</td>\n",
              "      <td>False</td>\n",
              "      <td>False</td>\n",
              "      <td>False</td>\n",
              "      <td>False</td>\n",
              "    </tr>\n",
              "    <tr>\n",
              "      <th>13</th>\n",
              "      <td>False</td>\n",
              "      <td>False</td>\n",
              "      <td>False</td>\n",
              "      <td>False</td>\n",
              "      <td>False</td>\n",
              "      <td>False</td>\n",
              "      <td>False</td>\n",
              "      <td>False</td>\n",
              "      <td>True</td>\n",
              "      <td>False</td>\n",
              "      <td>False</td>\n",
              "      <td>False</td>\n",
              "      <td>False</td>\n",
              "      <td>False</td>\n",
              "      <td>True</td>\n",
              "      <td>False</td>\n",
              "      <td>False</td>\n",
              "      <td>False</td>\n",
              "      <td>False</td>\n",
              "      <td>True</td>\n",
              "      <td>False</td>\n",
              "      <td>False</td>\n",
              "      <td>False</td>\n",
              "      <td>False</td>\n",
              "      <td>False</td>\n",
              "      <td>False</td>\n",
              "      <td>False</td>\n",
              "      <td>False</td>\n",
              "      <td>False</td>\n",
              "    </tr>\n",
              "    <tr>\n",
              "      <th>14</th>\n",
              "      <td>False</td>\n",
              "      <td>False</td>\n",
              "      <td>False</td>\n",
              "      <td>False</td>\n",
              "      <td>False</td>\n",
              "      <td>False</td>\n",
              "      <td>False</td>\n",
              "      <td>False</td>\n",
              "      <td>False</td>\n",
              "      <td>False</td>\n",
              "      <td>False</td>\n",
              "      <td>False</td>\n",
              "      <td>False</td>\n",
              "      <td>False</td>\n",
              "      <td>False</td>\n",
              "      <td>False</td>\n",
              "      <td>False</td>\n",
              "      <td>False</td>\n",
              "      <td>False</td>\n",
              "      <td>False</td>\n",
              "      <td>False</td>\n",
              "      <td>False</td>\n",
              "      <td>False</td>\n",
              "      <td>False</td>\n",
              "      <td>False</td>\n",
              "      <td>False</td>\n",
              "      <td>False</td>\n",
              "      <td>False</td>\n",
              "      <td>False</td>\n",
              "    </tr>\n",
              "    <tr>\n",
              "      <th>15</th>\n",
              "      <td>False</td>\n",
              "      <td>False</td>\n",
              "      <td>False</td>\n",
              "      <td>False</td>\n",
              "      <td>False</td>\n",
              "      <td>False</td>\n",
              "      <td>False</td>\n",
              "      <td>False</td>\n",
              "      <td>False</td>\n",
              "      <td>False</td>\n",
              "      <td>False</td>\n",
              "      <td>False</td>\n",
              "      <td>False</td>\n",
              "      <td>False</td>\n",
              "      <td>False</td>\n",
              "      <td>False</td>\n",
              "      <td>False</td>\n",
              "      <td>False</td>\n",
              "      <td>False</td>\n",
              "      <td>False</td>\n",
              "      <td>False</td>\n",
              "      <td>False</td>\n",
              "      <td>False</td>\n",
              "      <td>False</td>\n",
              "      <td>False</td>\n",
              "      <td>False</td>\n",
              "      <td>False</td>\n",
              "      <td>False</td>\n",
              "      <td>False</td>\n",
              "    </tr>\n",
              "    <tr>\n",
              "      <th>16</th>\n",
              "      <td>False</td>\n",
              "      <td>False</td>\n",
              "      <td>False</td>\n",
              "      <td>False</td>\n",
              "      <td>False</td>\n",
              "      <td>False</td>\n",
              "      <td>False</td>\n",
              "      <td>False</td>\n",
              "      <td>False</td>\n",
              "      <td>False</td>\n",
              "      <td>False</td>\n",
              "      <td>False</td>\n",
              "      <td>False</td>\n",
              "      <td>False</td>\n",
              "      <td>False</td>\n",
              "      <td>False</td>\n",
              "      <td>False</td>\n",
              "      <td>False</td>\n",
              "      <td>False</td>\n",
              "      <td>False</td>\n",
              "      <td>False</td>\n",
              "      <td>False</td>\n",
              "      <td>False</td>\n",
              "      <td>False</td>\n",
              "      <td>False</td>\n",
              "      <td>False</td>\n",
              "      <td>False</td>\n",
              "      <td>False</td>\n",
              "      <td>False</td>\n",
              "    </tr>\n",
              "    <tr>\n",
              "      <th>17</th>\n",
              "      <td>False</td>\n",
              "      <td>False</td>\n",
              "      <td>False</td>\n",
              "      <td>False</td>\n",
              "      <td>False</td>\n",
              "      <td>False</td>\n",
              "      <td>False</td>\n",
              "      <td>False</td>\n",
              "      <td>False</td>\n",
              "      <td>False</td>\n",
              "      <td>False</td>\n",
              "      <td>False</td>\n",
              "      <td>False</td>\n",
              "      <td>False</td>\n",
              "      <td>False</td>\n",
              "      <td>False</td>\n",
              "      <td>False</td>\n",
              "      <td>False</td>\n",
              "      <td>False</td>\n",
              "      <td>False</td>\n",
              "      <td>False</td>\n",
              "      <td>False</td>\n",
              "      <td>False</td>\n",
              "      <td>False</td>\n",
              "      <td>False</td>\n",
              "      <td>False</td>\n",
              "      <td>False</td>\n",
              "      <td>False</td>\n",
              "      <td>False</td>\n",
              "    </tr>\n",
              "    <tr>\n",
              "      <th>18</th>\n",
              "      <td>False</td>\n",
              "      <td>False</td>\n",
              "      <td>False</td>\n",
              "      <td>False</td>\n",
              "      <td>False</td>\n",
              "      <td>False</td>\n",
              "      <td>False</td>\n",
              "      <td>False</td>\n",
              "      <td>False</td>\n",
              "      <td>False</td>\n",
              "      <td>False</td>\n",
              "      <td>False</td>\n",
              "      <td>False</td>\n",
              "      <td>False</td>\n",
              "      <td>False</td>\n",
              "      <td>False</td>\n",
              "      <td>False</td>\n",
              "      <td>False</td>\n",
              "      <td>False</td>\n",
              "      <td>False</td>\n",
              "      <td>False</td>\n",
              "      <td>False</td>\n",
              "      <td>False</td>\n",
              "      <td>False</td>\n",
              "      <td>False</td>\n",
              "      <td>False</td>\n",
              "      <td>False</td>\n",
              "      <td>False</td>\n",
              "      <td>False</td>\n",
              "    </tr>\n",
              "    <tr>\n",
              "      <th>19</th>\n",
              "      <td>False</td>\n",
              "      <td>False</td>\n",
              "      <td>False</td>\n",
              "      <td>False</td>\n",
              "      <td>False</td>\n",
              "      <td>False</td>\n",
              "      <td>False</td>\n",
              "      <td>False</td>\n",
              "      <td>False</td>\n",
              "      <td>False</td>\n",
              "      <td>False</td>\n",
              "      <td>False</td>\n",
              "      <td>False</td>\n",
              "      <td>False</td>\n",
              "      <td>False</td>\n",
              "      <td>False</td>\n",
              "      <td>False</td>\n",
              "      <td>False</td>\n",
              "      <td>False</td>\n",
              "      <td>False</td>\n",
              "      <td>False</td>\n",
              "      <td>False</td>\n",
              "      <td>False</td>\n",
              "      <td>False</td>\n",
              "      <td>False</td>\n",
              "      <td>False</td>\n",
              "      <td>False</td>\n",
              "      <td>False</td>\n",
              "      <td>False</td>\n",
              "    </tr>\n",
              "    <tr>\n",
              "      <th>20</th>\n",
              "      <td>False</td>\n",
              "      <td>False</td>\n",
              "      <td>False</td>\n",
              "      <td>False</td>\n",
              "      <td>False</td>\n",
              "      <td>False</td>\n",
              "      <td>False</td>\n",
              "      <td>False</td>\n",
              "      <td>True</td>\n",
              "      <td>True</td>\n",
              "      <td>False</td>\n",
              "      <td>False</td>\n",
              "      <td>False</td>\n",
              "      <td>False</td>\n",
              "      <td>True</td>\n",
              "      <td>False</td>\n",
              "      <td>False</td>\n",
              "      <td>False</td>\n",
              "      <td>True</td>\n",
              "      <td>True</td>\n",
              "      <td>False</td>\n",
              "      <td>False</td>\n",
              "      <td>False</td>\n",
              "      <td>False</td>\n",
              "      <td>False</td>\n",
              "      <td>False</td>\n",
              "      <td>False</td>\n",
              "      <td>False</td>\n",
              "      <td>False</td>\n",
              "    </tr>\n",
              "    <tr>\n",
              "      <th>21</th>\n",
              "      <td>False</td>\n",
              "      <td>False</td>\n",
              "      <td>False</td>\n",
              "      <td>False</td>\n",
              "      <td>False</td>\n",
              "      <td>False</td>\n",
              "      <td>False</td>\n",
              "      <td>False</td>\n",
              "      <td>False</td>\n",
              "      <td>False</td>\n",
              "      <td>False</td>\n",
              "      <td>False</td>\n",
              "      <td>False</td>\n",
              "      <td>False</td>\n",
              "      <td>False</td>\n",
              "      <td>False</td>\n",
              "      <td>False</td>\n",
              "      <td>False</td>\n",
              "      <td>False</td>\n",
              "      <td>False</td>\n",
              "      <td>False</td>\n",
              "      <td>False</td>\n",
              "      <td>False</td>\n",
              "      <td>False</td>\n",
              "      <td>False</td>\n",
              "      <td>False</td>\n",
              "      <td>False</td>\n",
              "      <td>False</td>\n",
              "      <td>False</td>\n",
              "    </tr>\n",
              "    <tr>\n",
              "      <th>22</th>\n",
              "      <td>False</td>\n",
              "      <td>False</td>\n",
              "      <td>False</td>\n",
              "      <td>False</td>\n",
              "      <td>False</td>\n",
              "      <td>False</td>\n",
              "      <td>False</td>\n",
              "      <td>False</td>\n",
              "      <td>False</td>\n",
              "      <td>False</td>\n",
              "      <td>False</td>\n",
              "      <td>False</td>\n",
              "      <td>False</td>\n",
              "      <td>False</td>\n",
              "      <td>False</td>\n",
              "      <td>False</td>\n",
              "      <td>False</td>\n",
              "      <td>False</td>\n",
              "      <td>False</td>\n",
              "      <td>False</td>\n",
              "      <td>False</td>\n",
              "      <td>False</td>\n",
              "      <td>False</td>\n",
              "      <td>False</td>\n",
              "      <td>False</td>\n",
              "      <td>False</td>\n",
              "      <td>False</td>\n",
              "      <td>False</td>\n",
              "      <td>False</td>\n",
              "    </tr>\n",
              "    <tr>\n",
              "      <th>23</th>\n",
              "      <td>False</td>\n",
              "      <td>False</td>\n",
              "      <td>False</td>\n",
              "      <td>False</td>\n",
              "      <td>False</td>\n",
              "      <td>False</td>\n",
              "      <td>False</td>\n",
              "      <td>False</td>\n",
              "      <td>False</td>\n",
              "      <td>False</td>\n",
              "      <td>False</td>\n",
              "      <td>False</td>\n",
              "      <td>False</td>\n",
              "      <td>False</td>\n",
              "      <td>False</td>\n",
              "      <td>False</td>\n",
              "      <td>False</td>\n",
              "      <td>False</td>\n",
              "      <td>False</td>\n",
              "      <td>False</td>\n",
              "      <td>False</td>\n",
              "      <td>False</td>\n",
              "      <td>False</td>\n",
              "      <td>False</td>\n",
              "      <td>False</td>\n",
              "      <td>False</td>\n",
              "      <td>False</td>\n",
              "      <td>False</td>\n",
              "      <td>False</td>\n",
              "    </tr>\n",
              "    <tr>\n",
              "      <th>24</th>\n",
              "      <td>False</td>\n",
              "      <td>False</td>\n",
              "      <td>False</td>\n",
              "      <td>False</td>\n",
              "      <td>False</td>\n",
              "      <td>False</td>\n",
              "      <td>False</td>\n",
              "      <td>False</td>\n",
              "      <td>False</td>\n",
              "      <td>False</td>\n",
              "      <td>False</td>\n",
              "      <td>False</td>\n",
              "      <td>False</td>\n",
              "      <td>False</td>\n",
              "      <td>False</td>\n",
              "      <td>False</td>\n",
              "      <td>False</td>\n",
              "      <td>False</td>\n",
              "      <td>False</td>\n",
              "      <td>False</td>\n",
              "      <td>False</td>\n",
              "      <td>False</td>\n",
              "      <td>False</td>\n",
              "      <td>False</td>\n",
              "      <td>False</td>\n",
              "      <td>False</td>\n",
              "      <td>False</td>\n",
              "      <td>False</td>\n",
              "      <td>False</td>\n",
              "    </tr>\n",
              "    <tr>\n",
              "      <th>25</th>\n",
              "      <td>False</td>\n",
              "      <td>False</td>\n",
              "      <td>False</td>\n",
              "      <td>False</td>\n",
              "      <td>False</td>\n",
              "      <td>False</td>\n",
              "      <td>False</td>\n",
              "      <td>False</td>\n",
              "      <td>False</td>\n",
              "      <td>False</td>\n",
              "      <td>False</td>\n",
              "      <td>False</td>\n",
              "      <td>False</td>\n",
              "      <td>False</td>\n",
              "      <td>False</td>\n",
              "      <td>False</td>\n",
              "      <td>False</td>\n",
              "      <td>False</td>\n",
              "      <td>False</td>\n",
              "      <td>False</td>\n",
              "      <td>False</td>\n",
              "      <td>False</td>\n",
              "      <td>False</td>\n",
              "      <td>False</td>\n",
              "      <td>False</td>\n",
              "      <td>False</td>\n",
              "      <td>False</td>\n",
              "      <td>False</td>\n",
              "      <td>False</td>\n",
              "    </tr>\n",
              "    <tr>\n",
              "      <th>26</th>\n",
              "      <td>False</td>\n",
              "      <td>False</td>\n",
              "      <td>False</td>\n",
              "      <td>False</td>\n",
              "      <td>False</td>\n",
              "      <td>False</td>\n",
              "      <td>False</td>\n",
              "      <td>False</td>\n",
              "      <td>True</td>\n",
              "      <td>True</td>\n",
              "      <td>False</td>\n",
              "      <td>False</td>\n",
              "      <td>False</td>\n",
              "      <td>False</td>\n",
              "      <td>True</td>\n",
              "      <td>False</td>\n",
              "      <td>False</td>\n",
              "      <td>False</td>\n",
              "      <td>False</td>\n",
              "      <td>False</td>\n",
              "      <td>False</td>\n",
              "      <td>False</td>\n",
              "      <td>False</td>\n",
              "      <td>False</td>\n",
              "      <td>False</td>\n",
              "      <td>False</td>\n",
              "      <td>False</td>\n",
              "      <td>False</td>\n",
              "      <td>False</td>\n",
              "    </tr>\n",
              "    <tr>\n",
              "      <th>27</th>\n",
              "      <td>False</td>\n",
              "      <td>False</td>\n",
              "      <td>False</td>\n",
              "      <td>False</td>\n",
              "      <td>False</td>\n",
              "      <td>False</td>\n",
              "      <td>False</td>\n",
              "      <td>False</td>\n",
              "      <td>False</td>\n",
              "      <td>False</td>\n",
              "      <td>False</td>\n",
              "      <td>False</td>\n",
              "      <td>False</td>\n",
              "      <td>False</td>\n",
              "      <td>False</td>\n",
              "      <td>False</td>\n",
              "      <td>False</td>\n",
              "      <td>False</td>\n",
              "      <td>False</td>\n",
              "      <td>False</td>\n",
              "      <td>False</td>\n",
              "      <td>False</td>\n",
              "      <td>False</td>\n",
              "      <td>False</td>\n",
              "      <td>False</td>\n",
              "      <td>False</td>\n",
              "      <td>False</td>\n",
              "      <td>False</td>\n",
              "      <td>False</td>\n",
              "    </tr>\n",
              "    <tr>\n",
              "      <th>28</th>\n",
              "      <td>False</td>\n",
              "      <td>False</td>\n",
              "      <td>False</td>\n",
              "      <td>False</td>\n",
              "      <td>False</td>\n",
              "      <td>False</td>\n",
              "      <td>False</td>\n",
              "      <td>False</td>\n",
              "      <td>False</td>\n",
              "      <td>False</td>\n",
              "      <td>False</td>\n",
              "      <td>False</td>\n",
              "      <td>False</td>\n",
              "      <td>False</td>\n",
              "      <td>False</td>\n",
              "      <td>False</td>\n",
              "      <td>False</td>\n",
              "      <td>False</td>\n",
              "      <td>False</td>\n",
              "      <td>False</td>\n",
              "      <td>False</td>\n",
              "      <td>False</td>\n",
              "      <td>False</td>\n",
              "      <td>False</td>\n",
              "      <td>False</td>\n",
              "      <td>False</td>\n",
              "      <td>False</td>\n",
              "      <td>False</td>\n",
              "      <td>False</td>\n",
              "    </tr>\n",
              "    <tr>\n",
              "      <th>29</th>\n",
              "      <td>False</td>\n",
              "      <td>False</td>\n",
              "      <td>False</td>\n",
              "      <td>False</td>\n",
              "      <td>False</td>\n",
              "      <td>False</td>\n",
              "      <td>False</td>\n",
              "      <td>False</td>\n",
              "      <td>False</td>\n",
              "      <td>False</td>\n",
              "      <td>False</td>\n",
              "      <td>False</td>\n",
              "      <td>False</td>\n",
              "      <td>False</td>\n",
              "      <td>False</td>\n",
              "      <td>False</td>\n",
              "      <td>False</td>\n",
              "      <td>False</td>\n",
              "      <td>False</td>\n",
              "      <td>False</td>\n",
              "      <td>False</td>\n",
              "      <td>False</td>\n",
              "      <td>False</td>\n",
              "      <td>False</td>\n",
              "      <td>False</td>\n",
              "      <td>False</td>\n",
              "      <td>False</td>\n",
              "      <td>False</td>\n",
              "      <td>False</td>\n",
              "    </tr>\n",
              "    <tr>\n",
              "      <th>...</th>\n",
              "      <td>...</td>\n",
              "      <td>...</td>\n",
              "      <td>...</td>\n",
              "      <td>...</td>\n",
              "      <td>...</td>\n",
              "      <td>...</td>\n",
              "      <td>...</td>\n",
              "      <td>...</td>\n",
              "      <td>...</td>\n",
              "      <td>...</td>\n",
              "      <td>...</td>\n",
              "      <td>...</td>\n",
              "      <td>...</td>\n",
              "      <td>...</td>\n",
              "      <td>...</td>\n",
              "      <td>...</td>\n",
              "      <td>...</td>\n",
              "      <td>...</td>\n",
              "      <td>...</td>\n",
              "      <td>...</td>\n",
              "      <td>...</td>\n",
              "      <td>...</td>\n",
              "      <td>...</td>\n",
              "      <td>...</td>\n",
              "      <td>...</td>\n",
              "      <td>...</td>\n",
              "      <td>...</td>\n",
              "      <td>...</td>\n",
              "      <td>...</td>\n",
              "    </tr>\n",
              "    <tr>\n",
              "      <th>970</th>\n",
              "      <td>False</td>\n",
              "      <td>False</td>\n",
              "      <td>False</td>\n",
              "      <td>False</td>\n",
              "      <td>False</td>\n",
              "      <td>False</td>\n",
              "      <td>False</td>\n",
              "      <td>False</td>\n",
              "      <td>False</td>\n",
              "      <td>False</td>\n",
              "      <td>False</td>\n",
              "      <td>False</td>\n",
              "      <td>False</td>\n",
              "      <td>False</td>\n",
              "      <td>False</td>\n",
              "      <td>False</td>\n",
              "      <td>False</td>\n",
              "      <td>False</td>\n",
              "      <td>False</td>\n",
              "      <td>False</td>\n",
              "      <td>False</td>\n",
              "      <td>False</td>\n",
              "      <td>False</td>\n",
              "      <td>False</td>\n",
              "      <td>False</td>\n",
              "      <td>False</td>\n",
              "      <td>False</td>\n",
              "      <td>False</td>\n",
              "      <td>False</td>\n",
              "    </tr>\n",
              "    <tr>\n",
              "      <th>971</th>\n",
              "      <td>False</td>\n",
              "      <td>False</td>\n",
              "      <td>False</td>\n",
              "      <td>False</td>\n",
              "      <td>False</td>\n",
              "      <td>False</td>\n",
              "      <td>False</td>\n",
              "      <td>False</td>\n",
              "      <td>False</td>\n",
              "      <td>False</td>\n",
              "      <td>False</td>\n",
              "      <td>False</td>\n",
              "      <td>False</td>\n",
              "      <td>False</td>\n",
              "      <td>False</td>\n",
              "      <td>False</td>\n",
              "      <td>False</td>\n",
              "      <td>False</td>\n",
              "      <td>False</td>\n",
              "      <td>False</td>\n",
              "      <td>False</td>\n",
              "      <td>False</td>\n",
              "      <td>False</td>\n",
              "      <td>False</td>\n",
              "      <td>False</td>\n",
              "      <td>False</td>\n",
              "      <td>False</td>\n",
              "      <td>False</td>\n",
              "      <td>False</td>\n",
              "    </tr>\n",
              "    <tr>\n",
              "      <th>972</th>\n",
              "      <td>False</td>\n",
              "      <td>False</td>\n",
              "      <td>False</td>\n",
              "      <td>False</td>\n",
              "      <td>False</td>\n",
              "      <td>False</td>\n",
              "      <td>False</td>\n",
              "      <td>False</td>\n",
              "      <td>False</td>\n",
              "      <td>False</td>\n",
              "      <td>False</td>\n",
              "      <td>False</td>\n",
              "      <td>False</td>\n",
              "      <td>False</td>\n",
              "      <td>False</td>\n",
              "      <td>False</td>\n",
              "      <td>False</td>\n",
              "      <td>False</td>\n",
              "      <td>False</td>\n",
              "      <td>False</td>\n",
              "      <td>False</td>\n",
              "      <td>False</td>\n",
              "      <td>False</td>\n",
              "      <td>False</td>\n",
              "      <td>False</td>\n",
              "      <td>False</td>\n",
              "      <td>False</td>\n",
              "      <td>False</td>\n",
              "      <td>False</td>\n",
              "    </tr>\n",
              "    <tr>\n",
              "      <th>973</th>\n",
              "      <td>False</td>\n",
              "      <td>False</td>\n",
              "      <td>False</td>\n",
              "      <td>False</td>\n",
              "      <td>False</td>\n",
              "      <td>False</td>\n",
              "      <td>False</td>\n",
              "      <td>False</td>\n",
              "      <td>False</td>\n",
              "      <td>False</td>\n",
              "      <td>False</td>\n",
              "      <td>False</td>\n",
              "      <td>False</td>\n",
              "      <td>False</td>\n",
              "      <td>False</td>\n",
              "      <td>False</td>\n",
              "      <td>False</td>\n",
              "      <td>False</td>\n",
              "      <td>False</td>\n",
              "      <td>False</td>\n",
              "      <td>False</td>\n",
              "      <td>False</td>\n",
              "      <td>False</td>\n",
              "      <td>False</td>\n",
              "      <td>False</td>\n",
              "      <td>False</td>\n",
              "      <td>False</td>\n",
              "      <td>False</td>\n",
              "      <td>False</td>\n",
              "    </tr>\n",
              "    <tr>\n",
              "      <th>974</th>\n",
              "      <td>False</td>\n",
              "      <td>False</td>\n",
              "      <td>False</td>\n",
              "      <td>False</td>\n",
              "      <td>False</td>\n",
              "      <td>False</td>\n",
              "      <td>False</td>\n",
              "      <td>False</td>\n",
              "      <td>False</td>\n",
              "      <td>False</td>\n",
              "      <td>False</td>\n",
              "      <td>False</td>\n",
              "      <td>False</td>\n",
              "      <td>False</td>\n",
              "      <td>False</td>\n",
              "      <td>False</td>\n",
              "      <td>False</td>\n",
              "      <td>False</td>\n",
              "      <td>False</td>\n",
              "      <td>False</td>\n",
              "      <td>False</td>\n",
              "      <td>False</td>\n",
              "      <td>False</td>\n",
              "      <td>False</td>\n",
              "      <td>False</td>\n",
              "      <td>False</td>\n",
              "      <td>False</td>\n",
              "      <td>False</td>\n",
              "      <td>False</td>\n",
              "    </tr>\n",
              "    <tr>\n",
              "      <th>975</th>\n",
              "      <td>False</td>\n",
              "      <td>False</td>\n",
              "      <td>False</td>\n",
              "      <td>False</td>\n",
              "      <td>False</td>\n",
              "      <td>False</td>\n",
              "      <td>False</td>\n",
              "      <td>False</td>\n",
              "      <td>False</td>\n",
              "      <td>False</td>\n",
              "      <td>False</td>\n",
              "      <td>False</td>\n",
              "      <td>False</td>\n",
              "      <td>False</td>\n",
              "      <td>False</td>\n",
              "      <td>False</td>\n",
              "      <td>False</td>\n",
              "      <td>False</td>\n",
              "      <td>False</td>\n",
              "      <td>False</td>\n",
              "      <td>False</td>\n",
              "      <td>False</td>\n",
              "      <td>False</td>\n",
              "      <td>False</td>\n",
              "      <td>False</td>\n",
              "      <td>False</td>\n",
              "      <td>False</td>\n",
              "      <td>False</td>\n",
              "      <td>False</td>\n",
              "    </tr>\n",
              "    <tr>\n",
              "      <th>976</th>\n",
              "      <td>False</td>\n",
              "      <td>False</td>\n",
              "      <td>False</td>\n",
              "      <td>False</td>\n",
              "      <td>False</td>\n",
              "      <td>False</td>\n",
              "      <td>False</td>\n",
              "      <td>False</td>\n",
              "      <td>False</td>\n",
              "      <td>False</td>\n",
              "      <td>False</td>\n",
              "      <td>False</td>\n",
              "      <td>False</td>\n",
              "      <td>False</td>\n",
              "      <td>False</td>\n",
              "      <td>False</td>\n",
              "      <td>False</td>\n",
              "      <td>False</td>\n",
              "      <td>False</td>\n",
              "      <td>False</td>\n",
              "      <td>False</td>\n",
              "      <td>False</td>\n",
              "      <td>False</td>\n",
              "      <td>False</td>\n",
              "      <td>False</td>\n",
              "      <td>False</td>\n",
              "      <td>False</td>\n",
              "      <td>False</td>\n",
              "      <td>False</td>\n",
              "    </tr>\n",
              "    <tr>\n",
              "      <th>977</th>\n",
              "      <td>False</td>\n",
              "      <td>False</td>\n",
              "      <td>False</td>\n",
              "      <td>False</td>\n",
              "      <td>False</td>\n",
              "      <td>False</td>\n",
              "      <td>False</td>\n",
              "      <td>False</td>\n",
              "      <td>False</td>\n",
              "      <td>False</td>\n",
              "      <td>False</td>\n",
              "      <td>False</td>\n",
              "      <td>False</td>\n",
              "      <td>False</td>\n",
              "      <td>False</td>\n",
              "      <td>False</td>\n",
              "      <td>False</td>\n",
              "      <td>False</td>\n",
              "      <td>False</td>\n",
              "      <td>False</td>\n",
              "      <td>False</td>\n",
              "      <td>False</td>\n",
              "      <td>False</td>\n",
              "      <td>False</td>\n",
              "      <td>False</td>\n",
              "      <td>False</td>\n",
              "      <td>False</td>\n",
              "      <td>False</td>\n",
              "      <td>False</td>\n",
              "    </tr>\n",
              "    <tr>\n",
              "      <th>978</th>\n",
              "      <td>False</td>\n",
              "      <td>False</td>\n",
              "      <td>False</td>\n",
              "      <td>False</td>\n",
              "      <td>False</td>\n",
              "      <td>False</td>\n",
              "      <td>False</td>\n",
              "      <td>False</td>\n",
              "      <td>False</td>\n",
              "      <td>False</td>\n",
              "      <td>False</td>\n",
              "      <td>False</td>\n",
              "      <td>False</td>\n",
              "      <td>False</td>\n",
              "      <td>False</td>\n",
              "      <td>False</td>\n",
              "      <td>False</td>\n",
              "      <td>False</td>\n",
              "      <td>False</td>\n",
              "      <td>False</td>\n",
              "      <td>False</td>\n",
              "      <td>False</td>\n",
              "      <td>False</td>\n",
              "      <td>False</td>\n",
              "      <td>False</td>\n",
              "      <td>False</td>\n",
              "      <td>False</td>\n",
              "      <td>False</td>\n",
              "      <td>False</td>\n",
              "    </tr>\n",
              "    <tr>\n",
              "      <th>979</th>\n",
              "      <td>False</td>\n",
              "      <td>False</td>\n",
              "      <td>False</td>\n",
              "      <td>False</td>\n",
              "      <td>False</td>\n",
              "      <td>False</td>\n",
              "      <td>False</td>\n",
              "      <td>False</td>\n",
              "      <td>False</td>\n",
              "      <td>False</td>\n",
              "      <td>False</td>\n",
              "      <td>False</td>\n",
              "      <td>False</td>\n",
              "      <td>False</td>\n",
              "      <td>False</td>\n",
              "      <td>False</td>\n",
              "      <td>False</td>\n",
              "      <td>False</td>\n",
              "      <td>False</td>\n",
              "      <td>False</td>\n",
              "      <td>False</td>\n",
              "      <td>False</td>\n",
              "      <td>False</td>\n",
              "      <td>False</td>\n",
              "      <td>False</td>\n",
              "      <td>False</td>\n",
              "      <td>False</td>\n",
              "      <td>False</td>\n",
              "      <td>False</td>\n",
              "    </tr>\n",
              "    <tr>\n",
              "      <th>980</th>\n",
              "      <td>False</td>\n",
              "      <td>False</td>\n",
              "      <td>False</td>\n",
              "      <td>False</td>\n",
              "      <td>False</td>\n",
              "      <td>False</td>\n",
              "      <td>False</td>\n",
              "      <td>False</td>\n",
              "      <td>True</td>\n",
              "      <td>True</td>\n",
              "      <td>False</td>\n",
              "      <td>False</td>\n",
              "      <td>False</td>\n",
              "      <td>False</td>\n",
              "      <td>True</td>\n",
              "      <td>False</td>\n",
              "      <td>False</td>\n",
              "      <td>False</td>\n",
              "      <td>False</td>\n",
              "      <td>False</td>\n",
              "      <td>False</td>\n",
              "      <td>False</td>\n",
              "      <td>False</td>\n",
              "      <td>False</td>\n",
              "      <td>False</td>\n",
              "      <td>False</td>\n",
              "      <td>False</td>\n",
              "      <td>False</td>\n",
              "      <td>False</td>\n",
              "    </tr>\n",
              "    <tr>\n",
              "      <th>981</th>\n",
              "      <td>False</td>\n",
              "      <td>False</td>\n",
              "      <td>False</td>\n",
              "      <td>False</td>\n",
              "      <td>False</td>\n",
              "      <td>False</td>\n",
              "      <td>False</td>\n",
              "      <td>False</td>\n",
              "      <td>False</td>\n",
              "      <td>False</td>\n",
              "      <td>False</td>\n",
              "      <td>False</td>\n",
              "      <td>False</td>\n",
              "      <td>False</td>\n",
              "      <td>False</td>\n",
              "      <td>False</td>\n",
              "      <td>False</td>\n",
              "      <td>False</td>\n",
              "      <td>False</td>\n",
              "      <td>False</td>\n",
              "      <td>False</td>\n",
              "      <td>False</td>\n",
              "      <td>False</td>\n",
              "      <td>False</td>\n",
              "      <td>False</td>\n",
              "      <td>False</td>\n",
              "      <td>False</td>\n",
              "      <td>False</td>\n",
              "      <td>False</td>\n",
              "    </tr>\n",
              "    <tr>\n",
              "      <th>982</th>\n",
              "      <td>False</td>\n",
              "      <td>False</td>\n",
              "      <td>False</td>\n",
              "      <td>False</td>\n",
              "      <td>False</td>\n",
              "      <td>False</td>\n",
              "      <td>False</td>\n",
              "      <td>False</td>\n",
              "      <td>False</td>\n",
              "      <td>False</td>\n",
              "      <td>False</td>\n",
              "      <td>False</td>\n",
              "      <td>False</td>\n",
              "      <td>False</td>\n",
              "      <td>False</td>\n",
              "      <td>False</td>\n",
              "      <td>False</td>\n",
              "      <td>False</td>\n",
              "      <td>False</td>\n",
              "      <td>False</td>\n",
              "      <td>False</td>\n",
              "      <td>False</td>\n",
              "      <td>False</td>\n",
              "      <td>False</td>\n",
              "      <td>False</td>\n",
              "      <td>False</td>\n",
              "      <td>False</td>\n",
              "      <td>False</td>\n",
              "      <td>False</td>\n",
              "    </tr>\n",
              "    <tr>\n",
              "      <th>983</th>\n",
              "      <td>False</td>\n",
              "      <td>False</td>\n",
              "      <td>False</td>\n",
              "      <td>False</td>\n",
              "      <td>False</td>\n",
              "      <td>False</td>\n",
              "      <td>False</td>\n",
              "      <td>False</td>\n",
              "      <td>False</td>\n",
              "      <td>False</td>\n",
              "      <td>False</td>\n",
              "      <td>False</td>\n",
              "      <td>False</td>\n",
              "      <td>False</td>\n",
              "      <td>False</td>\n",
              "      <td>False</td>\n",
              "      <td>False</td>\n",
              "      <td>False</td>\n",
              "      <td>False</td>\n",
              "      <td>False</td>\n",
              "      <td>False</td>\n",
              "      <td>False</td>\n",
              "      <td>False</td>\n",
              "      <td>False</td>\n",
              "      <td>False</td>\n",
              "      <td>False</td>\n",
              "      <td>False</td>\n",
              "      <td>False</td>\n",
              "      <td>False</td>\n",
              "    </tr>\n",
              "    <tr>\n",
              "      <th>984</th>\n",
              "      <td>False</td>\n",
              "      <td>False</td>\n",
              "      <td>False</td>\n",
              "      <td>False</td>\n",
              "      <td>False</td>\n",
              "      <td>False</td>\n",
              "      <td>False</td>\n",
              "      <td>False</td>\n",
              "      <td>False</td>\n",
              "      <td>False</td>\n",
              "      <td>False</td>\n",
              "      <td>False</td>\n",
              "      <td>False</td>\n",
              "      <td>False</td>\n",
              "      <td>False</td>\n",
              "      <td>False</td>\n",
              "      <td>False</td>\n",
              "      <td>False</td>\n",
              "      <td>False</td>\n",
              "      <td>False</td>\n",
              "      <td>False</td>\n",
              "      <td>False</td>\n",
              "      <td>False</td>\n",
              "      <td>False</td>\n",
              "      <td>False</td>\n",
              "      <td>False</td>\n",
              "      <td>False</td>\n",
              "      <td>False</td>\n",
              "      <td>False</td>\n",
              "    </tr>\n",
              "    <tr>\n",
              "      <th>985</th>\n",
              "      <td>False</td>\n",
              "      <td>False</td>\n",
              "      <td>False</td>\n",
              "      <td>False</td>\n",
              "      <td>False</td>\n",
              "      <td>False</td>\n",
              "      <td>False</td>\n",
              "      <td>False</td>\n",
              "      <td>False</td>\n",
              "      <td>False</td>\n",
              "      <td>False</td>\n",
              "      <td>False</td>\n",
              "      <td>False</td>\n",
              "      <td>False</td>\n",
              "      <td>False</td>\n",
              "      <td>False</td>\n",
              "      <td>False</td>\n",
              "      <td>False</td>\n",
              "      <td>False</td>\n",
              "      <td>False</td>\n",
              "      <td>False</td>\n",
              "      <td>False</td>\n",
              "      <td>False</td>\n",
              "      <td>False</td>\n",
              "      <td>False</td>\n",
              "      <td>False</td>\n",
              "      <td>False</td>\n",
              "      <td>False</td>\n",
              "      <td>False</td>\n",
              "    </tr>\n",
              "    <tr>\n",
              "      <th>986</th>\n",
              "      <td>False</td>\n",
              "      <td>False</td>\n",
              "      <td>False</td>\n",
              "      <td>False</td>\n",
              "      <td>False</td>\n",
              "      <td>False</td>\n",
              "      <td>False</td>\n",
              "      <td>False</td>\n",
              "      <td>False</td>\n",
              "      <td>False</td>\n",
              "      <td>False</td>\n",
              "      <td>False</td>\n",
              "      <td>False</td>\n",
              "      <td>False</td>\n",
              "      <td>False</td>\n",
              "      <td>False</td>\n",
              "      <td>False</td>\n",
              "      <td>False</td>\n",
              "      <td>False</td>\n",
              "      <td>False</td>\n",
              "      <td>False</td>\n",
              "      <td>False</td>\n",
              "      <td>False</td>\n",
              "      <td>False</td>\n",
              "      <td>False</td>\n",
              "      <td>False</td>\n",
              "      <td>False</td>\n",
              "      <td>False</td>\n",
              "      <td>False</td>\n",
              "    </tr>\n",
              "    <tr>\n",
              "      <th>987</th>\n",
              "      <td>False</td>\n",
              "      <td>False</td>\n",
              "      <td>False</td>\n",
              "      <td>False</td>\n",
              "      <td>False</td>\n",
              "      <td>False</td>\n",
              "      <td>False</td>\n",
              "      <td>False</td>\n",
              "      <td>False</td>\n",
              "      <td>False</td>\n",
              "      <td>False</td>\n",
              "      <td>False</td>\n",
              "      <td>False</td>\n",
              "      <td>False</td>\n",
              "      <td>False</td>\n",
              "      <td>False</td>\n",
              "      <td>False</td>\n",
              "      <td>False</td>\n",
              "      <td>False</td>\n",
              "      <td>False</td>\n",
              "      <td>False</td>\n",
              "      <td>False</td>\n",
              "      <td>False</td>\n",
              "      <td>False</td>\n",
              "      <td>False</td>\n",
              "      <td>False</td>\n",
              "      <td>False</td>\n",
              "      <td>False</td>\n",
              "      <td>False</td>\n",
              "    </tr>\n",
              "    <tr>\n",
              "      <th>988</th>\n",
              "      <td>False</td>\n",
              "      <td>False</td>\n",
              "      <td>False</td>\n",
              "      <td>False</td>\n",
              "      <td>False</td>\n",
              "      <td>False</td>\n",
              "      <td>False</td>\n",
              "      <td>False</td>\n",
              "      <td>False</td>\n",
              "      <td>False</td>\n",
              "      <td>False</td>\n",
              "      <td>False</td>\n",
              "      <td>False</td>\n",
              "      <td>False</td>\n",
              "      <td>False</td>\n",
              "      <td>False</td>\n",
              "      <td>False</td>\n",
              "      <td>False</td>\n",
              "      <td>False</td>\n",
              "      <td>False</td>\n",
              "      <td>False</td>\n",
              "      <td>False</td>\n",
              "      <td>False</td>\n",
              "      <td>False</td>\n",
              "      <td>False</td>\n",
              "      <td>False</td>\n",
              "      <td>False</td>\n",
              "      <td>False</td>\n",
              "      <td>False</td>\n",
              "    </tr>\n",
              "    <tr>\n",
              "      <th>989</th>\n",
              "      <td>False</td>\n",
              "      <td>False</td>\n",
              "      <td>False</td>\n",
              "      <td>False</td>\n",
              "      <td>False</td>\n",
              "      <td>False</td>\n",
              "      <td>False</td>\n",
              "      <td>False</td>\n",
              "      <td>False</td>\n",
              "      <td>False</td>\n",
              "      <td>False</td>\n",
              "      <td>False</td>\n",
              "      <td>False</td>\n",
              "      <td>False</td>\n",
              "      <td>False</td>\n",
              "      <td>False</td>\n",
              "      <td>False</td>\n",
              "      <td>False</td>\n",
              "      <td>False</td>\n",
              "      <td>False</td>\n",
              "      <td>False</td>\n",
              "      <td>False</td>\n",
              "      <td>False</td>\n",
              "      <td>False</td>\n",
              "      <td>False</td>\n",
              "      <td>False</td>\n",
              "      <td>False</td>\n",
              "      <td>False</td>\n",
              "      <td>False</td>\n",
              "    </tr>\n",
              "    <tr>\n",
              "      <th>990</th>\n",
              "      <td>False</td>\n",
              "      <td>False</td>\n",
              "      <td>False</td>\n",
              "      <td>False</td>\n",
              "      <td>False</td>\n",
              "      <td>False</td>\n",
              "      <td>False</td>\n",
              "      <td>False</td>\n",
              "      <td>False</td>\n",
              "      <td>False</td>\n",
              "      <td>False</td>\n",
              "      <td>False</td>\n",
              "      <td>False</td>\n",
              "      <td>False</td>\n",
              "      <td>False</td>\n",
              "      <td>False</td>\n",
              "      <td>False</td>\n",
              "      <td>False</td>\n",
              "      <td>False</td>\n",
              "      <td>False</td>\n",
              "      <td>False</td>\n",
              "      <td>False</td>\n",
              "      <td>False</td>\n",
              "      <td>False</td>\n",
              "      <td>False</td>\n",
              "      <td>False</td>\n",
              "      <td>False</td>\n",
              "      <td>False</td>\n",
              "      <td>False</td>\n",
              "    </tr>\n",
              "    <tr>\n",
              "      <th>991</th>\n",
              "      <td>False</td>\n",
              "      <td>False</td>\n",
              "      <td>False</td>\n",
              "      <td>False</td>\n",
              "      <td>False</td>\n",
              "      <td>False</td>\n",
              "      <td>False</td>\n",
              "      <td>False</td>\n",
              "      <td>False</td>\n",
              "      <td>False</td>\n",
              "      <td>False</td>\n",
              "      <td>False</td>\n",
              "      <td>False</td>\n",
              "      <td>False</td>\n",
              "      <td>False</td>\n",
              "      <td>False</td>\n",
              "      <td>False</td>\n",
              "      <td>False</td>\n",
              "      <td>False</td>\n",
              "      <td>False</td>\n",
              "      <td>False</td>\n",
              "      <td>False</td>\n",
              "      <td>False</td>\n",
              "      <td>False</td>\n",
              "      <td>False</td>\n",
              "      <td>False</td>\n",
              "      <td>False</td>\n",
              "      <td>False</td>\n",
              "      <td>False</td>\n",
              "    </tr>\n",
              "    <tr>\n",
              "      <th>992</th>\n",
              "      <td>False</td>\n",
              "      <td>False</td>\n",
              "      <td>False</td>\n",
              "      <td>False</td>\n",
              "      <td>False</td>\n",
              "      <td>False</td>\n",
              "      <td>False</td>\n",
              "      <td>False</td>\n",
              "      <td>False</td>\n",
              "      <td>False</td>\n",
              "      <td>False</td>\n",
              "      <td>False</td>\n",
              "      <td>False</td>\n",
              "      <td>False</td>\n",
              "      <td>False</td>\n",
              "      <td>False</td>\n",
              "      <td>False</td>\n",
              "      <td>False</td>\n",
              "      <td>False</td>\n",
              "      <td>False</td>\n",
              "      <td>False</td>\n",
              "      <td>False</td>\n",
              "      <td>False</td>\n",
              "      <td>False</td>\n",
              "      <td>False</td>\n",
              "      <td>False</td>\n",
              "      <td>False</td>\n",
              "      <td>False</td>\n",
              "      <td>False</td>\n",
              "    </tr>\n",
              "    <tr>\n",
              "      <th>993</th>\n",
              "      <td>False</td>\n",
              "      <td>False</td>\n",
              "      <td>False</td>\n",
              "      <td>False</td>\n",
              "      <td>False</td>\n",
              "      <td>False</td>\n",
              "      <td>False</td>\n",
              "      <td>False</td>\n",
              "      <td>False</td>\n",
              "      <td>False</td>\n",
              "      <td>False</td>\n",
              "      <td>False</td>\n",
              "      <td>False</td>\n",
              "      <td>False</td>\n",
              "      <td>False</td>\n",
              "      <td>False</td>\n",
              "      <td>False</td>\n",
              "      <td>False</td>\n",
              "      <td>False</td>\n",
              "      <td>False</td>\n",
              "      <td>False</td>\n",
              "      <td>False</td>\n",
              "      <td>False</td>\n",
              "      <td>False</td>\n",
              "      <td>False</td>\n",
              "      <td>False</td>\n",
              "      <td>False</td>\n",
              "      <td>False</td>\n",
              "      <td>False</td>\n",
              "    </tr>\n",
              "    <tr>\n",
              "      <th>994</th>\n",
              "      <td>False</td>\n",
              "      <td>False</td>\n",
              "      <td>False</td>\n",
              "      <td>False</td>\n",
              "      <td>False</td>\n",
              "      <td>False</td>\n",
              "      <td>False</td>\n",
              "      <td>False</td>\n",
              "      <td>False</td>\n",
              "      <td>False</td>\n",
              "      <td>False</td>\n",
              "      <td>False</td>\n",
              "      <td>False</td>\n",
              "      <td>False</td>\n",
              "      <td>False</td>\n",
              "      <td>False</td>\n",
              "      <td>False</td>\n",
              "      <td>False</td>\n",
              "      <td>False</td>\n",
              "      <td>False</td>\n",
              "      <td>False</td>\n",
              "      <td>False</td>\n",
              "      <td>False</td>\n",
              "      <td>False</td>\n",
              "      <td>False</td>\n",
              "      <td>False</td>\n",
              "      <td>False</td>\n",
              "      <td>False</td>\n",
              "      <td>False</td>\n",
              "    </tr>\n",
              "    <tr>\n",
              "      <th>995</th>\n",
              "      <td>False</td>\n",
              "      <td>False</td>\n",
              "      <td>False</td>\n",
              "      <td>False</td>\n",
              "      <td>False</td>\n",
              "      <td>False</td>\n",
              "      <td>False</td>\n",
              "      <td>False</td>\n",
              "      <td>True</td>\n",
              "      <td>True</td>\n",
              "      <td>False</td>\n",
              "      <td>False</td>\n",
              "      <td>False</td>\n",
              "      <td>False</td>\n",
              "      <td>True</td>\n",
              "      <td>False</td>\n",
              "      <td>False</td>\n",
              "      <td>False</td>\n",
              "      <td>True</td>\n",
              "      <td>True</td>\n",
              "      <td>False</td>\n",
              "      <td>False</td>\n",
              "      <td>False</td>\n",
              "      <td>False</td>\n",
              "      <td>False</td>\n",
              "      <td>False</td>\n",
              "      <td>False</td>\n",
              "      <td>False</td>\n",
              "      <td>False</td>\n",
              "    </tr>\n",
              "    <tr>\n",
              "      <th>996</th>\n",
              "      <td>False</td>\n",
              "      <td>False</td>\n",
              "      <td>False</td>\n",
              "      <td>False</td>\n",
              "      <td>False</td>\n",
              "      <td>False</td>\n",
              "      <td>False</td>\n",
              "      <td>False</td>\n",
              "      <td>False</td>\n",
              "      <td>False</td>\n",
              "      <td>False</td>\n",
              "      <td>False</td>\n",
              "      <td>False</td>\n",
              "      <td>False</td>\n",
              "      <td>False</td>\n",
              "      <td>False</td>\n",
              "      <td>False</td>\n",
              "      <td>False</td>\n",
              "      <td>False</td>\n",
              "      <td>False</td>\n",
              "      <td>False</td>\n",
              "      <td>False</td>\n",
              "      <td>False</td>\n",
              "      <td>False</td>\n",
              "      <td>False</td>\n",
              "      <td>False</td>\n",
              "      <td>False</td>\n",
              "      <td>False</td>\n",
              "      <td>False</td>\n",
              "    </tr>\n",
              "    <tr>\n",
              "      <th>997</th>\n",
              "      <td>False</td>\n",
              "      <td>False</td>\n",
              "      <td>False</td>\n",
              "      <td>False</td>\n",
              "      <td>False</td>\n",
              "      <td>False</td>\n",
              "      <td>False</td>\n",
              "      <td>False</td>\n",
              "      <td>False</td>\n",
              "      <td>False</td>\n",
              "      <td>False</td>\n",
              "      <td>False</td>\n",
              "      <td>False</td>\n",
              "      <td>False</td>\n",
              "      <td>False</td>\n",
              "      <td>False</td>\n",
              "      <td>False</td>\n",
              "      <td>False</td>\n",
              "      <td>False</td>\n",
              "      <td>False</td>\n",
              "      <td>False</td>\n",
              "      <td>False</td>\n",
              "      <td>False</td>\n",
              "      <td>False</td>\n",
              "      <td>False</td>\n",
              "      <td>False</td>\n",
              "      <td>False</td>\n",
              "      <td>False</td>\n",
              "      <td>False</td>\n",
              "    </tr>\n",
              "    <tr>\n",
              "      <th>998</th>\n",
              "      <td>False</td>\n",
              "      <td>False</td>\n",
              "      <td>False</td>\n",
              "      <td>False</td>\n",
              "      <td>False</td>\n",
              "      <td>False</td>\n",
              "      <td>False</td>\n",
              "      <td>False</td>\n",
              "      <td>False</td>\n",
              "      <td>False</td>\n",
              "      <td>False</td>\n",
              "      <td>False</td>\n",
              "      <td>False</td>\n",
              "      <td>False</td>\n",
              "      <td>False</td>\n",
              "      <td>False</td>\n",
              "      <td>False</td>\n",
              "      <td>False</td>\n",
              "      <td>False</td>\n",
              "      <td>False</td>\n",
              "      <td>False</td>\n",
              "      <td>False</td>\n",
              "      <td>False</td>\n",
              "      <td>False</td>\n",
              "      <td>False</td>\n",
              "      <td>False</td>\n",
              "      <td>False</td>\n",
              "      <td>False</td>\n",
              "      <td>False</td>\n",
              "    </tr>\n",
              "    <tr>\n",
              "      <th>999</th>\n",
              "      <td>False</td>\n",
              "      <td>False</td>\n",
              "      <td>False</td>\n",
              "      <td>False</td>\n",
              "      <td>False</td>\n",
              "      <td>False</td>\n",
              "      <td>False</td>\n",
              "      <td>False</td>\n",
              "      <td>True</td>\n",
              "      <td>False</td>\n",
              "      <td>False</td>\n",
              "      <td>False</td>\n",
              "      <td>False</td>\n",
              "      <td>False</td>\n",
              "      <td>True</td>\n",
              "      <td>False</td>\n",
              "      <td>False</td>\n",
              "      <td>False</td>\n",
              "      <td>False</td>\n",
              "      <td>False</td>\n",
              "      <td>False</td>\n",
              "      <td>False</td>\n",
              "      <td>False</td>\n",
              "      <td>False</td>\n",
              "      <td>False</td>\n",
              "      <td>False</td>\n",
              "      <td>False</td>\n",
              "      <td>False</td>\n",
              "      <td>False</td>\n",
              "    </tr>\n",
              "  </tbody>\n",
              "</table>\n",
              "<p>1000 rows × 29 columns</p>\n",
              "</div>"
            ],
            "text/plain": [
              "       OBS  DURATION  NEW_CAR  ...  EMPLOYMENT  PRESENT_RESIDENT    JOB\n",
              "0    False     False    False  ...       False             False  False\n",
              "1    False     False    False  ...       False             False  False\n",
              "2    False     False    False  ...       False             False  False\n",
              "3    False     False    False  ...       False             False  False\n",
              "4    False     False    False  ...       False             False  False\n",
              "5    False     False    False  ...       False             False  False\n",
              "6    False     False    False  ...       False             False  False\n",
              "7    False     False    False  ...       False             False  False\n",
              "8    False     False    False  ...       False             False  False\n",
              "9    False     False    False  ...       False             False  False\n",
              "10   False     False    False  ...       False             False  False\n",
              "11   False     False    False  ...       False             False  False\n",
              "12   False     False    False  ...       False             False  False\n",
              "13   False     False    False  ...       False             False  False\n",
              "14   False     False    False  ...       False             False  False\n",
              "15   False     False    False  ...       False             False  False\n",
              "16   False     False    False  ...       False             False  False\n",
              "17   False     False    False  ...       False             False  False\n",
              "18   False     False    False  ...       False             False  False\n",
              "19   False     False    False  ...       False             False  False\n",
              "20   False     False    False  ...       False             False  False\n",
              "21   False     False    False  ...       False             False  False\n",
              "22   False     False    False  ...       False             False  False\n",
              "23   False     False    False  ...       False             False  False\n",
              "24   False     False    False  ...       False             False  False\n",
              "25   False     False    False  ...       False             False  False\n",
              "26   False     False    False  ...       False             False  False\n",
              "27   False     False    False  ...       False             False  False\n",
              "28   False     False    False  ...       False             False  False\n",
              "29   False     False    False  ...       False             False  False\n",
              "..     ...       ...      ...  ...         ...               ...    ...\n",
              "970  False     False    False  ...       False             False  False\n",
              "971  False     False    False  ...       False             False  False\n",
              "972  False     False    False  ...       False             False  False\n",
              "973  False     False    False  ...       False             False  False\n",
              "974  False     False    False  ...       False             False  False\n",
              "975  False     False    False  ...       False             False  False\n",
              "976  False     False    False  ...       False             False  False\n",
              "977  False     False    False  ...       False             False  False\n",
              "978  False     False    False  ...       False             False  False\n",
              "979  False     False    False  ...       False             False  False\n",
              "980  False     False    False  ...       False             False  False\n",
              "981  False     False    False  ...       False             False  False\n",
              "982  False     False    False  ...       False             False  False\n",
              "983  False     False    False  ...       False             False  False\n",
              "984  False     False    False  ...       False             False  False\n",
              "985  False     False    False  ...       False             False  False\n",
              "986  False     False    False  ...       False             False  False\n",
              "987  False     False    False  ...       False             False  False\n",
              "988  False     False    False  ...       False             False  False\n",
              "989  False     False    False  ...       False             False  False\n",
              "990  False     False    False  ...       False             False  False\n",
              "991  False     False    False  ...       False             False  False\n",
              "992  False     False    False  ...       False             False  False\n",
              "993  False     False    False  ...       False             False  False\n",
              "994  False     False    False  ...       False             False  False\n",
              "995  False     False    False  ...       False             False  False\n",
              "996  False     False    False  ...       False             False  False\n",
              "997  False     False    False  ...       False             False  False\n",
              "998  False     False    False  ...       False             False  False\n",
              "999  False     False    False  ...       False             False  False\n",
              "\n",
              "[1000 rows x 29 columns]"
            ]
          },
          "metadata": {
            "tags": []
          },
          "execution_count": 56
        }
      ]
    },
    {
      "cell_type": "code",
      "metadata": {
        "ExecuteTime": {
          "end_time": "2018-12-28T11:29:59.442198Z",
          "start_time": "2018-12-28T11:29:59.430262Z"
        },
        "id": "d882-zVpT-GS",
        "colab_type": "code",
        "outputId": "c0b96c7d-bfe2-4d6b-f5f9-a170c532c41b",
        "colab": {
          "base_uri": "https://localhost:8080/",
          "height": 527
        }
      },
      "source": [
        "df3.isnull().sum()"
      ],
      "execution_count": 0,
      "outputs": [
        {
          "output_type": "execute_result",
          "data": {
            "text/plain": [
              "OBS                  0\n",
              "DURATION             2\n",
              "NEW_CAR              0\n",
              "USED_CAR             0\n",
              "FURNITURE            0\n",
              "RADIO_TV             0\n",
              "EDUCATION            0\n",
              "RETRAINING           0\n",
              "AMOUNT              10\n",
              "INSTALL_RATE         7\n",
              "CO_APPLICANT         0\n",
              "GUARANTOR            0\n",
              "REAL_ESTATE          0\n",
              "PROP_UNKN_NONE       0\n",
              "AGE                 10\n",
              "OTHER_INSTALL        0\n",
              "RENT                 0\n",
              "OWN_RES              0\n",
              "NUM_CREDITS          6\n",
              "NUM_DEPENDENTS       7\n",
              "TELEPHONE            0\n",
              "FOREIGN              0\n",
              "RESPONSE             0\n",
              "CHK_ACCT             0\n",
              "HISTORY              0\n",
              "SAV_ACCT             0\n",
              "EMPLOYMENT           0\n",
              "PRESENT_RESIDENT     0\n",
              "JOB                  0\n",
              "dtype: int64"
            ]
          },
          "metadata": {
            "tags": []
          },
          "execution_count": 57
        }
      ]
    },
    {
      "cell_type": "code",
      "metadata": {
        "ExecuteTime": {
          "end_time": "2018-12-28T11:29:59.562705Z",
          "start_time": "2018-12-28T11:29:59.444882Z"
        },
        "id": "pFq6O027T-Gi",
        "colab_type": "code",
        "colab": {}
      },
      "source": [
        "def na_column_names(dataset,per = 0):\n",
        "    \"\"\"function to identify columns with na values\n",
        "    \"\"\"\n",
        "    na_cols = dataset.isnull().sum()[dataset.isnull().sum()>per]\n",
        "    return(list(na_cols.index))"
      ],
      "execution_count": 0,
      "outputs": []
    },
    {
      "cell_type": "code",
      "metadata": {
        "ExecuteTime": {
          "end_time": "2018-12-28T11:29:59.749687Z",
          "start_time": "2018-12-28T11:29:59.566664Z"
        },
        "id": "mThhvOvKT-Gi",
        "colab_type": "code",
        "outputId": "b1731c7b-0483-4a09-b31b-3177abb7c49f",
        "colab": {
          "base_uri": "https://localhost:8080/",
          "height": 34
        }
      },
      "source": [
        "na_column_names(df3)"
      ],
      "execution_count": 0,
      "outputs": [
        {
          "output_type": "execute_result",
          "data": {
            "text/plain": [
              "['DURATION', 'AMOUNT', 'INSTALL_RATE', 'AGE', 'NUM_CREDITS', 'NUM_DEPENDENTS']"
            ]
          },
          "metadata": {
            "tags": []
          },
          "execution_count": 59
        }
      ]
    },
    {
      "cell_type": "markdown",
      "metadata": {
        "id": "QSEXhXI7T-Gi",
        "colab_type": "text"
      },
      "source": [
        "#### Dropping the records with missing values"
      ]
    },
    {
      "cell_type": "code",
      "metadata": {
        "ExecuteTime": {
          "end_time": "2018-12-28T11:30:00.795258Z",
          "start_time": "2018-12-28T11:30:00.782432Z"
        },
        "id": "E36JOiv0T-Gi",
        "colab_type": "code",
        "colab": {}
      },
      "source": [
        "temp = df3.dropna()"
      ],
      "execution_count": 0,
      "outputs": []
    },
    {
      "cell_type": "code",
      "metadata": {
        "ExecuteTime": {
          "end_time": "2018-12-28T11:30:00.942638Z",
          "start_time": "2018-12-28T11:30:00.799268Z"
        },
        "id": "_YTJu7OpT-Gx",
        "colab_type": "code",
        "outputId": "683b21b1-44ad-4768-d7ee-5422dfb58486",
        "colab": {
          "base_uri": "https://localhost:8080/"
        }
      },
      "source": [
        "# Looking at the dimension\n",
        "temp.shape"
      ],
      "execution_count": 0,
      "outputs": [
        {
          "output_type": "execute_result",
          "data": {
            "text/plain": [
              "(986, 29)"
            ]
          },
          "metadata": {
            "tags": []
          },
          "execution_count": 61
        }
      ]
    },
    {
      "cell_type": "code",
      "metadata": {
        "ExecuteTime": {
          "end_time": "2018-12-28T11:30:01.138074Z",
          "start_time": "2018-12-28T11:30:00.945047Z"
        },
        "id": "FvRiXgL1T-Gx",
        "colab_type": "code",
        "outputId": "6f775a97-b2cf-4ac0-c6d7-5d6c2c4765f5",
        "colab": {
          "base_uri": "https://localhost:8080/"
        }
      },
      "source": [
        "df3.dropna(thresh=25,axis=0).shape #Keep only the rows with at least 25 non-na values"
      ],
      "execution_count": 0,
      "outputs": [
        {
          "output_type": "execute_result",
          "data": {
            "text/plain": [
              "(996, 29)"
            ]
          },
          "metadata": {
            "tags": []
          },
          "execution_count": 62
        }
      ]
    },
    {
      "cell_type": "markdown",
      "metadata": {
        "id": "4ZGUSy6lT-Gx",
        "colab_type": "text"
      },
      "source": [
        "#### Imputing Numeric Columns"
      ]
    },
    {
      "cell_type": "code",
      "metadata": {
        "ExecuteTime": {
          "end_time": "2018-12-28T11:30:01.882489Z",
          "start_time": "2018-12-28T11:30:01.363296Z"
        },
        "id": "h-yNetCyT-Gx",
        "colab_type": "code",
        "colab": {}
      },
      "source": [
        "from sklearn.preprocessing import Imputer"
      ],
      "execution_count": 0,
      "outputs": []
    },
    {
      "cell_type": "code",
      "metadata": {
        "ExecuteTime": {
          "end_time": "2018-12-28T11:30:01.892126Z",
          "start_time": "2018-12-28T11:30:01.886455Z"
        },
        "id": "x7G812oBT-Gx",
        "colab_type": "code",
        "outputId": "45f7aa47-8e8c-4684-e1a7-bdd2d0605569",
        "colab": {
          "base_uri": "https://localhost:8080/"
        }
      },
      "source": [
        "imp_num = Imputer(missing_values='NaN', strategy='median', axis=0) #Create an imputer object"
      ],
      "execution_count": 0,
      "outputs": [
        {
          "output_type": "stream",
          "text": [
            "/usr/local/lib/python3.6/dist-packages/sklearn/utils/deprecation.py:66: DeprecationWarning: Class Imputer is deprecated; Imputer was deprecated in version 0.20 and will be removed in 0.22. Import impute.SimpleImputer from sklearn instead.\n",
            "  warnings.warn(msg, category=DeprecationWarning)\n"
          ],
          "name": "stderr"
        }
      ]
    },
    {
      "cell_type": "code",
      "metadata": {
        "ExecuteTime": {
          "end_time": "2018-12-28T11:30:02.027318Z",
          "start_time": "2018-12-28T11:30:01.895877Z"
        },
        "id": "UHsMDxnnT-HB",
        "colab_type": "code",
        "colab": {}
      },
      "source": [
        "df_num_nans_imputed = pd.DataFrame(imp_num.fit_transform(df3[num_attr]), columns=num_attr) #fit and transform"
      ],
      "execution_count": 0,
      "outputs": []
    },
    {
      "cell_type": "code",
      "metadata": {
        "ExecuteTime": {
          "end_time": "2018-12-28T11:30:02.328984Z",
          "start_time": "2018-12-28T11:30:02.031288Z"
        },
        "id": "Mr3jiA-HT-HB",
        "colab_type": "code",
        "outputId": "d040d790-b352-4a5d-aae2-91d47f40a868",
        "colab": {
          "base_uri": "https://localhost:8080/"
        }
      },
      "source": [
        "df_num_nans_imputed.isnull().sum()    "
      ],
      "execution_count": 0,
      "outputs": [
        {
          "output_type": "execute_result",
          "data": {
            "text/plain": [
              "DURATION          0\n",
              "AMOUNT            0\n",
              "INSTALL_RATE      0\n",
              "AGE               0\n",
              "NUM_CREDITS       0\n",
              "NUM_DEPENDENTS    0\n",
              "dtype: int64"
            ]
          },
          "metadata": {
            "tags": []
          },
          "execution_count": 66
        }
      ]
    },
    {
      "cell_type": "markdown",
      "metadata": {
        "id": "OteF9VU8T-HB",
        "colab_type": "text"
      },
      "source": [
        "#### Imputing Categorical columns with mode"
      ]
    },
    {
      "cell_type": "code",
      "metadata": {
        "ExecuteTime": {
          "end_time": "2018-12-28T11:30:02.527288Z",
          "start_time": "2018-12-28T11:30:02.332454Z"
        },
        "id": "8IJmK0ObT-HB",
        "colab_type": "code",
        "outputId": "3a04cb5d-291a-4268-ed41-d31782e3b61b",
        "colab": {
          "base_uri": "https://localhost:8080/"
        }
      },
      "source": [
        "df3[cat_attr].dtypes"
      ],
      "execution_count": 0,
      "outputs": [
        {
          "output_type": "execute_result",
          "data": {
            "text/plain": [
              "OBS                 object\n",
              "NEW_CAR             object\n",
              "USED_CAR            object\n",
              "FURNITURE           object\n",
              "RADIO_TV            object\n",
              "EDUCATION           object\n",
              "RETRAINING          object\n",
              "CO_APPLICANT        object\n",
              "GUARANTOR           object\n",
              "REAL_ESTATE         object\n",
              "PROP_UNKN_NONE      object\n",
              "OTHER_INSTALL       object\n",
              "RENT                object\n",
              "OWN_RES             object\n",
              "TELEPHONE           object\n",
              "FOREIGN             object\n",
              "RESPONSE            object\n",
              "CHK_ACCT            object\n",
              "HISTORY             object\n",
              "SAV_ACCT            object\n",
              "EMPLOYMENT          object\n",
              "PRESENT_RESIDENT    object\n",
              "JOB                 object\n",
              "dtype: object"
            ]
          },
          "metadata": {
            "tags": []
          },
          "execution_count": 67
        }
      ]
    },
    {
      "cell_type": "markdown",
      "metadata": {
        "id": "Zhj1AaWCT-HB",
        "colab_type": "text"
      },
      "source": [
        "\n",
        "when we convered the columns in to string type, nan will be treated as a string, we will replace the string with pythons inbuilt null type"
      ]
    },
    {
      "cell_type": "code",
      "metadata": {
        "ExecuteTime": {
          "end_time": "2018-12-28T11:30:02.845225Z",
          "start_time": "2018-12-28T11:30:02.823048Z"
        },
        "id": "VSA9_UyiT-HQ",
        "colab_type": "code",
        "colab": {}
      },
      "source": [
        "df3[cat_attr] = df3[cat_attr].replace('nan',np.NaN)"
      ],
      "execution_count": 0,
      "outputs": []
    },
    {
      "cell_type": "code",
      "metadata": {
        "ExecuteTime": {
          "end_time": "2018-12-28T11:30:03.103173Z",
          "start_time": "2018-12-28T11:30:02.848199Z"
        },
        "id": "RHHvKHGZT-HQ",
        "colab_type": "code",
        "colab": {}
      },
      "source": [
        "df_cat_nans_imputed = df3[cat_attr].apply(lambda x:x.fillna(x.value_counts().index[0]))"
      ],
      "execution_count": 0,
      "outputs": []
    },
    {
      "cell_type": "code",
      "metadata": {
        "ExecuteTime": {
          "end_time": "2018-12-28T11:30:03.310498Z",
          "start_time": "2018-12-28T11:30:03.105631Z"
        },
        "id": "gLL4yMLUT-HQ",
        "colab_type": "code",
        "colab": {}
      },
      "source": [
        "df_imputed = pd.concat([df_num_nans_imputed,df_cat_nans_imputed],axis=1)"
      ],
      "execution_count": 0,
      "outputs": []
    },
    {
      "cell_type": "code",
      "metadata": {
        "ExecuteTime": {
          "end_time": "2018-12-28T11:30:03.656679Z",
          "start_time": "2018-12-28T11:30:03.314228Z"
        },
        "id": "1bNJ-vCZT-HQ",
        "colab_type": "code",
        "outputId": "6940e15e-f2f2-4126-dda7-a9707ae75359",
        "colab": {
          "base_uri": "https://localhost:8080/"
        }
      },
      "source": [
        "df_imputed.columns"
      ],
      "execution_count": 0,
      "outputs": [
        {
          "output_type": "execute_result",
          "data": {
            "text/plain": [
              "Index(['DURATION', 'AMOUNT', 'INSTALL_RATE', 'AGE', 'NUM_CREDITS',\n",
              "       'NUM_DEPENDENTS', 'OBS', 'NEW_CAR', 'USED_CAR', 'FURNITURE', 'RADIO_TV',\n",
              "       'EDUCATION', 'RETRAINING', 'CO_APPLICANT', 'GUARANTOR', 'REAL_ESTATE',\n",
              "       'PROP_UNKN_NONE', 'OTHER_INSTALL', 'RENT', 'OWN_RES', 'TELEPHONE',\n",
              "       'FOREIGN', 'RESPONSE', 'CHK_ACCT', 'HISTORY', 'SAV_ACCT', 'EMPLOYMENT',\n",
              "       'PRESENT_RESIDENT', 'JOB'],\n",
              "      dtype='object')"
            ]
          },
          "metadata": {
            "tags": []
          },
          "execution_count": 71
        }
      ]
    },
    {
      "cell_type": "code",
      "metadata": {
        "ExecuteTime": {
          "end_time": "2018-12-28T11:30:03.791589Z",
          "start_time": "2018-12-28T11:30:03.659654Z"
        },
        "id": "jrtyE_UhT-HQ",
        "colab_type": "code",
        "outputId": "8ce228ff-c771-421a-f8d5-1e3621c790e0",
        "colab": {
          "base_uri": "https://localhost:8080/"
        }
      },
      "source": [
        "df_imputed.shape"
      ],
      "execution_count": 0,
      "outputs": [
        {
          "output_type": "execute_result",
          "data": {
            "text/plain": [
              "(1000, 29)"
            ]
          },
          "metadata": {
            "tags": []
          },
          "execution_count": 72
        }
      ]
    },
    {
      "cell_type": "code",
      "metadata": {
        "ExecuteTime": {
          "end_time": "2018-12-28T11:30:03.937413Z",
          "start_time": "2018-12-28T11:30:03.795196Z"
        },
        "id": "UswQU9GxT-HQ",
        "colab_type": "code",
        "outputId": "d7697b77-51bb-44de-ed9f-b07d8352c8dd",
        "colab": {
          "base_uri": "https://localhost:8080/"
        }
      },
      "source": [
        "df3.shape"
      ],
      "execution_count": 0,
      "outputs": [
        {
          "output_type": "execute_result",
          "data": {
            "text/plain": [
              "(1000, 29)"
            ]
          },
          "metadata": {
            "tags": []
          },
          "execution_count": 73
        }
      ]
    },
    {
      "cell_type": "markdown",
      "metadata": {
        "id": "VBYFiNIUT-HQ",
        "colab_type": "text"
      },
      "source": [
        "### Binning"
      ]
    },
    {
      "cell_type": "code",
      "metadata": {
        "ExecuteTime": {
          "end_time": "2018-12-28T11:30:04.066869Z",
          "start_time": "2018-12-28T11:30:03.942176Z"
        },
        "id": "ZbmtwYPcT-HQ",
        "colab_type": "code",
        "colab": {}
      },
      "source": [
        "bin_cutoffs =[i for i in range(0,np.max(df_imputed.AMOUNT.astype(\"int64\")),2000)]"
      ],
      "execution_count": 0,
      "outputs": []
    },
    {
      "cell_type": "code",
      "metadata": {
        "ExecuteTime": {
          "end_time": "2018-12-28T11:30:04.222120Z",
          "start_time": "2018-12-28T11:30:04.071075Z"
        },
        "id": "1Y6QnjyMT-Hg",
        "colab_type": "code",
        "outputId": "b3a929ab-f828-41fa-ea18-b235614cf93d",
        "colab": {
          "base_uri": "https://localhost:8080/"
        }
      },
      "source": [
        "bin_cutoffs,len(bin_cutoffs)"
      ],
      "execution_count": 0,
      "outputs": [
        {
          "output_type": "execute_result",
          "data": {
            "text/plain": [
              "([0, 2000, 4000, 6000, 8000, 10000, 12000, 14000, 16000, 18000], 10)"
            ]
          },
          "metadata": {
            "tags": []
          },
          "execution_count": 75
        }
      ]
    },
    {
      "cell_type": "markdown",
      "metadata": {
        "id": "IyVp0AtGT-Hg",
        "colab_type": "text"
      },
      "source": [
        "#### `digitize` method\n",
        "returns an array showing the bin number to which each value belongs to"
      ]
    },
    {
      "cell_type": "code",
      "metadata": {
        "ExecuteTime": {
          "end_time": "2018-12-28T11:30:04.356535Z",
          "start_time": "2018-12-28T11:30:04.307927Z"
        },
        "id": "JCBsoTJ8T-Hg",
        "colab_type": "code",
        "colab": {}
      },
      "source": [
        "bin_numbers = np.digitize(df_imputed.AMOUNT.astype(\"int64\"),bins=bin_cutoffs)"
      ],
      "execution_count": 0,
      "outputs": []
    },
    {
      "cell_type": "code",
      "metadata": {
        "ExecuteTime": {
          "end_time": "2018-12-28T11:30:04.687937Z",
          "start_time": "2018-12-28T11:30:04.360996Z"
        },
        "id": "oVH1IGjHT-Hg",
        "colab_type": "code",
        "outputId": "c5bd3a30-d959-4fcc-9c55-e22313fd9e29",
        "colab": {
          "base_uri": "https://localhost:8080/"
        }
      },
      "source": [
        "for i in zip(df_imputed.AMOUNT,bin_numbers):\n",
        "    print(i)"
      ],
      "execution_count": 0,
      "outputs": [
        {
          "output_type": "stream",
          "text": [
            "(1169.0, 1)\n",
            "(5951.0, 3)\n",
            "(2096.0, 2)\n",
            "(7882.0, 4)\n",
            "(4870.0, 3)\n",
            "(9055.0, 5)\n",
            "(2835.0, 2)\n",
            "(6948.0, 4)\n",
            "(3059.0, 2)\n",
            "(5234.0, 3)\n",
            "(1295.0, 1)\n",
            "(4308.0, 3)\n",
            "(1567.0, 1)\n",
            "(2321.5, 2)\n",
            "(1403.0, 1)\n",
            "(1282.0, 1)\n",
            "(2424.0, 2)\n",
            "(8072.0, 5)\n",
            "(12579.0, 7)\n",
            "(3430.0, 2)\n",
            "(2321.5, 2)\n",
            "(2647.0, 2)\n",
            "(2241.0, 2)\n",
            "(1804.0, 1)\n",
            "(2069.0, 2)\n",
            "(1374.0, 1)\n",
            "(2321.5, 2)\n",
            "(409.0, 1)\n",
            "(2415.0, 2)\n",
            "(6836.0, 4)\n",
            "(1913.0, 1)\n",
            "(4020.0, 3)\n",
            "(5866.0, 3)\n",
            "(1264.0, 1)\n",
            "(1474.0, 1)\n",
            "(4746.0, 3)\n",
            "(6110.0, 4)\n",
            "(2100.0, 2)\n",
            "(1225.0, 1)\n",
            "(458.0, 1)\n",
            "(2333.0, 2)\n",
            "(1158.0, 1)\n",
            "(6204.0, 4)\n",
            "(6187.0, 4)\n",
            "(6143.0, 4)\n",
            "(1393.0, 1)\n",
            "(2299.0, 2)\n",
            "(2321.5, 2)\n",
            "(7228.0, 4)\n",
            "(2073.0, 2)\n",
            "(2333.0, 2)\n",
            "(5965.0, 3)\n",
            "(1262.0, 1)\n",
            "(3378.0, 2)\n",
            "(2225.0, 2)\n",
            "(783.0, 1)\n",
            "(6468.0, 4)\n",
            "(9566.0, 5)\n",
            "(1961.0, 1)\n",
            "(6229.0, 4)\n",
            "(1391.0, 1)\n",
            "(1537.0, 1)\n",
            "(1953.0, 1)\n",
            "(14421.0, 8)\n",
            "(3181.0, 2)\n",
            "(5190.0, 3)\n",
            "(2171.0, 2)\n",
            "(1007.0, 1)\n",
            "(1819.0, 1)\n",
            "(2394.0, 2)\n",
            "(8133.0, 5)\n",
            "(730.0, 1)\n",
            "(1164.0, 1)\n",
            "(5954.0, 3)\n",
            "(1977.0, 1)\n",
            "(1526.0, 1)\n",
            "(3965.0, 2)\n",
            "(4771.0, 3)\n",
            "(9436.0, 5)\n",
            "(3832.0, 2)\n",
            "(5943.0, 3)\n",
            "(1213.0, 1)\n",
            "(1568.0, 1)\n",
            "(1755.0, 1)\n",
            "(2315.0, 2)\n",
            "(1412.0, 1)\n",
            "(1295.0, 1)\n",
            "(12612.0, 7)\n",
            "(2249.0, 2)\n",
            "(1108.0, 1)\n",
            "(618.0, 1)\n",
            "(1409.0, 1)\n",
            "(797.0, 1)\n",
            "(3617.0, 2)\n",
            "(1318.0, 1)\n",
            "(15945.0, 8)\n",
            "(2012.0, 2)\n",
            "(2622.0, 2)\n",
            "(2337.0, 2)\n",
            "(7057.0, 4)\n",
            "(1469.0, 1)\n",
            "(2323.0, 2)\n",
            "(932.0, 1)\n",
            "(1919.0, 1)\n",
            "(2445.0, 2)\n",
            "(11938.0, 6)\n",
            "(6458.0, 4)\n",
            "(6078.0, 4)\n",
            "(7721.0, 4)\n",
            "(1410.0, 1)\n",
            "(1449.0, 1)\n",
            "(392.0, 1)\n",
            "(6260.0, 4)\n",
            "(7855.0, 4)\n",
            "(1680.0, 1)\n",
            "(3578.0, 2)\n",
            "(7174.0, 4)\n",
            "(2132.0, 2)\n",
            "(4281.0, 3)\n",
            "(2366.0, 2)\n",
            "(1835.0, 1)\n",
            "(3868.0, 2)\n",
            "(1768.0, 1)\n",
            "(781.0, 1)\n",
            "(1924.0, 1)\n",
            "(2121.0, 2)\n",
            "(701.0, 1)\n",
            "(639.0, 1)\n",
            "(1860.0, 1)\n",
            "(3499.0, 2)\n",
            "(8487.0, 5)\n",
            "(6887.0, 4)\n",
            "(2708.0, 2)\n",
            "(1984.0, 1)\n",
            "(10144.0, 6)\n",
            "(1240.0, 1)\n",
            "(8613.0, 5)\n",
            "(766.0, 1)\n",
            "(2728.0, 2)\n",
            "(1881.0, 1)\n",
            "(709.0, 1)\n",
            "(4795.0, 3)\n",
            "(3416.0, 2)\n",
            "(2462.0, 2)\n",
            "(2288.0, 2)\n",
            "(3566.0, 2)\n",
            "(860.0, 1)\n",
            "(682.0, 1)\n",
            "(5371.0, 3)\n",
            "(1582.0, 1)\n",
            "(1346.0, 1)\n",
            "(1924.0, 1)\n",
            "(5848.0, 3)\n",
            "(7758.0, 4)\n",
            "(6967.0, 4)\n",
            "(1282.0, 1)\n",
            "(1288.0, 1)\n",
            "(339.0, 1)\n",
            "(3512.0, 2)\n",
            "(1898.0, 1)\n",
            "(2872.0, 2)\n",
            "(1055.0, 1)\n",
            "(1262.0, 1)\n",
            "(7308.0, 4)\n",
            "(909.0, 1)\n",
            "(2978.0, 2)\n",
            "(1131.0, 1)\n",
            "(1577.0, 1)\n",
            "(3972.0, 2)\n",
            "(1935.0, 1)\n",
            "(950.0, 1)\n",
            "(763.0, 1)\n",
            "(2064.0, 2)\n",
            "(1414.0, 1)\n",
            "(3414.0, 2)\n",
            "(7485.0, 4)\n",
            "(2577.0, 2)\n",
            "(338.0, 1)\n",
            "(1963.0, 1)\n",
            "(571.0, 1)\n",
            "(9572.0, 5)\n",
            "(4455.0, 3)\n",
            "(1647.0, 1)\n",
            "(3777.0, 2)\n",
            "(884.0, 1)\n",
            "(1360.0, 1)\n",
            "(5129.0, 3)\n",
            "(1175.0, 1)\n",
            "(674.0, 1)\n",
            "(3244.0, 2)\n",
            "(4591.0, 3)\n",
            "(3844.0, 2)\n",
            "(3915.0, 2)\n",
            "(2108.0, 2)\n",
            "(3031.0, 2)\n",
            "(1501.0, 1)\n",
            "(1382.0, 1)\n",
            "(951.0, 1)\n",
            "(2760.0, 2)\n",
            "(4297.0, 3)\n",
            "(936.0, 1)\n",
            "(1168.0, 1)\n",
            "(5117.0, 3)\n",
            "(902.0, 1)\n",
            "(1495.0, 1)\n",
            "(10623.0, 6)\n",
            "(1935.0, 1)\n",
            "(1424.0, 1)\n",
            "(6568.0, 4)\n",
            "(1413.0, 1)\n",
            "(3074.0, 2)\n",
            "(3835.0, 2)\n",
            "(5293.0, 3)\n",
            "(1908.0, 1)\n",
            "(2321.5, 2)\n",
            "(932.0, 1)\n",
            "(3104.0, 2)\n",
            "(3913.0, 2)\n",
            "(3021.0, 2)\n",
            "(1364.0, 1)\n",
            "(625.0, 1)\n",
            "(1200.0, 1)\n",
            "(707.0, 1)\n",
            "(2978.0, 2)\n",
            "(4657.0, 3)\n",
            "(2613.0, 2)\n",
            "(10961.0, 6)\n",
            "(7865.0, 4)\n",
            "(1478.0, 1)\n",
            "(3149.0, 2)\n",
            "(4210.0, 3)\n",
            "(2507.0, 2)\n",
            "(2141.0, 2)\n",
            "(866.0, 1)\n",
            "(1544.0, 1)\n",
            "(1823.0, 1)\n",
            "(14555.0, 8)\n",
            "(2767.0, 2)\n",
            "(1291.0, 1)\n",
            "(2522.0, 2)\n",
            "(915.0, 1)\n",
            "(1595.0, 1)\n",
            "(4605.0, 3)\n",
            "(1185.0, 1)\n",
            "(3447.0, 2)\n",
            "(1258.0, 1)\n",
            "(717.0, 1)\n",
            "(1204.0, 1)\n",
            "(1925.0, 1)\n",
            "(433.0, 1)\n",
            "(666.0, 1)\n",
            "(2251.0, 2)\n",
            "(2150.0, 2)\n",
            "(4151.0, 3)\n",
            "(2030.0, 2)\n",
            "(7418.0, 4)\n",
            "(2684.0, 2)\n",
            "(2149.0, 2)\n",
            "(3812.0, 2)\n",
            "(1154.0, 1)\n",
            "(1657.0, 1)\n",
            "(1603.0, 1)\n",
            "(5302.0, 3)\n",
            "(2748.0, 2)\n",
            "(1231.0, 1)\n",
            "(802.0, 1)\n",
            "(2321.5, 2)\n",
            "(1533.0, 1)\n",
            "(8978.0, 5)\n",
            "(999.0, 1)\n",
            "(2662.0, 2)\n",
            "(1402.0, 1)\n",
            "(12169.0, 7)\n",
            "(3060.0, 2)\n",
            "(11998.0, 6)\n",
            "(2697.0, 2)\n",
            "(2404.0, 2)\n",
            "(1262.0, 1)\n",
            "(4611.0, 3)\n",
            "(1901.0, 1)\n",
            "(3368.0, 2)\n",
            "(1574.0, 1)\n",
            "(1445.0, 1)\n",
            "(1520.0, 1)\n",
            "(3878.0, 2)\n",
            "(10722.0, 6)\n",
            "(4788.0, 3)\n",
            "(7582.0, 4)\n",
            "(1092.0, 1)\n",
            "(1024.0, 1)\n",
            "(1076.0, 1)\n",
            "(9398.0, 5)\n",
            "(6419.0, 4)\n",
            "(4796.0, 3)\n",
            "(7629.0, 4)\n",
            "(9960.0, 5)\n",
            "(4675.0, 3)\n",
            "(1287.0, 1)\n",
            "(2515.0, 2)\n",
            "(2745.0, 2)\n",
            "(672.0, 1)\n",
            "(3804.0, 2)\n",
            "(1344.0, 1)\n",
            "(1038.0, 1)\n",
            "(10127.0, 6)\n",
            "(1543.0, 1)\n",
            "(4811.0, 3)\n",
            "(727.0, 1)\n",
            "(1237.0, 1)\n",
            "(276.0, 1)\n",
            "(5381.0, 3)\n",
            "(5511.0, 3)\n",
            "(3749.0, 2)\n",
            "(685.0, 1)\n",
            "(1494.0, 1)\n",
            "(2746.0, 2)\n",
            "(708.0, 1)\n",
            "(4351.0, 3)\n",
            "(701.0, 1)\n",
            "(3643.0, 2)\n",
            "(4249.0, 3)\n",
            "(1938.0, 1)\n",
            "(2910.0, 2)\n",
            "(2659.0, 2)\n",
            "(1028.0, 1)\n",
            "(3398.0, 2)\n",
            "(5801.0, 3)\n",
            "(1525.0, 1)\n",
            "(4473.0, 3)\n",
            "(1068.0, 1)\n",
            "(6615.0, 4)\n",
            "(1864.0, 1)\n",
            "(7408.0, 4)\n",
            "(11590.0, 6)\n",
            "(4110.0, 3)\n",
            "(3384.0, 2)\n",
            "(2101.0, 2)\n",
            "(1275.0, 1)\n",
            "(4169.0, 3)\n",
            "(1521.0, 1)\n",
            "(5743.0, 3)\n",
            "(3599.0, 2)\n",
            "(3213.0, 2)\n",
            "(4439.0, 3)\n",
            "(3949.0, 2)\n",
            "(1459.0, 1)\n",
            "(882.0, 1)\n",
            "(3758.0, 2)\n",
            "(1743.0, 1)\n",
            "(1136.0, 1)\n",
            "(1236.0, 1)\n",
            "(959.0, 1)\n",
            "(3229.0, 2)\n",
            "(6199.0, 4)\n",
            "(727.0, 1)\n",
            "(1246.0, 1)\n",
            "(2331.0, 2)\n",
            "(4463.0, 3)\n",
            "(776.0, 1)\n",
            "(2406.0, 2)\n",
            "(1239.0, 1)\n",
            "(3399.0, 2)\n",
            "(2247.0, 2)\n",
            "(1766.0, 1)\n",
            "(2473.0, 2)\n",
            "(1542.0, 1)\n",
            "(3850.0, 2)\n",
            "(3650.0, 2)\n",
            "(3446.0, 2)\n",
            "(3001.0, 2)\n",
            "(3079.0, 2)\n",
            "(6070.0, 4)\n",
            "(2146.0, 2)\n",
            "(13756.0, 7)\n",
            "(14782.0, 8)\n",
            "(7685.0, 4)\n",
            "(2320.0, 2)\n",
            "(846.0, 1)\n",
            "(14318.0, 8)\n",
            "(362.0, 1)\n",
            "(2212.0, 2)\n",
            "(12976.0, 7)\n",
            "(1283.0, 1)\n",
            "(1330.0, 1)\n",
            "(4272.0, 3)\n",
            "(2238.0, 2)\n",
            "(1126.0, 1)\n",
            "(7374.0, 4)\n",
            "(2326.0, 2)\n",
            "(1449.0, 1)\n",
            "(1820.0, 1)\n",
            "(983.0, 1)\n",
            "(3249.0, 2)\n",
            "(1957.0, 1)\n",
            "(2406.0, 2)\n",
            "(11760.0, 6)\n",
            "(2578.0, 2)\n",
            "(2348.0, 2)\n",
            "(1223.0, 1)\n",
            "(1516.0, 1)\n",
            "(1473.0, 1)\n",
            "(1887.0, 1)\n",
            "(8648.0, 5)\n",
            "(802.0, 1)\n",
            "(2899.0, 2)\n",
            "(2039.0, 2)\n",
            "(2197.0, 2)\n",
            "(1053.0, 1)\n",
            "(3235.0, 2)\n",
            "(939.0, 1)\n",
            "(1967.0, 1)\n",
            "(7253.0, 4)\n",
            "(2292.0, 2)\n",
            "(1597.0, 1)\n",
            "(1381.0, 1)\n",
            "(5842.0, 3)\n",
            "(2579.0, 2)\n",
            "(8471.0, 5)\n",
            "(2782.0, 2)\n",
            "(1042.0, 1)\n",
            "(3186.0, 2)\n",
            "(2028.0, 2)\n",
            "(958.0, 1)\n",
            "(1591.0, 1)\n",
            "(2762.0, 2)\n",
            "(2779.0, 2)\n",
            "(2743.0, 2)\n",
            "(1149.0, 1)\n",
            "(1313.0, 1)\n",
            "(1190.0, 1)\n",
            "(3448.0, 2)\n",
            "(11328.0, 6)\n",
            "(1872.0, 1)\n",
            "(2058.0, 2)\n",
            "(2136.0, 2)\n",
            "(1484.0, 1)\n",
            "(660.0, 1)\n",
            "(1287.0, 1)\n",
            "(3394.0, 2)\n",
            "(609.0, 1)\n",
            "(1884.0, 1)\n",
            "(1620.0, 1)\n",
            "(2629.0, 2)\n",
            "(719.0, 1)\n",
            "(5096.0, 3)\n",
            "(1244.0, 1)\n",
            "(1842.0, 1)\n",
            "(2576.0, 2)\n",
            "(1424.0, 1)\n",
            "(1512.0, 1)\n",
            "(11054.0, 6)\n",
            "(518.0, 1)\n",
            "(2759.0, 2)\n",
            "(2670.0, 2)\n",
            "(4817.0, 3)\n",
            "(2679.0, 2)\n",
            "(3905.0, 2)\n",
            "(3386.0, 2)\n",
            "(343.0, 1)\n",
            "(4594.0, 3)\n",
            "(3620.0, 2)\n",
            "(1721.0, 1)\n",
            "(3017.0, 2)\n",
            "(754.0, 1)\n",
            "(1950.0, 1)\n",
            "(2924.0, 2)\n",
            "(1659.0, 1)\n",
            "(7238.0, 4)\n",
            "(2764.0, 2)\n",
            "(4679.0, 3)\n",
            "(3092.0, 2)\n",
            "(448.0, 1)\n",
            "(654.0, 1)\n",
            "(1238.0, 1)\n",
            "(1245.0, 1)\n",
            "(3114.0, 2)\n",
            "(2569.0, 2)\n",
            "(5152.0, 3)\n",
            "(1037.0, 1)\n",
            "(1478.0, 1)\n",
            "(3573.0, 2)\n",
            "(1201.0, 1)\n",
            "(3622.0, 2)\n",
            "(960.0, 1)\n",
            "(1163.0, 1)\n",
            "(1209.0, 1)\n",
            "(3077.0, 2)\n",
            "(3757.0, 2)\n",
            "(1418.0, 1)\n",
            "(3518.0, 2)\n",
            "(1934.0, 1)\n",
            "(8318.0, 5)\n",
            "(1237.0, 1)\n",
            "(368.0, 1)\n",
            "(2122.0, 2)\n",
            "(2996.0, 2)\n",
            "(9034.0, 5)\n",
            "(1585.0, 1)\n",
            "(1301.0, 1)\n",
            "(1323.0, 1)\n",
            "(3123.0, 2)\n",
            "(5493.0, 3)\n",
            "(1126.0, 1)\n",
            "(1216.0, 1)\n",
            "(1207.0, 1)\n",
            "(1309.0, 1)\n",
            "(2360.0, 2)\n",
            "(6850.0, 4)\n",
            "(1413.0, 1)\n",
            "(8588.0, 5)\n",
            "(759.0, 1)\n",
            "(4686.0, 3)\n",
            "(2687.0, 2)\n",
            "(585.0, 1)\n",
            "(2255.0, 2)\n",
            "(609.0, 1)\n",
            "(1361.0, 1)\n",
            "(7127.0, 4)\n",
            "(1203.0, 1)\n",
            "(700.0, 1)\n",
            "(5507.0, 3)\n",
            "(3190.0, 2)\n",
            "(7119.0, 4)\n",
            "(3488.0, 2)\n",
            "(1113.0, 1)\n",
            "(7966.0, 4)\n",
            "(1532.0, 1)\n",
            "(1503.0, 1)\n",
            "(2302.0, 2)\n",
            "(662.0, 1)\n",
            "(2273.0, 2)\n",
            "(2631.0, 2)\n",
            "(1503.0, 1)\n",
            "(1311.0, 1)\n",
            "(3105.0, 2)\n",
            "(2319.0, 2)\n",
            "(1374.0, 1)\n",
            "(3612.0, 2)\n",
            "(7763.0, 4)\n",
            "(3049.0, 2)\n",
            "(1534.0, 1)\n",
            "(2032.0, 2)\n",
            "(6350.0, 4)\n",
            "(2864.0, 2)\n",
            "(1255.0, 1)\n",
            "(1333.0, 1)\n",
            "(2022.0, 2)\n",
            "(1552.0, 1)\n",
            "(626.0, 1)\n",
            "(8858.0, 5)\n",
            "(996.0, 1)\n",
            "(1750.0, 1)\n",
            "(6999.0, 4)\n",
            "(1995.0, 1)\n",
            "(1199.0, 1)\n",
            "(1331.0, 1)\n",
            "(2278.0, 2)\n",
            "(5003.0, 3)\n",
            "(3552.0, 2)\n",
            "(1928.0, 1)\n",
            "(2964.0, 2)\n",
            "(1546.0, 1)\n",
            "(683.0, 1)\n",
            "(12389.0, 7)\n",
            "(4712.0, 3)\n",
            "(1553.0, 1)\n",
            "(1372.0, 1)\n",
            "(2578.0, 2)\n",
            "(3979.0, 2)\n",
            "(6758.0, 4)\n",
            "(3234.0, 2)\n",
            "(5954.0, 3)\n",
            "(5433.0, 3)\n",
            "(806.0, 1)\n",
            "(1082.0, 1)\n",
            "(2788.0, 2)\n",
            "(2930.0, 2)\n",
            "(1927.0, 1)\n",
            "(2820.0, 2)\n",
            "(937.0, 1)\n",
            "(1056.0, 1)\n",
            "(3124.0, 2)\n",
            "(1388.0, 1)\n",
            "(2384.0, 2)\n",
            "(2133.0, 2)\n",
            "(2039.0, 2)\n",
            "(2799.0, 2)\n",
            "(1289.0, 1)\n",
            "(1217.0, 1)\n",
            "(2246.0, 2)\n",
            "(385.0, 1)\n",
            "(1965.0, 1)\n",
            "(1572.0, 1)\n",
            "(2718.0, 2)\n",
            "(1358.0, 1)\n",
            "(931.0, 1)\n",
            "(1442.0, 1)\n",
            "(4241.0, 3)\n",
            "(2775.0, 2)\n",
            "(3863.0, 2)\n",
            "(2329.0, 2)\n",
            "(918.0, 1)\n",
            "(1837.0, 1)\n",
            "(3349.0, 2)\n",
            "(1275.0, 1)\n",
            "(2828.0, 2)\n",
            "(4526.0, 3)\n",
            "(2671.0, 2)\n",
            "(2051.0, 2)\n",
            "(1300.0, 1)\n",
            "(741.0, 1)\n",
            "(1240.0, 1)\n",
            "(3357.0, 2)\n",
            "(3632.0, 2)\n",
            "(1808.0, 1)\n",
            "(12204.0, 7)\n",
            "(9157.0, 5)\n",
            "(3676.0, 2)\n",
            "(3441.0, 2)\n",
            "(640.0, 1)\n",
            "(3652.0, 2)\n",
            "(1530.0, 1)\n",
            "(3914.0, 2)\n",
            "(1858.0, 1)\n",
            "(2600.0, 2)\n",
            "(1979.0, 1)\n",
            "(2116.0, 2)\n",
            "(1437.0, 1)\n",
            "(4042.0, 3)\n",
            "(3832.0, 2)\n",
            "(3660.0, 2)\n",
            "(1553.0, 1)\n",
            "(1444.0, 1)\n",
            "(1980.0, 1)\n",
            "(1355.0, 1)\n",
            "(1393.0, 1)\n",
            "(1376.0, 1)\n",
            "(15653.0, 8)\n",
            "(1493.0, 1)\n",
            "(4370.0, 3)\n",
            "(750.0, 1)\n",
            "(1308.0, 1)\n",
            "(4623.0, 3)\n",
            "(1851.0, 1)\n",
            "(1880.0, 1)\n",
            "(7980.0, 4)\n",
            "(4583.0, 3)\n",
            "(1386.0, 1)\n",
            "(947.0, 1)\n",
            "(684.0, 1)\n",
            "(7476.0, 4)\n",
            "(1922.0, 1)\n",
            "(2303.0, 2)\n",
            "(8086.0, 5)\n",
            "(2346.0, 2)\n",
            "(3973.0, 2)\n",
            "(888.0, 1)\n",
            "(10222.0, 6)\n",
            "(4221.0, 3)\n",
            "(6361.0, 4)\n",
            "(1297.0, 1)\n",
            "(900.0, 1)\n",
            "(2241.0, 2)\n",
            "(1050.0, 1)\n",
            "(1047.0, 1)\n",
            "(6314.0, 4)\n",
            "(3496.0, 2)\n",
            "(3609.0, 2)\n",
            "(4843.0, 3)\n",
            "(3017.0, 2)\n",
            "(4139.0, 3)\n",
            "(5742.0, 3)\n",
            "(10366.0, 6)\n",
            "(2080.0, 2)\n",
            "(2580.0, 2)\n",
            "(4530.0, 3)\n",
            "(5150.0, 3)\n",
            "(5595.0, 3)\n",
            "(2384.0, 2)\n",
            "(1453.0, 1)\n",
            "(1538.0, 1)\n",
            "(2279.0, 2)\n",
            "(1478.0, 1)\n",
            "(5103.0, 3)\n",
            "(9857.0, 5)\n",
            "(6527.0, 4)\n",
            "(1347.0, 1)\n",
            "(2862.0, 2)\n",
            "(2753.0, 2)\n",
            "(3651.0, 2)\n",
            "(975.0, 1)\n",
            "(2631.0, 2)\n",
            "(2896.0, 2)\n",
            "(4716.0, 3)\n",
            "(2284.0, 2)\n",
            "(1236.0, 1)\n",
            "(1103.0, 1)\n",
            "(926.0, 1)\n",
            "(1800.0, 1)\n",
            "(1905.0, 1)\n",
            "(1123.0, 1)\n",
            "(6331.0, 4)\n",
            "(1377.0, 1)\n",
            "(2503.0, 2)\n",
            "(2528.0, 2)\n",
            "(5324.0, 3)\n",
            "(6560.0, 4)\n",
            "(2969.0, 2)\n",
            "(1206.0, 1)\n",
            "(2118.0, 2)\n",
            "(629.0, 1)\n",
            "(1198.0, 1)\n",
            "(2476.0, 2)\n",
            "(1138.0, 1)\n",
            "(14027.0, 8)\n",
            "(7596.0, 4)\n",
            "(3077.0, 2)\n",
            "(1505.0, 1)\n",
            "(3148.0, 2)\n",
            "(6148.0, 4)\n",
            "(1337.0, 1)\n",
            "(433.0, 1)\n",
            "(1228.0, 1)\n",
            "(790.0, 1)\n",
            "(2570.0, 2)\n",
            "(250.0, 1)\n",
            "(1316.0, 1)\n",
            "(1882.0, 1)\n",
            "(6416.0, 4)\n",
            "(1275.0, 1)\n",
            "(6403.0, 4)\n",
            "(1987.0, 1)\n",
            "(760.0, 1)\n",
            "(2603.0, 2)\n",
            "(3380.0, 2)\n",
            "(3990.0, 2)\n",
            "(11560.0, 6)\n",
            "(4380.0, 3)\n",
            "(6761.0, 4)\n",
            "(4280.0, 3)\n",
            "(2325.0, 2)\n",
            "(1048.0, 1)\n",
            "(3160.0, 2)\n",
            "(2483.0, 2)\n",
            "(14179.0, 8)\n",
            "(1797.0, 1)\n",
            "(2511.0, 2)\n",
            "(1274.0, 1)\n",
            "(5248.0, 3)\n",
            "(3029.0, 2)\n",
            "(428.0, 1)\n",
            "(976.0, 1)\n",
            "(841.0, 1)\n",
            "(5771.0, 3)\n",
            "(1555.0, 1)\n",
            "(1285.0, 1)\n",
            "(1299.0, 1)\n",
            "(1271.0, 1)\n",
            "(1393.0, 1)\n",
            "(691.0, 1)\n",
            "(5045.0, 3)\n",
            "(2124.0, 2)\n",
            "(2214.0, 2)\n",
            "(12680.0, 7)\n",
            "(2463.0, 2)\n",
            "(1155.0, 1)\n",
            "(3108.0, 2)\n",
            "(2901.0, 2)\n",
            "(3617.0, 2)\n",
            "(1655.0, 1)\n",
            "(2812.0, 2)\n",
            "(8065.0, 5)\n",
            "(3275.0, 2)\n",
            "(2223.0, 2)\n",
            "(1480.0, 1)\n",
            "(1371.0, 1)\n",
            "(3535.0, 2)\n",
            "(3509.0, 2)\n",
            "(5711.0, 3)\n",
            "(3872.0, 2)\n",
            "(4933.0, 3)\n",
            "(1940.0, 1)\n",
            "(1410.0, 1)\n",
            "(836.0, 1)\n",
            "(6468.0, 4)\n",
            "(1941.0, 1)\n",
            "(2675.0, 2)\n",
            "(2751.0, 2)\n",
            "(6224.0, 4)\n",
            "(5998.0, 3)\n",
            "(1188.0, 1)\n",
            "(6313.0, 4)\n",
            "(1221.0, 1)\n",
            "(2892.0, 2)\n",
            "(3062.0, 2)\n",
            "(2301.0, 2)\n",
            "(7511.0, 4)\n",
            "(1258.0, 1)\n",
            "(717.0, 1)\n",
            "(1549.0, 1)\n",
            "(1597.0, 1)\n",
            "(1795.0, 1)\n",
            "(4272.0, 3)\n",
            "(976.0, 1)\n",
            "(7472.0, 4)\n",
            "(9271.0, 5)\n",
            "(590.0, 1)\n",
            "(930.0, 1)\n",
            "(9283.0, 5)\n",
            "(1778.0, 1)\n",
            "(907.0, 1)\n",
            "(484.0, 1)\n",
            "(9629.0, 5)\n",
            "(3051.0, 2)\n",
            "(3931.0, 2)\n",
            "(7432.0, 4)\n",
            "(1338.0, 1)\n",
            "(1554.0, 1)\n",
            "(15857.0, 8)\n",
            "(1345.0, 1)\n",
            "(1101.0, 1)\n",
            "(3016.0, 2)\n",
            "(2712.0, 2)\n",
            "(731.0, 1)\n",
            "(3780.0, 2)\n",
            "(1602.0, 1)\n",
            "(3966.0, 2)\n",
            "(4165.0, 3)\n",
            "(8335.0, 5)\n",
            "(6681.0, 4)\n",
            "(2375.0, 2)\n",
            "(1216.0, 1)\n",
            "(11816.0, 6)\n",
            "(5084.0, 3)\n",
            "(2327.0, 2)\n",
            "(1082.0, 1)\n",
            "(886.0, 1)\n",
            "(601.0, 1)\n",
            "(2957.0, 2)\n",
            "(2611.0, 2)\n",
            "(5179.0, 3)\n",
            "(2993.0, 2)\n",
            "(1943.0, 1)\n",
            "(1559.0, 1)\n",
            "(3422.0, 2)\n",
            "(3976.0, 2)\n",
            "(6761.0, 4)\n",
            "(1249.0, 1)\n",
            "(1364.0, 1)\n",
            "(709.0, 1)\n",
            "(2235.0, 2)\n",
            "(4042.0, 3)\n",
            "(1471.0, 1)\n",
            "(1442.0, 1)\n",
            "(10875.0, 6)\n",
            "(1474.0, 1)\n",
            "(894.0, 1)\n",
            "(3343.0, 2)\n",
            "(3959.0, 2)\n",
            "(3577.0, 2)\n",
            "(5804.0, 3)\n",
            "(2169.0, 2)\n",
            "(2439.0, 2)\n",
            "(4526.0, 3)\n",
            "(2210.0, 2)\n",
            "(2221.0, 2)\n",
            "(2389.0, 2)\n",
            "(3331.0, 2)\n",
            "(7409.0, 4)\n",
            "(652.0, 1)\n",
            "(7678.0, 4)\n",
            "(1343.0, 1)\n",
            "(1382.0, 1)\n",
            "(874.0, 1)\n",
            "(3590.0, 2)\n",
            "(1322.0, 1)\n",
            "(1940.0, 1)\n",
            "(3595.0, 2)\n",
            "(1422.0, 1)\n",
            "(6742.0, 4)\n",
            "(7814.0, 4)\n",
            "(9277.0, 5)\n",
            "(2181.0, 2)\n",
            "(1098.0, 1)\n",
            "(4057.0, 3)\n",
            "(795.0, 1)\n",
            "(2825.0, 2)\n",
            "(15672.0, 8)\n",
            "(6614.0, 4)\n",
            "(7824.0, 4)\n",
            "(2442.0, 2)\n",
            "(1829.0, 1)\n",
            "(2171.0, 2)\n",
            "(5800.0, 3)\n",
            "(1169.0, 1)\n",
            "(8947.0, 5)\n",
            "(2606.0, 2)\n",
            "(1592.0, 1)\n",
            "(2186.0, 2)\n",
            "(4153.0, 3)\n",
            "(2625.0, 2)\n",
            "(3485.0, 2)\n",
            "(10477.0, 6)\n",
            "(1386.0, 1)\n",
            "(1278.0, 1)\n",
            "(1107.0, 1)\n",
            "(3763.0, 2)\n",
            "(3711.0, 2)\n",
            "(3594.0, 2)\n",
            "(3195.0, 2)\n",
            "(4454.0, 3)\n",
            "(4736.0, 3)\n",
            "(2991.0, 2)\n",
            "(2142.0, 2)\n",
            "(3161.0, 2)\n",
            "(18424.0, 10)\n",
            "(2848.0, 2)\n",
            "(14896.0, 8)\n",
            "(2359.0, 2)\n",
            "(3345.0, 2)\n",
            "(1817.0, 1)\n",
            "(12749.0, 7)\n",
            "(2321.5, 2)\n",
            "(2002.0, 2)\n",
            "(6872.0, 4)\n",
            "(697.0, 1)\n",
            "(1049.0, 1)\n",
            "(10297.0, 6)\n",
            "(1867.0, 1)\n",
            "(1344.0, 1)\n",
            "(1747.0, 1)\n",
            "(1670.0, 1)\n",
            "(1224.0, 1)\n",
            "(522.0, 1)\n",
            "(1498.0, 1)\n",
            "(1919.0, 1)\n",
            "(745.0, 1)\n",
            "(2063.0, 2)\n",
            "(6288.0, 4)\n",
            "(6842.0, 4)\n",
            "(3527.0, 2)\n",
            "(1546.0, 1)\n",
            "(929.0, 1)\n",
            "(1455.0, 1)\n",
            "(1845.0, 1)\n",
            "(8358.0, 5)\n",
            "(3349.0, 2)\n",
            "(2859.0, 2)\n",
            "(1533.0, 1)\n",
            "(3621.0, 2)\n",
            "(3590.0, 2)\n",
            "(2145.0, 2)\n",
            "(4113.0, 3)\n",
            "(10974.0, 6)\n",
            "(1893.0, 1)\n",
            "(1231.0, 1)\n",
            "(3656.0, 2)\n",
            "(1154.0, 1)\n",
            "(4006.0, 3)\n",
            "(3069.0, 2)\n",
            "(1740.0, 1)\n",
            "(2353.0, 2)\n",
            "(3556.0, 2)\n",
            "(2397.0, 2)\n",
            "(454.0, 1)\n",
            "(1715.0, 1)\n",
            "(2520.0, 2)\n",
            "(3568.0, 2)\n",
            "(7166.0, 4)\n",
            "(3939.0, 2)\n",
            "(1514.0, 1)\n",
            "(7393.0, 4)\n",
            "(1193.0, 1)\n",
            "(7297.0, 4)\n",
            "(2831.0, 2)\n",
            "(1258.0, 1)\n",
            "(753.0, 1)\n",
            "(2427.0, 2)\n",
            "(2538.0, 2)\n",
            "(1264.0, 1)\n",
            "(2321.5, 2)\n",
            "(4844.0, 3)\n",
            "(2923.0, 2)\n",
            "(8229.0, 5)\n",
            "(2028.0, 2)\n",
            "(1433.0, 1)\n",
            "(6289.0, 4)\n",
            "(1409.0, 1)\n",
            "(6579.0, 4)\n",
            "(1743.0, 1)\n",
            "(3565.0, 2)\n",
            "(1569.0, 1)\n",
            "(1936.0, 1)\n",
            "(3959.0, 2)\n",
            "(2390.0, 2)\n",
            "(2321.5, 2)\n",
            "(3857.0, 2)\n",
            "(804.0, 1)\n",
            "(1845.0, 1)\n",
            "(2321.5, 2)\n"
          ],
          "name": "stdout"
        }
      ]
    },
    {
      "cell_type": "code",
      "metadata": {
        "ExecuteTime": {
          "end_time": "2018-12-28T11:30:04.759808Z",
          "start_time": "2018-12-28T11:30:04.690900Z"
        },
        "id": "KZC44cQvT-Hg",
        "colab_type": "code",
        "outputId": "3012cd3f-4e7e-4bde-eac5-a08cd0db8846",
        "colab": {
          "base_uri": "https://localhost:8080/"
        }
      },
      "source": [
        "pd.Series(bin_numbers).value_counts()"
      ],
      "execution_count": 0,
      "outputs": [
        {
          "output_type": "execute_result",
          "data": {
            "text/plain": [
              "1     427\n",
              "2     330\n",
              "3      96\n",
              "4      78\n",
              "5      29\n",
              "6      19\n",
              "8      11\n",
              "7       9\n",
              "10      1\n",
              "dtype: int64"
            ]
          },
          "metadata": {
            "tags": []
          },
          "execution_count": 78
        }
      ]
    },
    {
      "cell_type": "markdown",
      "metadata": {
        "id": "l3vaSoJxT-Hg",
        "colab_type": "text"
      },
      "source": [
        "In the real world situations , we may not always have domain knowledge. In such cases we can divide the continuous variable into a fixed number of bins, each bin having approximately same number of values"
      ]
    },
    {
      "cell_type": "markdown",
      "metadata": {
        "id": "2bbWtKv3T-Hw",
        "colab_type": "text"
      },
      "source": [
        "#### `qcut` method"
      ]
    },
    {
      "cell_type": "code",
      "metadata": {
        "ExecuteTime": {
          "end_time": "2018-12-28T11:30:05.589092Z",
          "start_time": "2018-12-28T11:30:05.568260Z"
        },
        "id": "t0btwI7QT-Hw",
        "colab_type": "code",
        "outputId": "ba74fd53-b6e6-4424-840f-b4c1848d3afc",
        "colab": {
          "base_uri": "https://localhost:8080/"
        }
      },
      "source": [
        "pd.qcut(df_imputed.AMOUNT,4).value_counts()"
      ],
      "execution_count": 0,
      "outputs": [
        {
          "output_type": "execute_result",
          "data": {
            "text/plain": [
              "(1374.0, 2321.5]     254\n",
              "(249.999, 1374.0]    251\n",
              "(3960.5, 18424.0]    250\n",
              "(2321.5, 3960.5]     245\n",
              "Name: AMOUNT, dtype: int64"
            ]
          },
          "metadata": {
            "tags": []
          },
          "execution_count": 79
        }
      ]
    },
    {
      "cell_type": "markdown",
      "metadata": {
        "id": "pH2dT5YkT-Hw",
        "colab_type": "text"
      },
      "source": [
        "### Additional Pre-processing methods"
      ]
    },
    {
      "cell_type": "markdown",
      "metadata": {
        "collapsed": true,
        "id": "OCz77w4BT-Hw",
        "colab_type": "text"
      },
      "source": [
        "#### Dummies\n",
        "Creating dummy variables and adding to original table\n"
      ]
    },
    {
      "cell_type": "code",
      "metadata": {
        "ExecuteTime": {
          "end_time": "2018-12-28T11:30:07.607319Z",
          "start_time": "2018-12-28T11:30:07.599231Z"
        },
        "id": "BjriIJt6T-Hw",
        "colab_type": "code",
        "colab": {}
      },
      "source": [
        "Job_dummies = pd.get_dummies(df3.JOB,prefix=\"JOB\").head()"
      ],
      "execution_count": 0,
      "outputs": []
    },
    {
      "cell_type": "code",
      "metadata": {
        "ExecuteTime": {
          "end_time": "2018-12-28T11:30:07.891522Z",
          "start_time": "2018-12-28T11:30:07.611780Z"
        },
        "id": "kHkxMfZFT-Hw",
        "colab_type": "code",
        "outputId": "a0c8d685-8f47-45c9-9e56-01dd0b53d02c",
        "colab": {
          "base_uri": "https://localhost:8080/"
        }
      },
      "source": [
        "pd.concat([df_imputed,Job_dummies],axis=1).head()"
      ],
      "execution_count": 0,
      "outputs": [
        {
          "output_type": "execute_result",
          "data": {
            "text/html": [
              "<div>\n",
              "<style scoped>\n",
              "    .dataframe tbody tr th:only-of-type {\n",
              "        vertical-align: middle;\n",
              "    }\n",
              "\n",
              "    .dataframe tbody tr th {\n",
              "        vertical-align: top;\n",
              "    }\n",
              "\n",
              "    .dataframe thead th {\n",
              "        text-align: right;\n",
              "    }\n",
              "</style>\n",
              "<table border=\"1\" class=\"dataframe\">\n",
              "  <thead>\n",
              "    <tr style=\"text-align: right;\">\n",
              "      <th></th>\n",
              "      <th>DURATION</th>\n",
              "      <th>AMOUNT</th>\n",
              "      <th>INSTALL_RATE</th>\n",
              "      <th>AGE</th>\n",
              "      <th>NUM_CREDITS</th>\n",
              "      <th>NUM_DEPENDENTS</th>\n",
              "      <th>OBS</th>\n",
              "      <th>NEW_CAR</th>\n",
              "      <th>USED_CAR</th>\n",
              "      <th>FURNITURE</th>\n",
              "      <th>RADIO_TV</th>\n",
              "      <th>EDUCATION</th>\n",
              "      <th>RETRAINING</th>\n",
              "      <th>CO_APPLICANT</th>\n",
              "      <th>GUARANTOR</th>\n",
              "      <th>REAL_ESTATE</th>\n",
              "      <th>PROP_UNKN_NONE</th>\n",
              "      <th>OTHER_INSTALL</th>\n",
              "      <th>RENT</th>\n",
              "      <th>OWN_RES</th>\n",
              "      <th>TELEPHONE</th>\n",
              "      <th>FOREIGN</th>\n",
              "      <th>RESPONSE</th>\n",
              "      <th>CHK_ACCT</th>\n",
              "      <th>HISTORY</th>\n",
              "      <th>SAV_ACCT</th>\n",
              "      <th>EMPLOYMENT</th>\n",
              "      <th>PRESENT_RESIDENT</th>\n",
              "      <th>JOB</th>\n",
              "      <th>JOB_0</th>\n",
              "      <th>JOB_1</th>\n",
              "      <th>JOB_2</th>\n",
              "      <th>JOB_3</th>\n",
              "    </tr>\n",
              "  </thead>\n",
              "  <tbody>\n",
              "    <tr>\n",
              "      <th>0</th>\n",
              "      <td>6.0</td>\n",
              "      <td>1169.0</td>\n",
              "      <td>4.0</td>\n",
              "      <td>67.0</td>\n",
              "      <td>2.0</td>\n",
              "      <td>1.0</td>\n",
              "      <td>1</td>\n",
              "      <td>0.0</td>\n",
              "      <td>0.0</td>\n",
              "      <td>0.0</td>\n",
              "      <td>1.0</td>\n",
              "      <td>0.0</td>\n",
              "      <td>0.0</td>\n",
              "      <td>0.0</td>\n",
              "      <td>0.0</td>\n",
              "      <td>1.0</td>\n",
              "      <td>0.0</td>\n",
              "      <td>0.0</td>\n",
              "      <td>0.0</td>\n",
              "      <td>1.0</td>\n",
              "      <td>1.0</td>\n",
              "      <td>0.0</td>\n",
              "      <td>1.0</td>\n",
              "      <td>0</td>\n",
              "      <td>4</td>\n",
              "      <td>4</td>\n",
              "      <td>4</td>\n",
              "      <td>4</td>\n",
              "      <td>2</td>\n",
              "      <td>0.0</td>\n",
              "      <td>0.0</td>\n",
              "      <td>1.0</td>\n",
              "      <td>0.0</td>\n",
              "    </tr>\n",
              "    <tr>\n",
              "      <th>1</th>\n",
              "      <td>48.0</td>\n",
              "      <td>5951.0</td>\n",
              "      <td>2.0</td>\n",
              "      <td>22.0</td>\n",
              "      <td>1.0</td>\n",
              "      <td>1.0</td>\n",
              "      <td>2</td>\n",
              "      <td>0.0</td>\n",
              "      <td>0.0</td>\n",
              "      <td>0.0</td>\n",
              "      <td>1.0</td>\n",
              "      <td>0.0</td>\n",
              "      <td>0.0</td>\n",
              "      <td>0.0</td>\n",
              "      <td>0.0</td>\n",
              "      <td>1.0</td>\n",
              "      <td>0.0</td>\n",
              "      <td>0.0</td>\n",
              "      <td>0.0</td>\n",
              "      <td>1.0</td>\n",
              "      <td>0.0</td>\n",
              "      <td>0.0</td>\n",
              "      <td>0.0</td>\n",
              "      <td>1</td>\n",
              "      <td>2</td>\n",
              "      <td>0</td>\n",
              "      <td>2</td>\n",
              "      <td>2</td>\n",
              "      <td>2</td>\n",
              "      <td>0.0</td>\n",
              "      <td>0.0</td>\n",
              "      <td>1.0</td>\n",
              "      <td>0.0</td>\n",
              "    </tr>\n",
              "    <tr>\n",
              "      <th>2</th>\n",
              "      <td>12.0</td>\n",
              "      <td>2096.0</td>\n",
              "      <td>2.0</td>\n",
              "      <td>49.0</td>\n",
              "      <td>1.0</td>\n",
              "      <td>2.0</td>\n",
              "      <td>3</td>\n",
              "      <td>0.0</td>\n",
              "      <td>0.0</td>\n",
              "      <td>0.0</td>\n",
              "      <td>0.0</td>\n",
              "      <td>1.0</td>\n",
              "      <td>0.0</td>\n",
              "      <td>0.0</td>\n",
              "      <td>0.0</td>\n",
              "      <td>1.0</td>\n",
              "      <td>0.0</td>\n",
              "      <td>0.0</td>\n",
              "      <td>0.0</td>\n",
              "      <td>1.0</td>\n",
              "      <td>0.0</td>\n",
              "      <td>0.0</td>\n",
              "      <td>1.0</td>\n",
              "      <td>3</td>\n",
              "      <td>4</td>\n",
              "      <td>0</td>\n",
              "      <td>3</td>\n",
              "      <td>3</td>\n",
              "      <td>1</td>\n",
              "      <td>0.0</td>\n",
              "      <td>1.0</td>\n",
              "      <td>0.0</td>\n",
              "      <td>0.0</td>\n",
              "    </tr>\n",
              "    <tr>\n",
              "      <th>3</th>\n",
              "      <td>42.0</td>\n",
              "      <td>7882.0</td>\n",
              "      <td>2.0</td>\n",
              "      <td>45.0</td>\n",
              "      <td>1.0</td>\n",
              "      <td>2.0</td>\n",
              "      <td>4</td>\n",
              "      <td>0.0</td>\n",
              "      <td>0.0</td>\n",
              "      <td>1.0</td>\n",
              "      <td>0.0</td>\n",
              "      <td>0.0</td>\n",
              "      <td>0.0</td>\n",
              "      <td>0.0</td>\n",
              "      <td>1.0</td>\n",
              "      <td>0.0</td>\n",
              "      <td>0.0</td>\n",
              "      <td>0.0</td>\n",
              "      <td>0.0</td>\n",
              "      <td>0.0</td>\n",
              "      <td>0.0</td>\n",
              "      <td>0.0</td>\n",
              "      <td>1.0</td>\n",
              "      <td>0</td>\n",
              "      <td>2</td>\n",
              "      <td>0</td>\n",
              "      <td>3</td>\n",
              "      <td>4</td>\n",
              "      <td>2</td>\n",
              "      <td>0.0</td>\n",
              "      <td>0.0</td>\n",
              "      <td>1.0</td>\n",
              "      <td>0.0</td>\n",
              "    </tr>\n",
              "    <tr>\n",
              "      <th>4</th>\n",
              "      <td>24.0</td>\n",
              "      <td>4870.0</td>\n",
              "      <td>3.0</td>\n",
              "      <td>53.0</td>\n",
              "      <td>2.0</td>\n",
              "      <td>2.0</td>\n",
              "      <td>5</td>\n",
              "      <td>1.0</td>\n",
              "      <td>0.0</td>\n",
              "      <td>0.0</td>\n",
              "      <td>0.0</td>\n",
              "      <td>0.0</td>\n",
              "      <td>0.0</td>\n",
              "      <td>0.0</td>\n",
              "      <td>0.0</td>\n",
              "      <td>0.0</td>\n",
              "      <td>1.0</td>\n",
              "      <td>0.0</td>\n",
              "      <td>0.0</td>\n",
              "      <td>0.0</td>\n",
              "      <td>0.0</td>\n",
              "      <td>0.0</td>\n",
              "      <td>0.0</td>\n",
              "      <td>0</td>\n",
              "      <td>3</td>\n",
              "      <td>0</td>\n",
              "      <td>2</td>\n",
              "      <td>4</td>\n",
              "      <td>2</td>\n",
              "      <td>0.0</td>\n",
              "      <td>0.0</td>\n",
              "      <td>1.0</td>\n",
              "      <td>0.0</td>\n",
              "    </tr>\n",
              "  </tbody>\n",
              "</table>\n",
              "</div>"
            ],
            "text/plain": [
              "   DURATION  AMOUNT  INSTALL_RATE   AGE  ...  JOB_0  JOB_1 JOB_2 JOB_3\n",
              "0       6.0  1169.0           4.0  67.0  ...    0.0    0.0   1.0   0.0\n",
              "1      48.0  5951.0           2.0  22.0  ...    0.0    0.0   1.0   0.0\n",
              "2      12.0  2096.0           2.0  49.0  ...    0.0    1.0   0.0   0.0\n",
              "3      42.0  7882.0           2.0  45.0  ...    0.0    0.0   1.0   0.0\n",
              "4      24.0  4870.0           3.0  53.0  ...    0.0    0.0   1.0   0.0\n",
              "\n",
              "[5 rows x 33 columns]"
            ]
          },
          "metadata": {
            "tags": []
          },
          "execution_count": 81
        }
      ]
    },
    {
      "cell_type": "markdown",
      "metadata": {
        "id": "46joxh5jT-Hw",
        "colab_type": "text"
      },
      "source": [
        "#### Normalization"
      ]
    },
    {
      "cell_type": "code",
      "metadata": {
        "ExecuteTime": {
          "end_time": "2018-12-28T11:30:08.240711Z",
          "start_time": "2018-12-28T11:30:08.235350Z"
        },
        "id": "mg-b916mT-Hw",
        "colab_type": "code",
        "colab": {}
      },
      "source": [
        "from sklearn.preprocessing import MinMaxScaler"
      ],
      "execution_count": 0,
      "outputs": []
    },
    {
      "cell_type": "code",
      "metadata": {
        "ExecuteTime": {
          "end_time": "2018-12-28T11:30:08.455496Z",
          "start_time": "2018-12-28T11:30:08.251236Z"
        },
        "id": "JmGJDsgET-Hw",
        "colab_type": "code",
        "colab": {}
      },
      "source": [
        "minmaxscaler = MinMaxScaler()"
      ],
      "execution_count": 0,
      "outputs": []
    },
    {
      "cell_type": "markdown",
      "metadata": {
        "id": "cznhW7sfT-H_",
        "colab_type": "text"
      },
      "source": [
        "Scaling the arrtibutes to 0 - 1 scale"
      ]
    },
    {
      "cell_type": "code",
      "metadata": {
        "ExecuteTime": {
          "end_time": "2018-12-28T11:30:09.007027Z",
          "start_time": "2018-12-28T11:30:08.997601Z"
        },
        "id": "yudInfwUT-H_",
        "colab_type": "code",
        "outputId": "a6fac8fd-4280-4d46-caad-b4f41fe02422",
        "colab": {
          "base_uri": "https://localhost:8080/"
        }
      },
      "source": [
        "minmaxscaler.fit(df_imputed[num_attr])"
      ],
      "execution_count": 0,
      "outputs": [
        {
          "output_type": "execute_result",
          "data": {
            "text/plain": [
              "MinMaxScaler(copy=True, feature_range=(0, 1))"
            ]
          },
          "metadata": {
            "tags": []
          },
          "execution_count": 84
        }
      ]
    },
    {
      "cell_type": "code",
      "metadata": {
        "ExecuteTime": {
          "end_time": "2018-12-28T11:30:09.302645Z",
          "start_time": "2018-12-28T11:30:09.016000Z"
        },
        "id": "oz07rY_mT-H_",
        "colab_type": "code",
        "outputId": "efb62fd1-77db-4f69-e863-ebf5f22b66b7",
        "colab": {
          "base_uri": "https://localhost:8080/"
        }
      },
      "source": [
        "minmaxscaler.data_min_"
      ],
      "execution_count": 0,
      "outputs": [
        {
          "output_type": "execute_result",
          "data": {
            "text/plain": [
              "array([  4., 250.,   1.,  19.,   1.,   1.])"
            ]
          },
          "metadata": {
            "tags": []
          },
          "execution_count": 85
        }
      ]
    },
    {
      "cell_type": "code",
      "metadata": {
        "ExecuteTime": {
          "end_time": "2018-12-28T11:30:09.436065Z",
          "start_time": "2018-12-28T11:30:09.307128Z"
        },
        "id": "0ydgf4PiT-H_",
        "colab_type": "code",
        "outputId": "148ff98f-4e01-459f-8511-e6cbcc8d0aa6",
        "colab": {
          "base_uri": "https://localhost:8080/"
        }
      },
      "source": [
        "minmaxscaler.data_max_"
      ],
      "execution_count": 0,
      "outputs": [
        {
          "output_type": "execute_result",
          "data": {
            "text/plain": [
              "array([7.2000e+01, 1.8424e+04, 4.0000e+00, 7.5000e+01, 4.0000e+00,\n",
              "       2.0000e+00])"
            ]
          },
          "metadata": {
            "tags": []
          },
          "execution_count": 86
        }
      ]
    },
    {
      "cell_type": "code",
      "metadata": {
        "ExecuteTime": {
          "end_time": "2018-12-28T11:30:09.567507Z",
          "start_time": "2018-12-28T11:30:09.439084Z"
        },
        "id": "vLyO6O75T-H_",
        "colab_type": "code",
        "colab": {}
      },
      "source": [
        "df_min_max_scaled = minmaxscaler.transform(df_imputed[num_attr])"
      ],
      "execution_count": 0,
      "outputs": []
    },
    {
      "cell_type": "code",
      "metadata": {
        "ExecuteTime": {
          "end_time": "2018-12-28T11:30:09.693493Z",
          "start_time": "2018-12-28T11:30:09.572146Z"
        },
        "id": "1aIoJLzyT-H_",
        "colab_type": "code",
        "colab": {}
      },
      "source": [
        "df_min_max_scaled = pd.DataFrame(df_min_max_scaled,columns=num_attr)"
      ],
      "execution_count": 0,
      "outputs": []
    },
    {
      "cell_type": "code",
      "metadata": {
        "ExecuteTime": {
          "end_time": "2018-12-28T11:30:09.853202Z",
          "start_time": "2018-12-28T11:30:09.697850Z"
        },
        "id": "yPEjupcmT-IP",
        "colab_type": "code",
        "outputId": "1fc54177-fb32-4b81-fd39-8f362cc89906",
        "colab": {
          "base_uri": "https://localhost:8080/"
        }
      },
      "source": [
        "df_min_max_scaled.head()"
      ],
      "execution_count": 0,
      "outputs": [
        {
          "output_type": "execute_result",
          "data": {
            "text/html": [
              "<div>\n",
              "<style scoped>\n",
              "    .dataframe tbody tr th:only-of-type {\n",
              "        vertical-align: middle;\n",
              "    }\n",
              "\n",
              "    .dataframe tbody tr th {\n",
              "        vertical-align: top;\n",
              "    }\n",
              "\n",
              "    .dataframe thead th {\n",
              "        text-align: right;\n",
              "    }\n",
              "</style>\n",
              "<table border=\"1\" class=\"dataframe\">\n",
              "  <thead>\n",
              "    <tr style=\"text-align: right;\">\n",
              "      <th></th>\n",
              "      <th>DURATION</th>\n",
              "      <th>AMOUNT</th>\n",
              "      <th>INSTALL_RATE</th>\n",
              "      <th>AGE</th>\n",
              "      <th>NUM_CREDITS</th>\n",
              "      <th>NUM_DEPENDENTS</th>\n",
              "    </tr>\n",
              "  </thead>\n",
              "  <tbody>\n",
              "    <tr>\n",
              "      <th>0</th>\n",
              "      <td>0.029412</td>\n",
              "      <td>0.050567</td>\n",
              "      <td>1.000000</td>\n",
              "      <td>0.857143</td>\n",
              "      <td>0.333333</td>\n",
              "      <td>0.0</td>\n",
              "    </tr>\n",
              "    <tr>\n",
              "      <th>1</th>\n",
              "      <td>0.647059</td>\n",
              "      <td>0.313690</td>\n",
              "      <td>0.333333</td>\n",
              "      <td>0.053571</td>\n",
              "      <td>0.000000</td>\n",
              "      <td>0.0</td>\n",
              "    </tr>\n",
              "    <tr>\n",
              "      <th>2</th>\n",
              "      <td>0.117647</td>\n",
              "      <td>0.101574</td>\n",
              "      <td>0.333333</td>\n",
              "      <td>0.535714</td>\n",
              "      <td>0.000000</td>\n",
              "      <td>1.0</td>\n",
              "    </tr>\n",
              "    <tr>\n",
              "      <th>3</th>\n",
              "      <td>0.558824</td>\n",
              "      <td>0.419941</td>\n",
              "      <td>0.333333</td>\n",
              "      <td>0.464286</td>\n",
              "      <td>0.000000</td>\n",
              "      <td>1.0</td>\n",
              "    </tr>\n",
              "    <tr>\n",
              "      <th>4</th>\n",
              "      <td>0.294118</td>\n",
              "      <td>0.254209</td>\n",
              "      <td>0.666667</td>\n",
              "      <td>0.607143</td>\n",
              "      <td>0.333333</td>\n",
              "      <td>1.0</td>\n",
              "    </tr>\n",
              "  </tbody>\n",
              "</table>\n",
              "</div>"
            ],
            "text/plain": [
              "   DURATION    AMOUNT  INSTALL_RATE       AGE  NUM_CREDITS  NUM_DEPENDENTS\n",
              "0  0.029412  0.050567      1.000000  0.857143     0.333333             0.0\n",
              "1  0.647059  0.313690      0.333333  0.053571     0.000000             0.0\n",
              "2  0.117647  0.101574      0.333333  0.535714     0.000000             1.0\n",
              "3  0.558824  0.419941      0.333333  0.464286     0.000000             1.0\n",
              "4  0.294118  0.254209      0.666667  0.607143     0.333333             1.0"
            ]
          },
          "metadata": {
            "tags": []
          },
          "execution_count": 89
        }
      ]
    },
    {
      "cell_type": "code",
      "metadata": {
        "ExecuteTime": {
          "end_time": "2018-12-28T11:30:10.016884Z",
          "start_time": "2018-12-28T11:30:09.858162Z"
        },
        "id": "q4Gek6TQT-IP",
        "colab_type": "code",
        "outputId": "9f95b5e2-8ed3-4c52-d3c8-e5b59cb5e48f",
        "colab": {
          "base_uri": "https://localhost:8080/"
        }
      },
      "source": [
        "df_min_max_scaled[num_attr].describe()"
      ],
      "execution_count": 0,
      "outputs": [
        {
          "output_type": "execute_result",
          "data": {
            "text/html": [
              "<div>\n",
              "<style scoped>\n",
              "    .dataframe tbody tr th:only-of-type {\n",
              "        vertical-align: middle;\n",
              "    }\n",
              "\n",
              "    .dataframe tbody tr th {\n",
              "        vertical-align: top;\n",
              "    }\n",
              "\n",
              "    .dataframe thead th {\n",
              "        text-align: right;\n",
              "    }\n",
              "</style>\n",
              "<table border=\"1\" class=\"dataframe\">\n",
              "  <thead>\n",
              "    <tr style=\"text-align: right;\">\n",
              "      <th></th>\n",
              "      <th>DURATION</th>\n",
              "      <th>AMOUNT</th>\n",
              "      <th>INSTALL_RATE</th>\n",
              "      <th>AGE</th>\n",
              "      <th>NUM_CREDITS</th>\n",
              "      <th>NUM_DEPENDENTS</th>\n",
              "    </tr>\n",
              "  </thead>\n",
              "  <tbody>\n",
              "    <tr>\n",
              "      <th>count</th>\n",
              "      <td>1000.000000</td>\n",
              "      <td>1000.000000</td>\n",
              "      <td>1000.000000</td>\n",
              "      <td>1000.000000</td>\n",
              "      <td>1000.000000</td>\n",
              "      <td>1000.000000</td>\n",
              "    </tr>\n",
              "    <tr>\n",
              "      <th>mean</th>\n",
              "      <td>0.248706</td>\n",
              "      <td>0.165822</td>\n",
              "      <td>0.657667</td>\n",
              "      <td>0.294286</td>\n",
              "      <td>0.134667</td>\n",
              "      <td>0.155000</td>\n",
              "    </tr>\n",
              "    <tr>\n",
              "      <th>std</th>\n",
              "      <td>0.177254</td>\n",
              "      <td>0.154814</td>\n",
              "      <td>0.371710</td>\n",
              "      <td>0.201581</td>\n",
              "      <td>0.191809</td>\n",
              "      <td>0.362086</td>\n",
              "    </tr>\n",
              "    <tr>\n",
              "      <th>min</th>\n",
              "      <td>0.000000</td>\n",
              "      <td>0.000000</td>\n",
              "      <td>0.000000</td>\n",
              "      <td>0.000000</td>\n",
              "      <td>0.000000</td>\n",
              "      <td>0.000000</td>\n",
              "    </tr>\n",
              "    <tr>\n",
              "      <th>25%</th>\n",
              "      <td>0.117647</td>\n",
              "      <td>0.061847</td>\n",
              "      <td>0.333333</td>\n",
              "      <td>0.142857</td>\n",
              "      <td>0.000000</td>\n",
              "      <td>0.000000</td>\n",
              "    </tr>\n",
              "    <tr>\n",
              "      <th>50%</th>\n",
              "      <td>0.205882</td>\n",
              "      <td>0.113982</td>\n",
              "      <td>0.666667</td>\n",
              "      <td>0.250000</td>\n",
              "      <td>0.000000</td>\n",
              "      <td>0.000000</td>\n",
              "    </tr>\n",
              "    <tr>\n",
              "      <th>75%</th>\n",
              "      <td>0.294118</td>\n",
              "      <td>0.204165</td>\n",
              "      <td>1.000000</td>\n",
              "      <td>0.410714</td>\n",
              "      <td>0.333333</td>\n",
              "      <td>0.000000</td>\n",
              "    </tr>\n",
              "    <tr>\n",
              "      <th>max</th>\n",
              "      <td>1.000000</td>\n",
              "      <td>1.000000</td>\n",
              "      <td>1.000000</td>\n",
              "      <td>1.000000</td>\n",
              "      <td>1.000000</td>\n",
              "      <td>1.000000</td>\n",
              "    </tr>\n",
              "  </tbody>\n",
              "</table>\n",
              "</div>"
            ],
            "text/plain": [
              "          DURATION       AMOUNT  ...  NUM_CREDITS  NUM_DEPENDENTS\n",
              "count  1000.000000  1000.000000  ...  1000.000000     1000.000000\n",
              "mean      0.248706     0.165822  ...     0.134667        0.155000\n",
              "std       0.177254     0.154814  ...     0.191809        0.362086\n",
              "min       0.000000     0.000000  ...     0.000000        0.000000\n",
              "25%       0.117647     0.061847  ...     0.000000        0.000000\n",
              "50%       0.205882     0.113982  ...     0.000000        0.000000\n",
              "75%       0.294118     0.204165  ...     0.333333        0.000000\n",
              "max       1.000000     1.000000  ...     1.000000        1.000000\n",
              "\n",
              "[8 rows x 6 columns]"
            ]
          },
          "metadata": {
            "tags": []
          },
          "execution_count": 90
        }
      ]
    },
    {
      "cell_type": "markdown",
      "metadata": {
        "collapsed": true,
        "id": "JaxYNzGUT-IP",
        "colab_type": "text"
      },
      "source": [
        "#### Standardizing\n"
      ]
    },
    {
      "cell_type": "code",
      "metadata": {
        "ExecuteTime": {
          "end_time": "2018-12-28T11:30:10.101205Z",
          "start_time": "2018-12-28T11:30:10.019364Z"
        },
        "id": "dk0ZB4JAT-IP",
        "colab_type": "code",
        "colab": {}
      },
      "source": [
        "from sklearn.preprocessing import  StandardScaler"
      ],
      "execution_count": 0,
      "outputs": []
    },
    {
      "cell_type": "code",
      "metadata": {
        "ExecuteTime": {
          "end_time": "2018-12-28T11:30:10.560004Z",
          "start_time": "2018-12-28T11:30:10.104178Z"
        },
        "id": "ibcRaQucT-IP",
        "colab_type": "code",
        "colab": {}
      },
      "source": [
        "scaler = StandardScaler(with_mean=True, with_std=True).fit(df_imputed[num_attr])"
      ],
      "execution_count": 0,
      "outputs": []
    },
    {
      "cell_type": "code",
      "metadata": {
        "ExecuteTime": {
          "end_time": "2018-12-28T11:30:10.782707Z",
          "start_time": "2018-12-28T11:30:10.564068Z"
        },
        "id": "zQ2kduIZT-IP",
        "colab_type": "code",
        "outputId": "36b710ea-fb6b-49ed-e688-5cebd99d2a69",
        "colab": {
          "base_uri": "https://localhost:8080/"
        }
      },
      "source": [
        "scaler"
      ],
      "execution_count": 0,
      "outputs": [
        {
          "output_type": "execute_result",
          "data": {
            "text/plain": [
              "StandardScaler(copy=True, with_mean=True, with_std=True)"
            ]
          },
          "metadata": {
            "tags": []
          },
          "execution_count": 93
        }
      ]
    },
    {
      "cell_type": "code",
      "metadata": {
        "ExecuteTime": {
          "end_time": "2018-12-28T11:30:11.146273Z",
          "start_time": "2018-12-28T11:30:10.787666Z"
        },
        "id": "qL7kUaAUT-Ie",
        "colab_type": "code",
        "outputId": "cf100e73-f32e-440a-92f8-586a91e67237",
        "colab": {
          "base_uri": "https://localhost:8080/"
        }
      },
      "source": [
        "scaler.mean_"
      ],
      "execution_count": 0,
      "outputs": [
        {
          "output_type": "execute_result",
          "data": {
            "text/plain": [
              "array([2.091200e+01, 3.263652e+03, 2.973000e+00, 3.548000e+01,\n",
              "       1.404000e+00, 1.155000e+00])"
            ]
          },
          "metadata": {
            "tags": []
          },
          "execution_count": 94
        }
      ]
    },
    {
      "cell_type": "code",
      "metadata": {
        "ExecuteTime": {
          "end_time": "2018-12-28T11:30:11.359554Z",
          "start_time": "2018-12-28T11:30:11.149502Z"
        },
        "id": "AOEyRhXjT-Ie",
        "colab_type": "code",
        "colab": {}
      },
      "source": [
        "df_scaled = pd.DataFrame(scaler.transform(df_imputed[num_attr]),columns=num_attr)"
      ],
      "execution_count": 0,
      "outputs": []
    },
    {
      "cell_type": "code",
      "metadata": {
        "ExecuteTime": {
          "end_time": "2018-12-28T11:30:11.496949Z",
          "start_time": "2018-12-28T11:30:11.362930Z"
        },
        "id": "uDBfVh-uT-Ie",
        "colab_type": "code",
        "outputId": "f34293a3-5cd4-47fc-c1dd-f2831d39daf5",
        "colab": {
          "base_uri": "https://localhost:8080/"
        }
      },
      "source": [
        "df_scaled.head()"
      ],
      "execution_count": 0,
      "outputs": [
        {
          "output_type": "execute_result",
          "data": {
            "text/html": [
              "<div>\n",
              "<style scoped>\n",
              "    .dataframe tbody tr th:only-of-type {\n",
              "        vertical-align: middle;\n",
              "    }\n",
              "\n",
              "    .dataframe tbody tr th {\n",
              "        vertical-align: top;\n",
              "    }\n",
              "\n",
              "    .dataframe thead th {\n",
              "        text-align: right;\n",
              "    }\n",
              "</style>\n",
              "<table border=\"1\" class=\"dataframe\">\n",
              "  <thead>\n",
              "    <tr style=\"text-align: right;\">\n",
              "      <th></th>\n",
              "      <th>DURATION</th>\n",
              "      <th>AMOUNT</th>\n",
              "      <th>INSTALL_RATE</th>\n",
              "      <th>AGE</th>\n",
              "      <th>NUM_CREDITS</th>\n",
              "      <th>NUM_DEPENDENTS</th>\n",
              "    </tr>\n",
              "  </thead>\n",
              "  <tbody>\n",
              "    <tr>\n",
              "      <th>0</th>\n",
              "      <td>-1.237793</td>\n",
              "      <td>-0.744847</td>\n",
              "      <td>0.921430</td>\n",
              "      <td>2.793611</td>\n",
              "      <td>1.036273</td>\n",
              "      <td>-0.428290</td>\n",
              "    </tr>\n",
              "    <tr>\n",
              "      <th>1</th>\n",
              "      <td>2.248480</td>\n",
              "      <td>0.955606</td>\n",
              "      <td>-0.872981</td>\n",
              "      <td>-1.194729</td>\n",
              "      <td>-0.702440</td>\n",
              "      <td>-0.428290</td>\n",
              "    </tr>\n",
              "    <tr>\n",
              "      <th>2</th>\n",
              "      <td>-0.739754</td>\n",
              "      <td>-0.415211</td>\n",
              "      <td>-0.872981</td>\n",
              "      <td>1.198275</td>\n",
              "      <td>-0.702440</td>\n",
              "      <td>2.334869</td>\n",
              "    </tr>\n",
              "    <tr>\n",
              "      <th>3</th>\n",
              "      <td>1.750441</td>\n",
              "      <td>1.642260</td>\n",
              "      <td>-0.872981</td>\n",
              "      <td>0.843755</td>\n",
              "      <td>-0.702440</td>\n",
              "      <td>2.334869</td>\n",
              "    </tr>\n",
              "    <tr>\n",
              "      <th>4</th>\n",
              "      <td>0.256324</td>\n",
              "      <td>0.571209</td>\n",
              "      <td>0.024225</td>\n",
              "      <td>1.552794</td>\n",
              "      <td>1.036273</td>\n",
              "      <td>2.334869</td>\n",
              "    </tr>\n",
              "  </tbody>\n",
              "</table>\n",
              "</div>"
            ],
            "text/plain": [
              "   DURATION    AMOUNT  INSTALL_RATE       AGE  NUM_CREDITS  NUM_DEPENDENTS\n",
              "0 -1.237793 -0.744847      0.921430  2.793611     1.036273       -0.428290\n",
              "1  2.248480  0.955606     -0.872981 -1.194729    -0.702440       -0.428290\n",
              "2 -0.739754 -0.415211     -0.872981  1.198275    -0.702440        2.334869\n",
              "3  1.750441  1.642260     -0.872981  0.843755    -0.702440        2.334869\n",
              "4  0.256324  0.571209      0.024225  1.552794     1.036273        2.334869"
            ]
          },
          "metadata": {
            "tags": []
          },
          "execution_count": 96
        }
      ]
    },
    {
      "cell_type": "code",
      "metadata": {
        "ExecuteTime": {
          "end_time": "2018-12-28T11:30:11.783637Z",
          "start_time": "2018-12-28T11:30:11.500553Z"
        },
        "id": "xWAA2SgdT-Ie",
        "colab_type": "code",
        "outputId": "63b3f58d-291b-4f79-84a5-0d6390d4e435",
        "colab": {
          "base_uri": "https://localhost:8080/"
        }
      },
      "source": [
        "df_scaled.describe()"
      ],
      "execution_count": 0,
      "outputs": [
        {
          "output_type": "execute_result",
          "data": {
            "text/html": [
              "<div>\n",
              "<style scoped>\n",
              "    .dataframe tbody tr th:only-of-type {\n",
              "        vertical-align: middle;\n",
              "    }\n",
              "\n",
              "    .dataframe tbody tr th {\n",
              "        vertical-align: top;\n",
              "    }\n",
              "\n",
              "    .dataframe thead th {\n",
              "        text-align: right;\n",
              "    }\n",
              "</style>\n",
              "<table border=\"1\" class=\"dataframe\">\n",
              "  <thead>\n",
              "    <tr style=\"text-align: right;\">\n",
              "      <th></th>\n",
              "      <th>DURATION</th>\n",
              "      <th>AMOUNT</th>\n",
              "      <th>INSTALL_RATE</th>\n",
              "      <th>AGE</th>\n",
              "      <th>NUM_CREDITS</th>\n",
              "      <th>NUM_DEPENDENTS</th>\n",
              "    </tr>\n",
              "  </thead>\n",
              "  <tbody>\n",
              "    <tr>\n",
              "      <th>count</th>\n",
              "      <td>1.000000e+03</td>\n",
              "      <td>1.000000e+03</td>\n",
              "      <td>1.000000e+03</td>\n",
              "      <td>1.000000e+03</td>\n",
              "      <td>1.000000e+03</td>\n",
              "      <td>1.000000e+03</td>\n",
              "    </tr>\n",
              "    <tr>\n",
              "      <th>mean</th>\n",
              "      <td>2.127187e-16</td>\n",
              "      <td>-6.739054e-17</td>\n",
              "      <td>2.230924e-16</td>\n",
              "      <td>3.513578e-16</td>\n",
              "      <td>8.104628e-17</td>\n",
              "      <td>-2.887690e-16</td>\n",
              "    </tr>\n",
              "    <tr>\n",
              "      <th>std</th>\n",
              "      <td>1.000500e+00</td>\n",
              "      <td>1.000500e+00</td>\n",
              "      <td>1.000500e+00</td>\n",
              "      <td>1.000500e+00</td>\n",
              "      <td>1.000500e+00</td>\n",
              "      <td>1.000500e+00</td>\n",
              "    </tr>\n",
              "    <tr>\n",
              "      <th>min</th>\n",
              "      <td>-1.403806e+00</td>\n",
              "      <td>-1.071638e+00</td>\n",
              "      <td>-1.770186e+00</td>\n",
              "      <td>-1.460619e+00</td>\n",
              "      <td>-7.024398e-01</td>\n",
              "      <td>-4.282896e-01</td>\n",
              "    </tr>\n",
              "    <tr>\n",
              "      <th>25%</th>\n",
              "      <td>-7.397538e-01</td>\n",
              "      <td>-6.719501e-01</td>\n",
              "      <td>-8.729807e-01</td>\n",
              "      <td>-7.515805e-01</td>\n",
              "      <td>-7.024398e-01</td>\n",
              "      <td>-4.282896e-01</td>\n",
              "    </tr>\n",
              "    <tr>\n",
              "      <th>50%</th>\n",
              "      <td>-2.417149e-01</td>\n",
              "      <td>-3.350242e-01</td>\n",
              "      <td>2.422454e-02</td>\n",
              "      <td>-2.198018e-01</td>\n",
              "      <td>-7.024398e-01</td>\n",
              "      <td>-4.282896e-01</td>\n",
              "    </tr>\n",
              "    <tr>\n",
              "      <th>75%</th>\n",
              "      <td>2.563240e-01</td>\n",
              "      <td>2.477954e-01</td>\n",
              "      <td>9.214298e-01</td>\n",
              "      <td>5.778661e-01</td>\n",
              "      <td>1.036273e+00</td>\n",
              "      <td>-4.282896e-01</td>\n",
              "    </tr>\n",
              "    <tr>\n",
              "      <th>max</th>\n",
              "      <td>4.240635e+00</td>\n",
              "      <td>5.390938e+00</td>\n",
              "      <td>9.214298e-01</td>\n",
              "      <td>3.502649e+00</td>\n",
              "      <td>4.513697e+00</td>\n",
              "      <td>2.334869e+00</td>\n",
              "    </tr>\n",
              "  </tbody>\n",
              "</table>\n",
              "</div>"
            ],
            "text/plain": [
              "           DURATION        AMOUNT  ...   NUM_CREDITS  NUM_DEPENDENTS\n",
              "count  1.000000e+03  1.000000e+03  ...  1.000000e+03    1.000000e+03\n",
              "mean   2.127187e-16 -6.739054e-17  ...  8.104628e-17   -2.887690e-16\n",
              "std    1.000500e+00  1.000500e+00  ...  1.000500e+00    1.000500e+00\n",
              "min   -1.403806e+00 -1.071638e+00  ... -7.024398e-01   -4.282896e-01\n",
              "25%   -7.397538e-01 -6.719501e-01  ... -7.024398e-01   -4.282896e-01\n",
              "50%   -2.417149e-01 -3.350242e-01  ... -7.024398e-01   -4.282896e-01\n",
              "75%    2.563240e-01  2.477954e-01  ...  1.036273e+00   -4.282896e-01\n",
              "max    4.240635e+00  5.390938e+00  ...  4.513697e+00    2.334869e+00\n",
              "\n",
              "[8 rows x 6 columns]"
            ]
          },
          "metadata": {
            "tags": []
          },
          "execution_count": 97
        }
      ]
    },
    {
      "cell_type": "markdown",
      "metadata": {
        "id": "8trc1FePT-Ie",
        "colab_type": "text"
      },
      "source": [
        "## Apply functions"
      ]
    },
    {
      "cell_type": "markdown",
      "metadata": {
        "id": "UJDVUhSbT-Ie",
        "colab_type": "text"
      },
      "source": [
        "> `apply` functions allow us to perform a specific action on a single row, single column , set of rows, set of columns in the dataset"
      ]
    },
    {
      "cell_type": "markdown",
      "metadata": {
        "id": "noZskL9HT-Iu",
        "colab_type": "text"
      },
      "source": [
        "Find the min, max, standard  deviation of the numeric columns"
      ]
    },
    {
      "cell_type": "code",
      "metadata": {
        "ExecuteTime": {
          "end_time": "2018-12-28T11:30:12.396690Z",
          "start_time": "2018-12-28T11:30:12.358993Z"
        },
        "id": "2MW8gr1WT-Iu",
        "colab_type": "code",
        "outputId": "7e52f35c-f6a0-4279-cd56-93e01e6f6f0e",
        "colab": {
          "base_uri": "https://localhost:8080/",
          "height": 142
        }
      },
      "source": [
        "df_imputed[num_attr].apply([np.min,np.max,np.std])"
      ],
      "execution_count": 0,
      "outputs": [
        {
          "output_type": "execute_result",
          "data": {
            "text/html": [
              "<div>\n",
              "<style scoped>\n",
              "    .dataframe tbody tr th:only-of-type {\n",
              "        vertical-align: middle;\n",
              "    }\n",
              "\n",
              "    .dataframe tbody tr th {\n",
              "        vertical-align: top;\n",
              "    }\n",
              "\n",
              "    .dataframe thead th {\n",
              "        text-align: right;\n",
              "    }\n",
              "</style>\n",
              "<table border=\"1\" class=\"dataframe\">\n",
              "  <thead>\n",
              "    <tr style=\"text-align: right;\">\n",
              "      <th></th>\n",
              "      <th>DURATION</th>\n",
              "      <th>AMOUNT</th>\n",
              "      <th>INSTALL_RATE</th>\n",
              "      <th>AGE</th>\n",
              "      <th>NUM_CREDITS</th>\n",
              "      <th>NUM_DEPENDENTS</th>\n",
              "    </tr>\n",
              "  </thead>\n",
              "  <tbody>\n",
              "    <tr>\n",
              "      <th>amin</th>\n",
              "      <td>4.000000</td>\n",
              "      <td>250.000000</td>\n",
              "      <td>1.00000</td>\n",
              "      <td>19.000000</td>\n",
              "      <td>1.000000</td>\n",
              "      <td>1.000000</td>\n",
              "    </tr>\n",
              "    <tr>\n",
              "      <th>amax</th>\n",
              "      <td>72.000000</td>\n",
              "      <td>18424.000000</td>\n",
              "      <td>4.00000</td>\n",
              "      <td>75.000000</td>\n",
              "      <td>4.000000</td>\n",
              "      <td>2.000000</td>\n",
              "    </tr>\n",
              "    <tr>\n",
              "      <th>std</th>\n",
              "      <td>12.053279</td>\n",
              "      <td>2813.598296</td>\n",
              "      <td>1.11513</td>\n",
              "      <td>11.288535</td>\n",
              "      <td>0.575426</td>\n",
              "      <td>0.362086</td>\n",
              "    </tr>\n",
              "  </tbody>\n",
              "</table>\n",
              "</div>"
            ],
            "text/plain": [
              "       DURATION        AMOUNT  ...  NUM_CREDITS  NUM_DEPENDENTS\n",
              "amin   4.000000    250.000000  ...     1.000000        1.000000\n",
              "amax  72.000000  18424.000000  ...     4.000000        2.000000\n",
              "std   12.053279   2813.598296  ...     0.575426        0.362086\n",
              "\n",
              "[3 rows x 6 columns]"
            ]
          },
          "metadata": {
            "tags": []
          },
          "execution_count": 98
        }
      ]
    },
    {
      "cell_type": "markdown",
      "metadata": {
        "id": "Rs2lCv8tT-Iu",
        "colab_type": "text"
      },
      "source": [
        "Find the \n",
        "\n",
        "- min\n",
        "- max\n",
        "- mean\n",
        "- median\n",
        "\n",
        "for the columns AGE and AMOUNT\n",
        "\n",
        "where the applicants purpose of credit is a new car"
      ]
    },
    {
      "cell_type": "code",
      "metadata": {
        "ExecuteTime": {
          "end_time": "2018-12-28T11:30:13.202194Z",
          "start_time": "2018-12-28T11:30:13.183380Z"
        },
        "id": "XQ7mG9EuT-Iu",
        "colab_type": "code",
        "outputId": "47b3e8d4-2b5c-4d8a-852a-8fe927009cba",
        "colab": {
          "base_uri": "https://localhost:8080/",
          "height": 111
        }
      },
      "source": [
        "df3[['AMOUNT','AGE']][df3.NEW_CAR=='1.0'].apply([np.mean,np.median])"
      ],
      "execution_count": 0,
      "outputs": [
        {
          "output_type": "execute_result",
          "data": {
            "text/html": [
              "<div>\n",
              "<style scoped>\n",
              "    .dataframe tbody tr th:only-of-type {\n",
              "        vertical-align: middle;\n",
              "    }\n",
              "\n",
              "    .dataframe tbody tr th {\n",
              "        vertical-align: top;\n",
              "    }\n",
              "\n",
              "    .dataframe thead th {\n",
              "        text-align: right;\n",
              "    }\n",
              "</style>\n",
              "<table border=\"1\" class=\"dataframe\">\n",
              "  <thead>\n",
              "    <tr style=\"text-align: right;\">\n",
              "      <th></th>\n",
              "      <th>AMOUNT</th>\n",
              "      <th>AGE</th>\n",
              "    </tr>\n",
              "  </thead>\n",
              "  <tbody>\n",
              "    <tr>\n",
              "      <th>mean</th>\n",
              "      <td>3075.064655</td>\n",
              "      <td>36.943966</td>\n",
              "    </tr>\n",
              "    <tr>\n",
              "      <th>median</th>\n",
              "      <td>1980.000000</td>\n",
              "      <td>35.000000</td>\n",
              "    </tr>\n",
              "  </tbody>\n",
              "</table>\n",
              "</div>"
            ],
            "text/plain": [
              "             AMOUNT        AGE\n",
              "mean    3075.064655  36.943966\n",
              "median  1980.000000  35.000000"
            ]
          },
          "metadata": {
            "tags": []
          },
          "execution_count": 99
        }
      ]
    },
    {
      "cell_type": "markdown",
      "metadata": {
        "id": "OoSAGFIST-Iu",
        "colab_type": "text"
      },
      "source": [
        "compare it with the values when the aapplicants purpose of credit is a used car"
      ]
    },
    {
      "cell_type": "code",
      "metadata": {
        "ExecuteTime": {
          "end_time": "2018-12-28T11:30:14.022578Z",
          "start_time": "2018-12-28T11:30:13.997074Z"
        },
        "id": "7jwEm7pnT-Iu",
        "colab_type": "code",
        "outputId": "5e0d4671-6394-4276-c953-98fce9a698e8",
        "colab": {
          "base_uri": "https://localhost:8080/",
          "height": 111
        }
      },
      "source": [
        "df3[['AMOUNT','AGE']][df3.USED_CAR=='1.0'].apply([np.mean,np.median])"
      ],
      "execution_count": 0,
      "outputs": [
        {
          "output_type": "execute_result",
          "data": {
            "text/html": [
              "<div>\n",
              "<style scoped>\n",
              "    .dataframe tbody tr th:only-of-type {\n",
              "        vertical-align: middle;\n",
              "    }\n",
              "\n",
              "    .dataframe tbody tr th {\n",
              "        vertical-align: top;\n",
              "    }\n",
              "\n",
              "    .dataframe thead th {\n",
              "        text-align: right;\n",
              "    }\n",
              "</style>\n",
              "<table border=\"1\" class=\"dataframe\">\n",
              "  <thead>\n",
              "    <tr style=\"text-align: right;\">\n",
              "      <th></th>\n",
              "      <th>AMOUNT</th>\n",
              "      <th>AGE</th>\n",
              "    </tr>\n",
              "  </thead>\n",
              "  <tbody>\n",
              "    <tr>\n",
              "      <th>mean</th>\n",
              "      <td>5417.871287</td>\n",
              "      <td>37.49505</td>\n",
              "    </tr>\n",
              "    <tr>\n",
              "      <th>median</th>\n",
              "      <td>4796.000000</td>\n",
              "      <td>35.00000</td>\n",
              "    </tr>\n",
              "  </tbody>\n",
              "</table>\n",
              "</div>"
            ],
            "text/plain": [
              "             AMOUNT       AGE\n",
              "mean    5417.871287  37.49505\n",
              "median  4796.000000  35.00000"
            ]
          },
          "metadata": {
            "tags": []
          },
          "execution_count": 100
        }
      ]
    },
    {
      "cell_type": "markdown",
      "metadata": {
        "id": "cosyciyKT-I-",
        "colab_type": "text"
      },
      "source": [
        "## Assignment Questions\n",
        "use `df_imputed` for answering these questions"
      ]
    },
    {
      "cell_type": "markdown",
      "metadata": {
        "id": "04PIUc3tT-I-",
        "colab_type": "text"
      },
      "source": [
        "- How many customers applied for a credit for EDUCATION?"
      ]
    },
    {
      "cell_type": "code",
      "metadata": {
        "ExecuteTime": {
          "end_time": "2018-12-28T11:30:16.678655Z",
          "start_time": "2018-12-28T11:30:16.670326Z"
        },
        "id": "uaTdC8JLT-I-",
        "colab_type": "code",
        "outputId": "a2c39d08-73be-47d9-bdad-0c1a982e1a90",
        "colab": {
          "base_uri": "https://localhost:8080/",
          "height": 34
        }
      },
      "source": [
        "np.sum(df_imputed.EDUCATION == '1.0')"
      ],
      "execution_count": 0,
      "outputs": [
        {
          "output_type": "execute_result",
          "data": {
            "text/plain": [
              "50"
            ]
          },
          "metadata": {
            "tags": []
          },
          "execution_count": 101
        }
      ]
    },
    {
      "cell_type": "markdown",
      "metadata": {
        "id": "XGPfgN2rT-I-",
        "colab_type": "text"
      },
      "source": [
        " - How many customers applied for a credit for FURNITURE?"
      ]
    },
    {
      "cell_type": "markdown",
      "metadata": {
        "id": "aHpBoeUET-I-",
        "colab_type": "text"
      },
      "source": [
        "- How many single males applied for a credit for new car?"
      ]
    },
    {
      "cell_type": "markdown",
      "metadata": {
        "id": "zP4cvTUvT-I-",
        "colab_type": "text"
      },
      "source": [
        "- How many FOREIGN workers applied for a Credit?"
      ]
    },
    {
      "cell_type": "markdown",
      "metadata": {
        "id": "eL69XzU9T-I-",
        "colab_type": "text"
      },
      "source": [
        "- What is the maximum credit given to a foreign worker?"
      ]
    },
    {
      "cell_type": "markdown",
      "metadata": {
        "id": "fFgN-JqPT-I-",
        "colab_type": "text"
      },
      "source": [
        " - What is the maximum credit given to a non foreign worker?"
      ]
    },
    {
      "cell_type": "markdown",
      "metadata": {
        "id": "t4SisidrT-I-",
        "colab_type": "text"
      },
      "source": [
        "- How many critical accounts are there according to the 'Credit history' columnn?"
      ]
    }
  ]
}