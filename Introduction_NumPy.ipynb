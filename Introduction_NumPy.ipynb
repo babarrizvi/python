{
  "nbformat": 4,
  "nbformat_minor": 0,
  "metadata": {
    "colab": {
      "name": "Introduction_NumPy.ipynb",
      "provenance": [],
      "collapsed_sections": [
        "kUcopXyMV-BP",
        "AvI8oPkwV-Bf",
        "_XB6MkhMV-B-",
        "TfYvaEDgV-B-",
        "gLwGggbTV-Cd",
        "u4eAhXbtV-Dc",
        "yAcw42Z7V-EM",
        "TNtRtCRaV-E7",
        "NTDBG416V-E7",
        "YKCN2oOOV-Fa",
        "yvmXFtVAV-F7",
        "T1oeveeEV-IX",
        "Y4h7jjPFV-In"
      ],
      "include_colab_link": true
    },
    "language_info": {
      "codemirror_mode": {
        "name": "ipython",
        "version": 3
      },
      "file_extension": ".py",
      "mimetype": "text/x-python",
      "name": "python",
      "nbconvert_exporter": "python",
      "pygments_lexer": "ipython3",
      "version": "3.6.2"
    },
    "kernelspec": {
      "display_name": "Python 3",
      "language": "python",
      "name": "python3"
    }
  },
  "cells": [
    {
      "cell_type": "markdown",
      "metadata": {
        "id": "view-in-github",
        "colab_type": "text"
      },
      "source": [
        "<a href=\"https://colab.research.google.com/github/babarrizvi/python/blob/master/Introduction_NumPy.ipynb\" target=\"_parent\"><img src=\"https://colab.research.google.com/assets/colab-badge.svg\" alt=\"Open In Colab\"/></a>"
      ]
    },
    {
      "cell_type": "markdown",
      "metadata": {
        "id": "ZmAhGrDxV-AB",
        "colab_type": "text"
      },
      "source": [
        "## Modules\n",
        "---\n",
        "* A module is a file containing Python definitions and statements. \n",
        "* A module can contain functions, classes and variables.\n",
        "* The file name is the module name with the suffix .py appended.\n",
        "---"
      ]
    },
    {
      "cell_type": "markdown",
      "metadata": {
        "id": "kEDWquE8V-AR",
        "colab_type": "text"
      },
      "source": [
        "#### Create a file called calc.py with the following contents:"
      ]
    },
    {
      "cell_type": "markdown",
      "metadata": {
        "id": "nrGO6-jKV-AR",
        "colab_type": "raw"
      },
      "source": [
        "# # A simple module, calc.py\n",
        " \n",
        "# def add(x, y):\n",
        "    # return (x+y)\n",
        "\n",
        "# def subtract(x, y):\n",
        "    #return (x-y)"
      ]
    },
    {
      "cell_type": "code",
      "metadata": {
        "id": "daJYJ86-V-Ag",
        "colab_type": "code",
        "colab": {}
      },
      "source": [
        "import os"
      ],
      "execution_count": 0,
      "outputs": []
    },
    {
      "cell_type": "code",
      "metadata": {
        "id": "GmFWtxkzV-Ag",
        "colab_type": "code",
        "outputId": "e778ec47-b672-4b05-9ffb-f8d40b5258c6",
        "colab": {
          "base_uri": "https://localhost:8080/",
          "height": 34
        }
      },
      "source": [
        "os.getcwd()"
      ],
      "execution_count": 0,
      "outputs": [
        {
          "output_type": "execute_result",
          "data": {
            "text/plain": [
              "'/content'"
            ]
          },
          "metadata": {
            "tags": []
          },
          "execution_count": 2
        }
      ]
    },
    {
      "cell_type": "code",
      "metadata": {
        "id": "Z8VwliapV-Aw",
        "colab_type": "code",
        "colab": {}
      },
      "source": [
        "import sys"
      ],
      "execution_count": 0,
      "outputs": []
    },
    {
      "cell_type": "code",
      "metadata": {
        "id": "4tErZ-pJV-Aw",
        "colab_type": "code",
        "colab": {}
      },
      "source": [
        "sys.path.append(\"/content/drive/My Drive/Colab Notebooks/Python\")"
      ],
      "execution_count": 0,
      "outputs": []
    },
    {
      "cell_type": "code",
      "metadata": {
        "id": "DJzDB8jTV-A_",
        "colab_type": "code",
        "outputId": "d1de890c-25db-4d40-c238-f9d49b479256",
        "colab": {
          "base_uri": "https://localhost:8080/",
          "height": 187
        }
      },
      "source": [
        "sys.path"
      ],
      "execution_count": 0,
      "outputs": [
        {
          "output_type": "execute_result",
          "data": {
            "text/plain": [
              "['',\n",
              " '/env/python',\n",
              " '/usr/lib/python36.zip',\n",
              " '/usr/lib/python3.6',\n",
              " '/usr/lib/python3.6/lib-dynload',\n",
              " '/usr/local/lib/python3.6/dist-packages',\n",
              " '/usr/lib/python3/dist-packages',\n",
              " '/usr/local/lib/python3.6/dist-packages/IPython/extensions',\n",
              " '/root/.ipython',\n",
              " '/content/drive/My Drive/Colab Notebooks/Python']"
            ]
          },
          "metadata": {
            "tags": []
          },
          "execution_count": 5
        }
      ]
    },
    {
      "cell_type": "markdown",
      "metadata": {
        "id": "IT2nVRwrV-A_",
        "colab_type": "text"
      },
      "source": [
        "#### The import statement\n"
      ]
    },
    {
      "cell_type": "markdown",
      "metadata": {
        "id": "nSYvtdEQV-A_",
        "colab_type": "text"
      },
      "source": [
        "When interpreter encounters an import statement, it imports the module if the module is present in the search path. A search path is a list of directories that the interpreter searches for importing a module. \n",
        "\n",
        "To import the module calc.py, we need to put the following command at the top of the script :"
      ]
    },
    {
      "cell_type": "code",
      "metadata": {
        "id": "knzs41JkV-A_",
        "colab_type": "code",
        "colab": {}
      },
      "source": [
        "import calc"
      ],
      "execution_count": 0,
      "outputs": []
    },
    {
      "cell_type": "code",
      "metadata": {
        "id": "syqeiifmV-BP",
        "colab_type": "code",
        "outputId": "dbc0c673-2c72-4e6b-b7a0-5abf8d829dfb",
        "colab": {
          "base_uri": "https://localhost:8080/",
          "height": 34
        }
      },
      "source": [
        "calc.add(11,20)"
      ],
      "execution_count": 0,
      "outputs": [
        {
          "output_type": "execute_result",
          "data": {
            "text/plain": [
              "31"
            ]
          },
          "metadata": {
            "tags": []
          },
          "execution_count": 7
        }
      ]
    },
    {
      "cell_type": "code",
      "metadata": {
        "id": "_sATQRqBV-BP",
        "colab_type": "code",
        "outputId": "82dc0231-39f2-4a9f-b46c-20691550d487",
        "colab": {
          "base_uri": "https://localhost:8080/",
          "height": 34
        }
      },
      "source": [
        "calc.subtract(2,14)"
      ],
      "execution_count": 0,
      "outputs": [
        {
          "output_type": "execute_result",
          "data": {
            "text/plain": [
              "-12"
            ]
          },
          "metadata": {
            "tags": []
          },
          "execution_count": 8
        }
      ]
    },
    {
      "cell_type": "markdown",
      "metadata": {
        "id": "kUcopXyMV-BP",
        "colab_type": "text"
      },
      "source": [
        "#### The from import Statement\n",
        "\n"
      ]
    },
    {
      "cell_type": "markdown",
      "metadata": {
        "id": "L4pr2l1aV-Bf",
        "colab_type": "text"
      },
      "source": [
        "`from` statement lets you import specific functions from a module."
      ]
    },
    {
      "cell_type": "markdown",
      "metadata": {
        "id": "AvI8oPkwV-Bf",
        "colab_type": "text"
      },
      "source": [
        "### Let us import add from calc module"
      ]
    },
    {
      "cell_type": "code",
      "metadata": {
        "id": "6GM1JfnzV-Bf",
        "colab_type": "code",
        "colab": {}
      },
      "source": [
        "from calc import add"
      ],
      "execution_count": 0,
      "outputs": []
    },
    {
      "cell_type": "code",
      "metadata": {
        "id": "gAe6SBbPV-Bf",
        "colab_type": "code",
        "outputId": "c0f82eeb-c74b-4626-d7fe-801e8a9db719",
        "colab": {
          "base_uri": "https://localhost:8080/"
        }
      },
      "source": [
        "add(1,3)"
      ],
      "execution_count": 0,
      "outputs": [
        {
          "output_type": "execute_result",
          "data": {
            "text/plain": [
              "4"
            ]
          },
          "metadata": {
            "tags": []
          },
          "execution_count": 10
        }
      ]
    },
    {
      "cell_type": "markdown",
      "metadata": {
        "id": "cuHfkjBQV-Bu",
        "colab_type": "text"
      },
      "source": [
        "## An Introduction to NumPy\n",
        "\n",
        "* NumPy is an extension module for Python, mostly written in C. Numpy is short for Numerical Python. It is the fundamental package required for high performance scientific computing and data analysis. \n",
        "\n",
        "* It contains a powerful n-dimensional array object and a collection of routines for processing those arrays.\n",
        "\n",
        "### Why do we need NumPy?\n",
        "\n",
        "* __`ndarray`__, a fast and space-efficient multidimensional array for large data\n",
        "* __Vectors, Matrices and linear algebra operations__ are fundamental to Machine Learning and Data Science\n",
        "* Standard mathematical functions for fast operations on entire arrays of data without having to write loops"
      ]
    },
    {
      "cell_type": "markdown",
      "metadata": {
        "id": "gJmPxaxhV-Bu",
        "colab_type": "text"
      },
      "source": [
        "* __NumPy enriches the programming language Python with powerful data structures, implementing multi-dimensional arrays and matrices. These data structures guarantee efficient calculations with matrices and arrays. The module supplies a large library of high-level mathematical functions to operate on these matrices and arrays.__"
      ]
    },
    {
      "cell_type": "code",
      "metadata": {
        "id": "YXqpaRURV-Bu",
        "colab_type": "code",
        "outputId": "2e1945b9-1c7e-4d4c-86e0-d3f3bcc2ff1a",
        "colab": {
          "base_uri": "https://localhost:8080/",
          "height": 185
        }
      },
      "source": [
        "from IPython.display import Image\n",
        "Image(filename='/content/drive/My Drive/Images/numpy_image.jpg')"
      ],
      "execution_count": 0,
      "outputs": [
        {
          "output_type": "execute_result",
          "data": {
            "image/jpeg": "[encoded data removed]",
            "text/plain": [
              "<IPython.core.display.Image object>"
            ]
          },
          "metadata": {
            "tags": []
          },
          "execution_count": 11
        }
      ]
    },
    {
      "cell_type": "code",
      "metadata": {
        "id": "xPAbYiRPV-Bu",
        "colab_type": "code",
        "colab": {}
      },
      "source": [
        "# To use Numpy, we first need to import the numpy package. It is an accepted convention to use the np alias for numpy.\n",
        "import numpy as np"
      ],
      "execution_count": 0,
      "outputs": []
    },
    {
      "cell_type": "markdown",
      "metadata": {
        "id": "_XB6MkhMV-B-",
        "colab_type": "text"
      },
      "source": [
        "### Arrays\n",
        "\n",
        "A numpy array is a grid of values, all of the __*same*__ type, and is indexed by a tuple of nonnegative integers. The number of dimensions is the rank of the array; the shape of an array is a tuple of integers giving the size of the array along each dimension.\n",
        "\n",
        "We can initialize numpy arrays from nested Python lists, and access elements using square brackets"
      ]
    },
    {
      "cell_type": "markdown",
      "metadata": {
        "id": "8Bpvr0E_V-B-",
        "colab_type": "text"
      },
      "source": [
        "##### Creating A NumPy Array\n"
      ]
    },
    {
      "cell_type": "code",
      "metadata": {
        "id": "-txPCA-oV-B-",
        "colab_type": "code",
        "outputId": "b46457ef-c262-4a9f-ff77-8ced0bfe87af",
        "colab": {
          "base_uri": "https://localhost:8080/"
        }
      },
      "source": [
        "a = np.array([1, 2, 3])  # Create a rank 1 array\n",
        "print('shape : ', a.shape)\n",
        "print(\"Since there is no value after the comma, this is a one-dimensional array\\n\")\n",
        "\n",
        "print('dtype : ', a.dtype)\n",
        "print ('type : ', type(a))\n",
        "print (a[0], a[1], a[2])         "
      ],
      "execution_count": 0,
      "outputs": [
        {
          "output_type": "stream",
          "text": [
            "shape :  (3,)\n",
            "Since there is no value after the comma, this is a one-dimensional array\n",
            "\n",
            "dtype :  int64\n",
            "type :  <class 'numpy.ndarray'>\n",
            "1 2 3\n"
          ],
          "name": "stdout"
        }
      ]
    },
    {
      "cell_type": "markdown",
      "metadata": {
        "id": "TfYvaEDgV-B-",
        "colab_type": "text"
      },
      "source": [
        "#### Create an array from a Python list "
      ]
    },
    {
      "cell_type": "code",
      "metadata": {
        "id": "pg04bC2sV-B-",
        "colab_type": "code",
        "outputId": "e3e2c9ce-0438-440f-e620-94a523422782",
        "colab": {
          "base_uri": "https://localhost:8080/"
        }
      },
      "source": [
        "list1 = [1,2,3,4,5]\n",
        "a = np.array(list1)\n",
        "print(a)"
      ],
      "execution_count": 0,
      "outputs": [
        {
          "output_type": "stream",
          "text": [
            "[1 2 3 4 5]\n"
          ],
          "name": "stdout"
        }
      ]
    },
    {
      "cell_type": "code",
      "metadata": {
        "id": "2ZzJoWHeV-CN",
        "colab_type": "code",
        "outputId": "a62679a9-38b4-4b25-f112-f7f863a8b23f",
        "colab": {
          "base_uri": "https://localhost:8080/"
        }
      },
      "source": [
        "list2 = [6,7,8,9,10]\n",
        "b=np.array(list2)\n",
        "print(b)"
      ],
      "execution_count": 0,
      "outputs": [
        {
          "output_type": "stream",
          "text": [
            "[ 6  7  8  9 10]\n"
          ],
          "name": "stdout"
        }
      ]
    },
    {
      "cell_type": "code",
      "metadata": {
        "id": "qsDLzSzQV-CN",
        "colab_type": "code",
        "outputId": "13d42213-0bdf-443b-86fe-b6b520efbd75",
        "colab": {
          "base_uri": "https://localhost:8080/"
        }
      },
      "source": [
        "list1+list2"
      ],
      "execution_count": 0,
      "outputs": [
        {
          "output_type": "execute_result",
          "data": {
            "text/plain": [
              "[1, 2, 3, 4, 5, 6, 7, 8, 9, 10]"
            ]
          },
          "metadata": {
            "tags": []
          },
          "execution_count": 16
        }
      ]
    },
    {
      "cell_type": "code",
      "metadata": {
        "id": "j5PAJyxLV-CN",
        "colab_type": "code",
        "outputId": "ca6fcd9f-fec8-4bd6-f39b-1de144bbe58c",
        "colab": {
          "base_uri": "https://localhost:8080/"
        }
      },
      "source": [
        "print(list(map(lambda x,y:x+y, list1,list2)))"
      ],
      "execution_count": 0,
      "outputs": [
        {
          "output_type": "stream",
          "text": [
            "[7, 9, 11, 13, 15]\n"
          ],
          "name": "stdout"
        }
      ]
    },
    {
      "cell_type": "code",
      "metadata": {
        "id": "Im91jR2JV-Cd",
        "colab_type": "code",
        "outputId": "cceb5dc1-f6a6-4436-b924-33debe6b2dbb",
        "colab": {
          "base_uri": "https://localhost:8080/"
        }
      },
      "source": [
        "c=a+b\n",
        "print(c)"
      ],
      "execution_count": 0,
      "outputs": [
        {
          "output_type": "stream",
          "text": [
            "[ 7  9 11 13 15]\n"
          ],
          "name": "stdout"
        }
      ]
    },
    {
      "cell_type": "code",
      "metadata": {
        "id": "3-GRl3xCV-Cd",
        "colab_type": "code",
        "outputId": "d4db21a5-fb99-48e6-ebf5-9d69403b56be",
        "colab": {
          "base_uri": "https://localhost:8080/"
        }
      },
      "source": [
        "type(c)"
      ],
      "execution_count": 0,
      "outputs": [
        {
          "output_type": "execute_result",
          "data": {
            "text/plain": [
              "numpy.ndarray"
            ]
          },
          "metadata": {
            "tags": []
          },
          "execution_count": 19
        }
      ]
    },
    {
      "cell_type": "markdown",
      "metadata": {
        "id": "gLwGggbTV-Cd",
        "colab_type": "text"
      },
      "source": [
        "#### list1+1"
      ]
    },
    {
      "cell_type": "code",
      "metadata": {
        "id": "i_yrvqo3V-Ct",
        "colab_type": "code",
        "outputId": "f1f64e73-6b22-43dd-c73e-cb0f305e1340",
        "colab": {
          "base_uri": "https://localhost:8080/"
        }
      },
      "source": [
        "a+1"
      ],
      "execution_count": 0,
      "outputs": [
        {
          "output_type": "execute_result",
          "data": {
            "text/plain": [
              "array([2, 3, 4, 5, 6])"
            ]
          },
          "metadata": {
            "tags": []
          },
          "execution_count": 20
        }
      ]
    },
    {
      "cell_type": "code",
      "metadata": {
        "id": "qhm1HyVYV-Ct",
        "colab_type": "code",
        "outputId": "de3158cf-53cb-4d68-daf1-9d11fb37313b",
        "colab": {
          "base_uri": "https://localhost:8080/"
        }
      },
      "source": [
        "a*2"
      ],
      "execution_count": 0,
      "outputs": [
        {
          "output_type": "execute_result",
          "data": {
            "text/plain": [
              "array([ 2,  4,  6,  8, 10])"
            ]
          },
          "metadata": {
            "tags": []
          },
          "execution_count": 21
        }
      ]
    },
    {
      "cell_type": "code",
      "metadata": {
        "id": "bQ3jn9umV-Ct",
        "colab_type": "code",
        "colab": {}
      },
      "source": [
        "b=a-1"
      ],
      "execution_count": 0,
      "outputs": []
    },
    {
      "cell_type": "code",
      "metadata": {
        "id": "95OSkUQtV-Ct",
        "colab_type": "code",
        "outputId": "43677f7d-3c94-4bc7-9669-6306df0d085e",
        "colab": {
          "base_uri": "https://localhost:8080/"
        }
      },
      "source": [
        "print(a,b)"
      ],
      "execution_count": 0,
      "outputs": [
        {
          "output_type": "stream",
          "text": [
            "[1 2 3 4 5] [0 1 2 3 4]\n"
          ],
          "name": "stdout"
        }
      ]
    },
    {
      "cell_type": "markdown",
      "metadata": {
        "id": "f3EO1sTWV-C8",
        "colab_type": "text"
      },
      "source": [
        "###### One good reason is the vector implementation of the arrays, i.e all the functions are applied to each element of the array wthout explicit instructions"
      ]
    },
    {
      "cell_type": "code",
      "metadata": {
        "id": "uJOrcPNgV-C8",
        "colab_type": "code",
        "outputId": "59666552-de50-4736-ba38-982adab0949d",
        "colab": {
          "base_uri": "https://localhost:8080/"
        }
      },
      "source": [
        "a"
      ],
      "execution_count": 0,
      "outputs": [
        {
          "output_type": "execute_result",
          "data": {
            "text/plain": [
              "array([1, 2, 3, 4, 5])"
            ]
          },
          "metadata": {
            "tags": []
          },
          "execution_count": 24
        }
      ]
    },
    {
      "cell_type": "code",
      "metadata": {
        "id": "mnFhtsMxV-C8",
        "colab_type": "code",
        "outputId": "ea87e8bb-4088-45c9-bae2-c642867a27a6",
        "colab": {
          "base_uri": "https://localhost:8080/"
        }
      },
      "source": [
        "a>3"
      ],
      "execution_count": 0,
      "outputs": [
        {
          "output_type": "execute_result",
          "data": {
            "text/plain": [
              "array([False, False, False,  True,  True])"
            ]
          },
          "metadata": {
            "tags": []
          },
          "execution_count": 25
        }
      ]
    },
    {
      "cell_type": "code",
      "metadata": {
        "id": "lOgQV06aV-DM",
        "colab_type": "code",
        "outputId": "77a3762b-d73e-482a-fe8a-64333f814336",
        "colab": {
          "base_uri": "https://localhost:8080/"
        }
      },
      "source": [
        "a[a>3]"
      ],
      "execution_count": 0,
      "outputs": [
        {
          "output_type": "execute_result",
          "data": {
            "text/plain": [
              "array([4, 5])"
            ]
          },
          "metadata": {
            "tags": []
          },
          "execution_count": 26
        }
      ]
    },
    {
      "cell_type": "code",
      "metadata": {
        "id": "bKHbCTgbV-DM",
        "colab_type": "code",
        "outputId": "9ef72861-53d5-44b4-a3d7-13f8b2e0be44",
        "colab": {
          "base_uri": "https://localhost:8080/"
        }
      },
      "source": [
        "a[a<=3]"
      ],
      "execution_count": 0,
      "outputs": [
        {
          "output_type": "execute_result",
          "data": {
            "text/plain": [
              "array([1, 2, 3])"
            ]
          },
          "metadata": {
            "tags": []
          },
          "execution_count": 27
        }
      ]
    },
    {
      "cell_type": "code",
      "metadata": {
        "id": "nRPVhTPrV-DM",
        "colab_type": "code",
        "outputId": "24b3a8f1-3f2a-43d0-b00e-44c1c43ae434",
        "colab": {
          "base_uri": "https://localhost:8080/"
        }
      },
      "source": [
        "a[a==3]"
      ],
      "execution_count": 0,
      "outputs": [
        {
          "output_type": "execute_result",
          "data": {
            "text/plain": [
              "array([3])"
            ]
          },
          "metadata": {
            "tags": []
          },
          "execution_count": 28
        }
      ]
    },
    {
      "cell_type": "markdown",
      "metadata": {
        "id": "dwhtyjB9V-DM",
        "colab_type": "text"
      },
      "source": [
        "###### Activity"
      ]
    },
    {
      "cell_type": "markdown",
      "metadata": {
        "id": "hsiACvUFV-Db",
        "colab_type": "text"
      },
      "source": [
        "Raise the power of all the numbers in the array to 3"
      ]
    },
    {
      "cell_type": "code",
      "metadata": {
        "id": "KjnLOKzTV-Dc",
        "colab_type": "code",
        "colab": {}
      },
      "source": [
        ""
      ],
      "execution_count": 0,
      "outputs": []
    },
    {
      "cell_type": "markdown",
      "metadata": {
        "id": "u4eAhXbtV-Dc",
        "colab_type": "text"
      },
      "source": [
        "#### Two Dimensional Array\n",
        "\n",
        "    Shape : (nrows, ncols)"
      ]
    },
    {
      "cell_type": "code",
      "metadata": {
        "id": "6m89nyl6V-Dc",
        "colab_type": "code",
        "outputId": "54a32682-5107-4286-ccd7-e843224efe46",
        "colab": {
          "base_uri": "https://localhost:8080/"
        }
      },
      "source": [
        "numpy_two_dim = np.array([\n",
        "                            [1, 2, 3, 4, 5, 6],\n",
        "                            [11, 22, 33, 44, 55, 66]\n",
        "                         ])\n",
        "\n",
        "print(numpy_two_dim)\n",
        "print(\"\\n\")\n",
        "print(numpy_two_dim.shape)\n",
        "print(\"\\n\")\n",
        "print(numpy_two_dim.ndim)"
      ],
      "execution_count": 0,
      "outputs": [
        {
          "output_type": "stream",
          "text": [
            "[[ 1  2  3  4  5  6]\n",
            " [11 22 33 44 55 66]]\n",
            "\n",
            "\n",
            "(2, 6)\n",
            "\n",
            "\n",
            "2\n"
          ],
          "name": "stdout"
        }
      ]
    },
    {
      "cell_type": "markdown",
      "metadata": {
        "id": "7wibGT5DV-Ds",
        "colab_type": "text"
      },
      "source": [
        "The number of dimensions is the rank of the array; the shape of an array is a tuple of integers giving the size of the array along each dimension."
      ]
    },
    {
      "cell_type": "code",
      "metadata": {
        "id": "99CrRuQ1V-Ds",
        "colab_type": "code",
        "outputId": "66048bb3-6d83-4cf7-93a8-80c2e28c15a6",
        "colab": {
          "base_uri": "https://localhost:8080/"
        }
      },
      "source": [
        "type(numpy_two_dim)"
      ],
      "execution_count": 0,
      "outputs": [
        {
          "output_type": "execute_result",
          "data": {
            "text/plain": [
              "numpy.ndarray"
            ]
          },
          "metadata": {
            "tags": []
          },
          "execution_count": 30
        }
      ]
    },
    {
      "cell_type": "code",
      "metadata": {
        "id": "iEmINX6nV-Ds",
        "colab_type": "code",
        "outputId": "d7b876b5-9f2d-487e-f56f-aaf051611b8f",
        "colab": {
          "base_uri": "https://localhost:8080/"
        }
      },
      "source": [
        "numpy_two_dim.size"
      ],
      "execution_count": 0,
      "outputs": [
        {
          "output_type": "execute_result",
          "data": {
            "text/plain": [
              "12"
            ]
          },
          "metadata": {
            "tags": []
          },
          "execution_count": 31
        }
      ]
    },
    {
      "cell_type": "code",
      "metadata": {
        "id": "1LOh3ejIV-D8",
        "colab_type": "code",
        "outputId": "14735940-6e12-4ffc-bc36-42723a72a4bf",
        "colab": {
          "base_uri": "https://localhost:8080/"
        }
      },
      "source": [
        "numpy_two_dim[1,1]"
      ],
      "execution_count": 0,
      "outputs": [
        {
          "output_type": "execute_result",
          "data": {
            "text/plain": [
              "22"
            ]
          },
          "metadata": {
            "tags": []
          },
          "execution_count": 32
        }
      ]
    },
    {
      "cell_type": "code",
      "metadata": {
        "id": "BxD-mFZSV-D8",
        "colab_type": "code",
        "outputId": "632e8304-6dbc-4f7f-f150-59553b6be082",
        "colab": {
          "base_uri": "https://localhost:8080/"
        }
      },
      "source": [
        "print (numpy_two_dim[0, 0], numpy_two_dim[0, 3], numpy_two_dim[1, 0])"
      ],
      "execution_count": 0,
      "outputs": [
        {
          "output_type": "stream",
          "text": [
            "1 4 11\n"
          ],
          "name": "stdout"
        }
      ]
    },
    {
      "cell_type": "markdown",
      "metadata": {
        "id": "yAcw42Z7V-EM",
        "colab_type": "text"
      },
      "source": [
        "### Indexing NumPy Arrays\n",
        "\n",
        "We now know how to create arrays, but unless we can retrieve results from them, there isn't a lot we can do with NumPy. We can use array indexing to select individual elements, groups of elements, or entire rows and columns. One important thing to keep in mind is that just like Python lists, NumPy is zero-indexed, meaning that the index of the first row is 0, and the index of the first column is 0\n"
      ]
    },
    {
      "cell_type": "markdown",
      "metadata": {
        "id": "B875_TAhV-EM",
        "colab_type": "text"
      },
      "source": [
        "Numpy offers several ways to index into arrays."
      ]
    },
    {
      "cell_type": "code",
      "metadata": {
        "id": "-VIDyCwfV-EM",
        "colab_type": "code",
        "outputId": "b8aea512-786a-4ffa-fd77-e1a528cb0740",
        "colab": {
          "base_uri": "https://localhost:8080/"
        }
      },
      "source": [
        "numpy_two_dim"
      ],
      "execution_count": 0,
      "outputs": [
        {
          "output_type": "execute_result",
          "data": {
            "text/plain": [
              "array([[ 1,  2,  3,  4,  5,  6],\n",
              "       [11, 22, 33, 44, 55, 66]])"
            ]
          },
          "metadata": {
            "tags": []
          },
          "execution_count": 34
        }
      ]
    },
    {
      "cell_type": "code",
      "metadata": {
        "id": "dGTKyhe9V-EM",
        "colab_type": "code",
        "outputId": "2e845abc-fd6d-48b8-866c-5d05706836b4",
        "colab": {
          "base_uri": "https://localhost:8080/"
        }
      },
      "source": [
        "numpy_two_dim[:,:]"
      ],
      "execution_count": 0,
      "outputs": [
        {
          "output_type": "execute_result",
          "data": {
            "text/plain": [
              "array([[ 1,  2,  3,  4,  5,  6],\n",
              "       [11, 22, 33, 44, 55, 66]])"
            ]
          },
          "metadata": {
            "tags": []
          },
          "execution_count": 35
        }
      ]
    },
    {
      "cell_type": "markdown",
      "metadata": {
        "id": "u2r7fPzhV-EM",
        "colab_type": "text"
      },
      "source": [
        "* How to get the first row of the array?"
      ]
    },
    {
      "cell_type": "code",
      "metadata": {
        "id": "1MXrq93-V-Ec",
        "colab_type": "code",
        "outputId": "155ab063-1dd9-4457-8e0f-6fb09b0eed6e",
        "colab": {
          "base_uri": "https://localhost:8080/"
        }
      },
      "source": [
        "print(numpy_two_dim[0,:])"
      ],
      "execution_count": 0,
      "outputs": [
        {
          "output_type": "stream",
          "text": [
            "[1 2 3 4 5 6]\n"
          ],
          "name": "stdout"
        }
      ]
    },
    {
      "cell_type": "markdown",
      "metadata": {
        "id": "03P0MMqUV-Ec",
        "colab_type": "text"
      },
      "source": [
        "How to get the first column of the array?"
      ]
    },
    {
      "cell_type": "code",
      "metadata": {
        "id": "SbPJWdctV-Ec",
        "colab_type": "code",
        "outputId": "cccb6880-d8ab-4c41-815b-58fcf757e9b9",
        "colab": {
          "base_uri": "https://localhost:8080/"
        }
      },
      "source": [
        "print(numpy_two_dim[:,1:])"
      ],
      "execution_count": 0,
      "outputs": [
        {
          "output_type": "stream",
          "text": [
            "[[ 2  3  4  5  6]\n",
            " [22 33 44 55 66]]\n"
          ],
          "name": "stdout"
        }
      ]
    },
    {
      "cell_type": "code",
      "metadata": {
        "id": "jM_z1TAxV-Ec",
        "colab_type": "code",
        "outputId": "0246605b-4d2e-436c-fe47-2f10c8fd7388",
        "colab": {
          "base_uri": "https://localhost:8080/"
        }
      },
      "source": [
        "print(numpy_two_dim[1:])"
      ],
      "execution_count": 0,
      "outputs": [
        {
          "output_type": "stream",
          "text": [
            "[[11 22 33 44 55 66]]\n"
          ],
          "name": "stdout"
        }
      ]
    },
    {
      "cell_type": "markdown",
      "metadata": {
        "id": "MhOjpL_GV-Er",
        "colab_type": "text"
      },
      "source": [
        "How to get the last row of the array?"
      ]
    },
    {
      "cell_type": "code",
      "metadata": {
        "id": "R-_ye7myV-Er",
        "colab_type": "code",
        "outputId": "e7cb5b2b-af3a-4f43-bbbb-e45913f1b2af",
        "colab": {
          "base_uri": "https://localhost:8080/"
        }
      },
      "source": [
        "print(numpy_two_dim[-1,:])"
      ],
      "execution_count": 0,
      "outputs": [
        {
          "output_type": "stream",
          "text": [
            "[11 22 33 44 55 66]\n"
          ],
          "name": "stdout"
        }
      ]
    },
    {
      "cell_type": "markdown",
      "metadata": {
        "id": "0UFvsUMvV-Er",
        "colab_type": "text"
      },
      "source": [
        "How to get the last column of the array?"
      ]
    },
    {
      "cell_type": "code",
      "metadata": {
        "id": "BIDK9EQlV-Er",
        "colab_type": "code",
        "outputId": "51747554-e35e-4d50-919d-74398d0fae34",
        "colab": {
          "base_uri": "https://localhost:8080/"
        }
      },
      "source": [
        "numpy_two_dim[:,-1]"
      ],
      "execution_count": 0,
      "outputs": [
        {
          "output_type": "execute_result",
          "data": {
            "text/plain": [
              "array([ 6, 66])"
            ]
          },
          "metadata": {
            "tags": []
          },
          "execution_count": 40
        }
      ]
    },
    {
      "cell_type": "markdown",
      "metadata": {
        "id": "TNtRtCRaV-E7",
        "colab_type": "text"
      },
      "source": [
        "#### Let's go deeper and generalize it"
      ]
    },
    {
      "cell_type": "markdown",
      "metadata": {
        "id": "0pMdT0oWV-E7",
        "colab_type": "text"
      },
      "source": [
        "Even though it might not be an accurate informalisation of the idea, you can in general think about the shape of arrays as \n",
        "\n",
        "    Shape : (num_arrays_outermost, num_arrays_next, ......, num_elements_in_the_last_array)"
      ]
    },
    {
      "cell_type": "code",
      "metadata": {
        "id": "TxXS6kG1V-E7",
        "colab_type": "code",
        "outputId": "4085d558-8fca-48d6-e949-762c2af120a3",
        "colab": {
          "base_uri": "https://localhost:8080/"
        }
      },
      "source": [
        "# Creating a 3 dimensional array\n",
        "numpy_three_dim = np.array([\n",
        "                            [\n",
        "                                [1, 2, 3, 4, 5, 6],\n",
        "                                [11, 22, 33, 44, 55, 66],\n",
        "                                [111, 222, 333, 444, 555, 666]\n",
        "                            ],\n",
        "                            [\n",
        "                                [21, 22, 23, 24, 25, 26],\n",
        "                                [221, 222, 233, 244, 255, 266],\n",
        "                                [2211, 2222, 2333, 2444, 2555, 2666]\n",
        "                            ]\n",
        "                         ])\n",
        "\n",
        "\n",
        "print(numpy_three_dim)\n",
        "print(\"\\n\")\n",
        "print(numpy_three_dim.ndim)\n",
        "print(\"\\n\")\n",
        "print(numpy_three_dim.shape)"
      ],
      "execution_count": 0,
      "outputs": [
        {
          "output_type": "stream",
          "text": [
            "[[[   1    2    3    4    5    6]\n",
            "  [  11   22   33   44   55   66]\n",
            "  [ 111  222  333  444  555  666]]\n",
            "\n",
            " [[  21   22   23   24   25   26]\n",
            "  [ 221  222  233  244  255  266]\n",
            "  [2211 2222 2333 2444 2555 2666]]]\n",
            "\n",
            "\n",
            "3\n",
            "\n",
            "\n",
            "(2, 3, 6)\n"
          ],
          "name": "stdout"
        }
      ]
    },
    {
      "cell_type": "markdown",
      "metadata": {
        "id": "NTDBG416V-E7",
        "colab_type": "text"
      },
      "source": [
        "#### Observation:\n",
        "\n",
        "Why is the shape of the array (2, 3, 6)?"
      ]
    },
    {
      "cell_type": "markdown",
      "metadata": {
        "id": "58XUJrrEV-E7",
        "colab_type": "raw"
      },
      "source": [
        "# The first element in the shape tuple (2, 3, 6) comes from the following\n",
        "\n",
        "        [\n",
        "        \n",
        "            [outermost array one],\n",
        "            \n",
        "            [outermost array two]\n",
        "        \n",
        "        ]\n",
        "        \n",
        "--> The above two arrays help talk about the first dimension in the shape tuple\n",
        "\n",
        "# The second element in the shape tuple (2, 3, 6) comes from the following\n",
        "\n",
        "        [\n",
        "        \n",
        "            [   outer most array one\n",
        "            \n",
        "                [next outermost array one],\n",
        "                \n",
        "                [next outermost array two],\n",
        "                \n",
        "                [next outermost array three]\n",
        "            \n",
        "            ],\n",
        "            \n",
        "            [   outer most array two\n",
        "            \n",
        "                [next outermost array one],\n",
        "                \n",
        "                [next outermost array two],\n",
        "                \n",
        "                [next outermost array three]\n",
        "            \n",
        "            ]\n",
        "        \n",
        "        ]\n",
        "        \n",
        "--> The above three arrays help talk about the second dimension in the shape tuple\n",
        "\n",
        "# The third element in the shape tuple (2, 3, 6) comes from the following\n",
        "\n",
        "        [\n",
        "        \n",
        "            [   outer most array one\n",
        "            \n",
        "                [  next outermost array one\n",
        "                \n",
        "                    element one,\n",
        "                    \n",
        "                    element two,\n",
        "                    \n",
        "                    element three,\n",
        "                    \n",
        "                    element four,\n",
        "                    \n",
        "                    element five,\n",
        "                    \n",
        "                    element six\n",
        "                \n",
        "                ],\n",
        "                \n",
        "                [  next outermost array two\n",
        "                \n",
        "                    element one,\n",
        "                    \n",
        "                    element two,\n",
        "                    \n",
        "                    element three,\n",
        "                    \n",
        "                    element four,\n",
        "                    \n",
        "                    element five,\n",
        "                    \n",
        "                    element six\n",
        "                \n",
        "                ],\n",
        "                \n",
        "                [  next outermost array three\n",
        "                \n",
        "                    element one,\n",
        "                    \n",
        "                    element two,\n",
        "                    \n",
        "                    element three,\n",
        "                    \n",
        "                    element four,\n",
        "                    \n",
        "                    element five,\n",
        "                    \n",
        "                    element six\n",
        "                \n",
        "                ]\n",
        "            \n",
        "            ],\n",
        "            \n",
        "            [   outer most array two\n",
        "            \n",
        "                [  next outermost array one\n",
        "                \n",
        "                    element one,\n",
        "                    \n",
        "                    element two,\n",
        "                    \n",
        "                    element three,\n",
        "                    \n",
        "                    element four,\n",
        "                    \n",
        "                    element five,\n",
        "                    \n",
        "                    element six\n",
        "                \n",
        "                ],\n",
        "                \n",
        "                [  next outermost array two\n",
        "                \n",
        "                    element one,\n",
        "                    \n",
        "                    element two,\n",
        "                    \n",
        "                    element three,\n",
        "                    \n",
        "                    element four,\n",
        "                    \n",
        "                    element five,\n",
        "                    \n",
        "                    element six\n",
        "                \n",
        "                ],\n",
        "                \n",
        "                [  next outermost array three\n",
        "                \n",
        "                    element one,\n",
        "                    \n",
        "                    element two,\n",
        "                    \n",
        "                    element three,\n",
        "                    \n",
        "                    element four,\n",
        "                    \n",
        "                    element five,\n",
        "                    \n",
        "                    element six\n",
        "                \n",
        "                ]\n",
        "            \n",
        "            ]\n",
        "        \n",
        "        ]\n",
        "\n",
        "--> So, the final dimension in the shape tuple (2, 3, 6) talks about the number of elements"
      ]
    },
    {
      "cell_type": "code",
      "metadata": {
        "id": "NVADbPnxV-E7",
        "colab_type": "code",
        "outputId": "720b5bd7-e29e-4d01-9aa2-b4ef0457dc15",
        "colab": {
          "base_uri": "https://localhost:8080/",
          "height": 34
        }
      },
      "source": [
        "numpy_three_dim.size"
      ],
      "execution_count": 0,
      "outputs": [
        {
          "output_type": "execute_result",
          "data": {
            "text/plain": [
              "36"
            ]
          },
          "metadata": {
            "tags": []
          },
          "execution_count": 42
        }
      ]
    },
    {
      "cell_type": "code",
      "metadata": {
        "id": "tDG10k5BV-FL",
        "colab_type": "code",
        "outputId": "75c8cc9f-d6b3-437b-9a03-921bf0132e58",
        "colab": {
          "base_uri": "https://localhost:8080/",
          "height": 34
        }
      },
      "source": [
        "numpy_three_dim.dtype"
      ],
      "execution_count": 0,
      "outputs": [
        {
          "output_type": "execute_result",
          "data": {
            "text/plain": [
              "dtype('int64')"
            ]
          },
          "metadata": {
            "tags": []
          },
          "execution_count": 43
        }
      ]
    },
    {
      "cell_type": "code",
      "metadata": {
        "id": "MEVbQkYIV-FL",
        "colab_type": "code",
        "outputId": "c96f0b82-90d2-4473-e71a-a03f803abcb0",
        "colab": {
          "base_uri": "https://localhost:8080/",
          "height": 68
        }
      },
      "source": [
        "numpy_three_dim[1::]"
      ],
      "execution_count": 0,
      "outputs": [
        {
          "output_type": "execute_result",
          "data": {
            "text/plain": [
              "array([[[  21,   22,   23,   24,   25,   26],\n",
              "        [ 221,  222,  233,  244,  255,  266],\n",
              "        [2211, 2222, 2333, 2444, 2555, 2666]]])"
            ]
          },
          "metadata": {
            "tags": []
          },
          "execution_count": 44
        }
      ]
    },
    {
      "cell_type": "code",
      "metadata": {
        "id": "3FfmlF3BV-FL",
        "colab_type": "code",
        "outputId": "8f592840-f262-4fda-e181-c22f1ac15608",
        "colab": {
          "base_uri": "https://localhost:8080/",
          "height": 136
        }
      },
      "source": [
        "numpy_three_dim[0::1]"
      ],
      "execution_count": 0,
      "outputs": [
        {
          "output_type": "execute_result",
          "data": {
            "text/plain": [
              "array([[[   1,    2,    3,    4,    5,    6],\n",
              "        [  11,   22,   33,   44,   55,   66],\n",
              "        [ 111,  222,  333,  444,  555,  666]],\n",
              "\n",
              "       [[  21,   22,   23,   24,   25,   26],\n",
              "        [ 221,  222,  233,  244,  255,  266],\n",
              "        [2211, 2222, 2333, 2444, 2555, 2666]]])"
            ]
          },
          "metadata": {
            "tags": []
          },
          "execution_count": 45
        }
      ]
    },
    {
      "cell_type": "code",
      "metadata": {
        "id": "wc-JU8-BV-Fa",
        "colab_type": "code",
        "outputId": "23be816c-a45b-4550-be32-e7b90e7dcb1e",
        "colab": {
          "base_uri": "https://localhost:8080/",
          "height": 51
        }
      },
      "source": [
        "numpy_three_dim[0:1,0:2,0:3]"
      ],
      "execution_count": 0,
      "outputs": [
        {
          "output_type": "execute_result",
          "data": {
            "text/plain": [
              "array([[[ 1,  2,  3],\n",
              "        [11, 22, 33]]])"
            ]
          },
          "metadata": {
            "tags": []
          },
          "execution_count": 46
        }
      ]
    },
    {
      "cell_type": "markdown",
      "metadata": {
        "id": "DizcgIQOV-Fa",
        "colab_type": "text"
      },
      "source": [
        "##### Activity\n",
        "\n",
        "    What is the shape of the following array?"
      ]
    },
    {
      "cell_type": "markdown",
      "metadata": {
        "id": "2GOppkhAV-Fa",
        "colab_type": "raw"
      },
      "source": [
        "[\n",
        "       [\n",
        "           [\n",
        "               [\n",
        "                   25, 23, 23, 222, 441\n",
        "               ],\n",
        "               \n",
        "               [\n",
        "                   25, 23, 23, 222, 441\n",
        "               ],\n",
        "               \n",
        "               [\n",
        "                   25, 23, 23, 222, 441\n",
        "               ]\n",
        "           ],\n",
        "           \n",
        "           [\n",
        "               [\n",
        "                   25, 23, 23, 222, 441\n",
        "               ],\n",
        "               \n",
        "               [\n",
        "                   25, 23, 23, 222, 441\n",
        "               ],\n",
        "               \n",
        "               [\n",
        "                   25, 23, 23, 222, 441\n",
        "               ]\n",
        "           ]\n",
        "       ]\n",
        "   ]"
      ]
    },
    {
      "cell_type": "markdown",
      "metadata": {
        "id": "YKCN2oOOV-Fa",
        "colab_type": "text"
      },
      "source": [
        "### Printing Arrays"
      ]
    },
    {
      "cell_type": "markdown",
      "metadata": {
        "id": "fQSDJJoiV-Fa",
        "colab_type": "text"
      },
      "source": [
        "When you print an array, NumPy displays it in a similar way to nested lists, but with the following layout:\n",
        "\n",
        "    the last axis is printed from left to right,\n",
        "    the second-to-last is printed from top to bottom,\n",
        "    the rest are also printed from top to bottom, with each slice separated from the next by an empty line.\n",
        "\n",
        "One-dimensional arrays are then printed as rows, bidimensionals as matrices and tridimensionals as lists of matrices."
      ]
    },
    {
      "cell_type": "markdown",
      "metadata": {
        "id": "OBbBy4F4V-Fa",
        "colab_type": "text"
      },
      "source": [
        "###### Why should I use numpy arrays instead of lists you ask?\n",
        "- Convenient\n",
        "- Faster and have more functionality than lists\n",
        "- Optimized storage and retrieval\n",
        "\n",
        "Let me try to prove some of these claims"
      ]
    },
    {
      "cell_type": "code",
      "metadata": {
        "id": "O4-ayXLGV-Fa",
        "colab_type": "code",
        "outputId": "07c0d3ad-7abc-443c-9a15-dd460b66e08d",
        "colab": {
          "base_uri": "https://localhost:8080/"
        }
      },
      "source": [
        "#  Let us create two lists and two arrays for our experiment\n",
        "\n",
        "import numpy as np\n",
        "\n",
        "# The * operator on the list replicates the items in a list, n number of times given list * n \n",
        "\n",
        "example_list_one = [1, 2, 3, 4] * 1000\n",
        "\n",
        "example_list_two = [4, 3, 2, 1] * 1000\n",
        "\n",
        "# Numpy arrays can be created from python lists\n",
        "\n",
        "example_array_one = np.array(example_list_one)\n",
        "\n",
        "example_array_two = np.array(example_list_two)\n",
        "\n",
        "print(type(example_list_one))\n",
        "print(type(example_array_one))\n",
        "\n",
        "print(len(example_list_one))\n",
        "print(example_array_one.shape)"
      ],
      "execution_count": 0,
      "outputs": [
        {
          "output_type": "stream",
          "text": [
            "<class 'list'>\n",
            "<class 'numpy.ndarray'>\n",
            "4000\n",
            "(4000,)\n"
          ],
          "name": "stdout"
        }
      ]
    },
    {
      "cell_type": "code",
      "metadata": {
        "id": "E-dactijV-Fq",
        "colab_type": "code",
        "colab": {}
      },
      "source": [
        "def vector_addition(vector_one, vector_two):\n",
        "    \n",
        "    new_vec = []\n",
        "    \n",
        "    for i in range(len(vector_one)):\n",
        "        \n",
        "        new_vec.append(vector_one[i] + vector_two[i])\n",
        "        \n",
        "    return new_vec"
      ],
      "execution_count": 0,
      "outputs": []
    },
    {
      "cell_type": "code",
      "metadata": {
        "id": "-Og0JadvV-Fq",
        "colab_type": "code",
        "outputId": "c7d2be74-14b4-4e38-f3cb-cdcf3b57a20a",
        "colab": {
          "base_uri": "https://localhost:8080/"
        }
      },
      "source": [
        "%%timeit -n 1000\n",
        "list_output=vector_addition(example_list_one,example_list_two)\n",
        "# print(list_output[0:100])\n",
        "# print(len(list_output))"
      ],
      "execution_count": 0,
      "outputs": [
        {
          "output_type": "stream",
          "text": [
            "1000 loops, best of 3: 701 µs per loop\n"
          ],
          "name": "stdout"
        }
      ]
    },
    {
      "cell_type": "code",
      "metadata": {
        "id": "8_PuYxJCV-Fq",
        "colab_type": "code",
        "outputId": "e9c04a60-b411-4788-ba9d-0efa23b4fe2c",
        "colab": {
          "base_uri": "https://localhost:8080/"
        }
      },
      "source": [
        "#%%timeit -n 1000\n",
        "array_output=example_array_one + example_array_two\n",
        "print(array_output)\n",
        "print(array_output.shape)"
      ],
      "execution_count": 0,
      "outputs": [
        {
          "output_type": "stream",
          "text": [
            "[5 5 5 ... 5 5 5]\n",
            "(4000,)\n"
          ],
          "name": "stdout"
        }
      ]
    },
    {
      "cell_type": "markdown",
      "metadata": {
        "id": "TnSfeeg2V-Fq",
        "colab_type": "text"
      },
      "source": [
        "* __From the above experiment we can see that using numpy arrays for even a simple vector addition is many times faster compared to a list__"
      ]
    },
    {
      "cell_type": "markdown",
      "metadata": {
        "id": "CbF1Z-LVV-Fq",
        "colab_type": "text"
      },
      "source": [
        "### Numpy also provides many routines to create arrays\n",
        "\n",
        "You can refer to the full list of routines here : https://docs.scipy.org/doc/numpy/reference/routines.array-creation.html"
      ]
    },
    {
      "cell_type": "code",
      "metadata": {
        "id": "zQMMu3CpV-F5",
        "colab_type": "code",
        "outputId": "26516b26-fc33-43cf-9418-e6099685b87d",
        "colab": {
          "base_uri": "https://localhost:8080/",
          "height": 51
        }
      },
      "source": [
        "a = np.zeros((2,2))  # Create an array of all zeros\n",
        "print (a)"
      ],
      "execution_count": 0,
      "outputs": [
        {
          "output_type": "stream",
          "text": [
            "[[0. 0.]\n",
            " [0. 0.]]\n"
          ],
          "name": "stdout"
        }
      ]
    },
    {
      "cell_type": "code",
      "metadata": {
        "id": "0q3DQYIDV-F7",
        "colab_type": "code",
        "outputId": "8bc83043-2d84-47e4-d6d6-b2d60cc3bcac",
        "colab": {
          "base_uri": "https://localhost:8080/",
          "height": 68
        }
      },
      "source": [
        "d = np.eye(3)        # Create a 3x3 identity matrix\n",
        "print (d)"
      ],
      "execution_count": 0,
      "outputs": [
        {
          "output_type": "stream",
          "text": [
            "[[1. 0. 0.]\n",
            " [0. 1. 0.]\n",
            " [0. 0. 1.]]\n"
          ],
          "name": "stdout"
        }
      ]
    },
    {
      "cell_type": "markdown",
      "metadata": {
        "id": "yvmXFtVAV-F7",
        "colab_type": "text"
      },
      "source": [
        "#### np.random: random numbers -\n",
        "#### The random module in Numpy package contains many functions for generation of random numbers"
      ]
    },
    {
      "cell_type": "code",
      "metadata": {
        "id": "S5ERACo4V-F7",
        "colab_type": "code",
        "outputId": "e30a0530-5684-4683-ad23-135c2b303de2",
        "colab": {
          "base_uri": "https://localhost:8080/"
        }
      },
      "source": [
        "# Create an array of the given shape and populate it with random samples from a uniform distribution over [0, 1).\n",
        "a = np.random.rand(4)\n",
        "print(a)\n",
        "print(\"\\n\")\n",
        "b = np.random.rand(4,3)  \n",
        "print(b)"
      ],
      "execution_count": 0,
      "outputs": [
        {
          "output_type": "stream",
          "text": [
            "[0.29506017 0.96985974 0.30718659 0.43997911]\n",
            "\n",
            "\n",
            "[[0.03793461 0.14749041 0.68191966]\n",
            " [0.96298488 0.40220448 0.69267114]\n",
            " [0.94185217 0.04973314 0.90769112]\n",
            " [0.50695428 0.78032032 0.18508363]]\n"
          ],
          "name": "stdout"
        }
      ]
    },
    {
      "cell_type": "code",
      "metadata": {
        "id": "wPkslHlwV-F7",
        "colab_type": "code",
        "outputId": "9f360c35-5a3c-4296-fd6e-76847007ee4d",
        "colab": {
          "base_uri": "https://localhost:8080/"
        }
      },
      "source": [
        "c = np.random.randn(4,3)  # Gaussian\n",
        "# Return samples from the “Standard Normal” distribution\n",
        "print(c)"
      ],
      "execution_count": 0,
      "outputs": [
        {
          "output_type": "stream",
          "text": [
            "[[-0.1408966   0.04027452 -0.73786678]\n",
            " [-0.13811628  1.18061094 -0.63247777]\n",
            " [ 0.98032349  0.68058137  0.32418742]\n",
            " [-0.53478212  0.97342653  0.14624436]]\n"
          ],
          "name": "stdout"
        }
      ]
    },
    {
      "cell_type": "code",
      "metadata": {
        "id": "JpibudmRV-GL",
        "colab_type": "code",
        "outputId": "3838c55a-ed02-42da-f0f8-fd3634d7c06e",
        "colab": {
          "base_uri": "https://localhost:8080/"
        }
      },
      "source": [
        "sampl = np.random.uniform(1, 10, size=(3,4))\n",
        "sampl"
      ],
      "execution_count": 0,
      "outputs": [
        {
          "output_type": "execute_result",
          "data": {
            "text/plain": [
              "array([[8.41779349, 4.53229798, 4.80456394, 3.26742957],\n",
              "       [7.66453348, 9.57204148, 6.299075  , 1.08843934],\n",
              "       [7.17760391, 8.62493738, 8.19466221, 8.45203515]])"
            ]
          },
          "metadata": {
            "tags": []
          },
          "execution_count": 55
        }
      ]
    },
    {
      "cell_type": "code",
      "metadata": {
        "id": "L_W7zUKBV-GL",
        "colab_type": "code",
        "colab": {}
      },
      "source": [
        "?help(np.random)"
      ],
      "execution_count": 0,
      "outputs": []
    },
    {
      "cell_type": "markdown",
      "metadata": {
        "id": "ncGjDjKeV-GL",
        "colab_type": "text"
      },
      "source": [
        "#### Using NumPy To Read In Files"
      ]
    },
    {
      "cell_type": "markdown",
      "metadata": {
        "id": "RF8RBUrQV-GL",
        "colab_type": "text"
      },
      "source": [
        "* Using numpy we can directly read data from a file\n",
        "  - np.genfromtxt() is the function that will help us read data from the file"
      ]
    },
    {
      "cell_type": "code",
      "metadata": {
        "id": "yqcuInhLV-GL",
        "colab_type": "code",
        "outputId": "f4642e0e-dc99-47e3-b25a-86f32948cc1c",
        "colab": {
          "base_uri": "https://localhost:8080/",
          "height": 34
        }
      },
      "source": [
        "temp = np.genfromtxt(\"/content/drive/My Drive/Datasets/Python/numpyreadindata.csv\",\n",
        "                     delimiter=\",\",skip_header=True)\n",
        "\n",
        "temp.shape"
      ],
      "execution_count": 0,
      "outputs": [
        {
          "output_type": "execute_result",
          "data": {
            "text/plain": [
              "(25, 6)"
            ]
          },
          "metadata": {
            "tags": []
          },
          "execution_count": 59
        }
      ]
    },
    {
      "cell_type": "code",
      "metadata": {
        "id": "u4-LrUoWV-Gb",
        "colab_type": "code",
        "outputId": "49ec45a2-4031-4ea1-d998-d33d857144fd",
        "colab": {
          "base_uri": "https://localhost:8080/",
          "height": 34
        }
      },
      "source": [
        "type(temp)"
      ],
      "execution_count": 0,
      "outputs": [
        {
          "output_type": "execute_result",
          "data": {
            "text/plain": [
              "numpy.ndarray"
            ]
          },
          "metadata": {
            "tags": []
          },
          "execution_count": 60
        }
      ]
    },
    {
      "cell_type": "code",
      "metadata": {
        "id": "jXyuilujV-Gb",
        "colab_type": "code",
        "outputId": "98d16923-830f-44f1-bdbf-78913c32153d",
        "colab": {
          "base_uri": "https://localhost:8080/",
          "height": 442
        }
      },
      "source": [
        "temp"
      ],
      "execution_count": 0,
      "outputs": [
        {
          "output_type": "execute_result",
          "data": {
            "text/plain": [
              "array([[ 2., 48.,  0.,  0.,  0.,  1.],\n",
              "       [ 3., 12.,  0.,  0.,  0.,  0.],\n",
              "       [ 4., 42.,  0.,  0.,  1.,  0.],\n",
              "       [ 5., 24.,  1.,  0.,  0.,  0.],\n",
              "       [ 6., 36.,  0.,  0.,  0.,  0.],\n",
              "       [ 7., 24.,  0.,  0.,  1.,  0.],\n",
              "       [ 8., 36.,  0.,  1.,  0.,  0.],\n",
              "       [ 9., 12.,  0.,  0.,  0.,  1.],\n",
              "       [10., 30.,  1.,  0.,  0.,  0.],\n",
              "       [11., 12.,  1.,  0.,  0.,  0.],\n",
              "       [12., 48.,  0.,  0.,  0.,  0.],\n",
              "       [13., 12.,  0.,  0.,  0.,  1.],\n",
              "       [14., 24.,  1.,  0.,  0.,  0.],\n",
              "       [15., 15.,  1.,  0.,  0.,  0.],\n",
              "       [16., 24.,  0.,  0.,  0.,  1.],\n",
              "       [17., 24.,  0.,  0.,  0.,  1.],\n",
              "       [18., 30.,  0.,  0.,  0.,  0.],\n",
              "       [19., 24.,  0.,  1.,  0.,  0.],\n",
              "       [20., 24.,  0.,  0.,  0.,  1.],\n",
              "       [21.,  9.,  1.,  0.,  0.,  0.],\n",
              "       [22.,  6.,  0.,  0.,  0.,  1.],\n",
              "       [23., 10.,  1.,  0.,  0.,  0.],\n",
              "       [24., 12.,  0.,  1.,  0.,  0.],\n",
              "       [25., 10.,  0.,  0.,  1.,  0.],\n",
              "       [26.,  6.,  0.,  0.,  1.,  0.]])"
            ]
          },
          "metadata": {
            "tags": []
          },
          "execution_count": 61
        }
      ]
    },
    {
      "cell_type": "markdown",
      "metadata": {
        "id": "rDNGT4vrV-Gb",
        "colab_type": "text"
      },
      "source": [
        "How do I extract the row `14., 24.,  1.,  0.,  0.,  0.` ?"
      ]
    },
    {
      "cell_type": "code",
      "metadata": {
        "id": "xbBuKjVLV-Gb",
        "colab_type": "code",
        "outputId": "24bcbd74-ef1d-4af9-b3ed-02c522a90534",
        "colab": {
          "base_uri": "https://localhost:8080/",
          "height": 34
        }
      },
      "source": [
        "temp[12,:]"
      ],
      "execution_count": 0,
      "outputs": [
        {
          "output_type": "execute_result",
          "data": {
            "text/plain": [
              "array([14., 24.,  1.,  0.,  0.,  0.])"
            ]
          },
          "metadata": {
            "tags": []
          },
          "execution_count": 62
        }
      ]
    },
    {
      "cell_type": "markdown",
      "metadata": {
        "id": "fP-KxfIAV-Gq",
        "colab_type": "text"
      },
      "source": [
        "How do we extract the $2^{nd}$ column"
      ]
    },
    {
      "cell_type": "code",
      "metadata": {
        "id": "IV8xNf2OV-Gq",
        "colab_type": "code",
        "outputId": "ae1ea787-5a7a-4341-a20b-25d5e4b664a7",
        "colab": {
          "base_uri": "https://localhost:8080/",
          "height": 51
        }
      },
      "source": [
        "temp[:,1]"
      ],
      "execution_count": 0,
      "outputs": [
        {
          "output_type": "execute_result",
          "data": {
            "text/plain": [
              "array([48., 12., 42., 24., 36., 24., 36., 12., 30., 12., 48., 12., 24.,\n",
              "       15., 24., 24., 30., 24., 24.,  9.,  6., 10., 12., 10.,  6.])"
            ]
          },
          "metadata": {
            "tags": []
          },
          "execution_count": 63
        }
      ]
    },
    {
      "cell_type": "markdown",
      "metadata": {
        "id": "oSZ7yaTlV-Gq",
        "colab_type": "text"
      },
      "source": [
        "###### Activity"
      ]
    },
    {
      "cell_type": "markdown",
      "metadata": {
        "id": "Lj0sfihXV-Gq",
        "colab_type": "text"
      },
      "source": [
        "Extract the array \n",
        "\n",
        "$\\begin{bmatrix}2 & 48\\\\3 & 12\\end{bmatrix}$"
      ]
    },
    {
      "cell_type": "code",
      "metadata": {
        "id": "IHV4tNDsV-Gq",
        "colab_type": "code",
        "colab": {}
      },
      "source": [
        ""
      ],
      "execution_count": 0,
      "outputs": []
    },
    {
      "cell_type": "markdown",
      "metadata": {
        "id": "D480X__TV-G6",
        "colab_type": "text"
      },
      "source": [
        "###### Combining NumPy Arrays\n"
      ]
    },
    {
      "cell_type": "code",
      "metadata": {
        "id": "lpO9sApfV-G6",
        "colab_type": "code",
        "colab": {}
      },
      "source": [
        "x = np.array(range(9))\n",
        "y = np.array(range(10,19))"
      ],
      "execution_count": 0,
      "outputs": []
    },
    {
      "cell_type": "code",
      "metadata": {
        "id": "73f0vOhFV-G6",
        "colab_type": "code",
        "outputId": "4b5baf27-302d-4478-c925-0b7b81bb1d68",
        "colab": {
          "base_uri": "https://localhost:8080/",
          "height": 51
        }
      },
      "source": [
        "print(x)\n",
        "print(x.shape)"
      ],
      "execution_count": 0,
      "outputs": [
        {
          "output_type": "stream",
          "text": [
            "[0 1 2 3 4 5 6 7 8]\n",
            "(9,)\n"
          ],
          "name": "stdout"
        }
      ]
    },
    {
      "cell_type": "code",
      "metadata": {
        "id": "Gcr6FK33V-G6",
        "colab_type": "code",
        "outputId": "4813d0f1-379f-44f5-d110-546d55070eb4",
        "colab": {
          "base_uri": "https://localhost:8080/",
          "height": 51
        }
      },
      "source": [
        "print(y)\n",
        "print(y.shape)"
      ],
      "execution_count": 0,
      "outputs": [
        {
          "output_type": "stream",
          "text": [
            "[10 11 12 13 14 15 16 17 18]\n",
            "(9,)\n"
          ],
          "name": "stdout"
        }
      ]
    },
    {
      "cell_type": "code",
      "metadata": {
        "id": "x4qOW1HyV-G6",
        "colab_type": "code",
        "colab": {}
      },
      "source": [
        "r=x.reshape(3,3)"
      ],
      "execution_count": 0,
      "outputs": []
    },
    {
      "cell_type": "code",
      "metadata": {
        "id": "QR4TDFSZV-G6",
        "colab_type": "code",
        "outputId": "d68f9ec9-d387-4288-90d4-2039012e546b",
        "colab": {
          "base_uri": "https://localhost:8080/",
          "height": 68
        }
      },
      "source": [
        "r"
      ],
      "execution_count": 0,
      "outputs": [
        {
          "output_type": "execute_result",
          "data": {
            "text/plain": [
              "array([[0, 1, 2],\n",
              "       [3, 4, 5],\n",
              "       [6, 7, 8]])"
            ]
          },
          "metadata": {
            "tags": []
          },
          "execution_count": 68
        }
      ]
    },
    {
      "cell_type": "code",
      "metadata": {
        "id": "iDWA0NT6V-G6",
        "colab_type": "code",
        "colab": {}
      },
      "source": [
        "s=y.reshape(3,3)"
      ],
      "execution_count": 0,
      "outputs": []
    },
    {
      "cell_type": "code",
      "metadata": {
        "id": "6JPXGbSKV-HJ",
        "colab_type": "code",
        "outputId": "786428cf-a71d-437c-acfe-6f8452c5f143",
        "colab": {
          "base_uri": "https://localhost:8080/",
          "height": 68
        }
      },
      "source": [
        "s"
      ],
      "execution_count": 0,
      "outputs": [
        {
          "output_type": "execute_result",
          "data": {
            "text/plain": [
              "array([[10, 11, 12],\n",
              "       [13, 14, 15],\n",
              "       [16, 17, 18]])"
            ]
          },
          "metadata": {
            "tags": []
          },
          "execution_count": 70
        }
      ]
    },
    {
      "cell_type": "markdown",
      "metadata": {
        "id": "a5iT5mjyV-HJ",
        "colab_type": "text"
      },
      "source": [
        "With NumPy, it's very common to combine multiple arrays into a single unified array. We can use numpy.vstack to vertically stack multiple arrays. Think of it like the second arrays's items being added as new rows to the first array"
      ]
    },
    {
      "cell_type": "code",
      "metadata": {
        "id": "u44aWW5bV-HJ",
        "colab_type": "code",
        "colab": {}
      },
      "source": [
        "t=np.vstack([r,s]) # rbind of R"
      ],
      "execution_count": 0,
      "outputs": []
    },
    {
      "cell_type": "code",
      "metadata": {
        "id": "E-jdnClmV-HJ",
        "colab_type": "code",
        "outputId": "834c1cff-317f-4443-ee63-952f59ee2ece",
        "colab": {
          "base_uri": "https://localhost:8080/",
          "height": 136
        }
      },
      "source": [
        "print(t)\n",
        "print(t.shape)"
      ],
      "execution_count": 0,
      "outputs": [
        {
          "output_type": "stream",
          "text": [
            "[[ 0  1  2]\n",
            " [ 3  4  5]\n",
            " [ 6  7  8]\n",
            " [10 11 12]\n",
            " [13 14 15]\n",
            " [16 17 18]]\n",
            "(6, 3)\n"
          ],
          "name": "stdout"
        }
      ]
    },
    {
      "cell_type": "code",
      "metadata": {
        "id": "y-xiUEKuV-HJ",
        "colab_type": "code",
        "colab": {}
      },
      "source": [
        "u=np.hstack([r,s]) # cbind of R"
      ],
      "execution_count": 0,
      "outputs": []
    },
    {
      "cell_type": "code",
      "metadata": {
        "id": "kVzWMHQQV-HJ",
        "colab_type": "code",
        "outputId": "93183afd-b88f-4f56-ab4f-1d3bd219e3dd",
        "colab": {
          "base_uri": "https://localhost:8080/",
          "height": 85
        }
      },
      "source": [
        "print(u)\n",
        "print(u.shape)"
      ],
      "execution_count": 0,
      "outputs": [
        {
          "output_type": "stream",
          "text": [
            "[[ 0  1  2 10 11 12]\n",
            " [ 3  4  5 13 14 15]\n",
            " [ 6  7  8 16 17 18]]\n",
            "(3, 6)\n"
          ],
          "name": "stdout"
        }
      ]
    },
    {
      "cell_type": "markdown",
      "metadata": {
        "id": "KYkozUY1V-HJ",
        "colab_type": "text"
      },
      "source": [
        "###### NumPy Array Comparisons"
      ]
    },
    {
      "cell_type": "code",
      "metadata": {
        "id": "8hJfP5pDV-HJ",
        "colab_type": "code",
        "outputId": "0203bb59-33c2-4230-b3f4-26e3f816bd65",
        "colab": {
          "base_uri": "https://localhost:8080/",
          "height": 68
        }
      },
      "source": [
        "temp[:,0]>10"
      ],
      "execution_count": 0,
      "outputs": [
        {
          "output_type": "execute_result",
          "data": {
            "text/plain": [
              "array([False, False, False, False, False, False, False, False, False,\n",
              "        True,  True,  True,  True,  True,  True,  True,  True,  True,\n",
              "        True,  True,  True,  True,  True,  True,  True])"
            ]
          },
          "metadata": {
            "tags": []
          },
          "execution_count": 75
        }
      ]
    },
    {
      "cell_type": "code",
      "metadata": {
        "id": "4BvxJB0RV-HZ",
        "colab_type": "code",
        "outputId": "b95b179f-c9aa-45dd-e702-2b494b035d81",
        "colab": {
          "base_uri": "https://localhost:8080/",
          "height": 68
        }
      },
      "source": [
        "temp[:,3] == 1"
      ],
      "execution_count": 0,
      "outputs": [
        {
          "output_type": "execute_result",
          "data": {
            "text/plain": [
              "array([False, False, False, False, False, False,  True, False, False,\n",
              "       False, False, False, False, False, False, False, False,  True,\n",
              "       False, False, False, False,  True, False, False])"
            ]
          },
          "metadata": {
            "tags": []
          },
          "execution_count": 76
        }
      ]
    },
    {
      "cell_type": "markdown",
      "metadata": {
        "id": "jW9orcgiV-HZ",
        "colab_type": "text"
      },
      "source": [
        "Boolean array indexing: Boolean array indexing lets you pick out arbitrary elements of an array. Frequently this type of indexing is used to select the elements of an array that satisfy some condition. Here is an example:"
      ]
    },
    {
      "cell_type": "markdown",
      "metadata": {
        "id": "_lIC2ZKAV-HZ",
        "colab_type": "text"
      },
      "source": [
        "A quick detour from our `temp` data"
      ]
    },
    {
      "cell_type": "code",
      "metadata": {
        "id": "HMsup956V-HZ",
        "colab_type": "code",
        "outputId": "d3c94099-bb1a-4739-f0b1-01391c96e2bd",
        "colab": {
          "base_uri": "https://localhost:8080/",
          "height": 68
        }
      },
      "source": [
        "a = np.array([[1,2], [3, 4], [5, 6]])\n",
        "bool_idx = (a > 2)  # Find the elements of 'a' that are bigger than 2;\n",
        "                    # this returns a numpy array of Booleans of the same\n",
        "                    # shape as a, where each slot of bool_idx tells\n",
        "                    # whether that element of a is > 2.\n",
        "print (bool_idx)"
      ],
      "execution_count": 0,
      "outputs": [
        {
          "output_type": "stream",
          "text": [
            "[[False False]\n",
            " [ True  True]\n",
            " [ True  True]]\n"
          ],
          "name": "stdout"
        }
      ]
    },
    {
      "cell_type": "markdown",
      "metadata": {
        "id": "SHofPJI_V-Hp",
        "colab_type": "text"
      },
      "source": [
        "Note: When we use boolean indexing, the result of subsetting an array with the boolean index may not have the same shape as before"
      ]
    },
    {
      "cell_type": "code",
      "metadata": {
        "id": "4teMm3JmV-H4",
        "colab_type": "code",
        "outputId": "53a85ff7-90c9-41a8-d643-f03ac5a65c1d",
        "colab": {
          "base_uri": "https://localhost:8080/",
          "height": 68
        }
      },
      "source": [
        "a"
      ],
      "execution_count": 0,
      "outputs": [
        {
          "output_type": "execute_result",
          "data": {
            "text/plain": [
              "array([[1, 2],\n",
              "       [3, 4],\n",
              "       [5, 6]])"
            ]
          },
          "metadata": {
            "tags": []
          },
          "execution_count": 78
        }
      ]
    },
    {
      "cell_type": "code",
      "metadata": {
        "id": "usobur5NV-H4",
        "colab_type": "code",
        "outputId": "d57808f8-ae64-42a8-ccb0-9cec799d8143",
        "colab": {
          "base_uri": "https://localhost:8080/",
          "height": 34
        }
      },
      "source": [
        "# We use boolean array indexing to construct an array\n",
        "# consisting of the elements of a corresponding to the True values\n",
        "# of bool_idx\n",
        "print(a[bool_idx])"
      ],
      "execution_count": 0,
      "outputs": [
        {
          "output_type": "stream",
          "text": [
            "[3 4 5 6]\n"
          ],
          "name": "stdout"
        }
      ]
    },
    {
      "cell_type": "markdown",
      "metadata": {
        "id": "0VYKMl8VV-H4",
        "colab_type": "text"
      },
      "source": [
        "###### We can do all of the above in a single concise statement:"
      ]
    },
    {
      "cell_type": "code",
      "metadata": {
        "id": "04nxGrIuV-H4",
        "colab_type": "code",
        "outputId": "e0d529db-56fb-4f2a-c81e-86e9bcbca39f",
        "colab": {
          "base_uri": "https://localhost:8080/",
          "height": 34
        }
      },
      "source": [
        "print (a[a > 2])"
      ],
      "execution_count": 0,
      "outputs": [
        {
          "output_type": "stream",
          "text": [
            "[3 4 5 6]\n"
          ],
          "name": "stdout"
        }
      ]
    },
    {
      "cell_type": "markdown",
      "metadata": {
        "id": "JOCqy4TYV-H4",
        "colab_type": "text"
      },
      "source": [
        "Now let us come back to our `temp` data"
      ]
    },
    {
      "cell_type": "markdown",
      "metadata": {
        "id": "L8YVlXmHV-H4",
        "colab_type": "text"
      },
      "source": [
        "Extract all the rows that have the values in the first column are >15 and < 20"
      ]
    },
    {
      "cell_type": "code",
      "metadata": {
        "id": "gaflHtFnV-H4",
        "colab_type": "code",
        "colab": {}
      },
      "source": [
        "# temp[:,0] >15 & temp[:,0] <20"
      ],
      "execution_count": 0,
      "outputs": []
    },
    {
      "cell_type": "code",
      "metadata": {
        "id": "LzqkTSzvV-H4",
        "colab_type": "code",
        "outputId": "2ad38aad-015a-49c2-ff11-4698de2afabc",
        "colab": {
          "base_uri": "https://localhost:8080/",
          "height": 34
        }
      },
      "source": [
        "temp[:,0].shape"
      ],
      "execution_count": 0,
      "outputs": [
        {
          "output_type": "execute_result",
          "data": {
            "text/plain": [
              "(25,)"
            ]
          },
          "metadata": {
            "tags": []
          },
          "execution_count": 82
        }
      ]
    },
    {
      "cell_type": "code",
      "metadata": {
        "id": "-5XRZNm_V-II",
        "colab_type": "code",
        "outputId": "165d15e7-19c4-475b-8722-ff92801c0726",
        "colab": {
          "base_uri": "https://localhost:8080/",
          "height": 68
        }
      },
      "source": [
        "[(temp[:,0]>15) & (temp[:,0]<20)]"
      ],
      "execution_count": 0,
      "outputs": [
        {
          "output_type": "execute_result",
          "data": {
            "text/plain": [
              "[array([False, False, False, False, False, False, False, False, False,\n",
              "        False, False, False, False, False,  True,  True,  True,  True,\n",
              "        False, False, False, False, False, False, False])]"
            ]
          },
          "metadata": {
            "tags": []
          },
          "execution_count": 83
        }
      ]
    },
    {
      "cell_type": "code",
      "metadata": {
        "id": "002rruSrV-II",
        "colab_type": "code",
        "outputId": "e5447950-b8c9-4c74-8d1b-5c59f524cb23",
        "colab": {
          "base_uri": "https://localhost:8080/",
          "height": 34
        }
      },
      "source": [
        "temp[(15<temp[:,0]) & (temp[:,0]<20)].shape"
      ],
      "execution_count": 0,
      "outputs": [
        {
          "output_type": "execute_result",
          "data": {
            "text/plain": [
              "(4, 6)"
            ]
          },
          "metadata": {
            "tags": []
          },
          "execution_count": 84
        }
      ]
    },
    {
      "cell_type": "code",
      "metadata": {
        "id": "vUY-uEIdV-II",
        "colab_type": "code",
        "outputId": "de278b55-fe31-4058-e0e0-dee3d8a79b85",
        "colab": {
          "base_uri": "https://localhost:8080/",
          "height": 85
        }
      },
      "source": [
        "temp[(temp[:,0]>15) & (temp[:,0]<20)]"
      ],
      "execution_count": 0,
      "outputs": [
        {
          "output_type": "execute_result",
          "data": {
            "text/plain": [
              "array([[16., 24.,  0.,  0.,  0.,  1.],\n",
              "       [17., 24.,  0.,  0.,  0.,  1.],\n",
              "       [18., 30.,  0.,  0.,  0.,  0.],\n",
              "       [19., 24.,  0.,  1.,  0.,  0.]])"
            ]
          },
          "metadata": {
            "tags": []
          },
          "execution_count": 85
        }
      ]
    },
    {
      "cell_type": "code",
      "metadata": {
        "id": "wzjF0C35V-II",
        "colab_type": "code",
        "outputId": "239b644c-0dc8-47ea-e260-32c070c70c49",
        "colab": {
          "base_uri": "https://localhost:8080/",
          "height": 442
        }
      },
      "source": [
        "(temp == 0)"
      ],
      "execution_count": 0,
      "outputs": [
        {
          "output_type": "execute_result",
          "data": {
            "text/plain": [
              "array([[False, False,  True,  True,  True, False],\n",
              "       [False, False,  True,  True,  True,  True],\n",
              "       [False, False,  True,  True, False,  True],\n",
              "       [False, False, False,  True,  True,  True],\n",
              "       [False, False,  True,  True,  True,  True],\n",
              "       [False, False,  True,  True, False,  True],\n",
              "       [False, False,  True, False,  True,  True],\n",
              "       [False, False,  True,  True,  True, False],\n",
              "       [False, False, False,  True,  True,  True],\n",
              "       [False, False, False,  True,  True,  True],\n",
              "       [False, False,  True,  True,  True,  True],\n",
              "       [False, False,  True,  True,  True, False],\n",
              "       [False, False, False,  True,  True,  True],\n",
              "       [False, False, False,  True,  True,  True],\n",
              "       [False, False,  True,  True,  True, False],\n",
              "       [False, False,  True,  True,  True, False],\n",
              "       [False, False,  True,  True,  True,  True],\n",
              "       [False, False,  True, False,  True,  True],\n",
              "       [False, False,  True,  True,  True, False],\n",
              "       [False, False, False,  True,  True,  True],\n",
              "       [False, False,  True,  True,  True, False],\n",
              "       [False, False, False,  True,  True,  True],\n",
              "       [False, False,  True, False,  True,  True],\n",
              "       [False, False,  True,  True, False,  True],\n",
              "       [False, False,  True,  True, False,  True]])"
            ]
          },
          "metadata": {
            "tags": []
          },
          "execution_count": 86
        }
      ]
    },
    {
      "cell_type": "code",
      "metadata": {
        "id": "EqLo0mKrV-IX",
        "colab_type": "code",
        "outputId": "8a441d86-90f7-4552-b772-cc95c6c201ab",
        "colab": {
          "base_uri": "https://localhost:8080/",
          "height": 34
        }
      },
      "source": [
        "temp[temp==0].shape"
      ],
      "execution_count": 0,
      "outputs": [
        {
          "output_type": "execute_result",
          "data": {
            "text/plain": [
              "(79,)"
            ]
          },
          "metadata": {
            "tags": []
          },
          "execution_count": 87
        }
      ]
    },
    {
      "cell_type": "markdown",
      "metadata": {
        "id": "T1oeveeEV-IX",
        "colab_type": "text"
      },
      "source": [
        "### Datatypes\n",
        "\n",
        "Every numpy array is a grid of elements of the same type. Numpy provides a large set of numeric datatypes that you can use to construct arrays. Numpy tries to guess a datatype when you create an array, but functions that construct arrays usually also include an optional argument to explicitly specify the datatype. Here is an example:\n"
      ]
    },
    {
      "cell_type": "code",
      "metadata": {
        "id": "gf9TX04HV-IX",
        "colab_type": "code",
        "outputId": "801c0d8a-5b01-4f39-f6d9-99ce7deed6f6",
        "colab": {
          "base_uri": "https://localhost:8080/"
        }
      },
      "source": [
        "Image(\"numpy_datatypes.png\")"
      ],
      "execution_count": 0,
      "outputs": [
        {
          "output_type": "execute_result",
          "data": {
            "image/png": "numpy_datatypes.png",
            "text/plain": [
              "<IPython.core.display.Image object>"
            ]
          },
          "metadata": {
            "tags": []
          },
          "execution_count": 88
        }
      ]
    },
    {
      "cell_type": "markdown",
      "metadata": {
        "id": "gupbKcAuV-In",
        "colab_type": "text"
      },
      "source": [
        "Reference: https://docs.scipy.org/doc/numpy-1.13.0/user/basics.types.html"
      ]
    },
    {
      "cell_type": "code",
      "metadata": {
        "id": "YCX6npkXV-In",
        "colab_type": "code",
        "outputId": "b136fbae-5fce-451a-94af-2907395432fc",
        "colab": {
          "base_uri": "https://localhost:8080/"
        }
      },
      "source": [
        "x = np.array([1, 2])  # Let numpy choose the datatype\n",
        "y = np.array([1.0, 2.0])  # Let numpy choose the datatype\n",
        "z = np.array([1, 2], dtype=np.int64)  # Force a particular datatype\n",
        "print (x.dtype, y.dtype, z.dtype)"
      ],
      "execution_count": 0,
      "outputs": [
        {
          "output_type": "stream",
          "text": [
            "int64 float64 int64\n"
          ],
          "name": "stdout"
        }
      ]
    },
    {
      "cell_type": "code",
      "metadata": {
        "id": "iaoRTxuZV-In",
        "colab_type": "code",
        "outputId": "de3a5d2d-e901-48d7-9681-0583a94fe79d",
        "colab": {
          "base_uri": "https://localhost:8080/"
        }
      },
      "source": [
        "z.dtype"
      ],
      "execution_count": 0,
      "outputs": [
        {
          "output_type": "execute_result",
          "data": {
            "text/plain": [
              "dtype('int64')"
            ]
          },
          "metadata": {
            "tags": []
          },
          "execution_count": 90
        }
      ]
    },
    {
      "cell_type": "markdown",
      "metadata": {
        "id": "RmawATZYV-In",
        "colab_type": "text"
      },
      "source": [
        "###### We can give float values and force the datatype to be int64 , this results in loss of information\n"
      ]
    },
    {
      "cell_type": "code",
      "metadata": {
        "id": "UyHLXyfcV-In",
        "colab_type": "code",
        "outputId": "47aa770e-19f3-4718-e70c-1c797390f610",
        "colab": {
          "base_uri": "https://localhost:8080/"
        }
      },
      "source": [
        "z1 = np.array([1.0,2.2],dtype=np.int64)\n",
        "z1"
      ],
      "execution_count": 0,
      "outputs": [
        {
          "output_type": "execute_result",
          "data": {
            "text/plain": [
              "array([1, 2])"
            ]
          },
          "metadata": {
            "tags": []
          },
          "execution_count": 91
        }
      ]
    },
    {
      "cell_type": "code",
      "metadata": {
        "id": "jwH41rWIV-In",
        "colab_type": "code",
        "outputId": "0317666a-9a26-4f37-d9ee-426937c16c18",
        "colab": {
          "base_uri": "https://localhost:8080/"
        }
      },
      "source": [
        "z1.dtype"
      ],
      "execution_count": 0,
      "outputs": [
        {
          "output_type": "execute_result",
          "data": {
            "text/plain": [
              "dtype('int64')"
            ]
          },
          "metadata": {
            "tags": []
          },
          "execution_count": 92
        }
      ]
    },
    {
      "cell_type": "markdown",
      "metadata": {
        "id": "Y4h7jjPFV-In",
        "colab_type": "text"
      },
      "source": [
        "#### Converting Data Types\n"
      ]
    },
    {
      "cell_type": "code",
      "metadata": {
        "id": "7IErdVAwV-I3",
        "colab_type": "code",
        "outputId": "ccb1259f-437a-409b-93e5-3ae54679df2e",
        "colab": {
          "base_uri": "https://localhost:8080/"
        }
      },
      "source": [
        "x = np.array([[2, 4, 6], [6, 8, 10]], np.int32)\n",
        "print(x)\n",
        "print(\"Data type of the array x is:\",x.dtype)\n",
        "\n",
        "# Change the data type of x\n",
        "y = x.astype(float)\n",
        "print(\"New Type: \",y.dtype)\n",
        "print(y)"
      ],
      "execution_count": 0,
      "outputs": [
        {
          "output_type": "stream",
          "text": [
            "[[ 2  4  6]\n",
            " [ 6  8 10]]\n",
            "Data type of the array x is: int32\n",
            "New Type:  float64\n",
            "[[ 2.  4.  6.]\n",
            " [ 6.  8. 10.]]\n"
          ],
          "name": "stdout"
        }
      ]
    },
    {
      "cell_type": "markdown",
      "metadata": {
        "id": "pkagbXXlV-I3",
        "colab_type": "text"
      },
      "source": [
        "### Array math\n",
        "\n",
        "Basic mathematical functions operate elementwise on arrays."
      ]
    },
    {
      "cell_type": "code",
      "metadata": {
        "id": "l_b-Ei_cV-I3",
        "colab_type": "code",
        "outputId": "a906a80f-e6b2-4ccc-b807-97bdded7f5cf",
        "colab": {
          "base_uri": "https://localhost:8080/",
          "height": 85
        }
      },
      "source": [
        "x = np.array([[1,2],[3,4]], dtype=np.float64)\n",
        "y = np.array([[5,6],[7,8]], dtype=np.float64)\n",
        "print (x)\n",
        "print (y)"
      ],
      "execution_count": 0,
      "outputs": [
        {
          "output_type": "stream",
          "text": [
            "[[1. 2.]\n",
            " [3. 4.]]\n",
            "[[5. 6.]\n",
            " [7. 8.]]\n"
          ],
          "name": "stdout"
        }
      ]
    },
    {
      "cell_type": "code",
      "metadata": {
        "id": "z1DYiv_IV-I3",
        "colab_type": "code",
        "outputId": "f22b0a09-92fc-4607-e660-1a99b22a8458",
        "colab": {
          "base_uri": "https://localhost:8080/",
          "height": 51
        }
      },
      "source": [
        "x-y"
      ],
      "execution_count": 0,
      "outputs": [
        {
          "output_type": "execute_result",
          "data": {
            "text/plain": [
              "array([[-4., -4.],\n",
              "       [-4., -4.]])"
            ]
          },
          "metadata": {
            "tags": []
          },
          "execution_count": 95
        }
      ]
    },
    {
      "cell_type": "markdown",
      "metadata": {
        "id": "E3MjKDvEV-I3",
        "colab_type": "text"
      },
      "source": [
        "######  Elementwise sum; both produce the array"
      ]
    },
    {
      "cell_type": "code",
      "metadata": {
        "id": "kN6kuR8NV-JG",
        "colab_type": "code",
        "outputId": "a1c50e62-7b71-4c5d-91b7-c1579e0926a4",
        "colab": {
          "base_uri": "https://localhost:8080/",
          "height": 51
        }
      },
      "source": [
        "print (x+y)"
      ],
      "execution_count": 0,
      "outputs": [
        {
          "output_type": "stream",
          "text": [
            "[[ 6.  8.]\n",
            " [10. 12.]]\n"
          ],
          "name": "stdout"
        }
      ]
    },
    {
      "cell_type": "code",
      "metadata": {
        "id": "2rhCXbAoV-JG",
        "colab_type": "code",
        "outputId": "8425a4b2-fd7b-4131-843f-0cd2ae026cd6",
        "colab": {
          "base_uri": "https://localhost:8080/",
          "height": 51
        }
      },
      "source": [
        "print (np.add(x, y))"
      ],
      "execution_count": 0,
      "outputs": [
        {
          "output_type": "stream",
          "text": [
            "[[ 6.  8.]\n",
            " [10. 12.]]\n"
          ],
          "name": "stdout"
        }
      ]
    },
    {
      "cell_type": "markdown",
      "metadata": {
        "id": "oQ1o6Z29V-JG",
        "colab_type": "text"
      },
      "source": [
        "###### Elementwise difference; both produce the array"
      ]
    },
    {
      "cell_type": "code",
      "metadata": {
        "id": "bnyYo7L2V-JG",
        "colab_type": "code",
        "outputId": "e097fd91-ef94-4049-c869-eca3480a143b",
        "colab": {
          "base_uri": "https://localhost:8080/",
          "height": 85
        }
      },
      "source": [
        "print (x - y)\n",
        "print (np.subtract(x, y))"
      ],
      "execution_count": 0,
      "outputs": [
        {
          "output_type": "stream",
          "text": [
            "[[-4. -4.]\n",
            " [-4. -4.]]\n",
            "[[-4. -4.]\n",
            " [-4. -4.]]\n"
          ],
          "name": "stdout"
        }
      ]
    },
    {
      "cell_type": "markdown",
      "metadata": {
        "id": "FJaqk5YXV-JG",
        "colab_type": "text"
      },
      "source": [
        "###### Even comparision of two matrices/arrays works element wise"
      ]
    },
    {
      "cell_type": "code",
      "metadata": {
        "id": "1smQmFhsV-JG",
        "colab_type": "code",
        "outputId": "9b196344-ad86-4ec8-d0d8-4b5d5531e97f",
        "colab": {
          "base_uri": "https://localhost:8080/",
          "height": 51
        }
      },
      "source": [
        "print(x - y ==  np.subtract(x, y))"
      ],
      "execution_count": 0,
      "outputs": [
        {
          "output_type": "stream",
          "text": [
            "[[ True  True]\n",
            " [ True  True]]\n"
          ],
          "name": "stdout"
        }
      ]
    },
    {
      "cell_type": "markdown",
      "metadata": {
        "id": "r3F3nWhAV-JG",
        "colab_type": "text"
      },
      "source": [
        "###### Elementwise product; both produce the array , no need to specifically mention that we need matrix multiplication unlike R"
      ]
    },
    {
      "cell_type": "code",
      "metadata": {
        "id": "-Mkb9KEKV-JW",
        "colab_type": "code",
        "outputId": "98ab6c72-c4b1-444a-c22c-2dc5cefbd1a6",
        "colab": {
          "base_uri": "https://localhost:8080/",
          "height": 85
        }
      },
      "source": [
        "# Elementwise product; both produce the array\n",
        "# [[ 5.0 12.0]\n",
        "#  [21.0 32.0]]\n",
        "print(x * y)\n",
        "print(np.multiply(x, y))"
      ],
      "execution_count": 0,
      "outputs": [
        {
          "output_type": "stream",
          "text": [
            "[[ 5. 12.]\n",
            " [21. 32.]]\n",
            "[[ 5. 12.]\n",
            " [21. 32.]]\n"
          ],
          "name": "stdout"
        }
      ]
    },
    {
      "cell_type": "markdown",
      "metadata": {
        "id": "Q7t7OwNfV-JW",
        "colab_type": "text"
      },
      "source": [
        "###### Matrix multiplication"
      ]
    },
    {
      "cell_type": "code",
      "metadata": {
        "id": "DiLsMctSV-JW",
        "colab_type": "code",
        "outputId": "49f6c9bd-d386-411c-ff7a-5314f5578e08",
        "colab": {
          "base_uri": "https://localhost:8080/",
          "height": 51
        }
      },
      "source": [
        "np.dot(x,y)"
      ],
      "execution_count": 0,
      "outputs": [
        {
          "output_type": "execute_result",
          "data": {
            "text/plain": [
              "array([[19., 22.],\n",
              "       [43., 50.]])"
            ]
          },
          "metadata": {
            "tags": []
          },
          "execution_count": 101
        }
      ]
    },
    {
      "cell_type": "markdown",
      "metadata": {
        "id": "rDGbKAmRV-JW",
        "colab_type": "text"
      },
      "source": [
        "###### Elementwise division; both produce the array"
      ]
    },
    {
      "cell_type": "code",
      "metadata": {
        "id": "s5_FP3zkV-JW",
        "colab_type": "code",
        "outputId": "a7da54d1-ff3c-45b7-f279-7f4f69a8b562",
        "colab": {
          "base_uri": "https://localhost:8080/",
          "height": 51
        }
      },
      "source": [
        "# [[ 0.2         0.33333333]\n",
        "#  [ 0.42857143  0.5       ]]\n",
        "print (x / y)"
      ],
      "execution_count": 0,
      "outputs": [
        {
          "output_type": "stream",
          "text": [
            "[[0.2        0.33333333]\n",
            " [0.42857143 0.5       ]]\n"
          ],
          "name": "stdout"
        }
      ]
    },
    {
      "cell_type": "code",
      "metadata": {
        "id": "CkidE2EWV-JW",
        "colab_type": "code",
        "outputId": "ec1e49b7-727f-41ce-f76b-cabd0064f854",
        "colab": {
          "base_uri": "https://localhost:8080/",
          "height": 51
        }
      },
      "source": [
        "print (np.divide(x, y))"
      ],
      "execution_count": 0,
      "outputs": [
        {
          "output_type": "stream",
          "text": [
            "[[0.2        0.33333333]\n",
            " [0.42857143 0.5       ]]\n"
          ],
          "name": "stdout"
        }
      ]
    },
    {
      "cell_type": "markdown",
      "metadata": {
        "id": "o4PcWM-zV-JW",
        "colab_type": "text"
      },
      "source": [
        "###### Elementwise square root; produces the array"
      ]
    },
    {
      "cell_type": "code",
      "metadata": {
        "id": "IXnK3cwVV-JW",
        "colab_type": "code",
        "outputId": "8bc69717-2caa-451c-c6f2-8948017ce6f6",
        "colab": {
          "base_uri": "https://localhost:8080/",
          "height": 51
        }
      },
      "source": [
        "# [[ 1.          1.41421356]\n",
        "#  [ 1.73205081  2.        ]]\n",
        "print (np.sqrt(x))"
      ],
      "execution_count": 0,
      "outputs": [
        {
          "output_type": "stream",
          "text": [
            "[[1.         1.41421356]\n",
            " [1.73205081 2.        ]]\n"
          ],
          "name": "stdout"
        }
      ]
    },
    {
      "cell_type": "markdown",
      "metadata": {
        "id": "PcY2D2tDV-Jl",
        "colab_type": "text"
      },
      "source": [
        "##### Sum of all elements in the array"
      ]
    },
    {
      "cell_type": "code",
      "metadata": {
        "id": "Mhs9pYxsV-Jl",
        "colab_type": "code",
        "outputId": "08540eb5-ce21-4619-ef73-ca6204d69706",
        "colab": {
          "base_uri": "https://localhost:8080/",
          "height": 34
        }
      },
      "source": [
        "print (np.sum(x))  # Compute sum of all elements; prints \"10\""
      ],
      "execution_count": 0,
      "outputs": [
        {
          "output_type": "stream",
          "text": [
            "10.0\n"
          ],
          "name": "stdout"
        }
      ]
    },
    {
      "cell_type": "code",
      "metadata": {
        "id": "lfliWwtpV-Jl",
        "colab_type": "code",
        "outputId": "d69090ad-569c-4ba4-abdb-94b76e03641f",
        "colab": {
          "base_uri": "https://localhost:8080/",
          "height": 51
        }
      },
      "source": [
        "x"
      ],
      "execution_count": 0,
      "outputs": [
        {
          "output_type": "execute_result",
          "data": {
            "text/plain": [
              "array([[1., 2.],\n",
              "       [3., 4.]])"
            ]
          },
          "metadata": {
            "tags": []
          },
          "execution_count": 106
        }
      ]
    },
    {
      "cell_type": "markdown",
      "metadata": {
        "id": "SPMFDtLIV-J1",
        "colab_type": "text"
      },
      "source": [
        "Numpy also allows us to specify the axis on which we want to compute sum"
      ]
    },
    {
      "cell_type": "code",
      "metadata": {
        "id": "E7XRgZakV-J1",
        "colab_type": "code",
        "outputId": "eace6d58-3563-455a-868a-03a7541ba31b",
        "colab": {
          "base_uri": "https://localhost:8080/",
          "height": 34
        }
      },
      "source": [
        "temp.shape"
      ],
      "execution_count": 0,
      "outputs": [
        {
          "output_type": "execute_result",
          "data": {
            "text/plain": [
              "(25, 6)"
            ]
          },
          "metadata": {
            "tags": []
          },
          "execution_count": 107
        }
      ]
    },
    {
      "cell_type": "code",
      "metadata": {
        "id": "7Ns7usFFV-J1",
        "colab_type": "code",
        "outputId": "f900f6ec-dcdb-466d-ab6d-0554e5a8681d",
        "colab": {
          "base_uri": "https://localhost:8080/",
          "height": 34
        }
      },
      "source": [
        "print (np.sum(temp, axis=0))  # Compute sum of each column; prints \"[350. 554.   7.   3.   4.   7.]\""
      ],
      "execution_count": 0,
      "outputs": [
        {
          "output_type": "stream",
          "text": [
            "[350. 554.   7.   3.   4.   7.]\n"
          ],
          "name": "stdout"
        }
      ]
    },
    {
      "cell_type": "code",
      "metadata": {
        "id": "lkhO9neaV-J1",
        "colab_type": "code",
        "outputId": "b24e4817-d79b-4609-c7eb-53946dd042ca",
        "colab": {
          "base_uri": "https://localhost:8080/",
          "height": 51
        }
      },
      "source": [
        "print (np.sum(temp, axis=1))  # Compute sum of each row; prints \"[51. 15. 47. 30. 42. 32. 45. 22. 41. 24. 60. 26. 39. 31. 41. 42. 48. 44.,45. 31. 29. 34. 37. 36. 33.]\""
      ],
      "execution_count": 0,
      "outputs": [
        {
          "output_type": "stream",
          "text": [
            "[51. 15. 47. 30. 42. 32. 45. 22. 41. 24. 60. 26. 39. 31. 41. 42. 48. 44.\n",
            " 45. 31. 29. 34. 37. 36. 33.]\n"
          ],
          "name": "stdout"
        }
      ]
    },
    {
      "cell_type": "markdown",
      "metadata": {
        "id": "abWNM6vXV-J1",
        "colab_type": "text"
      },
      "source": [
        "##### Assignment\n",
        "\n",
        "- Extract the second Column of the temp variable and print it.\n",
        "- Find the number of elements greater than 15 in the whole `temp` data.\n",
        "- Find the sum of all the even and odd numbers in the $2^{nd}$ column of `temp` data.\n",
        "- Subtract mean of second column from each element in the second column.\n",
        "- After subtracting the mean from each value, divide each element by the standard deviation."
      ]
    }
  ]
}